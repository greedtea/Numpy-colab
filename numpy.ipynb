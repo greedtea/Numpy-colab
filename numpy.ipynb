{
  "nbformat": 4,
  "nbformat_minor": 0,
  "metadata": {
    "colab": {
      "name": "numpy.ipynb",
      "provenance": [],
      "toc_visible": true,
      "authorship_tag": "ABX9TyM1igRaWGIQ9EHnBtOOHaP7",
      "include_colab_link": true
    },
    "kernelspec": {
      "name": "python3",
      "display_name": "Python 3"
    },
    "language_info": {
      "name": "python"
    }
  },
  "cells": [
    {
      "cell_type": "markdown",
      "metadata": {
        "id": "view-in-github",
        "colab_type": "text"
      },
      "source": [
        "<a href=\"https://colab.research.google.com/github/greedtea/python-colab/blob/main/numpy.ipynb\" target=\"_parent\"><img src=\"https://colab.research.google.com/assets/colab-badge.svg\" alt=\"Open In Colab\"/></a>"
      ]
    },
    {
      "cell_type": "code",
      "metadata": {
        "colab": {
          "base_uri": "https://localhost:8080/"
        },
        "id": "d6m8aBwuGVTy",
        "outputId": "f3bc170d-c744-4dad-b409-ed8d853a8581"
      },
      "source": [
        "import numpy as np \n",
        "print(np.__version__)"
      ],
      "execution_count": null,
      "outputs": [
        {
          "output_type": "stream",
          "text": [
            "1.19.5\n"
          ],
          "name": "stdout"
        }
      ]
    },
    {
      "cell_type": "markdown",
      "metadata": {
        "id": "X_zCkeEmeYg5"
      },
      "source": [
        "[numpy document](https://numpy.org/doc/stable/user/index.html)"
      ]
    },
    {
      "cell_type": "code",
      "metadata": {
        "colab": {
          "base_uri": "https://localhost:8080/"
        },
        "id": "JFxbABnAGrUK",
        "outputId": "af4392bd-5897-4393-e13e-eda86bd465b2"
      },
      "source": [
        "import numpy as np\n",
        "\n",
        "\n",
        "A = np.array([[3, 2, 1, 4],\n",
        "        [5, 2, 1, 6]])\n",
        "#有0 就FLASE\n",
        "B = np.array([[3, 2, 1, 4],\n",
        "        [5, 2, 0, 6]])\n",
        "\n",
        "C = np.array([[True, False, False],\n",
        "        [True, True, True]])\n",
        "\n",
        "D = np.array([0.1, 0.3])\n",
        "\n",
        "for name, array in zip(list('ABCD'), [A, B, C, D]):\n",
        "  print(f'{name}: {np.all(array)}')"
      ],
      "execution_count": null,
      "outputs": [
        {
          "output_type": "stream",
          "text": [
            "A: True\n",
            "B: False\n",
            "C: False\n",
            "D: True\n"
          ],
          "name": "stdout"
        }
      ]
    },
    {
      "cell_type": "code",
      "metadata": {
        "colab": {
          "base_uri": "https://localhost:8080/"
        },
        "id": "Dp33JgXfHxQ1",
        "outputId": "b2b4d31b-b17d-4f2a-99fb-7fe107e673db"
      },
      "source": [
        "A = np.array([[3, 2, 1, 4],\n",
        "        [5, 2, 1, 6]])\n",
        " \n",
        "B = np.array([[3, 2, 1, 4],\n",
        "        [5, 2, 0, 6]])\n",
        " \n",
        "C = np.array([[True, False, False],\n",
        "        [True, True, True]])\n",
        "#axis=1 列比較 \n",
        "for name, array in zip(list('ABC'), [A, B, C]):\n",
        "    print(f'{name}: {np.all(array, axis=1)}')"
      ],
      "execution_count": null,
      "outputs": [
        {
          "output_type": "stream",
          "text": [
            "A: [ True  True]\n",
            "B: [ True False]\n",
            "C: [False  True]\n"
          ],
          "name": "stdout"
        }
      ]
    },
    {
      "cell_type": "code",
      "metadata": {
        "colab": {
          "base_uri": "https://localhost:8080/"
        },
        "id": "hINoHfGXHxWY",
        "outputId": "43471b57-5998-4fc2-b2fa-8f4c9a1a7cb9"
      },
      "source": [
        "np.all([[True,False],\n",
        "    [True,True]], axis=0)"
      ],
      "execution_count": null,
      "outputs": [
        {
          "output_type": "execute_result",
          "data": {
            "text/plain": [
              "array([ True, False])"
            ]
          },
          "metadata": {
            "tags": []
          },
          "execution_count": 15
        }
      ]
    },
    {
      "cell_type": "code",
      "metadata": {
        "colab": {
          "base_uri": "https://localhost:8080/"
        },
        "id": "wjkgzeTrJD-P",
        "outputId": "888b4cf1-4be5-4d58-d2b7-dda22c4a88d5"
      },
      "source": [
        "np.all([[True,False],\n",
        "    [True,True]], axis=1)"
      ],
      "execution_count": null,
      "outputs": [
        {
          "output_type": "execute_result",
          "data": {
            "text/plain": [
              "array([False,  True])"
            ]
          },
          "metadata": {
            "tags": []
          },
          "execution_count": 16
        }
      ]
    },
    {
      "cell_type": "code",
      "metadata": {
        "colab": {
          "base_uri": "https://localhost:8080/"
        },
        "id": "Um0d_RPjJN99",
        "outputId": "cc3bed7f-0f8e-4c12-8062-545ee4a0f4c9"
      },
      "source": [
        "A = np.array([[0, 0, 0],\n",
        "              [0, 0, 0]])\n",
        " \n",
        "B = np.array([[0, 0, 0],\n",
        "              [0, 1, 0]])\n",
        " \n",
        "C = np.array([[False, False, False],\n",
        "              [True, False, False]])\n",
        " \n",
        "D = np.array([[0.1, 0.0]])\n",
        " \n",
        "for name, array in zip(list('ABCD'), [A, B, C, D]):\n",
        "    print(f'{name}: {np.any(array)}')"
      ],
      "execution_count": null,
      "outputs": [
        {
          "output_type": "stream",
          "text": [
            "A: False\n",
            "B: True\n",
            "C: True\n",
            "D: True\n"
          ],
          "name": "stdout"
        }
      ]
    },
    {
      "cell_type": "code",
      "metadata": {
        "colab": {
          "base_uri": "https://localhost:8080/"
        },
        "id": "3OKKjzpuJOA3",
        "outputId": "15921a10-9af2-405b-aa2a-9c5ca8316c96"
      },
      "source": [
        "A = np.array([[0, 0, 0],\n",
        "        [0, 0, 0]])\n",
        " \n",
        "B = np.array([[0, 0, 0],\n",
        "        [0, 1, 0]])\n",
        " \n",
        "C = np.array([[False, False, False],\n",
        "        [True, False, False]])\n",
        " \n",
        "D = np.array([[0.1, 0.0]])\n",
        " \n",
        "for name, array in zip(list('ABCD'), [A, B, C, D]):\n",
        "    print(f'{name}: {np.any(array)}')"
      ],
      "execution_count": null,
      "outputs": [
        {
          "output_type": "stream",
          "text": [
            "A: False\n",
            "B: True\n",
            "C: True\n",
            "D: True\n"
          ],
          "name": "stdout"
        }
      ]
    },
    {
      "cell_type": "code",
      "metadata": {
        "colab": {
          "base_uri": "https://localhost:8080/"
        },
        "id": "i-kvxh73JODo",
        "outputId": "06d62c8d-fd55-43a7-f947-f393a7640189"
      },
      "source": [
        "A = np.array([[0, 0, 0],\n",
        "        [0, 0, 0]])\n",
        " \n",
        "B = np.array([[0, 0, 0],\n",
        "        [0, 1, 0]])\n",
        " \n",
        "C = np.array([[False, False, False],\n",
        "        [True, False, False]])\n",
        " \n",
        "D = np.array([[0.1, 0.0]])\n",
        " \n",
        "for name, array in zip(list('ABCD'), [A, B, C, D]):\n",
        "    print(f'{name}: {np.any(array, axis=0)}')"
      ],
      "execution_count": null,
      "outputs": [
        {
          "output_type": "stream",
          "text": [
            "A: [False False False]\n",
            "B: [False  True False]\n",
            "C: [ True False False]\n",
            "D: [ True False]\n"
          ],
          "name": "stdout"
        }
      ]
    },
    {
      "cell_type": "code",
      "metadata": {
        "colab": {
          "base_uri": "https://localhost:8080/"
        },
        "id": "AkWMQFLgJw5l",
        "outputId": "f3b18188-79a5-4074-bff5-e522e3c84f3a"
      },
      "source": [
        "A = np.array([[3, 2, 1, np.nan],\n",
        "        [5, np.nan, 1, 6]])\n",
        " \n",
        "print(np.isnan(A))"
      ],
      "execution_count": null,
      "outputs": [
        {
          "output_type": "stream",
          "text": [
            "[[False False False  True]\n",
            " [False  True False False]]\n"
          ],
          "name": "stdout"
        }
      ]
    },
    {
      "cell_type": "markdown",
      "metadata": {
        "id": "mxwvKo0aKAap"
      },
      "source": [
        "numpy.allclose(a, b, rtol=1e-05, atol=1e-08, equal_nan=False)\n",
        "\n",
        "Returns True if two arrays are element-wise equal within a tolerance.\n",
        "\n",
        "[python numpy allclose使用及代碼示例](https://vimsky.com/zh-tw/examples/usage/python-numpy.allclose.html)"
      ]
    },
    {
      "cell_type": "code",
      "metadata": {
        "colab": {
          "base_uri": "https://localhost:8080/"
        },
        "id": "wz2zdalTJw8Q",
        "outputId": "c4349ca5-25dc-4981-ec48-d7f3114f3a56"
      },
      "source": [
        "A = np.array([0.4, 0.5, 0.3])\n",
        "B = np.array([0.39999999, 0.5000001, 0.3])\n",
        " \n",
        "print(np.allclose(A, B))"
      ],
      "execution_count": null,
      "outputs": [
        {
          "output_type": "stream",
          "text": [
            "True\n"
          ],
          "name": "stdout"
        }
      ]
    },
    {
      "cell_type": "code",
      "metadata": {
        "colab": {
          "base_uri": "https://localhost:8080/"
        },
        "id": "7e93_WqVMHDt",
        "outputId": "3ee1295a-401b-46e3-f0c0-3f0d2363505c"
      },
      "source": [
        "A = np.array([0.4, 0.5, 0.3])\n",
        "B = np.array([0.3999999999, 0.5000000001, 0.3])\n",
        " \n",
        "print(A == B)"
      ],
      "execution_count": null,
      "outputs": [
        {
          "output_type": "stream",
          "text": [
            "[False False  True]\n"
          ],
          "name": "stdout"
        }
      ]
    },
    {
      "cell_type": "code",
      "metadata": {
        "colab": {
          "base_uri": "https://localhost:8080/"
        },
        "id": "Y3tUL0jiJw-u",
        "outputId": "65d24122-bc35-4264-dcf7-c18f3b028c94"
      },
      "source": [
        "A = np.array([0.4, 0.5, 0.3])\n",
        "B = np.array([0.3999999999, 0.5000000001, 0.3])\n",
        " \n",
        "print(np.equal(A, B))"
      ],
      "execution_count": null,
      "outputs": [
        {
          "output_type": "stream",
          "text": [
            "[False False  True]\n"
          ],
          "name": "stdout"
        }
      ]
    },
    {
      "cell_type": "code",
      "metadata": {
        "colab": {
          "base_uri": "https://localhost:8080/"
        },
        "id": "OWk2CmfIVdhY",
        "outputId": "a09b4871-7f3b-4ff5-baa4-771e4cac4d13"
      },
      "source": [
        "A = np.array([0.4, 0.5, 0.3, 0.9])\n",
        "B = np.array([0.38, 0.51, 0.3, 0.91])\n",
        " \n",
        "print(A > B)"
      ],
      "execution_count": null,
      "outputs": [
        {
          "output_type": "stream",
          "text": [
            "[ True False False False]\n"
          ],
          "name": "stdout"
        }
      ]
    },
    {
      "cell_type": "markdown",
      "metadata": {
        "id": "3Vmpk4VuV8Tx"
      },
      "source": [
        "numpy.greater\n",
        "\n",
        "Return the truth value of (x1 > x2) element-wise."
      ]
    },
    {
      "cell_type": "code",
      "metadata": {
        "colab": {
          "base_uri": "https://localhost:8080/"
        },
        "id": "xH4o4ohoVdkU",
        "outputId": "ae30d5b7-3219-4de9-faba-34603c9ef617"
      },
      "source": [
        "A = np.array([0.4, 0.5, 0.3, 0.9])\n",
        "B = np.array([0.38, 0.51, 0.3, 0.91])\n",
        " \n",
        "print(np.greater(A, B))"
      ],
      "execution_count": null,
      "outputs": [
        {
          "output_type": "stream",
          "text": [
            "[ True False False False]\n"
          ],
          "name": "stdout"
        }
      ]
    },
    {
      "cell_type": "code",
      "metadata": {
        "colab": {
          "base_uri": "https://localhost:8080/"
        },
        "id": "SFSm7VB2VdrH",
        "outputId": "d5faad41-52b2-4450-fbc5-c1594950d4b6"
      },
      "source": [
        "print(np.zeros(shape=(4, 4), dtype='int'))"
      ],
      "execution_count": null,
      "outputs": [
        {
          "output_type": "stream",
          "text": [
            "[[0 0 0 0]\n",
            " [0 0 0 0]\n",
            " [0 0 0 0]\n",
            " [0 0 0 0]]\n"
          ],
          "name": "stdout"
        }
      ]
    },
    {
      "cell_type": "code",
      "metadata": {
        "colab": {
          "base_uri": "https://localhost:8080/"
        },
        "id": "f7jvNHu7WLFv",
        "outputId": "7c6357a1-94ed-4c21-e086-b93fbdbd5ec0"
      },
      "source": [
        "print(np.ones(shape=(10, 10), dtype='float') * 255)"
      ],
      "execution_count": null,
      "outputs": [
        {
          "output_type": "stream",
          "text": [
            "[[255. 255. 255. 255. 255. 255. 255. 255. 255. 255.]\n",
            " [255. 255. 255. 255. 255. 255. 255. 255. 255. 255.]\n",
            " [255. 255. 255. 255. 255. 255. 255. 255. 255. 255.]\n",
            " [255. 255. 255. 255. 255. 255. 255. 255. 255. 255.]\n",
            " [255. 255. 255. 255. 255. 255. 255. 255. 255. 255.]\n",
            " [255. 255. 255. 255. 255. 255. 255. 255. 255. 255.]\n",
            " [255. 255. 255. 255. 255. 255. 255. 255. 255. 255.]\n",
            " [255. 255. 255. 255. 255. 255. 255. 255. 255. 255.]\n",
            " [255. 255. 255. 255. 255. 255. 255. 255. 255. 255.]\n",
            " [255. 255. 255. 255. 255. 255. 255. 255. 255. 255.]]\n"
          ],
          "name": "stdout"
        }
      ]
    },
    {
      "cell_type": "code",
      "metadata": {
        "colab": {
          "base_uri": "https://localhost:8080/"
        },
        "id": "GdlwWvwEWLId",
        "outputId": "2bd406af-b311-4667-a09e-55ec3160a247"
      },
      "source": [
        "print(np.full(shape=(10, 10), fill_value=255, dtype='float'))"
      ],
      "execution_count": null,
      "outputs": [
        {
          "output_type": "stream",
          "text": [
            "[[255. 255. 255. 255. 255. 255. 255. 255. 255. 255.]\n",
            " [255. 255. 255. 255. 255. 255. 255. 255. 255. 255.]\n",
            " [255. 255. 255. 255. 255. 255. 255. 255. 255. 255.]\n",
            " [255. 255. 255. 255. 255. 255. 255. 255. 255. 255.]\n",
            " [255. 255. 255. 255. 255. 255. 255. 255. 255. 255.]\n",
            " [255. 255. 255. 255. 255. 255. 255. 255. 255. 255.]\n",
            " [255. 255. 255. 255. 255. 255. 255. 255. 255. 255.]\n",
            " [255. 255. 255. 255. 255. 255. 255. 255. 255. 255.]\n",
            " [255. 255. 255. 255. 255. 255. 255. 255. 255. 255.]\n",
            " [255. 255. 255. 255. 255. 255. 255. 255. 255. 255.]]\n"
          ],
          "name": "stdout"
        }
      ]
    },
    {
      "cell_type": "code",
      "metadata": {
        "colab": {
          "base_uri": "https://localhost:8080/"
        },
        "id": "Mty6hQyUWLNA",
        "outputId": "dc392b89-e486-4c16-846c-153054a5c61b"
      },
      "source": [
        "print(np.arange(10, 100))"
      ],
      "execution_count": null,
      "outputs": [
        {
          "output_type": "stream",
          "text": [
            "[10 11 12 13 14 15 16 17 18 19 20 21 22 23 24 25 26 27 28 29 30 31 32 33\n",
            " 34 35 36 37 38 39 40 41 42 43 44 45 46 47 48 49 50 51 52 53 54 55 56 57\n",
            " 58 59 60 61 62 63 64 65 66 67 68 69 70 71 72 73 74 75 76 77 78 79 80 81\n",
            " 82 83 84 85 86 87 88 89 90 91 92 93 94 95 96 97 98 99]\n"
          ],
          "name": "stdout"
        }
      ]
    },
    {
      "cell_type": "code",
      "metadata": {
        "colab": {
          "base_uri": "https://localhost:8080/"
        },
        "id": "X0s4KnN4WLQI",
        "outputId": "a0d0cb3b-5074-4cb1-bf33-73046a29d7c5"
      },
      "source": [
        "print(np.arange(10, 100).reshape(-1, 10)) "
      ],
      "execution_count": null,
      "outputs": [
        {
          "output_type": "stream",
          "text": [
            "[[10 11 12 13 14 15 16 17 18 19]\n",
            " [20 21 22 23 24 25 26 27 28 29]\n",
            " [30 31 32 33 34 35 36 37 38 39]\n",
            " [40 41 42 43 44 45 46 47 48 49]\n",
            " [50 51 52 53 54 55 56 57 58 59]\n",
            " [60 61 62 63 64 65 66 67 68 69]\n",
            " [70 71 72 73 74 75 76 77 78 79]\n",
            " [80 81 82 83 84 85 86 87 88 89]\n",
            " [90 91 92 93 94 95 96 97 98 99]]\n"
          ],
          "name": "stdout"
        }
      ]
    },
    {
      "cell_type": "code",
      "metadata": {
        "colab": {
          "base_uri": "https://localhost:8080/"
        },
        "id": "e4AlwIoKWLUA",
        "outputId": "3ff12d91-b0f0-4301-a842-67c8dcebb8d8"
      },
      "source": [
        "print(np.arange(10, 100).reshape(9, 10))"
      ],
      "execution_count": null,
      "outputs": [
        {
          "output_type": "stream",
          "text": [
            "[[10 11 12 13 14 15 16 17 18 19]\n",
            " [20 21 22 23 24 25 26 27 28 29]\n",
            " [30 31 32 33 34 35 36 37 38 39]\n",
            " [40 41 42 43 44 45 46 47 48 49]\n",
            " [50 51 52 53 54 55 56 57 58 59]\n",
            " [60 61 62 63 64 65 66 67 68 69]\n",
            " [70 71 72 73 74 75 76 77 78 79]\n",
            " [80 81 82 83 84 85 86 87 88 89]\n",
            " [90 91 92 93 94 95 96 97 98 99]]\n"
          ],
          "name": "stdout"
        }
      ]
    },
    {
      "cell_type": "code",
      "metadata": {
        "colab": {
          "base_uri": "https://localhost:8080/"
        },
        "id": "ZzLEUtDacfj7",
        "outputId": "32732249-cb67-410c-df17-19d67a650f5b"
      },
      "source": [
        "print(np.eye(N=6, dtype='int'))"
      ],
      "execution_count": null,
      "outputs": [
        {
          "output_type": "stream",
          "text": [
            "[[1 0 0 0 0 0]\n",
            " [0 1 0 0 0 0]\n",
            " [0 0 1 0 0 0]\n",
            " [0 0 0 1 0 0]\n",
            " [0 0 0 0 1 0]\n",
            " [0 0 0 0 0 1]]\n"
          ],
          "name": "stdout"
        }
      ]
    },
    {
      "cell_type": "code",
      "metadata": {
        "colab": {
          "base_uri": "https://localhost:8080/"
        },
        "id": "zaFDpFC-cfmp",
        "outputId": "91fb41d7-ea6a-411b-dc03-6cb23c735198"
      },
      "source": [
        "np.random.seed(10)\n",
        "print(np.random.rand(30))"
      ],
      "execution_count": null,
      "outputs": [
        {
          "output_type": "stream",
          "text": [
            "[0.77132064 0.02075195 0.63364823 0.74880388 0.49850701 0.22479665\n",
            " 0.19806286 0.76053071 0.16911084 0.08833981 0.68535982 0.95339335\n",
            " 0.00394827 0.51219226 0.81262096 0.61252607 0.72175532 0.29187607\n",
            " 0.91777412 0.71457578 0.54254437 0.14217005 0.37334076 0.67413362\n",
            " 0.44183317 0.43401399 0.61776698 0.51313824 0.65039718 0.60103895]\n"
          ],
          "name": "stdout"
        }
      ]
    },
    {
      "cell_type": "code",
      "metadata": {
        "colab": {
          "base_uri": "https://localhost:8080/"
        },
        "id": "jTUp1MR-eUG_",
        "outputId": "53bd2a72-81a2-4a9e-889b-cec8450492aa"
      },
      "source": [
        "np.random.seed(10)\n",
        "print(np.random.rand(30))"
      ],
      "execution_count": null,
      "outputs": [
        {
          "output_type": "stream",
          "text": [
            "[0.77132064 0.02075195 0.63364823 0.74880388 0.49850701 0.22479665\n",
            " 0.19806286 0.76053071 0.16911084 0.08833981 0.68535982 0.95339335\n",
            " 0.00394827 0.51219226 0.81262096 0.61252607 0.72175532 0.29187607\n",
            " 0.91777412 0.71457578 0.54254437 0.14217005 0.37334076 0.67413362\n",
            " 0.44183317 0.43401399 0.61776698 0.51313824 0.65039718 0.60103895]\n"
          ],
          "name": "stdout"
        }
      ]
    },
    {
      "cell_type": "code",
      "metadata": {
        "colab": {
          "base_uri": "https://localhost:8080/"
        },
        "id": "LT11brPYcfpP",
        "outputId": "772509e4-9800-4402-bb13-983064c44f51"
      },
      "source": [
        "np.random.seed(20)\n",
        "print(np.random.randn(10, 4))"
      ],
      "execution_count": null,
      "outputs": [
        {
          "output_type": "stream",
          "text": [
            "[[ 0.88389311  0.19586502  0.35753652 -2.34326191]\n",
            " [-1.08483259  0.55969629  0.93946935 -0.97848104]\n",
            " [ 0.50309684  0.40641447  0.32346101 -0.49341088]\n",
            " [-0.79201679 -0.84236793 -1.27950266  0.24571517]\n",
            " [-0.0441948   1.56763255  1.05110868  0.40636843]\n",
            " [-0.1686461  -3.18970279  1.12013226  1.33277821]\n",
            " [-0.24333877 -0.13003071 -0.10901737  1.55618644]\n",
            " [ 0.12877835 -2.06694872 -0.88549315 -1.10457948]\n",
            " [ 0.93286635  2.059838   -0.93493796 -1.61299022]\n",
            " [ 0.52706972 -1.55110074  0.32961334 -1.13652654]]\n"
          ],
          "name": "stdout"
        }
      ]
    },
    {
      "cell_type": "code",
      "metadata": {
        "colab": {
          "base_uri": "https://localhost:8080/"
        },
        "id": "zt574Wgvcfr1",
        "outputId": "c60c268a-e486-46cd-a988-b2b6c9de495f"
      },
      "source": [
        "np.random.seed(30)\n",
        " \n",
        "sigma = np.sqrt(5)\n",
        "mu = 100\n",
        " \n",
        "print(sigma * np.random.randn(10, 4) + mu)"
      ],
      "execution_count": null,
      "outputs": [
        {
          "output_type": "stream",
          "text": [
            "[[ 97.17349231 103.41650023  97.82942436 101.05220329]\n",
            " [ 99.7748353  100.67930221  96.14063068 103.544381  ]\n",
            " [100.30029631  97.52499594 103.52901961 100.24037271]\n",
            " [ 98.29153712  98.2666258  103.09437633 101.70027274]\n",
            " [ 99.36127721 101.20382627  95.34026547 102.09694365]\n",
            " [ 99.98708001  98.95468525  99.05410904 102.38025432]\n",
            " [ 93.50787269 103.61547679 103.18753701  98.51356237]\n",
            " [102.20256689  96.19764407  97.54000366  97.05813038]\n",
            " [101.81233513  97.66380453  98.45883627  98.09317768]\n",
            " [102.48979932  95.70413391  98.43161651 101.89861815]]\n"
          ],
          "name": "stdout"
        }
      ]
    },
    {
      "cell_type": "code",
      "metadata": {
        "colab": {
          "base_uri": "https://localhost:8080/"
        },
        "id": "232nTPgocfuR",
        "outputId": "134a2ec2-80fd-4292-ad5a-4f219d7eb4d3"
      },
      "source": [
        "A = np.array([[1, 4, 3],\n",
        "        [5, 2, 6]])\n",
        " \n",
        "for i in np.nditer(A):\n",
        "    print(i)"
      ],
      "execution_count": null,
      "outputs": [
        {
          "output_type": "stream",
          "text": [
            "1\n",
            "4\n",
            "3\n",
            "5\n",
            "2\n",
            "6\n"
          ],
          "name": "stdout"
        }
      ]
    },
    {
      "cell_type": "code",
      "metadata": {
        "colab": {
          "base_uri": "https://localhost:8080/"
        },
        "id": "mk3qVoX9cfxC",
        "outputId": "a4368853-5c90-41cb-eb98-ff4c6ac279a4"
      },
      "source": [
        "print(np.linspace(start=0, stop=1, num=11))"
      ],
      "execution_count": null,
      "outputs": [
        {
          "output_type": "stream",
          "text": [
            "[0.  0.1 0.2 0.3 0.4 0.5 0.6 0.7 0.8 0.9 1. ]\n"
          ],
          "name": "stdout"
        }
      ]
    },
    {
      "cell_type": "code",
      "metadata": {
        "colab": {
          "base_uri": "https://localhost:8080/"
        },
        "id": "gV2-WhVIcfzj",
        "outputId": "d7e42275-5fc4-4ff1-d288-7e199ef2baaf"
      },
      "source": [
        "np.random.seed(42)\n",
        "print(np.random.choice(range(1, 50), size=6, replace=False))"
      ],
      "execution_count": null,
      "outputs": [
        {
          "output_type": "stream",
          "text": [
            "[14 46 48 45 18 28]\n"
          ],
          "name": "stdout"
        }
      ]
    },
    {
      "cell_type": "code",
      "metadata": {
        "colab": {
          "base_uri": "https://localhost:8080/"
        },
        "id": "9znT8ltVcf1o",
        "outputId": "a64dc485-8842-40c5-d150-7568adbf8413"
      },
      "source": [
        "print(np.diag(np.arange(6)))"
      ],
      "execution_count": null,
      "outputs": [
        {
          "output_type": "stream",
          "text": [
            "[[0 0 0 0 0 0]\n",
            " [0 1 0 0 0 0]\n",
            " [0 0 2 0 0 0]\n",
            " [0 0 0 3 0 0]\n",
            " [0 0 0 0 4 0]\n",
            " [0 0 0 0 0 5]]\n"
          ],
          "name": "stdout"
        }
      ]
    },
    {
      "cell_type": "markdown",
      "metadata": {
        "id": "wql3QxkRiE9A"
      },
      "source": [
        "###arange"
      ]
    },
    {
      "cell_type": "code",
      "metadata": {
        "colab": {
          "base_uri": "https://localhost:8080/"
        },
        "id": "agBNtBR4g_HY",
        "outputId": "1853c64e-0c63-48ae-aebc-b16a54c55a9b"
      },
      "source": [
        "A = np.arange(12).reshape(-1, 4)\n",
        "np.save('array.npy', A)\n",
        " \n",
        "B = np.load('array.npy')\n",
        "print(B)"
      ],
      "execution_count": null,
      "outputs": [
        {
          "output_type": "stream",
          "text": [
            "[[ 0  1  2  3]\n",
            " [ 4  5  6  7]\n",
            " [ 8  9 10 11]]\n"
          ],
          "name": "stdout"
        }
      ]
    },
    {
      "cell_type": "code",
      "metadata": {
        "colab": {
          "base_uri": "https://localhost:8080/"
        },
        "id": "LpjZ5ntQg_Kb",
        "outputId": "4c26dcdb-c47a-4824-978a-2ed1e15ee3a6"
      },
      "source": [
        "A = np.arange(12, dtype='int').reshape(-1, 4)\n",
        "np.savetxt(fname='array.txt', X=A, fmt='%0.2f')\n",
        " \n",
        "B = np.loadtxt('array.txt')\n",
        "print(B)"
      ],
      "execution_count": null,
      "outputs": [
        {
          "output_type": "stream",
          "text": [
            "[[ 0.  1.  2.  3.]\n",
            " [ 4.  5.  6.  7.]\n",
            " [ 8.  9. 10. 11.]]\n"
          ],
          "name": "stdout"
        }
      ]
    },
    {
      "cell_type": "code",
      "metadata": {
        "colab": {
          "base_uri": "https://localhost:8080/"
        },
        "id": "jN7NLJPHg_NA",
        "outputId": "94a1a94b-cbdd-4361-925f-f80021d5fb9b"
      },
      "source": [
        "A = np.arange(12, dtype='int').reshape(-1, 4)\n",
        "print(A.tolist())"
      ],
      "execution_count": null,
      "outputs": [
        {
          "output_type": "stream",
          "text": [
            "[[0, 1, 2, 3], [4, 5, 6, 7], [8, 9, 10, 11]]\n"
          ],
          "name": "stdout"
        }
      ]
    },
    {
      "cell_type": "code",
      "metadata": {
        "colab": {
          "base_uri": "https://localhost:8080/"
        },
        "id": "Y8Zw_VuYh1Sv",
        "outputId": "e6e97500-5acc-4945-d227-cbc9df0b5b20"
      },
      "source": [
        "np.arange(3)"
      ],
      "execution_count": null,
      "outputs": [
        {
          "output_type": "execute_result",
          "data": {
            "text/plain": [
              "array([0, 1, 2])"
            ]
          },
          "metadata": {
            "tags": []
          },
          "execution_count": 56
        }
      ]
    },
    {
      "cell_type": "code",
      "metadata": {
        "colab": {
          "base_uri": "https://localhost:8080/"
        },
        "id": "27nsF8Jjh1ak",
        "outputId": "19f96734-d68a-4983-e528-7e1f30b56e9b"
      },
      "source": [
        "np.arange(1,3,0.3)"
      ],
      "execution_count": null,
      "outputs": [
        {
          "output_type": "execute_result",
          "data": {
            "text/plain": [
              "array([1. , 1.3, 1.6, 1.9, 2.2, 2.5, 2.8])"
            ]
          },
          "metadata": {
            "tags": []
          },
          "execution_count": 57
        }
      ]
    },
    {
      "cell_type": "code",
      "metadata": {
        "colab": {
          "base_uri": "https://localhost:8080/"
        },
        "id": "qAV7bylth9_p",
        "outputId": "1603e178-ddf3-44e2-ca09-7ac80a18c1c0"
      },
      "source": [
        "np.arange(1,12,2)"
      ],
      "execution_count": null,
      "outputs": [
        {
          "output_type": "execute_result",
          "data": {
            "text/plain": [
              "array([ 1,  3,  5,  7,  9, 11])"
            ]
          },
          "metadata": {
            "tags": []
          },
          "execution_count": 58
        }
      ]
    },
    {
      "cell_type": "code",
      "metadata": {
        "colab": {
          "base_uri": "https://localhost:8080/"
        },
        "id": "0lLi4L95g_Pw",
        "outputId": "19bfe4c3-3468-4c13-905e-25909aa7cb78"
      },
      "source": [
        "A = np.arange(12, dtype='int').reshape(-1, 4)\n",
        "print(A[::-1])"
      ],
      "execution_count": null,
      "outputs": [
        {
          "output_type": "stream",
          "text": [
            "[[ 8  9 10 11]\n",
            " [ 4  5  6  7]\n",
            " [ 0  1  2  3]]\n"
          ],
          "name": "stdout"
        }
      ]
    },
    {
      "cell_type": "code",
      "metadata": {
        "colab": {
          "base_uri": "https://localhost:8080/"
        },
        "id": "2yLYaI1-g_SX",
        "outputId": "5c7a4ff8-d157-4ee7-a3c5-e03fcbaf7ef8"
      },
      "source": [
        "A = np.ones(shape=(4, 4))\n",
        "print(np.pad(A, pad_width=1, constant_values=0))"
      ],
      "execution_count": null,
      "outputs": [
        {
          "output_type": "stream",
          "text": [
            "[[0. 0. 0. 0. 0. 0.]\n",
            " [0. 1. 1. 1. 1. 0.]\n",
            " [0. 1. 1. 1. 1. 0.]\n",
            " [0. 1. 1. 1. 1. 0.]\n",
            " [0. 1. 1. 1. 1. 0.]\n",
            " [0. 0. 0. 0. 0. 0.]]\n"
          ],
          "name": "stdout"
        }
      ]
    },
    {
      "cell_type": "code",
      "metadata": {
        "colab": {
          "base_uri": "https://localhost:8080/"
        },
        "id": "eXY-M4Uchs4a",
        "outputId": "ffed2c37-0433-4848-d86f-fdc7f9345b5d"
      },
      "source": [
        "A = np.zeros(shape=(6, 6), dtype='int')\n",
        "A[::2, ::2] = 10\n",
        "A[1::2, ::2] = 5\n",
        "print(A)"
      ],
      "execution_count": null,
      "outputs": [
        {
          "output_type": "stream",
          "text": [
            "[[10  0 10  0 10  0]\n",
            " [ 5  0  5  0  5  0]\n",
            " [10  0 10  0 10  0]\n",
            " [ 5  0  5  0  5  0]\n",
            " [10  0 10  0 10  0]\n",
            " [ 5  0  5  0  5  0]]\n"
          ],
          "name": "stdout"
        }
      ]
    },
    {
      "cell_type": "code",
      "metadata": {
        "colab": {
          "base_uri": "https://localhost:8080/"
        },
        "id": "ZcMff21ahs7P",
        "outputId": "1508bfff-84a8-4bb5-e58c-3d74efd53668"
      },
      "source": [
        "A = np.arange(12).reshape(-1, 4)\n",
        "B = np.array([[4, 3, 7, 2],\n",
        "        [0, 5, 2, 6]])\n",
        " \n",
        "print(np.append(A, B, axis=0))"
      ],
      "execution_count": null,
      "outputs": [
        {
          "output_type": "stream",
          "text": [
            "[[ 0  1  2  3]\n",
            " [ 4  5  6  7]\n",
            " [ 8  9 10 11]\n",
            " [ 4  3  7  2]\n",
            " [ 0  5  2  6]]\n"
          ],
          "name": "stdout"
        }
      ]
    },
    {
      "cell_type": "code",
      "metadata": {
        "colab": {
          "base_uri": "https://localhost:8080/"
        },
        "id": "dIZn_Qa6hs-D",
        "outputId": "0398356e-4930-4582-d4ef-35f23b160d24"
      },
      "source": [
        "A = np.arange(8).reshape(-1, 4)\n",
        "B = np.array([[9, 10, 11, 3],\n",
        "        [2, 8, 0, 9]])\n",
        "print(A)\n",
        "print(B) \n",
        "print('.....') \n",
        "print(np.intersect1d(A, B))"
      ],
      "execution_count": null,
      "outputs": [
        {
          "output_type": "stream",
          "text": [
            "[[0 1 2 3]\n",
            " [4 5 6 7]]\n",
            "[[ 9 10 11  3]\n",
            " [ 2  8  0  9]]\n",
            ".....\n",
            "[0 2 3]\n"
          ],
          "name": "stdout"
        }
      ]
    },
    {
      "cell_type": "code",
      "metadata": {
        "colab": {
          "base_uri": "https://localhost:8080/"
        },
        "id": "NYCothd6htAz",
        "outputId": "7e75a883-bae2-4770-b873-c3da698e5b87"
      },
      "source": [
        "np.random.seed(10)\n",
        "A = np.random.randint(low=1, high=10, size=(3, 5))\n",
        "print(A)\n",
        "print('.....')\n",
        "print(np.unique(A))"
      ],
      "execution_count": null,
      "outputs": [
        {
          "output_type": "stream",
          "text": [
            "[[5 1 2 1 2]\n",
            " [9 1 9 7 5]\n",
            " [4 1 5 7 9]]\n",
            ".....\n",
            "[1 2 4 5 7 9]\n"
          ],
          "name": "stdout"
        }
      ]
    },
    {
      "cell_type": "code",
      "metadata": {
        "colab": {
          "base_uri": "https://localhost:8080/"
        },
        "id": "UxfmhDn_g_VD",
        "outputId": "99411fdb-0314-4510-f316-3d4bd65e4197"
      },
      "source": [
        "A = np.array([[0.4, 0.3, 0.3],\n",
        "        [0.1, 0.1, 0.8],\n",
        "        [0.2, 0.5, 0.3]])\n",
        " \n",
        "print(np.argmax(A, axis=1))"
      ],
      "execution_count": null,
      "outputs": [
        {
          "output_type": "stream",
          "text": [
            "[0 2 1]\n"
          ],
          "name": "stdout"
        }
      ]
    },
    {
      "cell_type": "markdown",
      "metadata": {
        "id": "PG1rHi6vjSw8"
      },
      "source": [
        "### 31-40"
      ]
    },
    {
      "cell_type": "code",
      "metadata": {
        "colab": {
          "base_uri": "https://localhost:8080/"
        },
        "id": "XSDYALlnjZDb",
        "outputId": "b95328c5-e2bb-4466-a282-a1b354dc5081"
      },
      "source": [
        "A = np.array([[4.99, 3.49, 9.99],\n",
        "        [1.99, 9.99, 4.99],\n",
        "        [14.99, 2.39, 7.29]])\n",
        " \n",
        "print(np.sort(A, axis=1))\n",
        "print(np.sort(A, axis=0))"
      ],
      "execution_count": null,
      "outputs": [
        {
          "output_type": "stream",
          "text": [
            "[[ 3.49  4.99  9.99]\n",
            " [ 1.99  4.99  9.99]\n",
            " [ 2.39  7.29 14.99]]\n",
            "[[ 1.99  2.39  4.99]\n",
            " [ 4.99  3.49  7.29]\n",
            " [14.99  9.99  9.99]]\n"
          ],
          "name": "stdout"
        }
      ]
    },
    {
      "cell_type": "code",
      "metadata": {
        "colab": {
          "base_uri": "https://localhost:8080/"
        },
        "id": "3VRd0XGUjZM8",
        "outputId": "6d179c8b-3e47-46a4-f38c-c6d5660ff102"
      },
      "source": [
        "A = np.array([[4.99, 3.49, 9.99],\n",
        "        [1.99, 9.99, 4.99],\n",
        "        [14.99, 2.39, 7.29]])\n",
        " \n",
        "print(A[A > 8])"
      ],
      "execution_count": null,
      "outputs": [
        {
          "output_type": "stream",
          "text": [
            "[ 9.99  9.99 14.99]\n"
          ],
          "name": "stdout"
        }
      ]
    },
    {
      "cell_type": "code",
      "metadata": {
        "colab": {
          "base_uri": "https://localhost:8080/"
        },
        "id": "HKARlpZljZRF",
        "outputId": "bad74bb8-844c-4814-eda0-27d21773f472"
      },
      "source": [
        "A = np.array([[4.99, 3.49, 9.99],\n",
        "        [1.99, 9.99, 14.99],\n",
        "        [14.99, 2.39, 7.29]])\n",
        " \n",
        "print(np.where(A > 10.0, 10.0, A))"
      ],
      "execution_count": null,
      "outputs": [
        {
          "output_type": "stream",
          "text": [
            "[[ 4.99  3.49  9.99]\n",
            " [ 1.99  9.99 10.  ]\n",
            " [10.    2.39  7.29]]\n"
          ],
          "name": "stdout"
        }
      ]
    },
    {
      "cell_type": "markdown",
      "metadata": {
        "id": "qp40WnUEks7R"
      },
      "source": [
        "[numpy中的ravel（），flatten（），squeeze（）的用法與區別](https://blog.csdn.net/tymatlab/article/details/79009618)"
      ]
    },
    {
      "cell_type": "code",
      "metadata": {
        "colab": {
          "base_uri": "https://localhost:8080/"
        },
        "id": "Drio-RTCjZT8",
        "outputId": "a42c7271-4713-45ae-e44a-387c8164f35d"
      },
      "source": [
        "A = np.array([[4.99, 3.49, 9.99],\n",
        "        [1.99, 9.99, 14.99],\n",
        "        [14.99, 2.39, 7.29]])\n",
        " \n",
        "print(np.ravel(A))"
      ],
      "execution_count": null,
      "outputs": [
        {
          "output_type": "stream",
          "text": [
            "[ 4.99  3.49  9.99  1.99  9.99 14.99 14.99  2.39  7.29]\n"
          ],
          "name": "stdout"
        }
      ]
    },
    {
      "cell_type": "code",
      "metadata": {
        "colab": {
          "base_uri": "https://localhost:8080/"
        },
        "id": "DU51IfpOkcm_",
        "outputId": "2e23f68f-68bf-479e-d7ea-7536ab8ebe5b"
      },
      "source": [
        "A = np.array([[4.99, 3.49, 9.99],\n",
        "        [1.99, 9.99, 14.99],\n",
        "        [14.99, 2.39, 7.29]])\n",
        " \n",
        "print(np.zeros_like(A))"
      ],
      "execution_count": null,
      "outputs": [
        {
          "output_type": "stream",
          "text": [
            "[[0. 0. 0.]\n",
            " [0. 0. 0.]\n",
            " [0. 0. 0.]]\n"
          ],
          "name": "stdout"
        }
      ]
    },
    {
      "cell_type": "code",
      "metadata": {
        "colab": {
          "base_uri": "https://localhost:8080/"
        },
        "id": "J3gELuDZkcp_",
        "outputId": "c581e26a-c916-47c7-a62e-c14fd7d8b342"
      },
      "source": [
        "A = np.array([[4.99, 3.49, 9.99],\n",
        "        [1.99, 9.99, 14.99],\n",
        "        [14.99, 2.39, 7.29]])\n",
        " \n",
        "print(np.full_like(A, 9.99))"
      ],
      "execution_count": null,
      "outputs": [
        {
          "output_type": "stream",
          "text": [
            "[[9.99 9.99 9.99]\n",
            " [9.99 9.99 9.99]\n",
            " [9.99 9.99 9.99]]\n"
          ],
          "name": "stdout"
        }
      ]
    },
    {
      "cell_type": "code",
      "metadata": {
        "colab": {
          "base_uri": "https://localhost:8080/"
        },
        "id": "8gvcXp3akcsk",
        "outputId": "2ea8b303-11b7-4673-99a1-ac23f7bb6887"
      },
      "source": [
        "print(np.tri(N=5))"
      ],
      "execution_count": null,
      "outputs": [
        {
          "output_type": "stream",
          "text": [
            "[[1. 0. 0. 0. 0.]\n",
            " [1. 1. 0. 0. 0.]\n",
            " [1. 1. 1. 0. 0.]\n",
            " [1. 1. 1. 1. 0.]\n",
            " [1. 1. 1. 1. 1.]]\n"
          ],
          "name": "stdout"
        }
      ]
    },
    {
      "cell_type": "code",
      "metadata": {
        "id": "cEsieBoqkcvc"
      },
      "source": [
        "A = np.array([[[4, 5, 4, 2],\n",
        "        [6, 3, 5, 1],\n",
        "         [5, 2, 1, 2]],\n",
        "              \n",
        "         [[7, 2, 3, 1],\n",
        "         [6, 2, 0, 9],\n",
        "         [0, 1, 9, 1]]])"
      ],
      "execution_count": null,
      "outputs": []
    },
    {
      "cell_type": "code",
      "metadata": {
        "id": "Jjs5SYJNkcyV"
      },
      "source": [
        "image = np.random.randint(low=0, high=256, size=(200, 300), dtype=np.uint8)\n"
      ],
      "execution_count": null,
      "outputs": []
    },
    {
      "cell_type": "code",
      "metadata": {
        "id": "op9102fXlsVC"
      },
      "source": [
        "image = np.random.randint(low=0, high=256, size=(200, 300), dtype=np.uint8)\n",
        "image_sorted = np.sort(image)"
      ],
      "execution_count": null,
      "outputs": []
    },
    {
      "cell_type": "markdown",
      "metadata": {
        "id": "Av4AH8Oalu3j"
      },
      "source": [
        "###41-50"
      ]
    },
    {
      "cell_type": "code",
      "metadata": {
        "colab": {
          "base_uri": "https://localhost:8080/"
        },
        "id": "eC2w-O_-lsXy",
        "outputId": "4718905e-b2e3-4846-b6d6-f705cf607325"
      },
      "source": [
        "A = np.array([[4, 2, 1],\n",
        "              [6, 4, 2]])\n",
        " \n",
        "print(np.expand_dims(A, axis=0))"
      ],
      "execution_count": null,
      "outputs": [
        {
          "output_type": "stream",
          "text": [
            "[[[4 2 1]\n",
            "  [6 4 2]]]\n"
          ],
          "name": "stdout"
        }
      ]
    },
    {
      "cell_type": "code",
      "metadata": {
        "colab": {
          "base_uri": "https://localhost:8080/"
        },
        "id": "_tSndHk2lsab",
        "outputId": "76cde164-4cf2-4798-fba1-ff34d43c46f8"
      },
      "source": [
        "np.random.seed(42)\n",
        " \n",
        "image = np.random.randint(low=0, high=256, size=(200, 300, 3), dtype=np.uint8)\n",
        "print(image)"
      ],
      "execution_count": null,
      "outputs": [
        {
          "output_type": "stream",
          "text": [
            "[[[102 220 225]\n",
            "  [ 95 179  61]\n",
            "  [234 203  92]\n",
            "  ...\n",
            "  [ 41  27  87]\n",
            "  [102 225  65]\n",
            "  [170   0 238]]\n",
            "\n",
            " [[169 170 213]\n",
            "  [159  44 250]\n",
            "  [224 206  61]\n",
            "  ...\n",
            "  [162 118  77]\n",
            "  [228  67  21]\n",
            "  [ 68  30  64]]\n",
            "\n",
            " [[237  26 118]\n",
            "  [ 62 157 198]\n",
            "  [  1 151  37]\n",
            "  ...\n",
            "  [218 189  51]\n",
            "  [193 250 243]\n",
            "  [235  34 180]]\n",
            "\n",
            " ...\n",
            "\n",
            " [[116 102 228]\n",
            "  [ 29  75  71]\n",
            "  [156 133  53]\n",
            "  ...\n",
            "  [ 93  45  68]\n",
            "  [124 238  76]\n",
            "  [184 185 202]]\n",
            "\n",
            " [[216 202 116]\n",
            "  [146 168 132]\n",
            "  [236  80  45]\n",
            "  ...\n",
            "  [169 145 212]\n",
            "  [123  50  70]\n",
            "  [ 11  43  62]]\n",
            "\n",
            " [[ 32  52  65]\n",
            "  [155   2  86]\n",
            "  [ 83 240  27]\n",
            "  ...\n",
            "  [ 30  57 175]\n",
            "  [ 72  83 171]\n",
            "  [ 40 114 195]]]\n"
          ],
          "name": "stdout"
        }
      ]
    },
    {
      "cell_type": "code",
      "metadata": {
        "id": "qurB-oxkl37j"
      },
      "source": [
        "image = np.random.randint(low=0, high=256, size=(200, 300, 3), dtype=np.uint8)\n",
        "image_expanded = np.expand_dims(image, axis=0)"
      ],
      "execution_count": null,
      "outputs": []
    },
    {
      "cell_type": "code",
      "metadata": {
        "id": "tf6yY2S9l3-Q"
      },
      "source": [
        "image1 = np.random.randint(low=0, high=256, size=(200, 300, 3), dtype=np.uint8)\n",
        "image2 = np.random.randint(low=0, high=256, size=(200, 300, 3), dtype=np.uint8)\n",
        " \n",
        "image1 = np.expand_dims(image1, axis=0)\n",
        "image2 = np.expand_dims(image2, axis=0)\n",
        " \n",
        "images = np.append(image1, image2, axis=0)"
      ],
      "execution_count": null,
      "outputs": []
    },
    {
      "cell_type": "code",
      "metadata": {
        "colab": {
          "base_uri": "https://localhost:8080/"
        },
        "id": "zXAXo1kql4BJ",
        "outputId": "e8d21b40-7640-438b-c413-1151d994617a"
      },
      "source": [
        "A = np.array([[[1, 2, 3],\n",
        "               [6, 3, 2]]])\n",
        " \n",
        "print(np.squeeze(A))"
      ],
      "execution_count": null,
      "outputs": [
        {
          "output_type": "stream",
          "text": [
            "[[1 2 3]\n",
            " [6 3 2]]\n"
          ],
          "name": "stdout"
        }
      ]
    },
    {
      "cell_type": "code",
      "metadata": {
        "colab": {
          "base_uri": "https://localhost:8080/"
        },
        "id": "Vl1N5Uypl4EI",
        "outputId": "2d5cdbb4-63db-4c9f-c2c2-98e78452a75a"
      },
      "source": [
        "A = np.array([[0.4],\n",
        "        [0.9],\n",
        "        [0.5],\n",
        "        [0.6]])\n",
        " \n",
        "print(np.squeeze(A))"
      ],
      "execution_count": null,
      "outputs": [
        {
          "output_type": "stream",
          "text": [
            "[0.4 0.9 0.5 0.6]\n"
          ],
          "name": "stdout"
        }
      ]
    },
    {
      "cell_type": "code",
      "metadata": {
        "colab": {
          "base_uri": "https://localhost:8080/"
        },
        "id": "Q8ADqwnwl4G2",
        "outputId": "dca1262b-a940-45bc-fc9a-e1ef8bd77dc7"
      },
      "source": [
        "A = np.arange(12, dtype='int').reshape(-1, 4)\n",
        "print(A[:, ::-1])"
      ],
      "execution_count": null,
      "outputs": [
        {
          "output_type": "stream",
          "text": [
            "[[ 3  2  1  0]\n",
            " [ 7  6  5  4]\n",
            " [11 10  9  8]]\n"
          ],
          "name": "stdout"
        }
      ]
    },
    {
      "cell_type": "code",
      "metadata": {
        "colab": {
          "base_uri": "https://localhost:8080/"
        },
        "id": "7aG7rX0hmHl1",
        "outputId": "1c8282ae-bd84-4056-95b3-6edddb5654ab"
      },
      "source": [
        "A = np.arange(12, dtype='int').reshape(-1, 4)\n",
        "print(A[::-1, ::-1])"
      ],
      "execution_count": null,
      "outputs": [
        {
          "output_type": "stream",
          "text": [
            "[[11 10  9  8]\n",
            " [ 7  6  5  4]\n",
            " [ 3  2  1  0]]\n"
          ],
          "name": "stdout"
        }
      ]
    },
    {
      "cell_type": "code",
      "metadata": {
        "colab": {
          "base_uri": "https://localhost:8080/"
        },
        "id": "-rYLxBgpmHo7",
        "outputId": "e4c7f7de-cd7f-4c82-8955-82d348eed338"
      },
      "source": [
        "np.random.seed(42)\n",
        " \n",
        "image = np.random.randint(low=0, high=256, size=(10, 10, 3), dtype=np.uint8)\n",
        "print(image[:, :, 0])"
      ],
      "execution_count": null,
      "outputs": [
        {
          "output_type": "stream",
          "text": [
            "[[102  95 234   3  14  46  99 212 188 153]\n",
            " [203 214 121 114 239 244  74  14 145 184]\n",
            " [116  85 226 235 151 181 160   6  52  14]\n",
            " [ 76 233 235 213  68 219 129   0 140 147]\n",
            " [ 20  46  19 209  57 156  86  24 235 110]\n",
            " [231 254 218 134 162  73 169  35 242 253]\n",
            " [187 249 201 231 189 116  49  74 189 158]\n",
            " [ 29   7  54 131 181 123 248 119 228  13]\n",
            " [ 50 155  40 120  72 115 167  85 131 242]\n",
            " [ 52 169  13 144 243 167   8  77  22  10]]\n"
          ],
          "name": "stdout"
        }
      ]
    },
    {
      "cell_type": "code",
      "metadata": {
        "id": "Wixnm5uQmHr_"
      },
      "source": [
        "image = np.random.randint(low=0, high=256, size=(10, 10, 3), dtype=np.uint8)\n",
        "result = image[:5, :5, :]"
      ],
      "execution_count": null,
      "outputs": []
    },
    {
      "cell_type": "markdown",
      "metadata": {
        "id": "0sZa2LbemsxG"
      },
      "source": [
        "###51-60"
      ]
    },
    {
      "cell_type": "code",
      "metadata": {
        "colab": {
          "base_uri": "https://localhost:8080/"
        },
        "id": "nZMf35U9mHvs",
        "outputId": "51d07995-ded4-4ea8-f562-640f44a7296f"
      },
      "source": [
        "A = np.array([[3, 4, 5],\n",
        "        [8, 3, 1]])\n",
        "B = np.array([[0, 5, 2],\n",
        "        [4, 2, 1]])\n",
        " \n",
        "print(np.concatenate((A, B), axis=0))"
      ],
      "execution_count": null,
      "outputs": [
        {
          "output_type": "stream",
          "text": [
            "[[3 4 5]\n",
            " [8 3 1]\n",
            " [0 5 2]\n",
            " [4 2 1]]\n"
          ],
          "name": "stdout"
        }
      ]
    },
    {
      "cell_type": "code",
      "metadata": {
        "colab": {
          "base_uri": "https://localhost:8080/"
        },
        "id": "9rNLt30nmHyh",
        "outputId": "7b1cb33c-d9b1-4f5d-c31c-46e6f08882d5"
      },
      "source": [
        "data = np.array([[4.3, 4.2],\n",
        "          [3.1, 3.6]])\n",
        "target = np.array([[0],\n",
        "          [1]])\n",
        " \n",
        "print(np.concatenate((data, target), axis=1))"
      ],
      "execution_count": null,
      "outputs": [
        {
          "output_type": "stream",
          "text": [
            "[[4.3 4.2 0. ]\n",
            " [3.1 3.6 1. ]]\n"
          ],
          "name": "stdout"
        }
      ]
    },
    {
      "cell_type": "code",
      "metadata": {
        "colab": {
          "base_uri": "https://localhost:8080/"
        },
        "id": "sp1-iXdbm6m3",
        "outputId": "e39e41a8-f9ac-4fc5-a891-a544745a67c9"
      },
      "source": [
        "feature1 = np.array([1.6, 0.9, 2.2])\n",
        "feature2 = np.array([0.4, 1.3, 3.2])\n",
        "feature3 = np.array([1.4, 0.3, 1.2])\n",
        " \n",
        "print(np.column_stack((feature1, feature2, feature3)))"
      ],
      "execution_count": null,
      "outputs": [
        {
          "output_type": "stream",
          "text": [
            "[[1.6 0.4 1.4]\n",
            " [0.9 1.3 0.3]\n",
            " [2.2 3.2 1.2]]\n"
          ],
          "name": "stdout"
        }
      ]
    },
    {
      "cell_type": "code",
      "metadata": {
        "colab": {
          "base_uri": "https://localhost:8080/"
        },
        "id": "OfgFRwNSm6pt",
        "outputId": "9045075b-786e-41ff-f74f-80d363f879f0"
      },
      "source": [
        "np.random.seed(42)\n",
        " \n",
        "A = np.random.randint(low=0, high=7, size=(5, 8))\n",
        "A[:, :2] = 0\n",
        "A[:, -2:] = 1\n",
        " \n",
        "A1, A2, A3 = np.split(A, [2, 6], axis=1)\n",
        "print(A1)\n",
        "print(A2)\n",
        "print(A3)"
      ],
      "execution_count": null,
      "outputs": [
        {
          "output_type": "stream",
          "text": [
            "[[0 0]\n",
            " [0 0]\n",
            " [0 0]\n",
            " [0 0]\n",
            " [0 0]]\n",
            "[[4 6 2 4]\n",
            " [6 2 2 4]\n",
            " [1 3 5 5]\n",
            " [3 1 5 4]\n",
            " [2 6 1 3]]\n",
            "[[1 1]\n",
            " [1 1]\n",
            " [1 1]\n",
            " [1 1]\n",
            " [1 1]]\n"
          ],
          "name": "stdout"
        }
      ]
    },
    {
      "cell_type": "code",
      "metadata": {
        "colab": {
          "base_uri": "https://localhost:8080/"
        },
        "id": "oFmca0BUm6sj",
        "outputId": "9f276a4e-12a5-4329-88c5-6b1f47a21bfd"
      },
      "source": [
        "np.random.seed(42)\n",
        " \n",
        " \n",
        "A = np.random.randint(low=0, high=2, size=(10, 6))\n",
        " \n",
        "print(np.count_nonzero(A))"
      ],
      "execution_count": null,
      "outputs": [
        {
          "output_type": "stream",
          "text": [
            "31\n"
          ],
          "name": "stdout"
        }
      ]
    },
    {
      "cell_type": "code",
      "metadata": {
        "colab": {
          "base_uri": "https://localhost:8080/"
        },
        "id": "_kU9c8Ofm6vi",
        "outputId": "99326de4-5451-41d5-8586-9a29545cfe51"
      },
      "source": [
        "np.random.seed(42)\n",
        " \n",
        "A = np.random.randn(10, 4)\n",
        " \n",
        "np.set_printoptions(precision=4)\n",
        "print(A)"
      ],
      "execution_count": null,
      "outputs": [
        {
          "output_type": "stream",
          "text": [
            "[[ 0.4967 -0.1383  0.6477  1.523 ]\n",
            " [-0.2342 -0.2341  1.5792  0.7674]\n",
            " [-0.4695  0.5426 -0.4634 -0.4657]\n",
            " [ 0.242  -1.9133 -1.7249 -0.5623]\n",
            " [-1.0128  0.3142 -0.908  -1.4123]\n",
            " [ 1.4656 -0.2258  0.0675 -1.4247]\n",
            " [-0.5444  0.1109 -1.151   0.3757]\n",
            " [-0.6006 -0.2917 -0.6017  1.8523]\n",
            " [-0.0135 -1.0577  0.8225 -1.2208]\n",
            " [ 0.2089 -1.9597 -1.3282  0.1969]]\n"
          ],
          "name": "stdout"
        }
      ]
    },
    {
      "cell_type": "code",
      "metadata": {
        "colab": {
          "base_uri": "https://localhost:8080/"
        },
        "id": "oqzyc2jom6ya",
        "outputId": "6fbb2587-9ece-4066-e633-1d7da63f9109"
      },
      "source": [
        "A = np.array([1.2e-6, 1.7e-7])\n",
        " \n",
        "np.set_printoptions(suppress=True, precision=8)\n",
        "print(A)"
      ],
      "execution_count": null,
      "outputs": [
        {
          "output_type": "stream",
          "text": [
            "[0.0000012  0.00000017]\n"
          ],
          "name": "stdout"
        }
      ]
    },
    {
      "cell_type": "code",
      "metadata": {
        "colab": {
          "base_uri": "https://localhost:8080/"
        },
        "id": "YF4laGgfm61e",
        "outputId": "c5aed807-5b11-402a-b8fd-533bf4e5327d"
      },
      "source": [
        "np.random.seed(42)\n",
        " \n",
        "A = np.random.randn(8, 4)\n",
        "print(np.delete(A, [2], axis=1))"
      ],
      "execution_count": null,
      "outputs": [
        {
          "output_type": "stream",
          "text": [
            "[[ 0.49671415 -0.1382643   1.52302986]\n",
            " [-0.23415337 -0.23413696  0.76743473]\n",
            " [-0.46947439  0.54256004 -0.46572975]\n",
            " [ 0.24196227 -1.91328024 -0.56228753]\n",
            " [-1.01283112  0.31424733 -1.4123037 ]\n",
            " [ 1.46564877 -0.2257763  -1.42474819]\n",
            " [-0.54438272  0.11092259  0.37569802]\n",
            " [-0.60063869 -0.29169375  1.85227818]]\n"
          ],
          "name": "stdout"
        }
      ]
    },
    {
      "cell_type": "code",
      "metadata": {
        "colab": {
          "base_uri": "https://localhost:8080/"
        },
        "id": "barojCc1nIZw",
        "outputId": "1628ac5e-0aaa-4bc0-c9b5-989743e557a6"
      },
      "source": [
        "v = np.array([3, 4, -2])\n",
        "print(np.linalg.norm(v))"
      ],
      "execution_count": null,
      "outputs": [
        {
          "output_type": "stream",
          "text": [
            "5.385164807134504\n"
          ],
          "name": "stdout"
        }
      ]
    },
    {
      "cell_type": "code",
      "metadata": {
        "colab": {
          "base_uri": "https://localhost:8080/"
        },
        "id": "r1XLGSPvnIc9",
        "outputId": "f618a73c-deaf-4e8d-ddf6-f85fd3c3c42f"
      },
      "source": [
        "np.random.seed(42)\n",
        "A = np.random.randint(10, size=(100, 30))\n",
        " \n",
        "np.set_printoptions(edgeitems=10)\n",
        "print(A)"
      ],
      "execution_count": null,
      "outputs": [
        {
          "output_type": "stream",
          "text": [
            "[[6 3 7 4 6 9 2 6 7 4 ... 4 0 9 5 8 0 9 2 6 3]\n",
            " [8 2 4 2 6 4 8 6 1 3 ... 2 0 3 1 7 3 1 5 5 9]\n",
            " [3 5 1 9 1 9 3 7 6 8 ... 6 8 7 0 7 7 2 0 7 2]\n",
            " [2 0 4 9 6 9 8 6 8 7 ... 0 2 4 2 0 4 9 6 6 8]\n",
            " [9 9 2 6 0 3 3 4 6 6 ... 9 6 8 6 0 0 8 8 3 8]\n",
            " [2 6 5 7 8 4 0 2 9 7 ... 2 0 4 0 7 0 0 1 1 5]\n",
            " [6 4 0 0 2 1 4 9 5 6 ... 5 0 8 5 2 3 3 2 9 2]\n",
            " [2 3 6 3 8 0 7 6 1 7 ... 3 0 1 0 4 4 6 8 8 2]\n",
            " [2 2 3 7 5 7 0 7 3 0 ... 1 1 5 2 8 3 0 3 0 4]\n",
            " [3 7 7 6 2 0 0 2 5 6 ... 4 2 3 2 0 0 4 5 2 8]\n",
            " ...\n",
            " [6 4 8 2 0 3 8 3 1 9 ... 8 4 7 1 5 2 9 4 7 9]\n",
            " [0 4 2 3 1 8 2 1 9 8 ... 7 7 6 5 8 3 0 7 6 6]\n",
            " [2 3 9 8 5 4 2 8 4 4 ... 6 1 7 5 3 4 7 2 2 3]\n",
            " [0 8 7 7 9 5 6 5 8 2 ... 2 3 7 5 4 3 7 0 8 0]\n",
            " [7 3 8 4 2 8 8 3 3 7 ... 4 4 3 4 2 0 4 8 8 3]\n",
            " [2 0 1 7 0 7 6 7 5 8 ... 2 3 6 6 3 5 2 5 1 7]\n",
            " [1 6 8 0 7 6 5 5 5 8 ... 2 7 2 3 7 0 5 0 0 7]\n",
            " [3 0 9 6 4 4 0 9 5 8 ... 6 8 6 2 0 7 2 7 7 4]\n",
            " [0 9 6 9 4 7 8 6 6 0 ... 7 3 0 0 9 2 8 6 1 8]\n",
            " [9 1 2 9 1 2 5 8 8 6 ... 8 2 0 6 9 4 4 0 8 6]]\n"
          ],
          "name": "stdout"
        }
      ]
    },
    {
      "cell_type": "markdown",
      "metadata": {
        "id": "Hm5emp2Lnxoy"
      },
      "source": [
        "###61-70"
      ]
    },
    {
      "cell_type": "code",
      "metadata": {
        "colab": {
          "base_uri": "https://localhost:8080/"
        },
        "id": "oRHwnO9inIi3",
        "outputId": "d71b16f7-35a6-480b-efb0-8ed9bce923f2"
      },
      "source": [
        "A = np.array([[3, 4, 9, 2],\n",
        "        [5, 3, 2, 5]])\n",
        "B = np.array([[4, 3, 2, 5],\n",
        "        [6, 3, 1, 6]])\n",
        " \n",
        "print((A + B) / 2)"
      ],
      "execution_count": null,
      "outputs": [
        {
          "output_type": "stream",
          "text": [
            "[[3.5 3.5 5.5 3.5]\n",
            " [5.5 3.  1.5 5.5]]\n"
          ],
          "name": "stdout"
        }
      ]
    },
    {
      "cell_type": "code",
      "metadata": {
        "colab": {
          "base_uri": "https://localhost:8080/"
        },
        "id": "NQ9HgkjKnImI",
        "outputId": "1b75b1d0-e4e4-4558-9516-a04fd5e49d03"
      },
      "source": [
        "A = np.array([[3, 4, 9, 2],\n",
        "        [5, 3, 2, 5]])\n",
        "B = np.array([[4, 3, 2, 5],\n",
        "        [6, 3, 1, 6]])\n",
        " \n",
        "print(A * B)"
      ],
      "execution_count": null,
      "outputs": [
        {
          "output_type": "stream",
          "text": [
            "[[12 12 18 10]\n",
            " [30  9  2 30]]\n"
          ],
          "name": "stdout"
        }
      ]
    },
    {
      "cell_type": "code",
      "metadata": {
        "colab": {
          "base_uri": "https://localhost:8080/"
        },
        "id": "taIWaKEjn8Do",
        "outputId": "5a8ffda6-a53a-40e6-ca2a-b12f5cf61117"
      },
      "source": [
        "A = np.array([[3, 4, 9, 2],\n",
        "        [5, 3, 2, 5]])\n",
        " \n",
        "print(np.sqrt(A))"
      ],
      "execution_count": null,
      "outputs": [
        {
          "output_type": "stream",
          "text": [
            "[[1.73205081 2.         3.         1.41421356]\n",
            " [2.23606798 1.73205081 1.41421356 2.23606798]]\n"
          ],
          "name": "stdout"
        }
      ]
    },
    {
      "cell_type": "code",
      "metadata": {
        "colab": {
          "base_uri": "https://localhost:8080/"
        },
        "id": "VFCc93zAn8G1",
        "outputId": "3b5d444f-a16a-4ceb-8037-43f96bea334b"
      },
      "source": [
        "A = np.linspace(0, np.pi / 2, 20)\n",
        "B = np.full(shape=(20,), fill_value=1, dtype='float')\n",
        " \n",
        "print(np.allclose(np.sin(A) ** 2 + np.cos(A) ** 2, B))"
      ],
      "execution_count": null,
      "outputs": [
        {
          "output_type": "stream",
          "text": [
            "True\n"
          ],
          "name": "stdout"
        }
      ]
    },
    {
      "cell_type": "code",
      "metadata": {
        "colab": {
          "base_uri": "https://localhost:8080/"
        },
        "id": "03Bcuouhn8KR",
        "outputId": "1ee9b68e-98ec-4062-8bbf-f535966dab91"
      },
      "source": [
        "A = np.linspace(0, np.pi / 2, 20)\n",
        "B = np.full(shape=(20,), fill_value=1, dtype='float')\n",
        " \n",
        "print(np.allclose(np.power(np.sin(A), 2) + np.power(np.cos(A), 2), B))"
      ],
      "execution_count": null,
      "outputs": [
        {
          "output_type": "stream",
          "text": [
            "True\n"
          ],
          "name": "stdout"
        }
      ]
    },
    {
      "cell_type": "code",
      "metadata": {
        "colab": {
          "base_uri": "https://localhost:8080/"
        },
        "id": "zvd9Gdcan8NU",
        "outputId": "badd344e-f281-42b9-9268-a864b4b4c4bd"
      },
      "source": [
        "A = np.array([[2, 3],\n",
        "              [-4, 2],\n",
        "              [5, 0]])\n",
        "B = np.array([[4, 3, 2],\n",
        "              [-1, 0, 2]])\n",
        " \n",
        "print(np.dot(A, B))"
      ],
      "execution_count": null,
      "outputs": [
        {
          "output_type": "stream",
          "text": [
            "[[  5   6  10]\n",
            " [-18 -12  -4]\n",
            " [ 20  15  10]]\n"
          ],
          "name": "stdout"
        }
      ]
    },
    {
      "cell_type": "code",
      "metadata": {
        "colab": {
          "base_uri": "https://localhost:8080/"
        },
        "id": "5e51U3inn8QH",
        "outputId": "75b4482e-9629-4f60-932d-5ef7b728848c"
      },
      "source": [
        "A = np.array([[2, 3],\n",
        "              [-4, 2],\n",
        "              [5, 0]])\n",
        "B = np.array([[4, 3, 2],\n",
        "              [-1, 0, 2]])\n",
        " \n",
        "print(A.dot(B))"
      ],
      "execution_count": null,
      "outputs": [
        {
          "output_type": "stream",
          "text": [
            "[[  5   6  10]\n",
            " [-18 -12  -4]\n",
            " [ 20  15  10]]\n"
          ],
          "name": "stdout"
        }
      ]
    },
    {
      "cell_type": "code",
      "metadata": {
        "colab": {
          "base_uri": "https://localhost:8080/"
        },
        "id": "ghUJ-NUmoIVE",
        "outputId": "281e3272-c241-4532-c8be-74242c287a96"
      },
      "source": [
        "A = np.array([[-2, 0, 4],\n",
        "        [5, 2, -1],\n",
        "        [-4, 2, 4]])\n",
        " \n",
        "print(np.linalg.det(A))"
      ],
      "execution_count": null,
      "outputs": [
        {
          "output_type": "stream",
          "text": [
            "51.999999999999986\n"
          ],
          "name": "stdout"
        }
      ]
    },
    {
      "cell_type": "code",
      "metadata": {
        "colab": {
          "base_uri": "https://localhost:8080/"
        },
        "id": "7fiXmecnoIYF",
        "outputId": "8f8d2d27-896c-444c-e26f-caa466eb1742"
      },
      "source": [
        "A = np.array([[5, 8, 16],\n",
        "        [4, 1, 8],\n",
        "        [-4, 4, -11]])\n",
        " \n",
        "eigenvalues, eigenvectors = np.linalg.eig(A)\n",
        "print(eigenvalues)\n",
        "print(eigenvectors)"
      ],
      "execution_count": null,
      "outputs": [
        {
          "output_type": "stream",
          "text": [
            "[-9.24621125 -3.          7.24621125]\n",
            "[[-0.62616472 -0.89442719  0.89015941]\n",
            " [-0.31308236  0.          0.4450797 ]\n",
            " [ 0.71407086  0.4472136  -0.09757197]]\n"
          ],
          "name": "stdout"
        }
      ]
    },
    {
      "cell_type": "code",
      "metadata": {
        "colab": {
          "base_uri": "https://localhost:8080/"
        },
        "id": "hmVM7hpeoIbb",
        "outputId": "aac41447-894b-4645-f0b8-2f9fe2d75158"
      },
      "source": [
        "A = np.array([[5, 8, 16],\n",
        "        [4, 1, 8],\n",
        "        [-4, 4, -11]])\n",
        " \n",
        "print(np.linalg.inv(A))"
      ],
      "execution_count": null,
      "outputs": [
        {
          "output_type": "stream",
          "text": [
            "[[-0.21393035  0.75621891  0.23880597]\n",
            " [ 0.05970149  0.04477612  0.11940299]\n",
            " [ 0.09950249 -0.25870647 -0.13432836]]\n"
          ],
          "name": "stdout"
        }
      ]
    },
    {
      "cell_type": "code",
      "metadata": {
        "colab": {
          "base_uri": "https://localhost:8080/"
        },
        "id": "ObwUjSzcoqaS",
        "outputId": "0dc18a5e-9a32-4dde-e403-368600ed074e"
      },
      "source": [
        "A = np.array([[5, 8, 16],\n",
        "        [4, 1, 8],\n",
        "        [-4, 4, -11]])\n",
        " \n",
        "print(np.trace(A))"
      ],
      "execution_count": null,
      "outputs": [
        {
          "output_type": "stream",
          "text": [
            "-5\n"
          ],
          "name": "stdout"
        }
      ]
    },
    {
      "cell_type": "code",
      "metadata": {
        "colab": {
          "base_uri": "https://localhost:8080/"
        },
        "id": "wbtvdz57oqeY",
        "outputId": "75598889-4988-40ef-8117-bcc1d72a1498"
      },
      "source": [
        "A = np.array([[2, 0],\n",
        "        [4, 2],\n",
        "        [5, 3],\n",
        "        [4, 2]])\n",
        "B = np.array([[4, 0, 2, 1, 1, 0, 2, 9]])\n",
        "print(np.dot(A, B.reshape(2, -1)))"
      ],
      "execution_count": null,
      "outputs": [
        {
          "output_type": "stream",
          "text": [
            "[[ 8  0  4  2]\n",
            " [18  0 12 22]\n",
            " [23  0 16 32]\n",
            " [18  0 12 22]]\n"
          ],
          "name": "stdout"
        }
      ]
    },
    {
      "cell_type": "markdown",
      "metadata": {
        "id": "5r3owXfoo4Sa"
      },
      "source": [
        "###71-80\n"
      ]
    },
    {
      "cell_type": "code",
      "metadata": {
        "colab": {
          "base_uri": "https://localhost:8080/"
        },
        "id": "N3Cmi5fXo4G7",
        "outputId": "5b0a3422-f9d8-4da5-e1bd-860d36096351"
      },
      "source": [
        "np.random.seed(42)\n",
        " \n",
        "A = np.array([['id', 'price'],\n",
        "        ['001', 14.99],\n",
        "        ['002', 4.99],\n",
        "        ['003', 7.99],\n",
        "        ['004', 2.49],\n",
        "        ['005', 1.49]])\n",
        " \n",
        "np.random.shuffle(A[1:])\n",
        "print(A)"
      ],
      "execution_count": null,
      "outputs": [
        {
          "output_type": "stream",
          "text": [
            "[['id' 'price']\n",
            " ['002' '4.99']\n",
            " ['005' '1.49']\n",
            " ['003' '7.99']\n",
            " ['001' '14.99']\n",
            " ['004' '2.49']]\n"
          ],
          "name": "stdout"
        }
      ]
    },
    {
      "cell_type": "code",
      "metadata": {
        "colab": {
          "base_uri": "https://localhost:8080/"
        },
        "id": "vdHv5yg9oqkN",
        "outputId": "2fde7e06-6950-4d0b-d907-97048e499c58"
      },
      "source": [
        "A = np.array([0.2, 0.15, 0.1, 0.3, 0.2, 0.05])\n",
        " \n",
        "print(np.argsort(A))"
      ],
      "execution_count": null,
      "outputs": [
        {
          "output_type": "stream",
          "text": [
            "[5 2 1 0 4 3]\n"
          ],
          "name": "stdout"
        }
      ]
    },
    {
      "cell_type": "code",
      "metadata": {
        "colab": {
          "base_uri": "https://localhost:8080/"
        },
        "id": "8K5LrnTmoqpG",
        "outputId": "493bc1ab-56bf-486c-a659-0c82684da87c"
      },
      "source": [
        "np.random.seed(42)\n",
        "A = np.random.randn(10, 8)\n",
        " \n",
        "print(np.round(A, decimals=3))"
      ],
      "execution_count": null,
      "outputs": [
        {
          "output_type": "stream",
          "text": [
            "[[ 0.497 -0.138  0.648  1.523 -0.234 -0.234  1.579  0.767]\n",
            " [-0.469  0.543 -0.463 -0.466  0.242 -1.913 -1.725 -0.562]\n",
            " [-1.013  0.314 -0.908 -1.412  1.466 -0.226  0.068 -1.425]\n",
            " [-0.544  0.111 -1.151  0.376 -0.601 -0.292 -0.602  1.852]\n",
            " [-0.013 -1.058  0.823 -1.221  0.209 -1.96  -1.328  0.197]\n",
            " [ 0.738  0.171 -0.116 -0.301 -1.479 -0.72  -0.461  1.057]\n",
            " [ 0.344 -1.763  0.324 -0.385 -0.677  0.612  1.031  0.931]\n",
            " [-0.839 -0.309  0.331  0.976 -0.479 -0.186 -1.106 -1.196]\n",
            " [ 0.813  1.356 -0.072  1.004  0.362 -0.645  0.361  1.538]\n",
            " [-0.036  1.565 -2.62   0.822  0.087 -0.299  0.092 -1.988]]\n"
          ],
          "name": "stdout"
        }
      ]
    },
    {
      "cell_type": "code",
      "metadata": {
        "colab": {
          "base_uri": "https://localhost:8080/"
        },
        "id": "ZMUXPpS6oIeq",
        "outputId": "147f4ad5-500a-42a5-b560-230b7e5cc373"
      },
      "source": [
        "W = np.array([4, 5, 1])\n",
        "print(np.roots(W))"
      ],
      "execution_count": null,
      "outputs": [
        {
          "output_type": "stream",
          "text": [
            "[-1.   -0.25]\n"
          ],
          "name": "stdout"
        }
      ]
    },
    {
      "cell_type": "code",
      "metadata": {
        "colab": {
          "base_uri": "https://localhost:8080/"
        },
        "id": "GN9q_H2ooIh3",
        "outputId": "4d7d6250-973a-4101-92ce-d4c974dd70ae"
      },
      "source": [
        "Q = np.array([2, 4, -5, 1])\n",
        "R = np.array([2, 0, -5, 1])\n",
        " \n",
        "print(np.roots(Q))\n",
        "print(np.roots(R))"
      ],
      "execution_count": null,
      "outputs": [
        {
          "output_type": "stream",
          "text": [
            "[-2.91610583  0.65388685  0.26221898]\n",
            "[-1.67298165  1.46961743  0.20336421]\n"
          ],
          "name": "stdout"
        }
      ]
    },
    {
      "cell_type": "code",
      "metadata": {
        "colab": {
          "base_uri": "https://localhost:8080/"
        },
        "id": "0ejBeTxzoIkm",
        "outputId": "6550eba9-be1d-4a60-b8cd-02878775f984"
      },
      "source": [
        "W = np.array([4, 5, 1])\n",
        "Q = np.array([2, 4, -5, 1])\n",
        " \n",
        "print(np.polyadd(W, Q))\n",
        "print(np.polysub(W, Q))\n",
        "print(np.polymul(W, Q))\n",
        "print(np.polyadd(W, 2 * Q))"
      ],
      "execution_count": null,
      "outputs": [
        {
          "output_type": "stream",
          "text": [
            "[2 8 0 2]\n",
            "[-2  0 10  0]\n",
            "[  8  26   2 -17   0   1]\n",
            "[ 4 12 -5  3]\n"
          ],
          "name": "stdout"
        }
      ]
    },
    {
      "cell_type": "code",
      "metadata": {
        "colab": {
          "base_uri": "https://localhost:8080/"
        },
        "id": "iEuRwk5HoItm",
        "outputId": "95220164-fc00-4632-975f-b5f131bbe00c"
      },
      "source": [
        "A = np.array([[-4, 3, 0, 1, -5],\n",
        "        [6, -4, -2, 1, 3]])\n",
        " \n",
        "print(np.sign(A))"
      ],
      "execution_count": null,
      "outputs": [
        {
          "output_type": "stream",
          "text": [
            "[[-1  1  0  1 -1]\n",
            " [ 1 -1 -1  1  1]]\n"
          ],
          "name": "stdout"
        }
      ]
    },
    {
      "cell_type": "code",
      "metadata": {
        "colab": {
          "base_uri": "https://localhost:8080/"
        },
        "id": "LKrrqxcuqqb3",
        "outputId": "30f48e07-c36f-451f-db35-3abcfc955bb0"
      },
      "source": [
        "A = np.array([[-4, 3, 0, 1, -5],\n",
        "       [6, -4, -2, 1, 3]])\n",
        " \n",
        "print(np.sign(A))"
      ],
      "execution_count": null,
      "outputs": [
        {
          "output_type": "stream",
          "text": [
            "[[-1  1  0  1 -1]\n",
            " [ 1 -1 -1  1  1]]\n"
          ],
          "name": "stdout"
        }
      ]
    },
    {
      "cell_type": "markdown",
      "metadata": {
        "id": "0L6ml65Kq4Qh"
      },
      "source": [
        "####日期"
      ]
    },
    {
      "cell_type": "code",
      "metadata": {
        "colab": {
          "base_uri": "https://localhost:8080/"
        },
        "id": "FYnfboN7qqfc",
        "outputId": "f406efb5-ede8-4243-cf5d-f0053622a807"
      },
      "source": [
        "print(np.arange('2021-01-01', '2021-02-01', dtype='datetime64[D]'))"
      ],
      "execution_count": null,
      "outputs": [
        {
          "output_type": "stream",
          "text": [
            "['2021-01-01' '2021-01-02' '2021-01-03' '2021-01-04' '2021-01-05'\n",
            " '2021-01-06' '2021-01-07' '2021-01-08' '2021-01-09' '2021-01-10'\n",
            " '2021-01-11' '2021-01-12' '2021-01-13' '2021-01-14' '2021-01-15'\n",
            " '2021-01-16' '2021-01-17' '2021-01-18' '2021-01-19' '2021-01-20'\n",
            " '2021-01-21' '2021-01-22' '2021-01-23' '2021-01-24' '2021-01-25'\n",
            " '2021-01-26' '2021-01-27' '2021-01-28' '2021-01-29' '2021-01-30'\n",
            " '2021-01-31']\n"
          ],
          "name": "stdout"
        }
      ]
    },
    {
      "cell_type": "code",
      "metadata": {
        "colab": {
          "base_uri": "https://localhost:8080/"
        },
        "id": "TNqJi0zWqqjz",
        "outputId": "816abbd2-d1f0-433f-9237-2afd07994501"
      },
      "source": [
        "A = np.arange('2021-01', '2022-01', dtype='datetime64[M]')\n",
        "A = A.reshape(-1, 3)\n",
        "print(A)"
      ],
      "execution_count": null,
      "outputs": [
        {
          "output_type": "stream",
          "text": [
            "[['2021-01' '2021-02' '2021-03']\n",
            " ['2021-04' '2021-05' '2021-06']\n",
            " ['2021-07' '2021-08' '2021-09']\n",
            " ['2021-10' '2021-11' '2021-12']]\n"
          ],
          "name": "stdout"
        }
      ]
    },
    {
      "cell_type": "code",
      "metadata": {
        "colab": {
          "base_uri": "https://localhost:8080/"
        },
        "id": "NJO4QSDXqqnJ",
        "outputId": "abd668d7-5a79-47e4-bd97-6feed2a09dac"
      },
      "source": [
        "print(np.datetime64('today'))"
      ],
      "execution_count": null,
      "outputs": [
        {
          "output_type": "stream",
          "text": [
            "2021-04-18\n"
          ],
          "name": "stdout"
        }
      ]
    },
    {
      "cell_type": "markdown",
      "metadata": {
        "id": "08weU6KRrF0u"
      },
      "source": [
        "###81-90"
      ]
    },
    {
      "cell_type": "code",
      "metadata": {
        "colab": {
          "base_uri": "https://localhost:8080/"
        },
        "id": "fRjJLMchqqqP",
        "outputId": "5b819752-3022-4599-eaad-14dc4a081aec"
      },
      "source": [
        "print(np.arange('2020-01-06', '2020-03', dtype='datetime64[D]')[::7])"
      ],
      "execution_count": null,
      "outputs": [
        {
          "output_type": "stream",
          "text": [
            "['2020-01-06' '2020-01-13' '2020-01-20' '2020-01-27' '2020-02-03'\n",
            " '2020-02-10' '2020-02-17' '2020-02-24']\n"
          ],
          "name": "stdout"
        }
      ]
    },
    {
      "cell_type": "code",
      "metadata": {
        "colab": {
          "base_uri": "https://localhost:8080/"
        },
        "id": "HsivgF38qqyq",
        "outputId": "3977e846-5b1a-470a-cebc-dc855e55691b"
      },
      "source": [
        "A = np.array(['001', '002', '003'], dtype=np.str)\n",
        "B = np.array(['XC', 'YC', 'ZC'], dtype=np.str)\n",
        " \n",
        "print(np.char.add(A, B))"
      ],
      "execution_count": null,
      "outputs": [
        {
          "output_type": "stream",
          "text": [
            "['001XC' '002YC' '003ZC']\n"
          ],
          "name": "stdout"
        }
      ]
    },
    {
      "cell_type": "code",
      "metadata": {
        "colab": {
          "base_uri": "https://localhost:8080/"
        },
        "id": "8_f5NJNrrTc-",
        "outputId": "e9750ae9-bd60-41cc-e02b-6214ff994639"
      },
      "source": [
        "A = np.array(['1', '2', '3'], dtype=np.str)\n",
        " \n",
        "print(np.char.add('000', A))"
      ],
      "execution_count": null,
      "outputs": [
        {
          "output_type": "stream",
          "text": [
            "['0001' '0002' '0003']\n"
          ],
          "name": "stdout"
        }
      ]
    },
    {
      "cell_type": "code",
      "metadata": {
        "colab": {
          "base_uri": "https://localhost:8080/"
        },
        "id": "aTXhp4MwrThV",
        "outputId": "b35fc9c6-3ac0-4d34-f932-480ca7aaa47c"
      },
      "source": [
        "A = np.array(['1', '2', '3'], dtype=np.str)\n",
        " \n",
        "print(np.char.rjust(A, 4, fillchar='0'))"
      ],
      "execution_count": null,
      "outputs": [
        {
          "output_type": "stream",
          "text": [
            "['0001' '0002' '0003']\n"
          ],
          "name": "stdout"
        }
      ]
    },
    {
      "cell_type": "code",
      "metadata": {
        "colab": {
          "base_uri": "https://localhost:8080/"
        },
        "id": "vd4Ni09brTlG",
        "outputId": "ddfd7200-bc90-45bb-9431-b66fa325cad7"
      },
      "source": [
        "A = np.array(['1', '2', '3'], dtype=np.str)\n",
        " \n",
        "print(np.char.zfill(A, 4))"
      ],
      "execution_count": null,
      "outputs": [
        {
          "output_type": "stream",
          "text": [
            "['0001' '0002' '0003']\n"
          ],
          "name": "stdout"
        }
      ]
    },
    {
      "cell_type": "code",
      "metadata": {
        "colab": {
          "base_uri": "https://localhost:8080/"
        },
        "id": "yzmhOxgaraCk",
        "outputId": "f249c8df-3d68-4a5e-93da-66238413c3ef"
      },
      "source": [
        "A = np.array([['PLW CDR 11B TEN', 'AMC LPP'],\n",
        "        ['CDR PKO KGH', 'CCC QMK']], dtype=np.str)\n",
        " \n",
        "print(np.char.split(A))"
      ],
      "execution_count": null,
      "outputs": [
        {
          "output_type": "stream",
          "text": [
            "[[list(['PLW', 'CDR', '11B', 'TEN']) list(['AMC', 'LPP'])]\n",
            " [list(['CDR', 'PKO', 'KGH']) list(['CCC', 'QMK'])]]\n"
          ],
          "name": "stdout"
        }
      ]
    },
    {
      "cell_type": "code",
      "metadata": {
        "colab": {
          "base_uri": "https://localhost:8080/"
        },
        "id": "ar-xN4g_raKE",
        "outputId": "d761d893-9009-4d2b-cc21-80dbdadbed35"
      },
      "source": [
        "A = np.array([['#summer#time#mood'],\n",
        "        ['#sport#time']])\n",
        " \n",
        "print(np.char.strip(np.char.replace(A, '#', ' ')))"
      ],
      "execution_count": null,
      "outputs": [
        {
          "output_type": "stream",
          "text": [
            "[['summer time mood']\n",
            " ['sport time']]\n"
          ],
          "name": "stdout"
        }
      ]
    },
    {
      "cell_type": "code",
      "metadata": {
        "colab": {
          "base_uri": "https://localhost:8080/"
        },
        "id": "l5o5m-sFraNl",
        "outputId": "11e0878b-2216-4a9c-9aef-eb8f2deb4bfa"
      },
      "source": [
        "A = np.array([['#summer#time#mood', '#vibe'],\n",
        "        ['#sport#time', '#good#time'],\n",
        "        ['#event#summer', '#fast#move']])\n",
        " \n",
        "print(np.char.count(A, 'time'))"
      ],
      "execution_count": null,
      "outputs": [
        {
          "output_type": "stream",
          "text": [
            "[[1 0]\n",
            " [1 1]\n",
            " [0 0]]\n"
          ],
          "name": "stdout"
        }
      ]
    },
    {
      "cell_type": "markdown",
      "metadata": {
        "id": "nQGyugoyrs1h"
      },
      "source": [
        "####文本分析"
      ]
    },
    {
      "cell_type": "code",
      "metadata": {
        "colab": {
          "base_uri": "https://localhost:8080/"
        },
        "id": "p1vELQItraSn",
        "outputId": "427c9adb-78c1-45b7-fc51-5d0d70aa156c"
      },
      "source": [
        "text = \"\"\"ALIOR\tPLALIOR00045\t88 860 000\t1 386 216 000\t0,891\t2,16\t14\n",
        "CCC\tPLCCC0000016\t27 918 000\t1 292 603 400\t0,831\t5,28\t42\n",
        "CDPROJEKT\tPLOPTTC00011\t67 348 000\t22 864 646 000\t14,702\t7,39\t7\n",
        "CYFRPLSAT\tPLCFRPT00013\t275 301 000\t6 854 994 900\t4,408\t1,17\t14\n",
        "DINOPL\tPLDINPL00011\t47 937 000\t8 916 282 000\t5,733\t9,13\t12\n",
        "JSW\tPLJSW0000015\t52 636 000\t716 902 320\t0,461\t1,51\t24\n",
        "KGHM\tPLKGHM000017\t136 410 000\t9 881 540 400\t6,354\t4,78\t8\n",
        "LOTOS\tPLLOTOS00025\t86 543 000\t5 609 717 260\t3,607\t2,91\t16\n",
        "LPP\tPLLPP0000011\t1 306 000\t7 444 200 000\t4,787\t1,43\t19\n",
        "MBANK\tPLBRE0000012\t12 997 000\t2 830 746 600\t1,820\t0,42\t24\n",
        "ORANGEPL\tPLTLKPL00017\t647 357 000\t4 285 503 340\t2,756\t1,16\t13\n",
        "PEKAO\tPLPEKAO00016\t176 379 000\t9 619 710 660\t6,185\t5,27\t9\n",
        "PGE\tPLPGER000010\t796 776 000\t3 561 588 720\t2,290\t2,88\t18\n",
        "PGNIG\tPLPGNIG00014\t1 624 608 000\t6 072 784 704\t3,905\t1,56\t12\n",
        "PKNORLEN\tPLPKN0000018\t289 049 000\t17 701 360 760\t11,382\t12,44\t8\n",
        "PKOBP\tPLPKO0000016\t857 593 000\t18 807 014 490\t12,093\t10,49\t9\n",
        "PLAY\tLU1642887738\t114 151 000\t3 696 209 380\t2,377\t1,47\t16\n",
        "PZU\tPLPZU0000011\t568 305 000\t17 515 160 100\t11,262\t6,64\t6\n",
        "SANPL\tPLBZ00000044\t33 207 000\t5 213 499 000\t3,352\t1,91\t18\n",
        "TAURONPE\tPLTAURN00011\t1 043 590 000\t1 252 308 000\t0,805\t1,21\t33\"\"\"\n",
        " \n",
        "lines = text.splitlines()\n",
        "lines = [line.split('\\t') for line in lines]\n",
        "result = np.array(lines, dtype=np.str)\n",
        "print(result)"
      ],
      "execution_count": null,
      "outputs": [
        {
          "output_type": "stream",
          "text": [
            "[['ALIOR' 'PLALIOR00045' '88 860 000' '1 386 216 000' '0,891' '2,16' '14']\n",
            " ['CCC' 'PLCCC0000016' '27 918 000' '1 292 603 400' '0,831' '5,28' '42']\n",
            " ['CDPROJEKT' 'PLOPTTC00011' '67 348 000' '22 864 646 000' '14,702'\n",
            "  '7,39' '7']\n",
            " ['CYFRPLSAT' 'PLCFRPT00013' '275 301 000' '6 854 994 900' '4,408' '1,17'\n",
            "  '14']\n",
            " ['DINOPL' 'PLDINPL00011' '47 937 000' '8 916 282 000' '5,733' '9,13'\n",
            "  '12']\n",
            " ['JSW' 'PLJSW0000015' '52 636 000' '716 902 320' '0,461' '1,51' '24']\n",
            " ['KGHM' 'PLKGHM000017' '136 410 000' '9 881 540 400' '6,354' '4,78' '8']\n",
            " ['LOTOS' 'PLLOTOS00025' '86 543 000' '5 609 717 260' '3,607' '2,91' '16']\n",
            " ['LPP' 'PLLPP0000011' '1 306 000' '7 444 200 000' '4,787' '1,43' '19']\n",
            " ['MBANK' 'PLBRE0000012' '12 997 000' '2 830 746 600' '1,820' '0,42' '24']\n",
            " ['ORANGEPL' 'PLTLKPL00017' '647 357 000' '4 285 503 340' '2,756' '1,16'\n",
            "  '13']\n",
            " ['PEKAO' 'PLPEKAO00016' '176 379 000' '9 619 710 660' '6,185' '5,27' '9']\n",
            " ['PGE' 'PLPGER000010' '796 776 000' '3 561 588 720' '2,290' '2,88' '18']\n",
            " ['PGNIG' 'PLPGNIG00014' '1 624 608 000' '6 072 784 704' '3,905' '1,56'\n",
            "  '12']\n",
            " ['PKNORLEN' 'PLPKN0000018' '289 049 000' '17 701 360 760' '11,382'\n",
            "  '12,44' '8']\n",
            " ['PKOBP' 'PLPKO0000016' '857 593 000' '18 807 014 490' '12,093' '10,49'\n",
            "  '9']\n",
            " ['PLAY' 'LU1642887738' '114 151 000' '3 696 209 380' '2,377' '1,47' '16']\n",
            " ['PZU' 'PLPZU0000011' '568 305 000' '17 515 160 100' '11,262' '6,64' '6']\n",
            " ['SANPL' 'PLBZ00000044' '33 207 000' '5 213 499 000' '3,352' '1,91' '18']\n",
            " ['TAURONPE' 'PLTAURN00011' '1 043 590 000' '1 252 308 000' '0,805'\n",
            "  '1,21' '33']]\n"
          ],
          "name": "stdout"
        }
      ]
    },
    {
      "cell_type": "code",
      "metadata": {
        "colab": {
          "base_uri": "https://localhost:8080/"
        },
        "id": "hhgwQCa_rmdF",
        "outputId": "ade2c023-9f3c-42f9-fcb3-ed9efd64d428"
      },
      "source": [
        "np.set_printoptions(linewidth=150)\n",
        "result = np.array([['ALIOR', 'PLALIOR00045', '88 860 000', '1 386 216 000', '0,891', '2,16', '14'],\n",
        "       ['CCC', 'PLCCC0000016', '27 918 000', '1 292 603 400', '0,831', '5,28', '42'],\n",
        "       ['CDPROJEKT', 'PLOPTTC00011', '67 348 000', '22 864 646 000', '14,702', '7,39', '7'],\n",
        "       ['CYFRPLSAT', 'PLCFRPT00013', '275 301 000', '6 854 994 900', '4,408', '1,17', '14'],\n",
        "       ['DINOPL', 'PLDINPL00011', '47 937 000', '8 916 282 000', '5,733', '9,13', '12'],\n",
        "       ['JSW', 'PLJSW0000015', '52 636 000', '716 902 320', '0,461', '1,51', '24'],\n",
        "       ['KGHM', 'PLKGHM000017', '136 410 000', '9 881 540 400', '6,354', '4,78', '8'],\n",
        "       ['LOTOS', 'PLLOTOS00025', '86 543 000', '5 609 717 260', '3,607', '2,91', '16'],\n",
        "       ['LPP', 'PLLPP0000011', '1 306 000', '7 444 200 000', '4,787', '1,43', '19'],\n",
        "       ['MBANK', 'PLBRE0000012', '12 997 000', '2 830 746 600', '1,820', '0,42', '24'],\n",
        "       ['ORANGEPL', 'PLTLKPL00017', '647 357 000', '4 285 503 340', '2,756', '1,16', '13'],\n",
        "       ['PEKAO', 'PLPEKAO00016', '176 379 000', '9 619 710 660', '6,185', '5,27', '9'],\n",
        "       ['PGE', 'PLPGER000010', '796 776 000', '3 561 588 720', '2,290', '2,88', '18'],\n",
        "       ['PGNIG', 'PLPGNIG00014', '1 624 608 000', '6 072 784 704', '3,905', '1,56', '12'],\n",
        "       ['PKNORLEN', 'PLPKN0000018', '289 049 000', '17 701 360 760', '11,382', '12,44', '8'],\n",
        "       ['PKOBP', 'PLPKO0000016', '857 593 000', '18 807 014 490', '12,093', '10,49', '9'],\n",
        "       ['PLAY', 'LU1642887738', '114 151 000', '3 696 209 380', '2,377', '1,47', '16'],\n",
        "       ['PZU', 'PLPZU0000011', '568 305 000', '17 515 160 100', '11,262', '6,64', '6'],\n",
        "       ['SANPL', 'PLBZ00000044', '33 207 000', '5 213 499 000', '3,352', '1,91', '18'],\n",
        "       ['TAURONPE', 'PLTAURN00011', '1 043 590 000', '1 252 308 000', '0,805', '1,21', '33']], dtype='<U14')\n",
        " \n",
        "result = np.char.replace(result, ' ', '')\n",
        "result = np.char.replace(result, ',', '.')\n",
        "print(result)"
      ],
      "execution_count": null,
      "outputs": [
        {
          "output_type": "stream",
          "text": [
            "[['ALIOR' 'PLALIOR00045' '88860000' '1386216000' '0.891' '2.16' '14']\n",
            " ['CCC' 'PLCCC0000016' '27918000' '1292603400' '0.831' '5.28' '42']\n",
            " ['CDPROJEKT' 'PLOPTTC00011' '67348000' '22864646000' '14.702' '7.39' '7']\n",
            " ['CYFRPLSAT' 'PLCFRPT00013' '275301000' '6854994900' '4.408' '1.17' '14']\n",
            " ['DINOPL' 'PLDINPL00011' '47937000' '8916282000' '5.733' '9.13' '12']\n",
            " ['JSW' 'PLJSW0000015' '52636000' '716902320' '0.461' '1.51' '24']\n",
            " ['KGHM' 'PLKGHM000017' '136410000' '9881540400' '6.354' '4.78' '8']\n",
            " ['LOTOS' 'PLLOTOS00025' '86543000' '5609717260' '3.607' '2.91' '16']\n",
            " ['LPP' 'PLLPP0000011' '1306000' '7444200000' '4.787' '1.43' '19']\n",
            " ['MBANK' 'PLBRE0000012' '12997000' '2830746600' '1.820' '0.42' '24']\n",
            " ['ORANGEPL' 'PLTLKPL00017' '647357000' '4285503340' '2.756' '1.16' '13']\n",
            " ['PEKAO' 'PLPEKAO00016' '176379000' '9619710660' '6.185' '5.27' '9']\n",
            " ['PGE' 'PLPGER000010' '796776000' '3561588720' '2.290' '2.88' '18']\n",
            " ['PGNIG' 'PLPGNIG00014' '1624608000' '6072784704' '3.905' '1.56' '12']\n",
            " ['PKNORLEN' 'PLPKN0000018' '289049000' '17701360760' '11.382' '12.44' '8']\n",
            " ['PKOBP' 'PLPKO0000016' '857593000' '18807014490' '12.093' '10.49' '9']\n",
            " ['PLAY' 'LU1642887738' '114151000' '3696209380' '2.377' '1.47' '16']\n",
            " ['PZU' 'PLPZU0000011' '568305000' '17515160100' '11.262' '6.64' '6']\n",
            " ['SANPL' 'PLBZ00000044' '33207000' '5213499000' '3.352' '1.91' '18']\n",
            " ['TAURONPE' 'PLTAURN00011' '1043590000' '1252308000' '0.805' '1.21' '33']]\n"
          ],
          "name": "stdout"
        }
      ]
    },
    {
      "cell_type": "code",
      "metadata": {
        "colab": {
          "base_uri": "https://localhost:8080/"
        },
        "id": "uoP8OsKFrmhR",
        "outputId": "e34118fe-78dd-4ffa-92cd-7d1e5b50fada"
      },
      "source": [
        "np.set_printoptions(linewidth=150)\n",
        "result = np.array([['ALIOR', 'PLALIOR00045', '88860000', '1386216000', '0.891', '2.16', '14'],\n",
        "       ['CCC', 'PLCCC0000016', '27918000', '1292603400', '0.831', '5.28', '42'],\n",
        "       ['CDPROJEKT', 'PLOPTTC00011', '67348000', '22864646000', '14.702', '7.39', '7'],\n",
        "       ['CYFRPLSAT', 'PLCFRPT00013', '275301000', '6854994900', '4.408', '1.17', '14'],\n",
        "       ['DINOPL', 'PLDINPL00011', '47937000', '8916282000', '5.733', '9.13', '12'],\n",
        "       ['JSW', 'PLJSW0000015', '52636000', '716902320', '0.461', '1.51', '24'],\n",
        "       ['KGHM', 'PLKGHM000017', '136410000', '9881540400', '6.354', '4.78', '8'],\n",
        "       ['LOTOS', 'PLLOTOS00025', '86543000', '5609717260', '3.607', '2.91', '16'],\n",
        "       ['LPP', 'PLLPP0000011', '1306000', '7444200000', '4.787', '1.43', '19'],\n",
        "       ['MBANK', 'PLBRE0000012', '12997000', '2830746600', '1.820', '0.42', '24'],\n",
        "       ['ORANGEPL', 'PLTLKPL00017', '647357000', '4285503340', '2.756', '1.16', '13'],\n",
        "       ['PEKAO', 'PLPEKAO00016', '176379000', '9619710660', '6.185', '5.27', '9'],\n",
        "       ['PGE', 'PLPGER000010', '796776000', '3561588720', '2.290', '2.88', '18'],\n",
        "       ['PGNIG', 'PLPGNIG00014', '1624608000', '6072784704', '3.905', '1.56', '12'],\n",
        "       ['PKNORLEN', 'PLPKN0000018', '289049000', '17701360760', '11.382', '12.44', '8'],\n",
        "       ['PKOBP', 'PLPKO0000016', '857593000', '18807014490', '12.093', '10.49', '9'],\n",
        "       ['PLAY', 'LU1642887738', '114151000', '3696209380', '2.377', '1.47', '16'],\n",
        "       ['PZU', 'PLPZU0000011', '568305000', '17515160100', '11.262', '6.64', '6'],\n",
        "       ['SANPL', 'PLBZ00000044', '33207000', '5213499000', '3.352', '1.91', '18'],\n",
        "       ['TAURONPE', 'PLTAURN00011', '1043590000', '1252308000', '0.805', '1.21', '33']], dtype='<U12')\n",
        " \n",
        "stocks_startswith_P = result[np.char.startswith(result[:, 0], 'P')]\n",
        "print(stocks_startswith_P)"
      ],
      "execution_count": null,
      "outputs": [
        {
          "output_type": "stream",
          "text": [
            "[['PEKAO' 'PLPEKAO00016' '176379000' '9619710660' '6.185' '5.27' '9']\n",
            " ['PGE' 'PLPGER000010' '796776000' '3561588720' '2.290' '2.88' '18']\n",
            " ['PGNIG' 'PLPGNIG00014' '1624608000' '6072784704' '3.905' '1.56' '12']\n",
            " ['PKNORLEN' 'PLPKN0000018' '289049000' '17701360760' '11.382' '12.44' '8']\n",
            " ['PKOBP' 'PLPKO0000016' '857593000' '18807014490' '12.093' '10.49' '9']\n",
            " ['PLAY' 'LU1642887738' '114151000' '3696209380' '2.377' '1.47' '16']\n",
            " ['PZU' 'PLPZU0000011' '568305000' '17515160100' '11.262' '6.64' '6']]\n"
          ],
          "name": "stdout"
        }
      ]
    },
    {
      "cell_type": "code",
      "metadata": {
        "colab": {
          "base_uri": "https://localhost:8080/"
        },
        "id": "ukpDzoT9rmlg",
        "outputId": "76fdbaf9-1a44-4baf-e69c-66525bf5ee6c"
      },
      "source": [
        "np.set_printoptions(linewidth=150)\n",
        "stocks_startswith_P = np.array([['PEKAO', 'PLPEKAO00016', '176379000', '9619710660', '6.185', '5.27', '9'],\n",
        "                ['PGE', 'PLPGER000010', '796776000', '3561588720', '2.290', '2.88', '18'],\n",
        "                ['PGNIG', 'PLPGNIG00014', '1624608000', '6072784704', '3.905', '1.56', '12'],\n",
        "                ['PKNORLEN', 'PLPKN0000018', '289049000', '17701360760', '11.382', '12.44', '8'],\n",
        "                ['PKOBP', 'PLPKO0000016', '857593000', '18807014490', '12.093', '10.49', '9'],\n",
        "                ['PLAY', 'LU1642887738', '114151000', '3696209380', '2.377', '1.47', '16'],\n",
        "                ['PZU', 'PLPZU0000011', '568305000', '17515160100', '11.262', '6.64', '6']], dtype='<U12')\n",
        " \n",
        "print(np.round(stocks_startswith_P[:, 4].astype(float).sum(), 2))"
      ],
      "execution_count": null,
      "outputs": [
        {
          "output_type": "stream",
          "text": [
            "49.49\n"
          ],
          "name": "stdout"
        }
      ]
    },
    {
      "cell_type": "markdown",
      "metadata": {
        "id": "zRqXxbZLsZgL"
      },
      "source": [
        "###91-100"
      ]
    },
    {
      "cell_type": "code",
      "metadata": {
        "colab": {
          "base_uri": "https://localhost:8080/"
        },
        "id": "tbWuYZz8raZg",
        "outputId": "8d48a5c4-6e11-468e-c7f7-6188d639105b"
      },
      "source": [
        "np.set_printoptions(linewidth=160, suppress=True)\n",
        " \n",
        "wig_games_raw = \"\"\"Profile\tTime\tCourse\tChange\tChange%\tRef.\tOpen\tLow\tHigh\tVolume\tTurn\tShare\n",
        "11B (11BIT)\t17 kwi 17:01\t391.00\t+8.00\t(+2.09%)\t383.00\t383.50\t383.00\t394.00\t12 784\t4 994 874\t19.034%\n",
        "CDR (CDPROJEKT)\t17 kwi 17:01\t339.50\t+5.30\t(+1.59%)\t334.20\t338.30\t337.00\t344.20\t233 059\t79 245 368\t39.618%\n",
        "CIG (CIGAMES)\t17 kwi 17:03\t0.742\t-0.012\t(-1.59%)\t0.754\t0.772\t0.730\t0.772\t1 311 078\t971 459\t1.855%\n",
        "PLW (PLAYWAY)\t17 kwi 17:03\t387.50\t+18.00\t(+4.87%)\t369.50\t374.00\t373.00\t388.00\t33 206\t12 661 786\t10.638%\n",
        "TEN (TSGAMES)\t17 kwi 17:02\t349.50\t+22.50\t(+6.88%)\t327.00\t332.00\t330.00\t353.50\t39 793\t13 697 060\t28.855%\"\"\"\n",
        " \n",
        "lines = wig_games_raw.splitlines()\n",
        "lines = [line.split('\\t') for line in lines]\n",
        "wig_games = np.array(lines, dtype=np.str)\n",
        "wig_games = np.char.replace(wig_games, ' ', '')\n",
        "print(wig_games)"
      ],
      "execution_count": null,
      "outputs": [
        {
          "output_type": "stream",
          "text": [
            "[['Profile' 'Time' 'Course' 'Change' 'Change%' 'Ref.' 'Open' 'Low' 'High' 'Volume' 'Turn' 'Share']\n",
            " ['11B(11BIT)' '17kwi17:01' '391.00' '+8.00' '(+2.09%)' '383.00' '383.50' '383.00' '394.00' '12784' '4994874' '19.034%']\n",
            " ['CDR(CDPROJEKT)' '17kwi17:01' '339.50' '+5.30' '(+1.59%)' '334.20' '338.30' '337.00' '344.20' '233059' '79245368' '39.618%']\n",
            " ['CIG(CIGAMES)' '17kwi17:03' '0.742' '-0.012' '(-1.59%)' '0.754' '0.772' '0.730' '0.772' '1311078' '971459' '1.855%']\n",
            " ['PLW(PLAYWAY)' '17kwi17:03' '387.50' '+18.00' '(+4.87%)' '369.50' '374.00' '373.00' '388.00' '33206' '12661786' '10.638%']\n",
            " ['TEN(TSGAMES)' '17kwi17:02' '349.50' '+22.50' '(+6.88%)' '327.00' '332.00' '330.00' '353.50' '39793' '13697060' '28.855%']]\n"
          ],
          "name": "stdout"
        }
      ]
    },
    {
      "cell_type": "code",
      "metadata": {
        "colab": {
          "base_uri": "https://localhost:8080/"
        },
        "id": "950p0Gngsg7T",
        "outputId": "2a37e717-6b66-4257-bfb5-1a8d68a6d475"
      },
      "source": [
        "np.set_printoptions(linewidth=160, suppress=True)\n",
        " \n",
        "wig_games = np.array([['Profile', 'Time', 'Course', 'Change', 'Change%', 'Ref.', 'Open', 'Low', 'High', 'Volume', 'Turn', 'Share'],\n",
        "       ['11B(11BIT)', '17kwi17:01', '391.00', '+8.00', '(+2.09%)', '383.00', '383.50', '383.00', '394.00', '12784', '4994874', '19.034%'],\n",
        "       ['CDR(CDPROJEKT)', '17kwi17:01', '339.50', '+5.30', '(+1.59%)', '334.20', '338.30', '337.00', '344.20', '233059', '79245368', '39.618%'],\n",
        "       ['CIG(CIGAMES)', '17kwi17:03', '0.742', '-0.012', '(-1.59%)', '0.754', '0.772', '0.730', '0.772', '1311078', '971459', '1.855%'],\n",
        "       ['PLW(PLAYWAY)', '17kwi17:03', '387.50', '+18.00', '(+4.87%)', '369.50', '374.00', '373.00', '388.00', '33206', '12661786', '10.638%'],\n",
        "       ['TEN(TSGAMES)', '17kwi17:02', '349.50', '+22.50', '(+6.88%)', '327.00', '332.00', '330.00', '353.50', '39793', '13697060', '28.855%']], dtype='<U14')\n",
        " \n",
        "wig_games = np.delete(wig_games, [3, 4, 5, 9], axis=1)\n",
        "print(wig_games)"
      ],
      "execution_count": null,
      "outputs": [
        {
          "output_type": "stream",
          "text": [
            "[['Profile' 'Time' 'Course' 'Open' 'Low' 'High' 'Turn' 'Share']\n",
            " ['11B(11BIT)' '17kwi17:01' '391.00' '383.50' '383.00' '394.00' '4994874' '19.034%']\n",
            " ['CDR(CDPROJEKT)' '17kwi17:01' '339.50' '338.30' '337.00' '344.20' '79245368' '39.618%']\n",
            " ['CIG(CIGAMES)' '17kwi17:03' '0.742' '0.772' '0.730' '0.772' '971459' '1.855%']\n",
            " ['PLW(PLAYWAY)' '17kwi17:03' '387.50' '374.00' '373.00' '388.00' '12661786' '10.638%']\n",
            " ['TEN(TSGAMES)' '17kwi17:02' '349.50' '332.00' '330.00' '353.50' '13697060' '28.855%']]\n"
          ],
          "name": "stdout"
        }
      ]
    },
    {
      "cell_type": "code",
      "metadata": {
        "colab": {
          "base_uri": "https://localhost:8080/"
        },
        "id": "4M-RAkkrsg-e",
        "outputId": "0484bb16-fa2a-4721-f620-af524690f59d"
      },
      "source": [
        "np.set_printoptions(linewidth=160, suppress=True)\n",
        " \n",
        "wig_games = np.array([['Profile', 'Time', 'Course', 'Open', 'Low', 'High', 'Turn', 'Share'],\n",
        "       ['11B(11BIT)', '17kwi17:01', '391.00', '383.50', '383.00', '394.00', '4994874', '19.034%'],\n",
        "       ['CDR(CDPROJEKT)', '17kwi17:01', '339.50', '338.30', '337.00', '344.20', '79245368', '39.618%'],\n",
        "       ['CIG(CIGAMES)', '17kwi17:03', '0.742', '0.772', '0.730', '0.772', '971459', '1.855%'],\n",
        "       ['PLW(PLAYWAY)', '17kwi17:03', '387.50', '374.00', '373.00', '388.00', '12661786', '10.638%'],\n",
        "       ['TEN(TSGAMES)', '17kwi17:02', '349.50', '332.00', '330.00', '353.50', '13697060', '28.855%']], dtype='<U14')\n",
        " \n",
        "np.savetxt(fname='wig_games.csv', X=wig_games, fmt='%s', delimiter=',')\n",
        "wig_games_new = np.loadtxt(fname='wig_games.csv', delimiter=',', dtype=str)\n",
        "print(wig_games_new)"
      ],
      "execution_count": null,
      "outputs": [
        {
          "output_type": "stream",
          "text": [
            "[['Profile' 'Time' 'Course' 'Open' 'Low' 'High' 'Turn' 'Share']\n",
            " ['11B(11BIT)' '17kwi17:01' '391.00' '383.50' '383.00' '394.00' '4994874' '19.034%']\n",
            " ['CDR(CDPROJEKT)' '17kwi17:01' '339.50' '338.30' '337.00' '344.20' '79245368' '39.618%']\n",
            " ['CIG(CIGAMES)' '17kwi17:03' '0.742' '0.772' '0.730' '0.772' '971459' '1.855%']\n",
            " ['PLW(PLAYWAY)' '17kwi17:03' '387.50' '374.00' '373.00' '388.00' '12661786' '10.638%']\n",
            " ['TEN(TSGAMES)' '17kwi17:02' '349.50' '332.00' '330.00' '353.50' '13697060' '28.855%']]\n"
          ],
          "name": "stdout"
        }
      ]
    },
    {
      "cell_type": "code",
      "metadata": {
        "colab": {
          "base_uri": "https://localhost:8080/"
        },
        "id": "hIkuEpUKshBT",
        "outputId": "01c59829-c843-4c8f-e3ea-a939f69006a7"
      },
      "source": [
        "playway_raw = \"\"\"Date,Open,High,Low,Close,Volume\n",
        "2020-03-02,305,324.5,283.5,310,64081\n",
        "2020-03-03,325.5,340.5,320,340.5,55496\n",
        "2020-03-04,324,340.5,315,330,36152\n",
        "2020-03-05,344,344,310,315,35992\n",
        "2020-03-06,306.5,307,291,305,32539\n",
        "2020-03-09,274,291,250,258,79402\n",
        "2020-03-10,278,284.5,256,264,35700\n",
        "2020-03-11,270,270,238.5,245,60445\n",
        "2020-03-12,218,228,196,197,94031\n",
        "2020-03-13,210,229,198.8,211,100412\n",
        "2020-03-16,205,248,197.8,240.5,50659\n",
        "2020-03-17,245,269,232.5,264,99480\n",
        "2020-03-18,264,280,251,270,70136\n",
        "2020-03-19,267,280,267,279.5,30732\n",
        "2020-03-20,297.5,307,280,280.5,43426\n",
        "2020-03-23,274,289,258,285,37098\n",
        "2020-03-24,305,309,296.5,309,31939\n",
        "2020-03-25,313,330,295,304,46724\n",
        "2020-03-26,300,309,295.5,300,27213\n",
        "2020-03-27,302,306.5,290,296,13466\n",
        "2020-03-30,299,300,287,300,10316\n",
        "2020-03-31,302.5,309,302,306.5,15698\"\"\"\n",
        " \n",
        "lines = playway_raw.splitlines()\n",
        "lines = [line.split(',') for line in lines]\n",
        "playway = np.array(lines, dtype=np.str)\n",
        "print(playway)"
      ],
      "execution_count": null,
      "outputs": [
        {
          "output_type": "stream",
          "text": [
            "[['Date' 'Open' 'High' 'Low' 'Close' 'Volume']\n",
            " ['2020-03-02' '305' '324.5' '283.5' '310' '64081']\n",
            " ['2020-03-03' '325.5' '340.5' '320' '340.5' '55496']\n",
            " ['2020-03-04' '324' '340.5' '315' '330' '36152']\n",
            " ['2020-03-05' '344' '344' '310' '315' '35992']\n",
            " ['2020-03-06' '306.5' '307' '291' '305' '32539']\n",
            " ['2020-03-09' '274' '291' '250' '258' '79402']\n",
            " ['2020-03-10' '278' '284.5' '256' '264' '35700']\n",
            " ['2020-03-11' '270' '270' '238.5' '245' '60445']\n",
            " ['2020-03-12' '218' '228' '196' '197' '94031']\n",
            " ['2020-03-13' '210' '229' '198.8' '211' '100412']\n",
            " ['2020-03-16' '205' '248' '197.8' '240.5' '50659']\n",
            " ['2020-03-17' '245' '269' '232.5' '264' '99480']\n",
            " ['2020-03-18' '264' '280' '251' '270' '70136']\n",
            " ['2020-03-19' '267' '280' '267' '279.5' '30732']\n",
            " ['2020-03-20' '297.5' '307' '280' '280.5' '43426']\n",
            " ['2020-03-23' '274' '289' '258' '285' '37098']\n",
            " ['2020-03-24' '305' '309' '296.5' '309' '31939']\n",
            " ['2020-03-25' '313' '330' '295' '304' '46724']\n",
            " ['2020-03-26' '300' '309' '295.5' '300' '27213']\n",
            " ['2020-03-27' '302' '306.5' '290' '296' '13466']\n",
            " ['2020-03-30' '299' '300' '287' '300' '10316']\n",
            " ['2020-03-31' '302.5' '309' '302' '306.5' '15698']]\n"
          ],
          "name": "stdout"
        }
      ]
    },
    {
      "cell_type": "code",
      "metadata": {
        "colab": {
          "base_uri": "https://localhost:8080/"
        },
        "id": "Bnw7b5HSshEQ",
        "outputId": "9dcb8261-4104-4a92-b7da-b2b0aacb9102"
      },
      "source": [
        "playway = np.array([['Date', 'Open', 'High', 'Low', 'Close', 'Volume'],\n",
        "       ['2020-03-02', '305', '324.5', '283.5', '310', '64081'],\n",
        "       ['2020-03-03', '325.5', '340.5', '320', '340.5', '55496'],\n",
        "       ['2020-03-04', '324', '340.5', '315', '330', '36152'],\n",
        "       ['2020-03-05', '344', '344', '310', '315', '35992'],\n",
        "       ['2020-03-06', '306.5', '307', '291', '305', '32539'],\n",
        "       ['2020-03-09', '274', '291', '250', '258', '79402'],\n",
        "       ['2020-03-10', '278', '284.5', '256', '264', '35700'],\n",
        "       ['2020-03-11', '270', '270', '238.5', '245', '60445'],\n",
        "       ['2020-03-12', '218', '228', '196', '197', '94031'],\n",
        "       ['2020-03-13', '210', '229', '198.8', '211', '100412'],\n",
        "       ['2020-03-16', '205', '248', '197.8', '240.5', '50659'],\n",
        "       ['2020-03-17', '245', '269', '232.5', '264', '99480'],\n",
        "       ['2020-03-18', '264', '280', '251', '270', '70136'],\n",
        "       ['2020-03-19', '267', '280', '267', '279.5', '30732'],\n",
        "       ['2020-03-20', '297.5', '307', '280', '280.5', '43426'],\n",
        "       ['2020-03-23', '274', '289', '258', '285', '37098'],\n",
        "       ['2020-03-24', '305', '309', '296.5', '309', '31939'],\n",
        "       ['2020-03-25', '313', '330', '295', '304', '46724'],\n",
        "       ['2020-03-26', '300', '309', '295.5', '300', '27213'],\n",
        "       ['2020-03-27', '302', '306.5', '290', '296', '13466'],\n",
        "       ['2020-03-30', '299', '300', '287', '300', '10316'],\n",
        "       ['2020-03-31', '302.5', '309', '302', '306.5', '15698']],\n",
        "      dtype='<U10')\n",
        " \n",
        "playway = np.delete(playway, [0], axis=1)\n",
        "playway_values = playway[1:].astype(float)\n",
        "print(playway_values)"
      ],
      "execution_count": null,
      "outputs": [
        {
          "output_type": "stream",
          "text": [
            "[[   305.     324.5    283.5    310.   64081. ]\n",
            " [   325.5    340.5    320.     340.5  55496. ]\n",
            " [   324.     340.5    315.     330.   36152. ]\n",
            " [   344.     344.     310.     315.   35992. ]\n",
            " [   306.5    307.     291.     305.   32539. ]\n",
            " [   274.     291.     250.     258.   79402. ]\n",
            " [   278.     284.5    256.     264.   35700. ]\n",
            " [   270.     270.     238.5    245.   60445. ]\n",
            " [   218.     228.     196.     197.   94031. ]\n",
            " [   210.     229.     198.8    211.  100412. ]\n",
            " [   205.     248.     197.8    240.5  50659. ]\n",
            " [   245.     269.     232.5    264.   99480. ]\n",
            " [   264.     280.     251.     270.   70136. ]\n",
            " [   267.     280.     267.     279.5  30732. ]\n",
            " [   297.5    307.     280.     280.5  43426. ]\n",
            " [   274.     289.     258.     285.   37098. ]\n",
            " [   305.     309.     296.5    309.   31939. ]\n",
            " [   313.     330.     295.     304.   46724. ]\n",
            " [   300.     309.     295.5    300.   27213. ]\n",
            " [   302.     306.5    290.     296.   13466. ]\n",
            " [   299.     300.     287.     300.   10316. ]\n",
            " [   302.5    309.     302.     306.5  15698. ]]\n"
          ],
          "name": "stdout"
        }
      ]
    },
    {
      "cell_type": "code",
      "metadata": {
        "colab": {
          "base_uri": "https://localhost:8080/"
        },
        "id": "8JcDPaLtshH2",
        "outputId": "6e02a909-6e62-4076-ef43-e980eff4ce6e"
      },
      "source": [
        "playway_values = np.array([[   305. ,    324.5,    283.5,    310. ,  64081. ],\n",
        "       [   325.5,    340.5,    320. ,    340.5,  55496. ],\n",
        "       [   324. ,    340.5,    315. ,    330. ,  36152. ],\n",
        "       [   344. ,    344. ,    310. ,    315. ,  35992. ],\n",
        "       [   306.5,    307. ,    291. ,    305. ,  32539. ],\n",
        "       [   274. ,    291. ,    250. ,    258. ,  79402. ],\n",
        "       [   278. ,    284.5,    256. ,    264. ,  35700. ],\n",
        "       [   270. ,    270. ,    238.5,    245. ,  60445. ],\n",
        "       [   218. ,    228. ,    196. ,    197. ,  94031. ],\n",
        "       [   210. ,    229. ,    198.8,    211. , 100412. ],\n",
        "       [   205. ,    248. ,    197.8,    240.5,  50659. ],\n",
        "       [   245. ,    269. ,    232.5,    264. ,  99480. ],\n",
        "       [   264. ,    280. ,    251. ,    270. ,  70136. ],\n",
        "       [   267. ,    280. ,    267. ,    279.5,  30732. ],\n",
        "       [   297.5,    307. ,    280. ,    280.5,  43426. ],\n",
        "       [   274. ,    289. ,    258. ,    285. ,  37098. ],\n",
        "       [   305. ,    309. ,    296.5,    309. ,  31939. ],\n",
        "       [   313. ,    330. ,    295. ,    304. ,  46724. ],\n",
        "       [   300. ,    309. ,    295.5,    300. ,  27213. ],\n",
        "       [   302. ,    306.5,    290. ,    296. ,  13466. ],\n",
        "       [   299. ,    300. ,    287. ,    300. ,  10316. ],\n",
        "       [   302.5,    309. ,    302. ,    306.5,  15698. ]])\n",
        " \n",
        "print(np.round(playway_values.mean(axis=0), 2))"
      ],
      "execution_count": null,
      "outputs": [
        {
          "output_type": "stream",
          "text": [
            "[  283.14   295.25   268.69   282.3  48688.05]\n"
          ],
          "name": "stdout"
        }
      ]
    },
    {
      "cell_type": "code",
      "metadata": {
        "colab": {
          "base_uri": "https://localhost:8080/"
        },
        "id": "z14uDi5oshVf",
        "outputId": "107d2652-b0fe-4cb5-a243-09b10a057c4b"
      },
      "source": [
        "np.set_printoptions(suppress=True)\n",
        "playway_values = np.array([[   305. ,    324.5,    283.5,    310. ,  64081. ],\n",
        "       [   325.5,    340.5,    320. ,    340.5,  55496. ],\n",
        "       [   324. ,    340.5,    315. ,    330. ,  36152. ],\n",
        "       [   344. ,    344. ,    310. ,    315. ,  35992. ],\n",
        "       [   306.5,    307. ,    291. ,    305. ,  32539. ],\n",
        "       [   274. ,    291. ,    250. ,    258. ,  79402. ],\n",
        "       [   278. ,    284.5,    256. ,    264. ,  35700. ],\n",
        "       [   270. ,    270. ,    238.5,    245. ,  60445. ],\n",
        "       [   218. ,    228. ,    196. ,    197. ,  94031. ],\n",
        "       [   210. ,    229. ,    198.8,    211. , 100412. ],\n",
        "       [   205. ,    248. ,    197.8,    240.5,  50659. ],\n",
        "       [   245. ,    269. ,    232.5,    264. ,  99480. ],\n",
        "       [   264. ,    280. ,    251. ,    270. ,  70136. ],\n",
        "       [   267. ,    280. ,    267. ,    279.5,  30732. ],\n",
        "       [   297.5,    307. ,    280. ,    280.5,  43426. ],\n",
        "       [   274. ,    289. ,    258. ,    285. ,  37098. ],\n",
        "       [   305. ,    309. ,    296.5,    309. ,  31939. ],\n",
        "       [   313. ,    330. ,    295. ,    304. ,  46724. ],\n",
        "       [   300. ,    309. ,    295.5,    300. ,  27213. ],\n",
        "       [   302. ,    306.5,    290. ,    296. ,  13466. ],\n",
        "       [   299. ,    300. ,    287. ,    300. ,  10316. ],\n",
        "       [   302.5,    309. ,    302. ,    306.5,  15698. ]])\n",
        " \n",
        "max_min_diff = playway_values[:, [1]] - playway_values[:, [2]]\n",
        "playway_values = np.concatenate((playway_values, max_min_diff), axis=1)\n",
        "print(playway_values)"
      ],
      "execution_count": null,
      "outputs": [
        {
          "output_type": "stream",
          "text": [
            "[[   305.     324.5    283.5    310.   64081.      41. ]\n",
            " [   325.5    340.5    320.     340.5  55496.      20.5]\n",
            " [   324.     340.5    315.     330.   36152.      25.5]\n",
            " [   344.     344.     310.     315.   35992.      34. ]\n",
            " [   306.5    307.     291.     305.   32539.      16. ]\n",
            " [   274.     291.     250.     258.   79402.      41. ]\n",
            " [   278.     284.5    256.     264.   35700.      28.5]\n",
            " [   270.     270.     238.5    245.   60445.      31.5]\n",
            " [   218.     228.     196.     197.   94031.      32. ]\n",
            " [   210.     229.     198.8    211.  100412.      30.2]\n",
            " [   205.     248.     197.8    240.5  50659.      50.2]\n",
            " [   245.     269.     232.5    264.   99480.      36.5]\n",
            " [   264.     280.     251.     270.   70136.      29. ]\n",
            " [   267.     280.     267.     279.5  30732.      13. ]\n",
            " [   297.5    307.     280.     280.5  43426.      27. ]\n",
            " [   274.     289.     258.     285.   37098.      31. ]\n",
            " [   305.     309.     296.5    309.   31939.      12.5]\n",
            " [   313.     330.     295.     304.   46724.      35. ]\n",
            " [   300.     309.     295.5    300.   27213.      13.5]\n",
            " [   302.     306.5    290.     296.   13466.      16.5]\n",
            " [   299.     300.     287.     300.   10316.      13. ]\n",
            " [   302.5    309.     302.     306.5  15698.       7. ]]\n"
          ],
          "name": "stdout"
        }
      ]
    },
    {
      "cell_type": "code",
      "metadata": {
        "colab": {
          "base_uri": "https://localhost:8080/"
        },
        "id": "dNne2AlgshfX",
        "outputId": "b56b1de2-bfc2-4d11-89d3-c6293b124b92"
      },
      "source": [
        "np.set_printoptions(suppress=True)\n",
        "playway_values = np.array([[   305. ,    324.5,    283.5,    310. ,  64081. ,     41. ],\n",
        "       [   325.5,    340.5,    320. ,    340.5,  55496. ,     20.5],\n",
        "       [   324. ,    340.5,    315. ,    330. ,  36152. ,     25.5],\n",
        "       [   344. ,    344. ,    310. ,    315. ,  35992. ,     34. ],\n",
        "       [   306.5,    307. ,    291. ,    305. ,  32539. ,     16. ],\n",
        "       [   274. ,    291. ,    250. ,    258. ,  79402. ,     41. ],\n",
        "       [   278. ,    284.5,    256. ,    264. ,  35700. ,     28.5],\n",
        "       [   270. ,    270. ,    238.5,    245. ,  60445. ,     31.5],\n",
        "       [   218. ,    228. ,    196. ,    197. ,  94031. ,     32. ],\n",
        "       [   210. ,    229. ,    198.8,    211. , 100412. ,     30.2],\n",
        "       [   205. ,    248. ,    197.8,    240.5,  50659. ,     50.2],\n",
        "       [   245. ,    269. ,    232.5,    264. ,  99480. ,     36.5],\n",
        "       [   264. ,    280. ,    251. ,    270. ,  70136. ,     29. ],\n",
        "       [   267. ,    280. ,    267. ,    279.5,  30732. ,     13. ],\n",
        "       [   297.5,    307. ,    280. ,    280.5,  43426. ,     27. ],\n",
        "       [   274. ,    289. ,    258. ,    285. ,  37098. ,     31. ],\n",
        "       [   305. ,    309. ,    296.5,    309. ,  31939. ,     12.5],\n",
        "       [   313. ,    330. ,    295. ,    304. ,  46724. ,     35. ],\n",
        "       [   300. ,    309. ,    295.5,    300. ,  27213. ,     13.5],\n",
        "       [   302. ,    306.5,    290. ,    296. ,  13466. ,     16.5],\n",
        "       [   299. ,    300. ,    287. ,    300. ,  10316. ,     13. ],\n",
        "       [   302.5,    309. ,    302. ,    306.5,  15698. ,      7. ]])\n",
        " \n",
        "print(playway_values[playway_values[:, 3] > 300.0])"
      ],
      "execution_count": null,
      "outputs": [
        {
          "output_type": "stream",
          "text": [
            "[[  305.    324.5   283.5   310.  64081.     41. ]\n",
            " [  325.5   340.5   320.    340.5 55496.     20.5]\n",
            " [  324.    340.5   315.    330.  36152.     25.5]\n",
            " [  344.    344.    310.    315.  35992.     34. ]\n",
            " [  306.5   307.    291.    305.  32539.     16. ]\n",
            " [  305.    309.    296.5   309.  31939.     12.5]\n",
            " [  313.    330.    295.    304.  46724.     35. ]\n",
            " [  302.5   309.    302.    306.5 15698.      7. ]]\n"
          ],
          "name": "stdout"
        }
      ]
    },
    {
      "cell_type": "code",
      "metadata": {
        "colab": {
          "base_uri": "https://localhost:8080/"
        },
        "id": "QE2psC8es2Aa",
        "outputId": "8c50fa20-c4c6-4843-83e7-ea282137bc9f"
      },
      "source": [
        "np.set_printoptions(suppress=True)\n",
        "playway_values = np.array([[   305. ,    324.5,    283.5,    310. ,  64081. ,     41. ],\n",
        "       [   325.5,    340.5,    320. ,    340.5,  55496. ,     20.5],\n",
        "       [   324. ,    340.5,    315. ,    330. ,  36152. ,     25.5],\n",
        "       [   344. ,    344. ,    310. ,    315. ,  35992. ,     34. ],\n",
        "       [   306.5,    307. ,    291. ,    305. ,  32539. ,     16. ],\n",
        "       [   274. ,    291. ,    250. ,    258. ,  79402. ,     41. ],\n",
        "       [   278. ,    284.5,    256. ,    264. ,  35700. ,     28.5],\n",
        "       [   270. ,    270. ,    238.5,    245. ,  60445. ,     31.5],\n",
        "       [   218. ,    228. ,    196. ,    197. ,  94031. ,     32. ],\n",
        "       [   210. ,    229. ,    198.8,    211. , 100412. ,     30.2],\n",
        "       [   205. ,    248. ,    197.8,    240.5,  50659. ,     50.2],\n",
        "       [   245. ,    269. ,    232.5,    264. ,  99480. ,     36.5],\n",
        "       [   264. ,    280. ,    251. ,    270. ,  70136. ,     29. ],\n",
        "       [   267. ,    280. ,    267. ,    279.5,  30732. ,     13. ],\n",
        "       [   297.5,    307. ,    280. ,    280.5,  43426. ,     27. ],\n",
        "       [   274. ,    289. ,    258. ,    285. ,  37098. ,     31. ],\n",
        "       [   305. ,    309. ,    296.5,    309. ,  31939. ,     12.5],\n",
        "       [   313. ,    330. ,    295. ,    304. ,  46724. ,     35. ],\n",
        "       [   300. ,    309. ,    295.5,    300. ,  27213. ,     13.5],\n",
        "       [   302. ,    306.5,    290. ,    296. ,  13466. ,     16.5],\n",
        "       [   299. ,    300. ,    287. ,    300. ,  10316. ,     13. ],\n",
        "       [   302.5,    309. ,    302. ,    306.5,  15698. ,      7. ]])\n",
        " \n",
        "print(playway_values[playway_values[:, 4].argsort()[::-1]][:10])"
      ],
      "execution_count": null,
      "outputs": [
        {
          "output_type": "stream",
          "text": [
            "[[   210.     229.     198.8    211.  100412.      30.2]\n",
            " [   245.     269.     232.5    264.   99480.      36.5]\n",
            " [   218.     228.     196.     197.   94031.      32. ]\n",
            " [   274.     291.     250.     258.   79402.      41. ]\n",
            " [   264.     280.     251.     270.   70136.      29. ]\n",
            " [   305.     324.5    283.5    310.   64081.      41. ]\n",
            " [   270.     270.     238.5    245.   60445.      31.5]\n",
            " [   325.5    340.5    320.     340.5  55496.      20.5]\n",
            " [   205.     248.     197.8    240.5  50659.      50.2]\n",
            " [   313.     330.     295.     304.   46724.      35. ]]\n"
          ],
          "name": "stdout"
        }
      ]
    },
    {
      "cell_type": "code",
      "metadata": {
        "colab": {
          "base_uri": "https://localhost:8080/"
        },
        "id": "rIxiVje8s2Dg",
        "outputId": "8597fb43-0638-4478-cc01-ef7a56ca918b"
      },
      "source": [
        "np.set_printoptions(suppress=True)\n",
        "playway_values = np.array([[   305. ,    324.5,    283.5,    310. ,  64081. ,     41. ],\n",
        "       [   325.5,    340.5,    320. ,    340.5,  55496. ,     20.5],\n",
        "       [   324. ,    340.5,    315. ,    330. ,  36152. ,     25.5],\n",
        "       [   344. ,    344. ,    310. ,    315. ,  35992. ,     34. ],\n",
        "       [   306.5,    307. ,    291. ,    305. ,  32539. ,     16. ],\n",
        "       [   274. ,    291. ,    250. ,    258. ,  79402. ,     41. ],\n",
        "       [   278. ,    284.5,    256. ,    264. ,  35700. ,     28.5],\n",
        "       [   270. ,    270. ,    238.5,    245. ,  60445. ,     31.5],\n",
        "       [   218. ,    228. ,    196. ,    197. ,  94031. ,     32. ],\n",
        "       [   210. ,    229. ,    198.8,    211. , 100412. ,     30.2],\n",
        "       [   205. ,    248. ,    197.8,    240.5,  50659. ,     50.2],\n",
        "       [   245. ,    269. ,    232.5,    264. ,  99480. ,     36.5],\n",
        "       [   264. ,    280. ,    251. ,    270. ,  70136. ,     29. ],\n",
        "       [   267. ,    280. ,    267. ,    279.5,  30732. ,     13. ],\n",
        "       [   297.5,    307. ,    280. ,    280.5,  43426. ,     27. ],\n",
        "       [   274. ,    289. ,    258. ,    285. ,  37098. ,     31. ],\n",
        "       [   305. ,    309. ,    296.5,    309. ,  31939. ,     12.5],\n",
        "       [   313. ,    330. ,    295. ,    304. ,  46724. ,     35. ],\n",
        "       [   300. ,    309. ,    295.5,    300. ,  27213. ,     13.5],\n",
        "       [   302. ,    306.5,    290. ,    296. ,  13466. ,     16.5],\n",
        "       [   299. ,    300. ,    287. ,    300. ,  10316. ,     13. ],\n",
        "       [   302.5,    309. ,    302. ,    306.5,  15698. ,      7. ]])\n",
        " \n",
        "flag = playway_values[:, [0]] < playway_values[:, [3]]\n",
        "flag = flag.astype(int)\n",
        "playway_values = np.concatenate((playway_values, flag), axis=1)\n",
        "print(playway_values)"
      ],
      "execution_count": null,
      "outputs": [
        {
          "output_type": "stream",
          "text": [
            "[[   305.     324.5    283.5    310.   64081.      41.       1. ]\n",
            " [   325.5    340.5    320.     340.5  55496.      20.5      1. ]\n",
            " [   324.     340.5    315.     330.   36152.      25.5      1. ]\n",
            " [   344.     344.     310.     315.   35992.      34.       0. ]\n",
            " [   306.5    307.     291.     305.   32539.      16.       0. ]\n",
            " [   274.     291.     250.     258.   79402.      41.       0. ]\n",
            " [   278.     284.5    256.     264.   35700.      28.5      0. ]\n",
            " [   270.     270.     238.5    245.   60445.      31.5      0. ]\n",
            " [   218.     228.     196.     197.   94031.      32.       0. ]\n",
            " [   210.     229.     198.8    211.  100412.      30.2      1. ]\n",
            " [   205.     248.     197.8    240.5  50659.      50.2      1. ]\n",
            " [   245.     269.     232.5    264.   99480.      36.5      1. ]\n",
            " [   264.     280.     251.     270.   70136.      29.       1. ]\n",
            " [   267.     280.     267.     279.5  30732.      13.       1. ]\n",
            " [   297.5    307.     280.     280.5  43426.      27.       0. ]\n",
            " [   274.     289.     258.     285.   37098.      31.       1. ]\n",
            " [   305.     309.     296.5    309.   31939.      12.5      1. ]\n",
            " [   313.     330.     295.     304.   46724.      35.       0. ]\n",
            " [   300.     309.     295.5    300.   27213.      13.5      0. ]\n",
            " [   302.     306.5    290.     296.   13466.      16.5      0. ]\n",
            " [   299.     300.     287.     300.   10316.      13.       1. ]\n",
            " [   302.5    309.     302.     306.5  15698.       7.       1. ]]\n"
          ],
          "name": "stdout"
        }
      ]
    },
    {
      "cell_type": "markdown",
      "metadata": {
        "id": "x3uY4sEDs_qS"
      },
      "source": [
        "###100+"
      ]
    },
    {
      "cell_type": "code",
      "metadata": {
        "colab": {
          "base_uri": "https://localhost:8080/"
        },
        "id": "M7qFBQ7Us2Gc",
        "outputId": "545fa320-2a8b-48a8-cf6b-fbf763da1019"
      },
      "source": [
        "A = np.array([[5, -3], [1, -2]])\n",
        "B = np.array([[21], [7]])\n",
        "X = np.dot(np.linalg.inv(A), B)\n",
        "x = X[0][0]\n",
        "y = X[1][0]\n",
        "print(f'x = {x:.2f}\\ny = {y:.2f}')"
      ],
      "execution_count": null,
      "outputs": [
        {
          "output_type": "stream",
          "text": [
            "x = 3.00\n",
            "y = -2.00\n"
          ],
          "name": "stdout"
        }
      ]
    },
    {
      "cell_type": "code",
      "metadata": {
        "colab": {
          "base_uri": "https://localhost:8080/"
        },
        "id": "lqhJQAzzs2JR",
        "outputId": "74154c14-4e58-4270-f17a-fa3daa9feaf0"
      },
      "source": [
        "A = np.array([[1, 1, 1], [2, 1, 5], [1, -1, -1]])\n",
        "B = np.array([[1], [0], [0]])\n",
        "X = np.dot(np.linalg.inv(A), B)\n",
        "x = X[0][0]\n",
        "y = X[1][0]\n",
        "z = X[2][0]\n",
        "print(f'x = {x:.2f}\\ny = {y:.2f}\\nz = {z:.2f}')"
      ],
      "execution_count": null,
      "outputs": [
        {
          "output_type": "stream",
          "text": [
            "x = 0.50\n",
            "y = 0.88\n",
            "z = -0.38\n"
          ],
          "name": "stdout"
        }
      ]
    },
    {
      "cell_type": "code",
      "metadata": {
        "id": "1jLQ1CVPs2RZ"
      },
      "source": [
        ""
      ],
      "execution_count": null,
      "outputs": []
    },
    {
      "cell_type": "code",
      "metadata": {
        "id": "Toni4r8es2W6"
      },
      "source": [
        ""
      ],
      "execution_count": null,
      "outputs": []
    }
  ]
}