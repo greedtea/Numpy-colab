{
  "nbformat": 4,
  "nbformat_minor": 0,
  "metadata": {
    "colab": {
      "name": "pandas.ipynb",
      "provenance": [],
      "toc_visible": true,
      "authorship_tag": "ABX9TyN14oRneRmz0bk+mOPYaYYL",
      "include_colab_link": true
    },
    "kernelspec": {
      "name": "python3",
      "display_name": "Python 3"
    },
    "language_info": {
      "name": "python"
    }
  },
  "cells": [
    {
      "cell_type": "markdown",
      "metadata": {
        "id": "view-in-github",
        "colab_type": "text"
      },
      "source": [
        "<a href=\"https://colab.research.google.com/github/greedtea/python-colab/blob/main/pandas.ipynb\" target=\"_parent\"><img src=\"https://colab.research.google.com/assets/colab-badge.svg\" alt=\"Open In Colab\"/></a>"
      ]
    },
    {
      "cell_type": "code",
      "metadata": {
        "colab": {
          "base_uri": "https://localhost:8080/"
        },
        "id": "AkzdINtu7TI6",
        "outputId": "09423395-1108-4568-ec22-e7b1deeed62f"
      },
      "source": [
        "import pandas as pd \n",
        "import numpy as np \n",
        "print(pd.__version__)"
      ],
      "execution_count": null,
      "outputs": [
        {
          "output_type": "stream",
          "text": [
            "1.1.5\n"
          ],
          "name": "stdout"
        }
      ]
    },
    {
      "cell_type": "markdown",
      "metadata": {
        "id": "hDLnBOHb9e0D"
      },
      "source": [
        "[Pandas](https://pandas.pydata.org/docs/user_guide/index.html)"
      ]
    },
    {
      "cell_type": "markdown",
      "metadata": {
        "id": "828JHM_2AO2i"
      },
      "source": [
        "###Series"
      ]
    },
    {
      "cell_type": "code",
      "metadata": {
        "colab": {
          "base_uri": "https://localhost:8080/"
        },
        "id": "HhpCLBGA8gPK",
        "outputId": "8d10de4b-121b-41c5-ad40-08f97802e426"
      },
      "source": [
        "stocks = ['PLW', 'CDR', '11B', 'TEN']\n",
        "print(pd.Series(data=stocks))"
      ],
      "execution_count": null,
      "outputs": [
        {
          "output_type": "stream",
          "text": [
            "0    PLW\n",
            "1    CDR\n",
            "2    11B\n",
            "3    TEN\n",
            "dtype: object\n"
          ],
          "name": "stdout"
        }
      ]
    },
    {
      "cell_type": "code",
      "metadata": {
        "colab": {
          "base_uri": "https://localhost:8080/"
        },
        "id": "RUe2VUb98gR-",
        "outputId": "19c18ca3-8032-4b42-cd37-3bc0cc2c078b"
      },
      "source": [
        "stocks = {'PLW': 387.00, 'CDR': 339.5, 'TEN': 349.5, '11B': 391.0}\n",
        "quotations = pd.Series(data=stocks)\n",
        "print(quotations)"
      ],
      "execution_count": null,
      "outputs": [
        {
          "output_type": "stream",
          "text": [
            "PLW    387.0\n",
            "CDR    339.5\n",
            "TEN    349.5\n",
            "11B    391.0\n",
            "dtype: float64\n"
          ],
          "name": "stdout"
        }
      ]
    },
    {
      "cell_type": "markdown",
      "metadata": {
        "id": "AQ6rL73Sx69y"
      },
      "source": [
        "####.tolist()"
      ]
    },
    {
      "cell_type": "code",
      "metadata": {
        "colab": {
          "base_uri": "https://localhost:8080/"
        },
        "id": "y72YyNse8gUn",
        "outputId": "bd3c42ca-fc5f-4a99-ba7a-0a7c2349a778"
      },
      "source": [
        "stocks = {'PLW': 387.00, 'CDR': 339.5, 'TEN': 349.5, '11B': 391.0}\n",
        "quotations = pd.Series(data=stocks)\n",
        "print(type(quotations))\n",
        "print(\"................\")\n",
        "quotations = quotations.tolist()\n",
        "print(quotations)\n",
        "print(type(quotations))"
      ],
      "execution_count": null,
      "outputs": [
        {
          "output_type": "stream",
          "text": [
            "<class 'pandas.core.series.Series'>\n",
            "................\n",
            "[387.0, 339.5, 349.5, 391.0]\n",
            "<class 'list'>\n"
          ],
          "name": "stdout"
        }
      ]
    },
    {
      "cell_type": "code",
      "metadata": {
        "colab": {
          "base_uri": "https://localhost:8080/"
        },
        "id": "J0BvL4uQ8gXQ",
        "outputId": "c994977b-7144-41fe-e072-724deffadecd"
      },
      "source": [
        "stocks"
      ],
      "execution_count": null,
      "outputs": [
        {
          "output_type": "execute_result",
          "data": {
            "text/plain": [
              "{'11B': 391.0, 'CDR': 339.5, 'PLW': 387.0, 'TEN': 349.5}"
            ]
          },
          "metadata": {
            "tags": []
          },
          "execution_count": 7
        }
      ]
    },
    {
      "cell_type": "markdown",
      "metadata": {
        "id": "rYUZA2Dkygod"
      },
      "source": [
        "####columns"
      ]
    },
    {
      "cell_type": "code",
      "metadata": {
        "colab": {
          "base_uri": "https://localhost:8080/"
        },
        "id": "TwmUwPol8gZ0",
        "outputId": "80a96c10-5658-4816-9ede-acf982413947"
      },
      "source": [
        "stocks = {'PLW': 387.00, 'CDR': 339.5, 'TEN': 349.5, '11B': 391.0}\n",
        "quotations = pd.Series(data=stocks)\n",
        "quotations = pd.DataFrame(quotations, columns=['price'])\n",
        "print(quotations)"
      ],
      "execution_count": null,
      "outputs": [
        {
          "output_type": "stream",
          "text": [
            "     price\n",
            "PLW  387.0\n",
            "CDR  339.5\n",
            "TEN  349.5\n",
            "11B  391.0\n"
          ],
          "name": "stdout"
        }
      ]
    },
    {
      "cell_type": "markdown",
      "metadata": {
        "id": "shb2vHfayvsm"
      },
      "source": [
        "####dtype="
      ]
    },
    {
      "cell_type": "code",
      "metadata": {
        "colab": {
          "base_uri": "https://localhost:8080/"
        },
        "id": "YBT08dOe8gcd",
        "outputId": "ec0dcb50-c59e-472d-a6f8-03c22c961ee3"
      },
      "source": [
        "import numpy as np\n",
        " \n",
        "s = pd.Series(data=np.arange(10, 100, 10), index=np.arange(101, 110), dtype='float')\n",
        "print(s)"
      ],
      "execution_count": null,
      "outputs": [
        {
          "output_type": "stream",
          "text": [
            "101    10.0\n",
            "102    20.0\n",
            "103    30.0\n",
            "104    40.0\n",
            "105    50.0\n",
            "106    60.0\n",
            "107    70.0\n",
            "108    80.0\n",
            "109    90.0\n",
            "dtype: float64\n"
          ],
          "name": "stdout"
        }
      ]
    },
    {
      "cell_type": "markdown",
      "metadata": {
        "id": "VwdZtTtLzm5p"
      },
      "source": [
        "####to_numeric()\n",
        "Convert argument to a numeric type."
      ]
    },
    {
      "cell_type": "code",
      "metadata": {
        "colab": {
          "base_uri": "https://localhost:8080/"
        },
        "id": "_D0Y_Jqi8ge_",
        "outputId": "8426ead8-4665-41ee-a3ef-03359b427bd1"
      },
      "source": [
        "series = pd.Series(['001', '002', '003', '004'], list('abcd'))\n",
        "print(type(series))\n",
        "print(\"..........\")\n",
        "series = pd.to_numeric(series)\n",
        "print(series)\n",
        "print(type(series))"
      ],
      "execution_count": null,
      "outputs": [
        {
          "output_type": "stream",
          "text": [
            "<class 'pandas.core.series.Series'>\n",
            "..........\n",
            "a    1\n",
            "b    2\n",
            "c    3\n",
            "d    4\n",
            "dtype: int64\n",
            "<class 'pandas.core.series.Series'>\n"
          ],
          "name": "stdout"
        }
      ]
    },
    {
      "cell_type": "markdown",
      "metadata": {
        "id": "AhrPjulD2LTx"
      },
      "source": [
        "####.astype(int)"
      ]
    },
    {
      "cell_type": "code",
      "metadata": {
        "colab": {
          "base_uri": "https://localhost:8080/"
        },
        "id": "GN0qOcOI8ghv",
        "outputId": "7b98d28a-0be7-4583-e98d-1faec0cf244f"
      },
      "source": [
        "series = pd.Series(['001', '002', '003', '004'], list('abcd'))\n",
        "print(series)\n",
        "series = series.astype(int)\n",
        "print(series)"
      ],
      "execution_count": null,
      "outputs": [
        {
          "output_type": "stream",
          "text": [
            "a    001\n",
            "b    002\n",
            "c    003\n",
            "d    004\n",
            "dtype: object\n",
            "a    1\n",
            "b    2\n",
            "c    3\n",
            "d    4\n",
            "dtype: int64\n"
          ],
          "name": "stdout"
        }
      ]
    },
    {
      "cell_type": "code",
      "metadata": {
        "colab": {
          "base_uri": "https://localhost:8080/"
        },
        "id": "b5fYZhz68gkL",
        "outputId": "06809512-38ab-49a3-c4c6-6f7a1e988973"
      },
      "source": [
        "list('abcd')"
      ],
      "execution_count": null,
      "outputs": [
        {
          "output_type": "execute_result",
          "data": {
            "text/plain": [
              "['a', 'b', 'c', 'd']"
            ]
          },
          "metadata": {
            "tags": []
          },
          "execution_count": 16
        }
      ]
    },
    {
      "cell_type": "markdown",
      "metadata": {
        "id": "e9hXDzLJ_tRP"
      },
      "source": [
        "####append()"
      ]
    },
    {
      "cell_type": "code",
      "metadata": {
        "colab": {
          "base_uri": "https://localhost:8080/"
        },
        "id": "xxTH0NPQ8gm5",
        "outputId": "e52be740-546e-4219-8d4e-cc942881a3b6"
      },
      "source": [
        "stocks = {'PLW': 387.00, 'CDR': 339.5, 'TEN': 349.5, '11B': 391.0}\n",
        "quotations = pd.Series(data=stocks)\n",
        " \n",
        "quotations = quotations.append(pd.Series({'BBT': 25.5, 'F51': 19.2}))\n",
        "print(quotations)"
      ],
      "execution_count": null,
      "outputs": [
        {
          "output_type": "stream",
          "text": [
            "PLW    387.0\n",
            "CDR    339.5\n",
            "TEN    349.5\n",
            "11B    391.0\n",
            "BBT     25.5\n",
            "F51     19.2\n",
            "dtype: float64\n"
          ],
          "name": "stdout"
        }
      ]
    },
    {
      "cell_type": "markdown",
      "metadata": {
        "id": "UpuHRwlQAJbX"
      },
      "source": [
        "###DataFrame\n"
      ]
    },
    {
      "cell_type": "markdown",
      "metadata": {
        "id": "v9x1o79nAw7J"
      },
      "source": [
        "####reset_index()"
      ]
    },
    {
      "cell_type": "markdown",
      "metadata": {
        "id": "itRbscpS2lb8"
      },
      "source": [
        "####.columns"
      ]
    },
    {
      "cell_type": "code",
      "metadata": {
        "colab": {
          "base_uri": "https://localhost:8080/"
        },
        "id": "jl10hrkz8gpM",
        "outputId": "4f8c3228-586e-4e5a-ef44-ed6709335066"
      },
      "source": [
        "stocks = {'PLW': 387.00, 'CDR': 339.5, 'TEN': 349.5, '11B': 391.0, 'BBT': 25.5, 'F51': 19.2}\n",
        "quotations = pd.Series(data=stocks)\n",
        "print(quotations)\n",
        "print('.........')\n",
        "quotations = pd.DataFrame(quotations).reset_index()\n",
        "quotations.columns = ['ticker', 'price']\n",
        "print(quotations)"
      ],
      "execution_count": null,
      "outputs": [
        {
          "output_type": "stream",
          "text": [
            "PLW    387.0\n",
            "CDR    339.5\n",
            "TEN    349.5\n",
            "11B    391.0\n",
            "BBT     25.5\n",
            "F51     19.2\n",
            "dtype: float64\n",
            ".........\n",
            "  ticker  price\n",
            "0    PLW  387.0\n",
            "1    CDR  339.5\n",
            "2    TEN  349.5\n",
            "3    11B  391.0\n",
            "4    BBT   25.5\n",
            "5    F51   19.2\n"
          ],
          "name": "stdout"
        }
      ]
    },
    {
      "cell_type": "code",
      "metadata": {
        "colab": {
          "base_uri": "https://localhost:8080/"
        },
        "id": "OFKMoKqaADCb",
        "outputId": "4e1210ed-135f-4de0-98a8-f91d2cfa1127"
      },
      "source": [
        "data_dict = {\n",
        "    'company': ['Amazon', 'Microsoft', 'Facebook'],\n",
        "    'price': [2375.00, 178.6, 179.2],\n",
        "    'ticker': ['AMZN.US', 'MSFT.US', 'FB.US']\n",
        "}\n",
        " \n",
        "companies = pd.DataFrame(data=data_dict)\n",
        "print(companies)"
      ],
      "execution_count": null,
      "outputs": [
        {
          "output_type": "stream",
          "text": [
            "     company   price   ticker\n",
            "0     Amazon  2375.0  AMZN.US\n",
            "1  Microsoft   178.6  MSFT.US\n",
            "2   Facebook   179.2    FB.US\n"
          ],
          "name": "stdout"
        }
      ]
    },
    {
      "cell_type": "markdown",
      "metadata": {
        "id": "yXqVkVWuAoRr"
      },
      "source": [
        "####set_index()"
      ]
    },
    {
      "cell_type": "code",
      "metadata": {
        "colab": {
          "base_uri": "https://localhost:8080/"
        },
        "id": "iXHRX63kADFr",
        "outputId": "0639697d-6f60-4c6f-c8b4-d1542a44743f"
      },
      "source": [
        "data_dict = {\n",
        "    'company': ['Amazon', 'Microsoft', 'Facebook'],\n",
        "    'price': [2375.00, 178.6, 179.2],\n",
        "    'ticker': ['AMZN.US', 'MSFT.US', 'FB.US']\n",
        "}\n",
        " \n",
        "companies = pd.DataFrame(data=data_dict)\n",
        "companies = companies.set_index('company')\n",
        "print(companies)"
      ],
      "execution_count": null,
      "outputs": [
        {
          "output_type": "stream",
          "text": [
            "            price   ticker\n",
            "company                   \n",
            "Amazon     2375.0  AMZN.US\n",
            "Microsoft   178.6  MSFT.US\n",
            "Facebook    179.2    FB.US\n"
          ],
          "name": "stdout"
        }
      ]
    },
    {
      "cell_type": "markdown",
      "metadata": {
        "id": "P-34mMEnBAZ9"
      },
      "source": [
        "###11-20"
      ]
    },
    {
      "cell_type": "markdown",
      "metadata": {
        "id": "5sD2vGgWBmut"
      },
      "source": [
        "####date_range"
      ]
    },
    {
      "cell_type": "code",
      "metadata": {
        "colab": {
          "base_uri": "https://localhost:8080/"
        },
        "id": "x5rSiOPtADKz",
        "outputId": "a4f67f79-d1ec-426c-b828-ad5806296fd9"
      },
      "source": [
        "date_range = pd.date_range(start='2020-01-01', periods=31)\n",
        "print(date_range)"
      ],
      "execution_count": null,
      "outputs": [
        {
          "output_type": "stream",
          "text": [
            "DatetimeIndex(['2020-01-01', '2020-01-02', '2020-01-03', '2020-01-04',\n",
            "               '2020-01-05', '2020-01-06', '2020-01-07', '2020-01-08',\n",
            "               '2020-01-09', '2020-01-10', '2020-01-11', '2020-01-12',\n",
            "               '2020-01-13', '2020-01-14', '2020-01-15', '2020-01-16',\n",
            "               '2020-01-17', '2020-01-18', '2020-01-19', '2020-01-20',\n",
            "               '2020-01-21', '2020-01-22', '2020-01-23', '2020-01-24',\n",
            "               '2020-01-25', '2020-01-26', '2020-01-27', '2020-01-28',\n",
            "               '2020-01-29', '2020-01-30', '2020-01-31'],\n",
            "              dtype='datetime64[ns]', freq='D')\n"
          ],
          "name": "stdout"
        }
      ]
    },
    {
      "cell_type": "code",
      "metadata": {
        "colab": {
          "base_uri": "https://localhost:8080/"
        },
        "id": "ouIQEZ6KBN81",
        "outputId": "f984b483-eff9-47fe-bbbb-bfbe58d2406b"
      },
      "source": [
        "date_range = pd.date_range(start='2020-01-01', end='2020-01-31')\n",
        "print(date_range)"
      ],
      "execution_count": null,
      "outputs": [
        {
          "output_type": "stream",
          "text": [
            "DatetimeIndex(['2020-01-01', '2020-01-02', '2020-01-03', '2020-01-04',\n",
            "               '2020-01-05', '2020-01-06', '2020-01-07', '2020-01-08',\n",
            "               '2020-01-09', '2020-01-10', '2020-01-11', '2020-01-12',\n",
            "               '2020-01-13', '2020-01-14', '2020-01-15', '2020-01-16',\n",
            "               '2020-01-17', '2020-01-18', '2020-01-19', '2020-01-20',\n",
            "               '2020-01-21', '2020-01-22', '2020-01-23', '2020-01-24',\n",
            "               '2020-01-25', '2020-01-26', '2020-01-27', '2020-01-28',\n",
            "               '2020-01-29', '2020-01-30', '2020-01-31'],\n",
            "              dtype='datetime64[ns]', freq='D')\n"
          ],
          "name": "stdout"
        }
      ]
    },
    {
      "cell_type": "markdown",
      "metadata": {
        "id": "RV5Ja5Qn3Xx4"
      },
      "source": [
        "####freq='W-MON'"
      ]
    },
    {
      "cell_type": "code",
      "metadata": {
        "colab": {
          "base_uri": "https://localhost:8080/"
        },
        "id": "d78LhMIcBN_s",
        "outputId": "5a4dee38-21ce-4f13-cb82-8fe5a9ce7db2"
      },
      "source": [
        "date_range = pd.date_range(start='2020-01-01', periods=52, freq='W-MON')\n",
        "print(date_range)"
      ],
      "execution_count": null,
      "outputs": [
        {
          "output_type": "stream",
          "text": [
            "DatetimeIndex(['2020-01-06', '2020-01-13', '2020-01-20', '2020-01-27',\n",
            "               '2020-02-03', '2020-02-10', '2020-02-17', '2020-02-24',\n",
            "               '2020-03-02', '2020-03-09', '2020-03-16', '2020-03-23',\n",
            "               '2020-03-30', '2020-04-06', '2020-04-13', '2020-04-20',\n",
            "               '2020-04-27', '2020-05-04', '2020-05-11', '2020-05-18',\n",
            "               '2020-05-25', '2020-06-01', '2020-06-08', '2020-06-15',\n",
            "               '2020-06-22', '2020-06-29', '2020-07-06', '2020-07-13',\n",
            "               '2020-07-20', '2020-07-27', '2020-08-03', '2020-08-10',\n",
            "               '2020-08-17', '2020-08-24', '2020-08-31', '2020-09-07',\n",
            "               '2020-09-14', '2020-09-21', '2020-09-28', '2020-10-05',\n",
            "               '2020-10-12', '2020-10-19', '2020-10-26', '2020-11-02',\n",
            "               '2020-11-09', '2020-11-16', '2020-11-23', '2020-11-30',\n",
            "               '2020-12-07', '2020-12-14', '2020-12-21', '2020-12-28'],\n",
            "              dtype='datetime64[ns]', freq='W-MON')\n"
          ],
          "name": "stdout"
        }
      ]
    },
    {
      "cell_type": "code",
      "metadata": {
        "colab": {
          "base_uri": "https://localhost:8080/"
        },
        "id": "irXeV37_BOCY",
        "outputId": "7e7ead36-93fc-4372-8150-61438cf1cc36"
      },
      "source": [
        "date_range = pd.date_range(start='2020-01-01', end='2020-12-31', freq='W-MON')\n",
        "print(date_range)"
      ],
      "execution_count": null,
      "outputs": [
        {
          "output_type": "stream",
          "text": [
            "DatetimeIndex(['2020-01-06', '2020-01-13', '2020-01-20', '2020-01-27',\n",
            "               '2020-02-03', '2020-02-10', '2020-02-17', '2020-02-24',\n",
            "               '2020-03-02', '2020-03-09', '2020-03-16', '2020-03-23',\n",
            "               '2020-03-30', '2020-04-06', '2020-04-13', '2020-04-20',\n",
            "               '2020-04-27', '2020-05-04', '2020-05-11', '2020-05-18',\n",
            "               '2020-05-25', '2020-06-01', '2020-06-08', '2020-06-15',\n",
            "               '2020-06-22', '2020-06-29', '2020-07-06', '2020-07-13',\n",
            "               '2020-07-20', '2020-07-27', '2020-08-03', '2020-08-10',\n",
            "               '2020-08-17', '2020-08-24', '2020-08-31', '2020-09-07',\n",
            "               '2020-09-14', '2020-09-21', '2020-09-28', '2020-10-05',\n",
            "               '2020-10-12', '2020-10-19', '2020-10-26', '2020-11-02',\n",
            "               '2020-11-09', '2020-11-16', '2020-11-23', '2020-11-30',\n",
            "               '2020-12-07', '2020-12-14', '2020-12-21', '2020-12-28'],\n",
            "              dtype='datetime64[ns]', freq='W-MON')\n"
          ],
          "name": "stdout"
        }
      ]
    },
    {
      "cell_type": "code",
      "metadata": {
        "colab": {
          "base_uri": "https://localhost:8080/"
        },
        "id": "JxnhkLqL4k8d",
        "outputId": "e6183695-a9e5-4c50-ac83-d26d69c403c1"
      },
      "source": [
        "date_range = pd.date_range(start='2020-01-01', end='2020-12-31', freq='M')\n",
        "print(date_range)"
      ],
      "execution_count": null,
      "outputs": [
        {
          "output_type": "stream",
          "text": [
            "DatetimeIndex(['2020-01-31', '2020-02-29', '2020-03-31', '2020-04-30',\n",
            "               '2020-05-31', '2020-06-30', '2020-07-31', '2020-08-31',\n",
            "               '2020-09-30', '2020-10-31', '2020-11-30', '2020-12-31'],\n",
            "              dtype='datetime64[ns]', freq='M')\n"
          ],
          "name": "stdout"
        }
      ]
    },
    {
      "cell_type": "code",
      "metadata": {
        "colab": {
          "base_uri": "https://localhost:8080/"
        },
        "id": "tLad2L784vrF",
        "outputId": "b1614065-c885-4e5f-b36e-e9e44caa0e47"
      },
      "source": [
        "date_range = pd.date_range(start='2020-01-01', end='2020-12-31', freq='3M')\n",
        "print(date_range)"
      ],
      "execution_count": null,
      "outputs": [
        {
          "output_type": "stream",
          "text": [
            "DatetimeIndex(['2020-01-31', '2020-04-30', '2020-07-31', '2020-10-31'], dtype='datetime64[ns]', freq='3M')\n"
          ],
          "name": "stdout"
        }
      ]
    },
    {
      "cell_type": "code",
      "metadata": {
        "colab": {
          "base_uri": "https://localhost:8080/"
        },
        "id": "6B6JfGCt5Mze",
        "outputId": "2484b0d4-1fab-41ac-c0a2-b98a4d2a76a3"
      },
      "source": [
        "date_range = pd.date_range(start='2020-01-01', end='2020-12-31', freq=pd.offsets.MonthEnd(3))\n",
        "print(date_range)"
      ],
      "execution_count": null,
      "outputs": [
        {
          "output_type": "stream",
          "text": [
            "DatetimeIndex(['2020-01-31', '2020-04-30', '2020-07-31', '2020-10-31'], dtype='datetime64[ns]', freq='3M')\n"
          ],
          "name": "stdout"
        }
      ]
    },
    {
      "cell_type": "code",
      "metadata": {
        "colab": {
          "base_uri": "https://localhost:8080/"
        },
        "id": "71UzfKL6BOFD",
        "outputId": "496e574b-53bc-48f8-aa0f-7744436f97be"
      },
      "source": [
        "date_range = pd.date_range(start='2021-01-01', periods=24, freq='H')\n",
        "print(date_range)"
      ],
      "execution_count": null,
      "outputs": [
        {
          "output_type": "stream",
          "text": [
            "DatetimeIndex(['2021-01-01 00:00:00', '2021-01-01 01:00:00',\n",
            "               '2021-01-01 02:00:00', '2021-01-01 03:00:00',\n",
            "               '2021-01-01 04:00:00', '2021-01-01 05:00:00',\n",
            "               '2021-01-01 06:00:00', '2021-01-01 07:00:00',\n",
            "               '2021-01-01 08:00:00', '2021-01-01 09:00:00',\n",
            "               '2021-01-01 10:00:00', '2021-01-01 11:00:00',\n",
            "               '2021-01-01 12:00:00', '2021-01-01 13:00:00',\n",
            "               '2021-01-01 14:00:00', '2021-01-01 15:00:00',\n",
            "               '2021-01-01 16:00:00', '2021-01-01 17:00:00',\n",
            "               '2021-01-01 18:00:00', '2021-01-01 19:00:00',\n",
            "               '2021-01-01 20:00:00', '2021-01-01 21:00:00',\n",
            "               '2021-01-01 22:00:00', '2021-01-01 23:00:00'],\n",
            "              dtype='datetime64[ns]', freq='H')\n"
          ],
          "name": "stdout"
        }
      ]
    },
    {
      "cell_type": "markdown",
      "metadata": {
        "id": "xv1UX7FG6SRc"
      },
      "source": [
        "closed='left' 第一個 時間對準"
      ]
    },
    {
      "cell_type": "code",
      "metadata": {
        "colab": {
          "base_uri": "https://localhost:8080/"
        },
        "id": "wWPq1V0jBOHq",
        "outputId": "c62662bf-5861-4309-db19-531457743474"
      },
      "source": [
        "date_range = pd.date_range(start='2021-01-01', end='2021-01-02', freq='H', closed='left')\n",
        "print(date_range)"
      ],
      "execution_count": null,
      "outputs": [
        {
          "output_type": "stream",
          "text": [
            "DatetimeIndex(['2021-01-01 00:00:00', '2021-01-01 01:00:00',\n",
            "               '2021-01-01 02:00:00', '2021-01-01 03:00:00',\n",
            "               '2021-01-01 04:00:00', '2021-01-01 05:00:00',\n",
            "               '2021-01-01 06:00:00', '2021-01-01 07:00:00',\n",
            "               '2021-01-01 08:00:00', '2021-01-01 09:00:00',\n",
            "               '2021-01-01 10:00:00', '2021-01-01 11:00:00',\n",
            "               '2021-01-01 12:00:00', '2021-01-01 13:00:00',\n",
            "               '2021-01-01 14:00:00', '2021-01-01 15:00:00',\n",
            "               '2021-01-01 16:00:00', '2021-01-01 17:00:00',\n",
            "               '2021-01-01 18:00:00', '2021-01-01 19:00:00',\n",
            "               '2021-01-01 20:00:00', '2021-01-01 21:00:00',\n",
            "               '2021-01-01 22:00:00', '2021-01-01 23:00:00'],\n",
            "              dtype='datetime64[ns]', freq='H')\n"
          ],
          "name": "stdout"
        }
      ]
    },
    {
      "cell_type": "markdown",
      "metadata": {
        "id": "9DnH4ku26Z2d"
      },
      "source": [
        "closed='right' 最後 時間對準"
      ]
    },
    {
      "cell_type": "code",
      "metadata": {
        "colab": {
          "base_uri": "https://localhost:8080/"
        },
        "id": "saCsyCRC372M",
        "outputId": "7978366d-2a68-4bc9-da3a-396369e8c150"
      },
      "source": [
        "date_range = pd.date_range(start='2021-01-01', end='2021-01-02', freq='H', closed='right')\n",
        "print(date_range)"
      ],
      "execution_count": null,
      "outputs": [
        {
          "output_type": "stream",
          "text": [
            "DatetimeIndex(['2021-01-01 01:00:00', '2021-01-01 02:00:00',\n",
            "               '2021-01-01 03:00:00', '2021-01-01 04:00:00',\n",
            "               '2021-01-01 05:00:00', '2021-01-01 06:00:00',\n",
            "               '2021-01-01 07:00:00', '2021-01-01 08:00:00',\n",
            "               '2021-01-01 09:00:00', '2021-01-01 10:00:00',\n",
            "               '2021-01-01 11:00:00', '2021-01-01 12:00:00',\n",
            "               '2021-01-01 13:00:00', '2021-01-01 14:00:00',\n",
            "               '2021-01-01 15:00:00', '2021-01-01 16:00:00',\n",
            "               '2021-01-01 17:00:00', '2021-01-01 18:00:00',\n",
            "               '2021-01-01 19:00:00', '2021-01-01 20:00:00',\n",
            "               '2021-01-01 21:00:00', '2021-01-01 22:00:00',\n",
            "               '2021-01-01 23:00:00', '2021-01-02 00:00:00'],\n",
            "              dtype='datetime64[ns]', freq='H')\n"
          ],
          "name": "stdout"
        }
      ]
    },
    {
      "cell_type": "markdown",
      "metadata": {
        "id": "PDb6bI6B7jzQ"
      },
      "source": [
        "####.dt.dayofyear"
      ]
    },
    {
      "cell_type": "code",
      "metadata": {
        "colab": {
          "base_uri": "https://localhost:8080/"
        },
        "id": "2uuWku5bBOKa",
        "outputId": "730182cd-49f3-4b68-8b9b-25c2501b4eee"
      },
      "source": [
        "date_range = pd.date_range(start='2021-03-01', periods=31)\n",
        "df = pd.DataFrame(data=date_range, columns=['day'])\n",
        "df['day_of_year'] = df['day'].dt.dayofyear\n",
        "print(df)"
      ],
      "execution_count": null,
      "outputs": [
        {
          "output_type": "stream",
          "text": [
            "          day  day_of_year\n",
            "0  2021-03-01           60\n",
            "1  2021-03-02           61\n",
            "2  2021-03-03           62\n",
            "3  2021-03-04           63\n",
            "4  2021-03-05           64\n",
            "5  2021-03-06           65\n",
            "6  2021-03-07           66\n",
            "7  2021-03-08           67\n",
            "8  2021-03-09           68\n",
            "9  2021-03-10           69\n",
            "10 2021-03-11           70\n",
            "11 2021-03-12           71\n",
            "12 2021-03-13           72\n",
            "13 2021-03-14           73\n",
            "14 2021-03-15           74\n",
            "15 2021-03-16           75\n",
            "16 2021-03-17           76\n",
            "17 2021-03-18           77\n",
            "18 2021-03-19           78\n",
            "19 2021-03-20           79\n",
            "20 2021-03-21           80\n",
            "21 2021-03-22           81\n",
            "22 2021-03-23           82\n",
            "23 2021-03-24           83\n",
            "24 2021-03-25           84\n",
            "25 2021-03-26           85\n",
            "26 2021-03-27           86\n",
            "27 2021-03-28           87\n",
            "28 2021-03-29           88\n",
            "29 2021-03-30           89\n",
            "30 2021-03-31           90\n"
          ],
          "name": "stdout"
        }
      ]
    },
    {
      "cell_type": "markdown",
      "metadata": {
        "id": "fBDqB4jODKRM"
      },
      "source": [
        "[np.random.normal](https://numpy.org/doc/stable/reference/random/generated/numpy.random.normal.html?highlight=random%20normal#numpy.random.normal)\n",
        "\n",
        "[np.random.uniform](https://numpy.org/doc/stable/reference/random/generated/numpy.random.uniform.html?highlight=uniform#numpy.random.uniform)"
      ]
    },
    {
      "cell_type": "code",
      "metadata": {
        "colab": {
          "base_uri": "https://localhost:8080/"
        },
        "id": "1jMTiPnJBOM5",
        "outputId": "617e637a-f795-4427-d67c-b49d1e96298e"
      },
      "source": [
        "np.random.seed(42)\n",
        "data_dict = {\n",
        "    'normal': np.random.normal(loc=0, scale=1, size=1000),\n",
        "    'uniform': np.random.uniform(low=0, high=1, size=1000),\n",
        "    'binomial': np.random.binomial(n=1, p=0.2, size=1000)\n",
        "}\n",
        " \n",
        "df = pd.DataFrame(data=data_dict, index=pd.date_range('2020-01-01', periods=1000))\n",
        "print(df)"
      ],
      "execution_count": null,
      "outputs": [
        {
          "output_type": "stream",
          "text": [
            "              normal   uniform  binomial\n",
            "2020-01-01  0.496714  0.167483         0\n",
            "2020-01-02 -0.138264  0.104568         0\n",
            "2020-01-03  0.647689  0.636430         0\n",
            "2020-01-04  1.523030  0.706476         0\n",
            "2020-01-05 -0.234153  0.031586         1\n",
            "...              ...       ...       ...\n",
            "2022-09-22 -0.281100  0.280683         1\n",
            "2022-09-23  1.797687  0.206993         0\n",
            "2022-09-24  0.640843  0.516573         0\n",
            "2022-09-25 -0.571179  0.005506         1\n",
            "2022-09-26  0.572583  0.007664         0\n",
            "\n",
            "[1000 rows x 3 columns]\n"
          ],
          "name": "stdout"
        }
      ]
    },
    {
      "cell_type": "code",
      "metadata": {
        "colab": {
          "base_uri": "https://localhost:8080/"
        },
        "id": "XULZhEou8qFv",
        "outputId": "44cbb697-3154-4b9d-e427-db1bd3d001e3"
      },
      "source": [
        "print( df['normal'].mean() )\n",
        "print( np.std(df['normal'], ddof=1)) \n",
        "print( '.............') \n",
        "print( np.all(df['uniform'] >= 0) )\n",
        "print( np.all(df['uniform'] < 1) )"
      ],
      "execution_count": null,
      "outputs": [
        {
          "output_type": "stream",
          "text": [
            "0.019332055822325497\n",
            "0.9792159381796758\n",
            ".............\n",
            "True\n",
            "True\n"
          ],
          "name": "stdout"
        }
      ]
    },
    {
      "cell_type": "code",
      "metadata": {
        "colab": {
          "base_uri": "https://localhost:8080/"
        },
        "id": "-4H1n7l095z8",
        "outputId": "ed4b021e-1d0c-4174-ae9f-2dba81e009b4"
      },
      "source": [
        "mu, sigma = 0, 1 # mean and standard deviation\n",
        "s = np.random.normal(loc=mu, scale=sigma, size=1000)\n",
        "print(abs(mu - np.mean(s)))\n",
        "# 0 may vary\n",
        "print( abs(sigma - np.std(s, ddof=1)) )\n",
        "# 0.1 may vary"
      ],
      "execution_count": null,
      "outputs": [
        {
          "output_type": "stream",
          "text": [
            "0.0372442651596205\n",
            "0.012231706669445064\n"
          ],
          "name": "stdout"
        }
      ]
    },
    {
      "cell_type": "code",
      "metadata": {
        "id": "bRndt2RW_pNc"
      },
      "source": [
        "mu, sigma = 0, 0.1 # mean and standard deviation\n",
        "s = np.random.normal(mu, sigma, 1000)"
      ],
      "execution_count": null,
      "outputs": []
    },
    {
      "cell_type": "code",
      "metadata": {
        "colab": {
          "base_uri": "https://localhost:8080/"
        },
        "id": "cTsw5wKfDefs",
        "outputId": "ba055cd0-4d30-4752-c683-5561f09b049c"
      },
      "source": [
        "np.random.seed(42)\n",
        "data_dict = {\n",
        "    'normal': np.random.normal(loc=0, scale=1, size=1000),\n",
        "    'uniform': np.random.uniform(low=0, high=1, size=1000),\n",
        "    'binomial': np.random.binomial(n=1, p=0.2, size=1000)\n",
        "}\n",
        " \n",
        "df = pd.DataFrame(data=data_dict, index=pd.date_range('2020-01-01', periods=1000))\n",
        "print(df.head(10))\n",
        "print()\n",
        "print(df.tail())"
      ],
      "execution_count": null,
      "outputs": [
        {
          "output_type": "stream",
          "text": [
            "              normal   uniform  binomial\n",
            "2020-01-01  0.496714  0.167483         0\n",
            "2020-01-02 -0.138264  0.104568         0\n",
            "2020-01-03  0.647689  0.636430         0\n",
            "2020-01-04  1.523030  0.706476         0\n",
            "2020-01-05 -0.234153  0.031586         1\n",
            "2020-01-06 -0.234137  0.936212         0\n",
            "2020-01-07  1.579213  0.051971         0\n",
            "2020-01-08  0.767435  0.541296         0\n",
            "2020-01-09 -0.469474  0.709061         1\n",
            "2020-01-10  0.542560  0.870969         0\n",
            "\n",
            "              normal   uniform  binomial\n",
            "2022-09-22 -0.281100  0.280683         1\n",
            "2022-09-23  1.797687  0.206993         0\n",
            "2022-09-24  0.640843  0.516573         0\n",
            "2022-09-25 -0.571179  0.005506         1\n",
            "2022-09-26  0.572583  0.007664         0\n"
          ],
          "name": "stdout"
        }
      ]
    },
    {
      "cell_type": "code",
      "metadata": {
        "colab": {
          "base_uri": "https://localhost:8080/"
        },
        "id": "f2I2esdJDeie",
        "outputId": "0188c800-2bf7-412b-8191-c1b9a945c78b"
      },
      "source": [
        "np.random.seed(42)\n",
        "data_dict = {\n",
        "    'normal': np.random.normal(loc=0, scale=1, size=1000),\n",
        "    'uniform': np.random.uniform(low=0, high=1, size=1000),\n",
        "    'binomial': np.random.binomial(n=1, p=0.2, size=1000)\n",
        "}\n",
        " \n",
        "df = pd.DataFrame(data=data_dict, index=pd.date_range('2020-01-01', periods=1000))\n",
        "print(df.info())\n",
        "print()\n",
        "print(df.describe())"
      ],
      "execution_count": null,
      "outputs": [
        {
          "output_type": "stream",
          "text": [
            "<class 'pandas.core.frame.DataFrame'>\n",
            "DatetimeIndex: 1000 entries, 2020-01-01 to 2022-09-26\n",
            "Freq: D\n",
            "Data columns (total 3 columns):\n",
            " #   Column    Non-Null Count  Dtype  \n",
            "---  ------    --------------  -----  \n",
            " 0   normal    1000 non-null   float64\n",
            " 1   uniform   1000 non-null   float64\n",
            " 2   binomial  1000 non-null   int64  \n",
            "dtypes: float64(2), int64(1)\n",
            "memory usage: 31.2 KB\n",
            "None\n",
            "\n",
            "            normal      uniform    binomial\n",
            "count  1000.000000  1000.000000  1000.00000\n",
            "mean      0.019332     0.503649     0.19200\n",
            "std       0.979216     0.288357     0.39407\n",
            "min      -3.241267     0.003218     0.00000\n",
            "25%      -0.647590     0.247199     0.00000\n",
            "50%       0.025301     0.516126     0.00000\n",
            "75%       0.647944     0.746319     0.00000\n",
            "max       3.852731     0.999414     1.00000\n"
          ],
          "name": "stdout"
        }
      ]
    },
    {
      "cell_type": "code",
      "metadata": {
        "colab": {
          "base_uri": "https://localhost:8080/"
        },
        "id": "jP_R33UCDelM",
        "outputId": "7227d9a7-8f6d-4ddf-da7f-eb108de6da4b"
      },
      "source": [
        "np.random.seed(42)\n",
        "data_dict = {\n",
        "    'normal': np.random.normal(loc=0, scale=1, size=1000),\n",
        "    'uniform': np.random.uniform(low=0, high=1, size=1000),\n",
        "    'binomial': np.random.binomial(n=1, p=0.2, size=1000)\n",
        "}\n",
        " \n",
        "df = pd.DataFrame(data=data_dict, index=pd.date_range('2020-01-01', periods=1000))\n",
        "print(df['binomial'].value_counts())"
      ],
      "execution_count": null,
      "outputs": [
        {
          "output_type": "stream",
          "text": [
            "0    808\n",
            "1    192\n",
            "Name: binomial, dtype: int64\n"
          ],
          "name": "stdout"
        }
      ]
    },
    {
      "cell_type": "markdown",
      "metadata": {
        "id": "UFG2_lUGFI6K"
      },
      "source": [
        "####.to_csv"
      ]
    },
    {
      "cell_type": "code",
      "metadata": {
        "id": "99HwuYJ6Den7",
        "colab": {
          "base_uri": "https://localhost:8080/"
        },
        "outputId": "702e6f76-11f0-49a6-d71a-97e05bc01706"
      },
      "source": [
        "np.random.seed(42)\n",
        "data_dict = {\n",
        "    'normal': np.random.normal(loc=0, scale=1, size=1000),\n",
        "    'uniform': np.random.uniform(low=0, high=1, size=1000),\n",
        "    'binomial': np.random.binomial(n=1, p=0.2, size=1000)\n",
        "}\n",
        " \n",
        "df = pd.DataFrame(data=data_dict, index=pd.date_range('2020-01-01', periods=1000))\n",
        "print(df.head())\n",
        "df[:50].to_csv('dataframe50.csv', sep=',')"
      ],
      "execution_count": null,
      "outputs": [
        {
          "output_type": "stream",
          "text": [
            "              normal   uniform  binomial\n",
            "2020-01-01  0.496714  0.167483         0\n",
            "2020-01-02 -0.138264  0.104568         0\n",
            "2020-01-03  0.647689  0.636430         0\n",
            "2020-01-04  1.523030  0.706476         0\n",
            "2020-01-05 -0.234153  0.031586         1\n"
          ],
          "name": "stdout"
        }
      ]
    },
    {
      "cell_type": "code",
      "metadata": {
        "colab": {
          "base_uri": "https://localhost:8080/"
        },
        "id": "jHTULNW5DeqX",
        "outputId": "ca8b4048-6966-408e-e7f9-27e98c85f083"
      },
      "source": [
        "df_new = pd.read_csv('dataframe50.csv', index_col=0)\n",
        "print(df_new)"
      ],
      "execution_count": null,
      "outputs": [
        {
          "output_type": "stream",
          "text": [
            "              normal   uniform  binomial\n",
            "2020-01-01  0.496714  0.167483         0\n",
            "2020-01-02 -0.138264  0.104568         0\n",
            "2020-01-03  0.647689  0.636430         0\n",
            "2020-01-04  1.523030  0.706476         0\n",
            "2020-01-05 -0.234153  0.031586         1\n",
            "2020-01-06 -0.234137  0.936212         0\n",
            "2020-01-07  1.579213  0.051971         0\n",
            "2020-01-08  0.767435  0.541296         0\n",
            "2020-01-09 -0.469474  0.709061         1\n",
            "2020-01-10  0.542560  0.870969         0\n",
            "2020-01-11 -0.463418  0.714087         0\n",
            "2020-01-12 -0.465730  0.801728         0\n",
            "2020-01-13  0.241962  0.339450         0\n",
            "2020-01-14 -1.913280  0.814825         0\n",
            "2020-01-15 -1.724918  0.080115         0\n",
            "2020-01-16 -0.562288  0.894817         1\n",
            "2020-01-17 -1.012831  0.547592         0\n",
            "2020-01-18  0.314247  0.817298         0\n",
            "2020-01-19 -0.908024  0.452318         1\n",
            "2020-01-20 -1.412304  0.643578         0\n",
            "2020-01-21  1.465649  0.526403         0\n",
            "2020-01-22 -0.225776  0.731590         0\n",
            "2020-01-23  0.067528  0.081630         0\n",
            "2020-01-24 -1.424748  0.060352         0\n",
            "2020-01-25 -0.544383  0.247103         1\n",
            "2020-01-26  0.110923  0.159545         0\n",
            "2020-01-27 -1.150994  0.871784         0\n",
            "2020-01-28  0.375698  0.219214         0\n",
            "2020-01-29 -0.600639  0.975865         1\n",
            "2020-01-30 -0.291694  0.336896         1\n",
            "2020-01-31 -0.601707  0.182118         1\n",
            "2020-02-01  1.852278  0.789699         0\n",
            "2020-02-02 -0.013497  0.658708         0\n",
            "2020-02-03 -1.057711  0.498196         0\n",
            "2020-02-04  0.822545  0.555364         0\n",
            "2020-02-05 -1.220844  0.719202         0\n",
            "2020-02-06  0.208864  0.228455         0\n",
            "2020-02-07 -1.959670  0.996334         0\n",
            "2020-02-08 -1.328186  0.974793         0\n",
            "2020-02-09  0.196861  0.650326         0\n",
            "2020-02-10  0.738467  0.199542         0\n",
            "2020-02-11  0.171368  0.680228         0\n",
            "2020-02-12 -0.115648  0.072198         0\n",
            "2020-02-13 -0.301104  0.030653         0\n",
            "2020-02-14 -1.478522  0.257683         0\n",
            "2020-02-15 -0.719844  0.462623         0\n",
            "2020-02-16 -0.460639  0.868273         0\n",
            "2020-02-17  1.057122  0.727169         0\n",
            "2020-02-18  0.343618  0.742707         1\n",
            "2020-02-19 -1.763040  0.425493         0\n"
          ],
          "name": "stdout"
        }
      ]
    },
    {
      "cell_type": "markdown",
      "metadata": {
        "id": "wJww8sofYgQw"
      },
      "source": [
        "###21-30"
      ]
    },
    {
      "cell_type": "markdown",
      "metadata": {
        "id": "lGFTnjdJdLi-"
      },
      "source": [
        "####[上傳檔案到Google Colab](https://medium.com/pyradise/%E4%B8%8A%E5%82%B3%E6%AA%94%E6%A1%88%E5%88%B0google-colab-dd5369a0bbfd)"
      ]
    },
    {
      "cell_type": "code",
      "metadata": {
        "colab": {
          "resources": {
            "http://localhost:8080/nbextensions/google.colab/files.js": {
              "data": "Ly8gQ29weXJpZ2h0IDIwMTcgR29vZ2xlIExMQwovLwovLyBMaWNlbnNlZCB1bmRlciB0aGUgQXBhY2hlIExpY2Vuc2UsIFZlcnNpb24gMi4wICh0aGUgIkxpY2Vuc2UiKTsKLy8geW91IG1heSBub3QgdXNlIHRoaXMgZmlsZSBleGNlcHQgaW4gY29tcGxpYW5jZSB3aXRoIHRoZSBMaWNlbnNlLgovLyBZb3UgbWF5IG9idGFpbiBhIGNvcHkgb2YgdGhlIExpY2Vuc2UgYXQKLy8KLy8gICAgICBodHRwOi8vd3d3LmFwYWNoZS5vcmcvbGljZW5zZXMvTElDRU5TRS0yLjAKLy8KLy8gVW5sZXNzIHJlcXVpcmVkIGJ5IGFwcGxpY2FibGUgbGF3IG9yIGFncmVlZCB0byBpbiB3cml0aW5nLCBzb2Z0d2FyZQovLyBkaXN0cmlidXRlZCB1bmRlciB0aGUgTGljZW5zZSBpcyBkaXN0cmlidXRlZCBvbiBhbiAiQVMgSVMiIEJBU0lTLAovLyBXSVRIT1VUIFdBUlJBTlRJRVMgT1IgQ09ORElUSU9OUyBPRiBBTlkgS0lORCwgZWl0aGVyIGV4cHJlc3Mgb3IgaW1wbGllZC4KLy8gU2VlIHRoZSBMaWNlbnNlIGZvciB0aGUgc3BlY2lmaWMgbGFuZ3VhZ2UgZ292ZXJuaW5nIHBlcm1pc3Npb25zIGFuZAovLyBsaW1pdGF0aW9ucyB1bmRlciB0aGUgTGljZW5zZS4KCi8qKgogKiBAZmlsZW92ZXJ2aWV3IEhlbHBlcnMgZm9yIGdvb2dsZS5jb2xhYiBQeXRob24gbW9kdWxlLgogKi8KKGZ1bmN0aW9uKHNjb3BlKSB7CmZ1bmN0aW9uIHNwYW4odGV4dCwgc3R5bGVBdHRyaWJ1dGVzID0ge30pIHsKICBjb25zdCBlbGVtZW50ID0gZG9jdW1lbnQuY3JlYXRlRWxlbWVudCgnc3BhbicpOwogIGVsZW1lbnQudGV4dENvbnRlbnQgPSB0ZXh0OwogIGZvciAoY29uc3Qga2V5IG9mIE9iamVjdC5rZXlzKHN0eWxlQXR0cmlidXRlcykpIHsKICAgIGVsZW1lbnQuc3R5bGVba2V5XSA9IHN0eWxlQXR0cmlidXRlc1trZXldOwogIH0KICByZXR1cm4gZWxlbWVudDsKfQoKLy8gTWF4IG51bWJlciBvZiBieXRlcyB3aGljaCB3aWxsIGJlIHVwbG9hZGVkIGF0IGEgdGltZS4KY29uc3QgTUFYX1BBWUxPQURfU0laRSA9IDEwMCAqIDEwMjQ7CgpmdW5jdGlvbiBfdXBsb2FkRmlsZXMoaW5wdXRJZCwgb3V0cHV0SWQpIHsKICBjb25zdCBzdGVwcyA9IHVwbG9hZEZpbGVzU3RlcChpbnB1dElkLCBvdXRwdXRJZCk7CiAgY29uc3Qgb3V0cHV0RWxlbWVudCA9IGRvY3VtZW50LmdldEVsZW1lbnRCeUlkKG91dHB1dElkKTsKICAvLyBDYWNoZSBzdGVwcyBvbiB0aGUgb3V0cHV0RWxlbWVudCB0byBtYWtlIGl0IGF2YWlsYWJsZSBmb3IgdGhlIG5leHQgY2FsbAogIC8vIHRvIHVwbG9hZEZpbGVzQ29udGludWUgZnJvbSBQeXRob24uCiAgb3V0cHV0RWxlbWVudC5zdGVwcyA9IHN0ZXBzOwoKICByZXR1cm4gX3VwbG9hZEZpbGVzQ29udGludWUob3V0cHV0SWQpOwp9CgovLyBUaGlzIGlzIHJvdWdobHkgYW4gYXN5bmMgZ2VuZXJhdG9yIChub3Qgc3VwcG9ydGVkIGluIHRoZSBicm93c2VyIHlldCksCi8vIHdoZXJlIHRoZXJlIGFyZSBtdWx0aXBsZSBhc3luY2hyb25vdXMgc3RlcHMgYW5kIHRoZSBQeXRob24gc2lkZSBpcyBnb2luZwovLyB0byBwb2xsIGZvciBjb21wbGV0aW9uIG9mIGVhY2ggc3RlcC4KLy8gVGhpcyB1c2VzIGEgUHJvbWlzZSB0byBibG9jayB0aGUgcHl0aG9uIHNpZGUgb24gY29tcGxldGlvbiBvZiBlYWNoIHN0ZXAsCi8vIHRoZW4gcGFzc2VzIHRoZSByZXN1bHQgb2YgdGhlIHByZXZpb3VzIHN0ZXAgYXMgdGhlIGlucHV0IHRvIHRoZSBuZXh0IHN0ZXAuCmZ1bmN0aW9uIF91cGxvYWRGaWxlc0NvbnRpbnVlKG91dHB1dElkKSB7CiAgY29uc3Qgb3V0cHV0RWxlbWVudCA9IGRvY3VtZW50LmdldEVsZW1lbnRCeUlkKG91dHB1dElkKTsKICBjb25zdCBzdGVwcyA9IG91dHB1dEVsZW1lbnQuc3RlcHM7CgogIGNvbnN0IG5leHQgPSBzdGVwcy5uZXh0KG91dHB1dEVsZW1lbnQubGFzdFByb21pc2VWYWx1ZSk7CiAgcmV0dXJuIFByb21pc2UucmVzb2x2ZShuZXh0LnZhbHVlLnByb21pc2UpLnRoZW4oKHZhbHVlKSA9PiB7CiAgICAvLyBDYWNoZSB0aGUgbGFzdCBwcm9taXNlIHZhbHVlIHRvIG1ha2UgaXQgYXZhaWxhYmxlIHRvIHRoZSBuZXh0CiAgICAvLyBzdGVwIG9mIHRoZSBnZW5lcmF0b3IuCiAgICBvdXRwdXRFbGVtZW50Lmxhc3RQcm9taXNlVmFsdWUgPSB2YWx1ZTsKICAgIHJldHVybiBuZXh0LnZhbHVlLnJlc3BvbnNlOwogIH0pOwp9CgovKioKICogR2VuZXJhdG9yIGZ1bmN0aW9uIHdoaWNoIGlzIGNhbGxlZCBiZXR3ZWVuIGVhY2ggYXN5bmMgc3RlcCBvZiB0aGUgdXBsb2FkCiAqIHByb2Nlc3MuCiAqIEBwYXJhbSB7c3RyaW5nfSBpbnB1dElkIEVsZW1lbnQgSUQgb2YgdGhlIGlucHV0IGZpbGUgcGlja2VyIGVsZW1lbnQuCiAqIEBwYXJhbSB7c3RyaW5nfSBvdXRwdXRJZCBFbGVtZW50IElEIG9mIHRoZSBvdXRwdXQgZGlzcGxheS4KICogQHJldHVybiB7IUl0ZXJhYmxlPCFPYmplY3Q+fSBJdGVyYWJsZSBvZiBuZXh0IHN0ZXBzLgogKi8KZnVuY3Rpb24qIHVwbG9hZEZpbGVzU3RlcChpbnB1dElkLCBvdXRwdXRJZCkgewogIGNvbnN0IGlucHV0RWxlbWVudCA9IGRvY3VtZW50LmdldEVsZW1lbnRCeUlkKGlucHV0SWQpOwogIGlucHV0RWxlbWVudC5kaXNhYmxlZCA9IGZhbHNlOwoKICBjb25zdCBvdXRwdXRFbGVtZW50ID0gZG9jdW1lbnQuZ2V0RWxlbWVudEJ5SWQob3V0cHV0SWQpOwogIG91dHB1dEVsZW1lbnQuaW5uZXJIVE1MID0gJyc7CgogIGNvbnN0IHBpY2tlZFByb21pc2UgPSBuZXcgUHJvbWlzZSgocmVzb2x2ZSkgPT4gewogICAgaW5wdXRFbGVtZW50LmFkZEV2ZW50TGlzdGVuZXIoJ2NoYW5nZScsIChlKSA9PiB7CiAgICAgIHJlc29sdmUoZS50YXJnZXQuZmlsZXMpOwogICAgfSk7CiAgfSk7CgogIGNvbnN0IGNhbmNlbCA9IGRvY3VtZW50LmNyZWF0ZUVsZW1lbnQoJ2J1dHRvbicpOwogIGlucHV0RWxlbWVudC5wYXJlbnRFbGVtZW50LmFwcGVuZENoaWxkKGNhbmNlbCk7CiAgY2FuY2VsLnRleHRDb250ZW50ID0gJ0NhbmNlbCB1cGxvYWQnOwogIGNvbnN0IGNhbmNlbFByb21pc2UgPSBuZXcgUHJvbWlzZSgocmVzb2x2ZSkgPT4gewogICAgY2FuY2VsLm9uY2xpY2sgPSAoKSA9PiB7CiAgICAgIHJlc29sdmUobnVsbCk7CiAgICB9OwogIH0pOwoKICAvLyBXYWl0IGZvciB0aGUgdXNlciB0byBwaWNrIHRoZSBmaWxlcy4KICBjb25zdCBmaWxlcyA9IHlpZWxkIHsKICAgIHByb21pc2U6IFByb21pc2UucmFjZShbcGlja2VkUHJvbWlzZSwgY2FuY2VsUHJvbWlzZV0pLAogICAgcmVzcG9uc2U6IHsKICAgICAgYWN0aW9uOiAnc3RhcnRpbmcnLAogICAgfQogIH07CgogIGNhbmNlbC5yZW1vdmUoKTsKCiAgLy8gRGlzYWJsZSB0aGUgaW5wdXQgZWxlbWVudCBzaW5jZSBmdXJ0aGVyIHBpY2tzIGFyZSBub3QgYWxsb3dlZC4KICBpbnB1dEVsZW1lbnQuZGlzYWJsZWQgPSB0cnVlOwoKICBpZiAoIWZpbGVzKSB7CiAgICByZXR1cm4gewogICAgICByZXNwb25zZTogewogICAgICAgIGFjdGlvbjogJ2NvbXBsZXRlJywKICAgICAgfQogICAgfTsKICB9CgogIGZvciAoY29uc3QgZmlsZSBvZiBmaWxlcykgewogICAgY29uc3QgbGkgPSBkb2N1bWVudC5jcmVhdGVFbGVtZW50KCdsaScpOwogICAgbGkuYXBwZW5kKHNwYW4oZmlsZS5uYW1lLCB7Zm9udFdlaWdodDogJ2JvbGQnfSkpOwogICAgbGkuYXBwZW5kKHNwYW4oCiAgICAgICAgYCgke2ZpbGUudHlwZSB8fCAnbi9hJ30pIC0gJHtmaWxlLnNpemV9IGJ5dGVzLCBgICsKICAgICAgICBgbGFzdCBtb2RpZmllZDogJHsKICAgICAgICAgICAgZmlsZS5sYXN0TW9kaWZpZWREYXRlID8gZmlsZS5sYXN0TW9kaWZpZWREYXRlLnRvTG9jYWxlRGF0ZVN0cmluZygpIDoKICAgICAgICAgICAgICAgICAgICAgICAgICAgICAgICAgICAgJ24vYSd9IC0gYCkpOwogICAgY29uc3QgcGVyY2VudCA9IHNwYW4oJzAlIGRvbmUnKTsKICAgIGxpLmFwcGVuZENoaWxkKHBlcmNlbnQpOwoKICAgIG91dHB1dEVsZW1lbnQuYXBwZW5kQ2hpbGQobGkpOwoKICAgIGNvbnN0IGZpbGVEYXRhUHJvbWlzZSA9IG5ldyBQcm9taXNlKChyZXNvbHZlKSA9PiB7CiAgICAgIGNvbnN0IHJlYWRlciA9IG5ldyBGaWxlUmVhZGVyKCk7CiAgICAgIHJlYWRlci5vbmxvYWQgPSAoZSkgPT4gewogICAgICAgIHJlc29sdmUoZS50YXJnZXQucmVzdWx0KTsKICAgICAgfTsKICAgICAgcmVhZGVyLnJlYWRBc0FycmF5QnVmZmVyKGZpbGUpOwogICAgfSk7CiAgICAvLyBXYWl0IGZvciB0aGUgZGF0YSB0byBiZSByZWFkeS4KICAgIGxldCBmaWxlRGF0YSA9IHlpZWxkIHsKICAgICAgcHJvbWlzZTogZmlsZURhdGFQcm9taXNlLAogICAgICByZXNwb25zZTogewogICAgICAgIGFjdGlvbjogJ2NvbnRpbnVlJywKICAgICAgfQogICAgfTsKCiAgICAvLyBVc2UgYSBjaHVua2VkIHNlbmRpbmcgdG8gYXZvaWQgbWVzc2FnZSBzaXplIGxpbWl0cy4gU2VlIGIvNjIxMTU2NjAuCiAgICBsZXQgcG9zaXRpb24gPSAwOwogICAgd2hpbGUgKHBvc2l0aW9uIDwgZmlsZURhdGEuYnl0ZUxlbmd0aCkgewogICAgICBjb25zdCBsZW5ndGggPSBNYXRoLm1pbihmaWxlRGF0YS5ieXRlTGVuZ3RoIC0gcG9zaXRpb24sIE1BWF9QQVlMT0FEX1NJWkUpOwogICAgICBjb25zdCBjaHVuayA9IG5ldyBVaW50OEFycmF5KGZpbGVEYXRhLCBwb3NpdGlvbiwgbGVuZ3RoKTsKICAgICAgcG9zaXRpb24gKz0gbGVuZ3RoOwoKICAgICAgY29uc3QgYmFzZTY0ID0gYnRvYShTdHJpbmcuZnJvbUNoYXJDb2RlLmFwcGx5KG51bGwsIGNodW5rKSk7CiAgICAgIHlpZWxkIHsKICAgICAgICByZXNwb25zZTogewogICAgICAgICAgYWN0aW9uOiAnYXBwZW5kJywKICAgICAgICAgIGZpbGU6IGZpbGUubmFtZSwKICAgICAgICAgIGRhdGE6IGJhc2U2NCwKICAgICAgICB9LAogICAgICB9OwogICAgICBwZXJjZW50LnRleHRDb250ZW50ID0KICAgICAgICAgIGAke01hdGgucm91bmQoKHBvc2l0aW9uIC8gZmlsZURhdGEuYnl0ZUxlbmd0aCkgKiAxMDApfSUgZG9uZWA7CiAgICB9CiAgfQoKICAvLyBBbGwgZG9uZS4KICB5aWVsZCB7CiAgICByZXNwb25zZTogewogICAgICBhY3Rpb246ICdjb21wbGV0ZScsCiAgICB9CiAgfTsKfQoKc2NvcGUuZ29vZ2xlID0gc2NvcGUuZ29vZ2xlIHx8IHt9OwpzY29wZS5nb29nbGUuY29sYWIgPSBzY29wZS5nb29nbGUuY29sYWIgfHwge307CnNjb3BlLmdvb2dsZS5jb2xhYi5fZmlsZXMgPSB7CiAgX3VwbG9hZEZpbGVzLAogIF91cGxvYWRGaWxlc0NvbnRpbnVlLAp9Owp9KShzZWxmKTsK",
              "ok": true,
              "headers": [
                [
                  "content-type",
                  "application/javascript"
                ]
              ],
              "status": 200,
              "status_text": ""
            }
          },
          "base_uri": "https://localhost:8080/",
          "height": 76
        },
        "id": "yTomUA62c-8q",
        "outputId": "aa2a29b2-b71b-4565-d149-51a49f651de3"
      },
      "source": [
        "from google.colab import files\n",
        "uploaded = files.upload()"
      ],
      "execution_count": null,
      "outputs": [
        {
          "output_type": "display_data",
          "data": {
            "text/html": [
              "\n",
              "     <input type=\"file\" id=\"files-a95961e6-c99f-458d-a9e5-ad81d2c876dc\" name=\"files[]\" multiple disabled\n",
              "        style=\"border:none\" />\n",
              "     <output id=\"result-a95961e6-c99f-458d-a9e5-ad81d2c876dc\">\n",
              "      Upload widget is only available when the cell has been executed in the\n",
              "      current browser session. Please rerun this cell to enable.\n",
              "      </output>\n",
              "      <script src=\"/nbextensions/google.colab/files.js\"></script> "
            ],
            "text/plain": [
              "<IPython.core.display.HTML object>"
            ]
          },
          "metadata": {
            "tags": []
          }
        },
        {
          "output_type": "stream",
          "text": [
            "Saving google.csv to google.csv\n"
          ],
          "name": "stdout"
        }
      ]
    },
    {
      "cell_type": "markdown",
      "metadata": {
        "id": "flAh4hwr59P5"
      },
      "source": [
        "####下載檔案"
      ]
    },
    {
      "cell_type": "code",
      "metadata": {
        "colab": {
          "base_uri": "https://localhost:8080/",
          "height": 17
        },
        "id": "wQfR5r000Esr",
        "outputId": "29789229-8bc4-40fc-bd84-8b6ba38c4d4d"
      },
      "source": [
        "from google.colab import files\n",
        "files.download('google.csv')"
      ],
      "execution_count": null,
      "outputs": [
        {
          "output_type": "display_data",
          "data": {
            "application/javascript": [
              "\n",
              "    async function download(id, filename, size) {\n",
              "      if (!google.colab.kernel.accessAllowed) {\n",
              "        return;\n",
              "      }\n",
              "      const div = document.createElement('div');\n",
              "      const label = document.createElement('label');\n",
              "      label.textContent = `Downloading \"${filename}\": `;\n",
              "      div.appendChild(label);\n",
              "      const progress = document.createElement('progress');\n",
              "      progress.max = size;\n",
              "      div.appendChild(progress);\n",
              "      document.body.appendChild(div);\n",
              "\n",
              "      const buffers = [];\n",
              "      let downloaded = 0;\n",
              "\n",
              "      const channel = await google.colab.kernel.comms.open(id);\n",
              "      // Send a message to notify the kernel that we're ready.\n",
              "      channel.send({})\n",
              "\n",
              "      for await (const message of channel.messages) {\n",
              "        // Send a message to notify the kernel that we're ready.\n",
              "        channel.send({})\n",
              "        if (message.buffers) {\n",
              "          for (const buffer of message.buffers) {\n",
              "            buffers.push(buffer);\n",
              "            downloaded += buffer.byteLength;\n",
              "            progress.value = downloaded;\n",
              "          }\n",
              "        }\n",
              "      }\n",
              "      const blob = new Blob(buffers, {type: 'application/binary'});\n",
              "      const a = document.createElement('a');\n",
              "      a.href = window.URL.createObjectURL(blob);\n",
              "      a.download = filename;\n",
              "      div.appendChild(a);\n",
              "      a.click();\n",
              "      div.remove();\n",
              "    }\n",
              "  "
            ],
            "text/plain": [
              "<IPython.core.display.Javascript object>"
            ]
          },
          "metadata": {
            "tags": []
          }
        },
        {
          "output_type": "display_data",
          "data": {
            "application/javascript": [
              "download(\"download_b3cc7bff-85b7-462a-95b8-48dda3f60090\", \"google.csv\", 1579)"
            ],
            "text/plain": [
              "<IPython.core.display.Javascript object>"
            ]
          },
          "metadata": {
            "tags": []
          }
        }
      ]
    },
    {
      "cell_type": "code",
      "metadata": {
        "colab": {
          "base_uri": "https://localhost:8080/"
        },
        "id": "2dCP8Nou0KLw",
        "outputId": "3ba0e68c-7750-404a-e2e5-042575da103b"
      },
      "source": [
        "ls"
      ],
      "execution_count": null,
      "outputs": [
        {
          "output_type": "stream",
          "text": [
            "cars.csv  market.json  negative.json  positive.json  \u001b[0m\u001b[01;34msample_data\u001b[0m/  weekend.txt\n"
          ],
          "name": "stdout"
        }
      ]
    },
    {
      "cell_type": "code",
      "metadata": {
        "colab": {
          "base_uri": "https://localhost:8080/"
        },
        "id": "ulcU1x1KdDAt",
        "outputId": "6f1e1182-f492-4aa0-d29a-3e92914c61c2"
      },
      "source": [
        "ls"
      ],
      "execution_count": null,
      "outputs": [
        {
          "output_type": "stream",
          "text": [
            "dataframe50.csv  google.csv  \u001b[0m\u001b[01;34msample_data\u001b[0m/\n"
          ],
          "name": "stdout"
        }
      ]
    },
    {
      "cell_type": "code",
      "metadata": {
        "colab": {
          "base_uri": "https://localhost:8080/"
        },
        "id": "sHaFx1IdYfgU",
        "outputId": "c67571eb-0276-456f-a586-a892cf8ff7a8"
      },
      "source": [
        "google = pd.read_csv('google.csv')\n",
        "print(google)"
      ],
      "execution_count": null,
      "outputs": [
        {
          "output_type": "stream",
          "text": [
            "          Date     Open       High        Low    Close   Volume\n",
            "0   2020-07-02  1451.84  1488.5200  1451.0650  1469.93  2860915\n",
            "1   2020-07-01  1419.17  1448.4800  1414.1800  1442.00  2109124\n",
            "2   2020-06-30  1396.88  1424.0000  1386.9301  1418.05  2014320\n",
            "3   2020-06-29  1360.34  1398.0000  1351.6500  1397.17  2253678\n",
            "4   2020-06-26  1432.63  1437.0200  1355.0000  1362.54  4882014\n",
            "5   2020-06-25  1431.22  1442.3200  1419.5401  1441.10  1197907\n",
            "6   2020-06-24  1463.28  1475.7900  1430.0000  1432.70  1579579\n",
            "7   2020-06-23  1452.00  1475.2000  1445.0000  1463.98  1887583\n",
            "8   2020-06-22  1425.01  1450.9500  1419.1900  1450.66  1472072\n",
            "9   2020-06-19  1440.00  1444.5000  1419.0000  1424.64  2639167\n",
            "10  2020-06-18  1449.85  1452.9699  1426.2350  1434.12  1743071\n",
            "11  2020-06-17  1452.94  1462.2000  1435.1250  1452.54  1530500\n",
            "12  2020-06-16  1449.00  1457.1700  1428.9900  1446.47  1534826\n",
            "13  2020-06-15  1389.49  1425.0000  1387.1952  1420.74  1527652\n",
            "14  2020-06-12  1425.86  1434.5050  1385.8000  1412.92  1833756\n",
            "15  2020-06-11  1441.03  1451.6033  1398.4100  1401.90  2357243\n",
            "16  2020-06-10  1461.51  1472.7700  1454.3550  1464.70  1588116\n",
            "17  2020-06-09  1445.24  1467.8000  1442.3600  1452.08  1681155\n",
            "18  2020-06-08  1426.28  1449.0000  1424.4800  1448.04  1693881\n",
            "19  2020-06-05  1415.64  1446.3000  1407.6213  1440.02  2132350\n",
            "20  2020-06-04  1436.78  1441.3200  1406.0100  1414.30  1349105\n",
            "21  2020-06-03  1442.70  1449.0100  1431.6200  1439.25  1386640\n",
            "22  2020-06-02  1435.00  1443.0000  1421.6100  1442.31  1172069\n",
            "23  2020-06-01  1425.70  1441.5800  1422.2800  1434.87  1259254\n",
            "24  2020-05-29  1420.43  1436.7300  1415.9800  1433.52  1852522\n",
            "25  2020-05-28  1400.00  1444.4600  1399.0760  1418.24  1759787\n",
            "26  2020-05-27  1420.00  1425.3450  1394.6000  1420.28  1584185\n",
            "27  2020-05-26  1441.96  1445.1100  1419.3950  1421.37  2229488\n",
            "28  2020-05-22  1403.90  1417.0000  1395.9500  1413.24  1427206\n",
            "29  2020-05-21  1410.99  1416.4600  1394.3900  1406.75  1544976\n"
          ],
          "name": "stdout"
        }
      ]
    },
    {
      "cell_type": "code",
      "metadata": {
        "colab": {
          "base_uri": "https://localhost:8080/"
        },
        "id": "nGrJraEmYcqg",
        "outputId": "67c2fc28-ca98-4621-9bf7-387f45dc91dc"
      },
      "source": [
        "google = pd.read_csv('google.csv')\n",
        "print(google.info())\n",
        "print()\n",
        "print(google.describe())"
      ],
      "execution_count": null,
      "outputs": [
        {
          "output_type": "stream",
          "text": [
            "<class 'pandas.core.frame.DataFrame'>\n",
            "RangeIndex: 30 entries, 0 to 29\n",
            "Data columns (total 6 columns):\n",
            " #   Column  Non-Null Count  Dtype  \n",
            "---  ------  --------------  -----  \n",
            " 0   Date    30 non-null     object \n",
            " 1   Open    30 non-null     float64\n",
            " 2   High    30 non-null     float64\n",
            " 3   Low     30 non-null     float64\n",
            " 4   Close   30 non-null     float64\n",
            " 5   Volume  30 non-null     int64  \n",
            "dtypes: float64(4), int64(1), object(1)\n",
            "memory usage: 1.5+ KB\n",
            "None\n",
            "\n",
            "              Open         High          Low        Close        Volume\n",
            "count    30.000000    30.000000    30.000000    30.000000  3.000000e+01\n",
            "mean   1428.889000  1445.470440  1412.767923  1430.681000  1.869471e+06\n",
            "std      22.943586    19.462454    24.728358    22.717075  7.014872e+05\n",
            "min    1360.340000  1398.000000  1351.650000  1362.540000  1.172069e+06\n",
            "25%    1419.377500  1436.802500  1396.565000  1418.097500  1.528364e+06\n",
            "50%    1431.925000  1444.805000  1419.095000  1433.820000  1.687518e+06\n",
            "75%    1444.605000  1452.628250  1428.301250  1445.430000  2.085423e+06\n",
            "max    1463.280000  1488.520000  1454.355000  1469.930000  4.882014e+06\n"
          ],
          "name": "stdout"
        }
      ]
    },
    {
      "cell_type": "code",
      "metadata": {
        "colab": {
          "base_uri": "https://localhost:8080/"
        },
        "id": "gJwG_tAZYctJ",
        "outputId": "06538027-f876-46aa-98b2-a1165dcdabff"
      },
      "source": [
        "google = pd.read_csv('google.csv', index_col=0)\n",
        "print(google.head())\n",
        "google = google.reset_index()\n",
        "print(google.head())\n"
      ],
      "execution_count": null,
      "outputs": [
        {
          "output_type": "stream",
          "text": [
            "               Open     High        Low    Close   Volume\n",
            "Date                                                     \n",
            "2020-07-02  1451.84  1488.52  1451.0650  1469.93  2860915\n",
            "2020-07-01  1419.17  1448.48  1414.1800  1442.00  2109124\n",
            "2020-06-30  1396.88  1424.00  1386.9301  1418.05  2014320\n",
            "2020-06-29  1360.34  1398.00  1351.6500  1397.17  2253678\n",
            "2020-06-26  1432.63  1437.02  1355.0000  1362.54  4882014\n",
            "         Date     Open     High        Low    Close   Volume\n",
            "0  2020-07-02  1451.84  1488.52  1451.0650  1469.93  2860915\n",
            "1  2020-07-01  1419.17  1448.48  1414.1800  1442.00  2109124\n",
            "2  2020-06-30  1396.88  1424.00  1386.9301  1418.05  2014320\n",
            "3  2020-06-29  1360.34  1398.00  1351.6500  1397.17  2253678\n",
            "4  2020-06-26  1432.63  1437.02  1355.0000  1362.54  4882014\n"
          ],
          "name": "stdout"
        }
      ]
    },
    {
      "cell_type": "code",
      "metadata": {
        "colab": {
          "base_uri": "https://localhost:8080/"
        },
        "id": "5yYh-ZCwYcv_",
        "outputId": "03ecc656-04b3-434f-9206-3515815b5634"
      },
      "source": [
        "google = pd.read_csv('google.csv', index_col=0)\n",
        "google = google.reset_index()\n",
        "print(google.info())\n",
        "print('........')\n",
        "google['Date'] = pd.to_datetime(google['Date']) #轉換時間序列\n",
        "google['Year'] = google['Date'].dt.year\n",
        "google['Month'] = google['Date'].dt.month\n",
        "print(google.info())\n",
        "print(google)\n"
      ],
      "execution_count": null,
      "outputs": [
        {
          "output_type": "stream",
          "text": [
            "<class 'pandas.core.frame.DataFrame'>\n",
            "RangeIndex: 30 entries, 0 to 29\n",
            "Data columns (total 6 columns):\n",
            " #   Column  Non-Null Count  Dtype  \n",
            "---  ------  --------------  -----  \n",
            " 0   Date    30 non-null     object \n",
            " 1   Open    30 non-null     float64\n",
            " 2   High    30 non-null     float64\n",
            " 3   Low     30 non-null     float64\n",
            " 4   Close   30 non-null     float64\n",
            " 5   Volume  30 non-null     int64  \n",
            "dtypes: float64(4), int64(1), object(1)\n",
            "memory usage: 1.5+ KB\n",
            "None\n",
            "........\n",
            "<class 'pandas.core.frame.DataFrame'>\n",
            "RangeIndex: 30 entries, 0 to 29\n",
            "Data columns (total 8 columns):\n",
            " #   Column  Non-Null Count  Dtype         \n",
            "---  ------  --------------  -----         \n",
            " 0   Date    30 non-null     datetime64[ns]\n",
            " 1   Open    30 non-null     float64       \n",
            " 2   High    30 non-null     float64       \n",
            " 3   Low     30 non-null     float64       \n",
            " 4   Close   30 non-null     float64       \n",
            " 5   Volume  30 non-null     int64         \n",
            " 6   Year    30 non-null     int64         \n",
            " 7   Month   30 non-null     int64         \n",
            "dtypes: datetime64[ns](1), float64(4), int64(3)\n",
            "memory usage: 2.0 KB\n",
            "None\n",
            "         Date     Open       High        Low    Close   Volume  Year  Month\n",
            "0  2020-07-02  1451.84  1488.5200  1451.0650  1469.93  2860915  2020      7\n",
            "1  2020-07-01  1419.17  1448.4800  1414.1800  1442.00  2109124  2020      7\n",
            "2  2020-06-30  1396.88  1424.0000  1386.9301  1418.05  2014320  2020      6\n",
            "3  2020-06-29  1360.34  1398.0000  1351.6500  1397.17  2253678  2020      6\n",
            "4  2020-06-26  1432.63  1437.0200  1355.0000  1362.54  4882014  2020      6\n",
            "5  2020-06-25  1431.22  1442.3200  1419.5401  1441.10  1197907  2020      6\n",
            "6  2020-06-24  1463.28  1475.7900  1430.0000  1432.70  1579579  2020      6\n",
            "7  2020-06-23  1452.00  1475.2000  1445.0000  1463.98  1887583  2020      6\n",
            "8  2020-06-22  1425.01  1450.9500  1419.1900  1450.66  1472072  2020      6\n",
            "9  2020-06-19  1440.00  1444.5000  1419.0000  1424.64  2639167  2020      6\n",
            "10 2020-06-18  1449.85  1452.9699  1426.2350  1434.12  1743071  2020      6\n",
            "11 2020-06-17  1452.94  1462.2000  1435.1250  1452.54  1530500  2020      6\n",
            "12 2020-06-16  1449.00  1457.1700  1428.9900  1446.47  1534826  2020      6\n",
            "13 2020-06-15  1389.49  1425.0000  1387.1952  1420.74  1527652  2020      6\n",
            "14 2020-06-12  1425.86  1434.5050  1385.8000  1412.92  1833756  2020      6\n",
            "15 2020-06-11  1441.03  1451.6033  1398.4100  1401.90  2357243  2020      6\n",
            "16 2020-06-10  1461.51  1472.7700  1454.3550  1464.70  1588116  2020      6\n",
            "17 2020-06-09  1445.24  1467.8000  1442.3600  1452.08  1681155  2020      6\n",
            "18 2020-06-08  1426.28  1449.0000  1424.4800  1448.04  1693881  2020      6\n",
            "19 2020-06-05  1415.64  1446.3000  1407.6213  1440.02  2132350  2020      6\n",
            "20 2020-06-04  1436.78  1441.3200  1406.0100  1414.30  1349105  2020      6\n",
            "21 2020-06-03  1442.70  1449.0100  1431.6200  1439.25  1386640  2020      6\n",
            "22 2020-06-02  1435.00  1443.0000  1421.6100  1442.31  1172069  2020      6\n",
            "23 2020-06-01  1425.70  1441.5800  1422.2800  1434.87  1259254  2020      6\n",
            "24 2020-05-29  1420.43  1436.7300  1415.9800  1433.52  1852522  2020      5\n",
            "25 2020-05-28  1400.00  1444.4600  1399.0760  1418.24  1759787  2020      5\n",
            "26 2020-05-27  1420.00  1425.3450  1394.6000  1420.28  1584185  2020      5\n",
            "27 2020-05-26  1441.96  1445.1100  1419.3950  1421.37  2229488  2020      5\n",
            "28 2020-05-22  1403.90  1417.0000  1395.9500  1413.24  1427206  2020      5\n",
            "29 2020-05-21  1410.99  1416.4600  1394.3900  1406.75  1544976  2020      5\n"
          ],
          "name": "stdout"
        }
      ]
    },
    {
      "cell_type": "markdown",
      "metadata": {
        "id": "ZbnhjqstGXHd"
      },
      "source": [
        "####計算月平均"
      ]
    },
    {
      "cell_type": "code",
      "metadata": {
        "colab": {
          "base_uri": "https://localhost:8080/"
        },
        "id": "opaNWVAoYc2Z",
        "outputId": "632fedcf-126f-4b91-89d9-b8d5f1af7b2c"
      },
      "source": [
        "google = pd.read_csv('google.csv', index_col=0)\n",
        "google = google.reset_index()\n",
        "google['Date'] = pd.to_datetime(google['Date'])\n",
        "google['Year'] = google['Date'].dt.year\n",
        "google['Month'] = google['Date'].dt.month\n",
        "print(google.groupby('Month')['Close'].mean())"
      ],
      "execution_count": null,
      "outputs": [
        {
          "output_type": "stream",
          "text": [
            "Month\n",
            "5    1418.900000\n",
            "6    1431.595455\n",
            "7    1455.965000\n",
            "Name: Close, dtype: float64\n"
          ],
          "name": "stdout"
        }
      ]
    },
    {
      "cell_type": "code",
      "metadata": {
        "colab": {
          "base_uri": "https://localhost:8080/"
        },
        "id": "5ixbX-PTYc5H",
        "outputId": "bd2821c2-4343-42e6-8620-c146d7c189cc"
      },
      "source": [
        "google = pd.read_csv('google.csv', index_col=0)\n",
        "google = google.reset_index()\n",
        "idx_min = google['Close'].argmin()\n",
        "print(google.iloc[[idx_min]])"
      ],
      "execution_count": null,
      "outputs": [
        {
          "output_type": "stream",
          "text": [
            "         Date     Open     High     Low    Close   Volume\n",
            "4  2020-06-26  1432.63  1437.02  1355.0  1362.54  4882014\n"
          ],
          "name": "stdout"
        }
      ]
    },
    {
      "cell_type": "code",
      "metadata": {
        "colab": {
          "base_uri": "https://localhost:8080/"
        },
        "id": "SxdJ9b3ZgjJ3",
        "outputId": "3e602641-6c9c-40ff-ce40-09617b791113"
      },
      "source": [
        "google = pd.read_csv('google.csv', index_col=0)\n",
        "google = google.reset_index()\n",
        "print(google[['Date', 'Open', 'Close', 'Volume']])"
      ],
      "execution_count": null,
      "outputs": [
        {
          "output_type": "stream",
          "text": [
            "          Date     Open    Close   Volume\n",
            "0   2020-07-02  1451.84  1469.93  2860915\n",
            "1   2020-07-01  1419.17  1442.00  2109124\n",
            "2   2020-06-30  1396.88  1418.05  2014320\n",
            "3   2020-06-29  1360.34  1397.17  2253678\n",
            "4   2020-06-26  1432.63  1362.54  4882014\n",
            "5   2020-06-25  1431.22  1441.10  1197907\n",
            "6   2020-06-24  1463.28  1432.70  1579579\n",
            "7   2020-06-23  1452.00  1463.98  1887583\n",
            "8   2020-06-22  1425.01  1450.66  1472072\n",
            "9   2020-06-19  1440.00  1424.64  2639167\n",
            "10  2020-06-18  1449.85  1434.12  1743071\n",
            "11  2020-06-17  1452.94  1452.54  1530500\n",
            "12  2020-06-16  1449.00  1446.47  1534826\n",
            "13  2020-06-15  1389.49  1420.74  1527652\n",
            "14  2020-06-12  1425.86  1412.92  1833756\n",
            "15  2020-06-11  1441.03  1401.90  2357243\n",
            "16  2020-06-10  1461.51  1464.70  1588116\n",
            "17  2020-06-09  1445.24  1452.08  1681155\n",
            "18  2020-06-08  1426.28  1448.04  1693881\n",
            "19  2020-06-05  1415.64  1440.02  2132350\n",
            "20  2020-06-04  1436.78  1414.30  1349105\n",
            "21  2020-06-03  1442.70  1439.25  1386640\n",
            "22  2020-06-02  1435.00  1442.31  1172069\n",
            "23  2020-06-01  1425.70  1434.87  1259254\n",
            "24  2020-05-29  1420.43  1433.52  1852522\n",
            "25  2020-05-28  1400.00  1418.24  1759787\n",
            "26  2020-05-27  1420.00  1420.28  1584185\n",
            "27  2020-05-26  1441.96  1421.37  2229488\n",
            "28  2020-05-22  1403.90  1413.24  1427206\n",
            "29  2020-05-21  1410.99  1406.75  1544976\n"
          ],
          "name": "stdout"
        }
      ]
    },
    {
      "cell_type": "code",
      "metadata": {
        "colab": {
          "base_uri": "https://localhost:8080/"
        },
        "id": "BYbOlM3mgjMp",
        "outputId": "71e82520-6f25-4f33-f4bb-44683ac56494"
      },
      "source": [
        "google = pd.read_csv('google.csv')\n",
        "google = google.set_index('Date')\n",
        "print(google)"
      ],
      "execution_count": null,
      "outputs": [
        {
          "output_type": "stream",
          "text": [
            "               Open       High        Low    Close   Volume\n",
            "Date                                                       \n",
            "2020-07-02  1451.84  1488.5200  1451.0650  1469.93  2860915\n",
            "2020-07-01  1419.17  1448.4800  1414.1800  1442.00  2109124\n",
            "2020-06-30  1396.88  1424.0000  1386.9301  1418.05  2014320\n",
            "2020-06-29  1360.34  1398.0000  1351.6500  1397.17  2253678\n",
            "2020-06-26  1432.63  1437.0200  1355.0000  1362.54  4882014\n",
            "2020-06-25  1431.22  1442.3200  1419.5401  1441.10  1197907\n",
            "2020-06-24  1463.28  1475.7900  1430.0000  1432.70  1579579\n",
            "2020-06-23  1452.00  1475.2000  1445.0000  1463.98  1887583\n",
            "2020-06-22  1425.01  1450.9500  1419.1900  1450.66  1472072\n",
            "2020-06-19  1440.00  1444.5000  1419.0000  1424.64  2639167\n",
            "2020-06-18  1449.85  1452.9699  1426.2350  1434.12  1743071\n",
            "2020-06-17  1452.94  1462.2000  1435.1250  1452.54  1530500\n",
            "2020-06-16  1449.00  1457.1700  1428.9900  1446.47  1534826\n",
            "2020-06-15  1389.49  1425.0000  1387.1952  1420.74  1527652\n",
            "2020-06-12  1425.86  1434.5050  1385.8000  1412.92  1833756\n",
            "2020-06-11  1441.03  1451.6033  1398.4100  1401.90  2357243\n",
            "2020-06-10  1461.51  1472.7700  1454.3550  1464.70  1588116\n",
            "2020-06-09  1445.24  1467.8000  1442.3600  1452.08  1681155\n",
            "2020-06-08  1426.28  1449.0000  1424.4800  1448.04  1693881\n",
            "2020-06-05  1415.64  1446.3000  1407.6213  1440.02  2132350\n",
            "2020-06-04  1436.78  1441.3200  1406.0100  1414.30  1349105\n",
            "2020-06-03  1442.70  1449.0100  1431.6200  1439.25  1386640\n",
            "2020-06-02  1435.00  1443.0000  1421.6100  1442.31  1172069\n",
            "2020-06-01  1425.70  1441.5800  1422.2800  1434.87  1259254\n",
            "2020-05-29  1420.43  1436.7300  1415.9800  1433.52  1852522\n",
            "2020-05-28  1400.00  1444.4600  1399.0760  1418.24  1759787\n",
            "2020-05-27  1420.00  1425.3450  1394.6000  1420.28  1584185\n",
            "2020-05-26  1441.96  1445.1100  1419.3950  1421.37  2229488\n",
            "2020-05-22  1403.90  1417.0000  1395.9500  1413.24  1427206\n",
            "2020-05-21  1410.99  1416.4600  1394.3900  1406.75  1544976\n"
          ],
          "name": "stdout"
        }
      ]
    },
    {
      "cell_type": "code",
      "metadata": {
        "colab": {
          "base_uri": "https://localhost:8080/"
        },
        "id": "s2OJ-mfcgjPX",
        "outputId": "eca434f5-03fe-4835-fd3a-3b696858a466"
      },
      "source": [
        "google = pd.read_csv('google.csv')\n",
        "google['Date'] = pd.to_datetime(google['Date'])\n",
        "google['Year'] = google['Date'].dt.year\n",
        "google['Month'] = google['Date'].dt.month\n",
        "print(google.head())\n",
        "google = google.drop(columns=['Year', 'Month'])\n",
        "print(google.head())"
      ],
      "execution_count": null,
      "outputs": [
        {
          "output_type": "stream",
          "text": [
            "        Date     Open     High        Low    Close   Volume  Year  Month\n",
            "0 2020-07-02  1451.84  1488.52  1451.0650  1469.93  2860915  2020      7\n",
            "1 2020-07-01  1419.17  1448.48  1414.1800  1442.00  2109124  2020      7\n",
            "2 2020-06-30  1396.88  1424.00  1386.9301  1418.05  2014320  2020      6\n",
            "3 2020-06-29  1360.34  1398.00  1351.6500  1397.17  2253678  2020      6\n",
            "4 2020-06-26  1432.63  1437.02  1355.0000  1362.54  4882014  2020      6\n",
            "        Date     Open     High        Low    Close   Volume\n",
            "0 2020-07-02  1451.84  1488.52  1451.0650  1469.93  2860915\n",
            "1 2020-07-01  1419.17  1448.48  1414.1800  1442.00  2109124\n",
            "2 2020-06-30  1396.88  1424.00  1386.9301  1418.05  2014320\n",
            "3 2020-06-29  1360.34  1398.00  1351.6500  1397.17  2253678\n",
            "4 2020-06-26  1432.63  1437.02  1355.0000  1362.54  4882014\n"
          ],
          "name": "stdout"
        }
      ]
    },
    {
      "cell_type": "code",
      "metadata": {
        "colab": {
          "base_uri": "https://localhost:8080/"
        },
        "id": "LIjVY81ygjSO",
        "outputId": "fb84a3d2-fee8-4ab6-cc78-a3664370fc12"
      },
      "source": [
        "google = pd.read_csv('google.csv', index_col=0)\n",
        "google.columns = ['O', 'H', 'L', 'C', 'V']\n",
        "print(google)"
      ],
      "execution_count": null,
      "outputs": [
        {
          "output_type": "stream",
          "text": [
            "                  O          H          L        C        V\n",
            "Date                                                       \n",
            "2020-07-02  1451.84  1488.5200  1451.0650  1469.93  2860915\n",
            "2020-07-01  1419.17  1448.4800  1414.1800  1442.00  2109124\n",
            "2020-06-30  1396.88  1424.0000  1386.9301  1418.05  2014320\n",
            "2020-06-29  1360.34  1398.0000  1351.6500  1397.17  2253678\n",
            "2020-06-26  1432.63  1437.0200  1355.0000  1362.54  4882014\n",
            "2020-06-25  1431.22  1442.3200  1419.5401  1441.10  1197907\n",
            "2020-06-24  1463.28  1475.7900  1430.0000  1432.70  1579579\n",
            "2020-06-23  1452.00  1475.2000  1445.0000  1463.98  1887583\n",
            "2020-06-22  1425.01  1450.9500  1419.1900  1450.66  1472072\n",
            "2020-06-19  1440.00  1444.5000  1419.0000  1424.64  2639167\n",
            "2020-06-18  1449.85  1452.9699  1426.2350  1434.12  1743071\n",
            "2020-06-17  1452.94  1462.2000  1435.1250  1452.54  1530500\n",
            "2020-06-16  1449.00  1457.1700  1428.9900  1446.47  1534826\n",
            "2020-06-15  1389.49  1425.0000  1387.1952  1420.74  1527652\n",
            "2020-06-12  1425.86  1434.5050  1385.8000  1412.92  1833756\n",
            "2020-06-11  1441.03  1451.6033  1398.4100  1401.90  2357243\n",
            "2020-06-10  1461.51  1472.7700  1454.3550  1464.70  1588116\n",
            "2020-06-09  1445.24  1467.8000  1442.3600  1452.08  1681155\n",
            "2020-06-08  1426.28  1449.0000  1424.4800  1448.04  1693881\n",
            "2020-06-05  1415.64  1446.3000  1407.6213  1440.02  2132350\n",
            "2020-06-04  1436.78  1441.3200  1406.0100  1414.30  1349105\n",
            "2020-06-03  1442.70  1449.0100  1431.6200  1439.25  1386640\n",
            "2020-06-02  1435.00  1443.0000  1421.6100  1442.31  1172069\n",
            "2020-06-01  1425.70  1441.5800  1422.2800  1434.87  1259254\n",
            "2020-05-29  1420.43  1436.7300  1415.9800  1433.52  1852522\n",
            "2020-05-28  1400.00  1444.4600  1399.0760  1418.24  1759787\n",
            "2020-05-27  1420.00  1425.3450  1394.6000  1420.28  1584185\n",
            "2020-05-26  1441.96  1445.1100  1419.3950  1421.37  2229488\n",
            "2020-05-22  1403.90  1417.0000  1395.9500  1413.24  1427206\n",
            "2020-05-21  1410.99  1416.4600  1394.3900  1406.75  1544976\n"
          ],
          "name": "stdout"
        }
      ]
    },
    {
      "cell_type": "markdown",
      "metadata": {
        "id": "DvIPXrH_hF92"
      },
      "source": [
        "###31-40 url"
      ]
    },
    {
      "cell_type": "code",
      "metadata": {
        "colab": {
          "base_uri": "https://localhost:8080/"
        },
        "id": "-vDirc5PgjU3",
        "outputId": "22144c96-1e4d-4273-e123-dcc268738e18"
      },
      "source": [
        "url = 'https://ml-repository-krakers.s3-eu-west-1.amazonaws.com/kaggle+/churn_modelling/Telco-Customer-Churn.csv'\n",
        "df = pd.read_csv(url)\n",
        "print(df.head())"
      ],
      "execution_count": null,
      "outputs": [
        {
          "output_type": "stream",
          "text": [
            "   customerID  gender  SeniorCitizen  ... MonthlyCharges TotalCharges  Churn\n",
            "0  7590-VHVEG  Female              0  ...          29.85        29.85     No\n",
            "1  5575-GNVDE    Male              0  ...          56.95       1889.5     No\n",
            "2  3668-QPYBK    Male              0  ...          53.85       108.15    Yes\n",
            "3  7795-CFOCW    Male              0  ...          42.30      1840.75     No\n",
            "4  9237-HQITU  Female              0  ...          70.70       151.65    Yes\n",
            "\n",
            "[5 rows x 21 columns]\n"
          ],
          "name": "stdout"
        }
      ]
    },
    {
      "cell_type": "code",
      "metadata": {
        "colab": {
          "base_uri": "https://localhost:8080/"
        },
        "id": "HKTSDdvJgjXV",
        "outputId": "18105c5c-dad1-42fd-9c4d-31d952d75d34"
      },
      "source": [
        "url = 'https://ml-repository-krakers.s3-eu-west-1.amazonaws.com/kaggle+/churn_modelling/Telco-Customer-Churn.csv'\n",
        "df = pd.read_csv(url)\n",
        "print(df.isnull().sum())"
      ],
      "execution_count": null,
      "outputs": [
        {
          "output_type": "stream",
          "text": [
            "customerID          0\n",
            "gender              0\n",
            "SeniorCitizen       0\n",
            "Partner             0\n",
            "Dependents          0\n",
            "tenure              0\n",
            "PhoneService        0\n",
            "MultipleLines       0\n",
            "InternetService     0\n",
            "OnlineSecurity      0\n",
            "OnlineBackup        0\n",
            "DeviceProtection    0\n",
            "TechSupport         0\n",
            "StreamingTV         0\n",
            "StreamingMovies     0\n",
            "Contract            0\n",
            "PaperlessBilling    0\n",
            "PaymentMethod       0\n",
            "MonthlyCharges      0\n",
            "TotalCharges        0\n",
            "Churn               0\n",
            "dtype: int64\n"
          ],
          "name": "stdout"
        }
      ]
    },
    {
      "cell_type": "markdown",
      "metadata": {
        "id": "O6bKILQ8JVm4"
      },
      "source": [
        "####選取 nan"
      ]
    },
    {
      "cell_type": "code",
      "metadata": {
        "colab": {
          "base_uri": "https://localhost:8080/",
          "height": 254
        },
        "id": "cnaE40nzgjZ0",
        "outputId": "17741ab2-eee4-4ae9-fe49-df7fd2f123f1"
      },
      "source": [
        "url = 'https://ml-repository-krakers.s3-eu-west-1.amazonaws.com/kaggle+/churn_modelling/Telco-Customer-Churn.csv'\n",
        "df = pd.read_csv(url)\n",
        " \n",
        "# Calculation of the median for the TotalCharges column\n",
        "TotalChargesMedian = df['TotalCharges'][df['TotalCharges'] != ' '].median()\n",
        " \n",
        "# Fill the missing values with median\n",
        "df.loc[df['TotalCharges'] == ' ', 'TotalCharges'] = TotalChargesMedian\n",
        " \n",
        "# Convert TotalCharges column to float type\n",
        "df['TotalCharges'] = df['TotalCharges'].astype('float')\n",
        " \n",
        "print(df['TotalCharges'].value_counts())"
      ],
      "execution_count": null,
      "outputs": [
        {
          "output_type": "error",
          "ename": "NameError",
          "evalue": "ignored",
          "traceback": [
            "\u001b[0;31m---------------------------------------------------------------------------\u001b[0m",
            "\u001b[0;31mNameError\u001b[0m                                 Traceback (most recent call last)",
            "\u001b[0;32m<ipython-input-1-d26a65f2bcdb>\u001b[0m in \u001b[0;36m<module>\u001b[0;34m()\u001b[0m\n\u001b[1;32m      1\u001b[0m \u001b[0murl\u001b[0m \u001b[0;34m=\u001b[0m \u001b[0;34m'https://ml-repository-krakers.s3-eu-west-1.amazonaws.com/kaggle+/churn_modelling/Telco-Customer-Churn.csv'\u001b[0m\u001b[0;34m\u001b[0m\u001b[0;34m\u001b[0m\u001b[0m\n\u001b[0;32m----> 2\u001b[0;31m \u001b[0mdf\u001b[0m \u001b[0;34m=\u001b[0m \u001b[0mpd\u001b[0m\u001b[0;34m.\u001b[0m\u001b[0mread_csv\u001b[0m\u001b[0;34m(\u001b[0m\u001b[0murl\u001b[0m\u001b[0;34m)\u001b[0m\u001b[0;34m\u001b[0m\u001b[0;34m\u001b[0m\u001b[0m\n\u001b[0m\u001b[1;32m      3\u001b[0m \u001b[0;34m\u001b[0m\u001b[0m\n\u001b[1;32m      4\u001b[0m \u001b[0;31m# Calculation of the median for the TotalCharges column\u001b[0m\u001b[0;34m\u001b[0m\u001b[0;34m\u001b[0m\u001b[0;34m\u001b[0m\u001b[0m\n\u001b[1;32m      5\u001b[0m \u001b[0mTotalChargesMedian\u001b[0m \u001b[0;34m=\u001b[0m \u001b[0mdf\u001b[0m\u001b[0;34m[\u001b[0m\u001b[0;34m'TotalCharges'\u001b[0m\u001b[0;34m]\u001b[0m\u001b[0;34m[\u001b[0m\u001b[0mdf\u001b[0m\u001b[0;34m[\u001b[0m\u001b[0;34m'TotalCharges'\u001b[0m\u001b[0;34m]\u001b[0m \u001b[0;34m!=\u001b[0m \u001b[0;34m' '\u001b[0m\u001b[0;34m]\u001b[0m\u001b[0;34m.\u001b[0m\u001b[0mmedian\u001b[0m\u001b[0;34m(\u001b[0m\u001b[0;34m)\u001b[0m\u001b[0;34m\u001b[0m\u001b[0;34m\u001b[0m\u001b[0m\n",
            "\u001b[0;31mNameError\u001b[0m: name 'pd' is not defined"
          ]
        }
      ]
    },
    {
      "cell_type": "markdown",
      "metadata": {
        "id": "5UAIcayzLeW6"
      },
      "source": [
        "####[pd.Categorical](https://pandas.pydata.org/docs/reference/api/pandas.Categorical.html?highlight=categorical#pandas.Categorical)"
      ]
    },
    {
      "cell_type": "code",
      "metadata": {
        "colab": {
          "base_uri": "https://localhost:8080/"
        },
        "id": "WlyEFzAoiQGu",
        "outputId": "32cce7b1-0bc0-49e2-bbbf-a51788ffe394"
      },
      "source": [
        "url = 'https://ml-repository-krakers.s3-eu-west-1.amazonaws.com/kaggle+/churn_modelling/Telco-Customer-Churn.csv'\n",
        "df = pd.read_csv(url, index_col=0)\n",
        "TotalChargesMedian = df['TotalCharges'][df['TotalCharges'] != ' '].median()\n",
        "df.loc[df['TotalCharges'] == ' ', 'TotalCharges'] = TotalChargesMedian\n",
        "df['TotalCharges'] = df['TotalCharges'].astype('float')\n",
        " \n",
        "categorical = ['gender', 'SeniorCitizen', 'Partner', 'Dependents', 'PhoneService', 'MultipleLines', \n",
        "               'InternetService', 'OnlineSecurity', 'OnlineBackup', 'DeviceProtection', 'TechSupport',\n",
        "               'StreamingTV', 'Contract', 'StreamingMovies', 'PaperlessBilling', 'PaymentMethod', 'Churn'] \n",
        " \n",
        "numerical = ['tenure', 'MonthlyCharges']\n",
        "df.info() \n",
        "print(\".................\")\n",
        "for col in categorical:\n",
        "    df[col] = pd.Categorical(df[col]) \n",
        " \n",
        "for col in numerical:\n",
        "    df[col] = df[col].astype(float)\n",
        " \n",
        "df.info()  "
      ],
      "execution_count": null,
      "outputs": [
        {
          "output_type": "stream",
          "text": [
            "<class 'pandas.core.frame.DataFrame'>\n",
            "Index: 7043 entries, 7590-VHVEG to 3186-AJIEK\n",
            "Data columns (total 20 columns):\n",
            " #   Column            Non-Null Count  Dtype  \n",
            "---  ------            --------------  -----  \n",
            " 0   gender            7043 non-null   object \n",
            " 1   SeniorCitizen     7043 non-null   int64  \n",
            " 2   Partner           7043 non-null   object \n",
            " 3   Dependents        7043 non-null   object \n",
            " 4   tenure            7043 non-null   int64  \n",
            " 5   PhoneService      7043 non-null   object \n",
            " 6   MultipleLines     7043 non-null   object \n",
            " 7   InternetService   7043 non-null   object \n",
            " 8   OnlineSecurity    7043 non-null   object \n",
            " 9   OnlineBackup      7043 non-null   object \n",
            " 10  DeviceProtection  7043 non-null   object \n",
            " 11  TechSupport       7043 non-null   object \n",
            " 12  StreamingTV       7043 non-null   object \n",
            " 13  StreamingMovies   7043 non-null   object \n",
            " 14  Contract          7043 non-null   object \n",
            " 15  PaperlessBilling  7043 non-null   object \n",
            " 16  PaymentMethod     7043 non-null   object \n",
            " 17  MonthlyCharges    7043 non-null   float64\n",
            " 18  TotalCharges      7043 non-null   float64\n",
            " 19  Churn             7043 non-null   object \n",
            "dtypes: float64(2), int64(2), object(16)\n",
            "memory usage: 1.1+ MB\n",
            ".................\n",
            "<class 'pandas.core.frame.DataFrame'>\n",
            "Index: 7043 entries, 7590-VHVEG to 3186-AJIEK\n",
            "Data columns (total 20 columns):\n",
            " #   Column            Non-Null Count  Dtype   \n",
            "---  ------            --------------  -----   \n",
            " 0   gender            7043 non-null   category\n",
            " 1   SeniorCitizen     7043 non-null   category\n",
            " 2   Partner           7043 non-null   category\n",
            " 3   Dependents        7043 non-null   category\n",
            " 4   tenure            7043 non-null   float64 \n",
            " 5   PhoneService      7043 non-null   category\n",
            " 6   MultipleLines     7043 non-null   category\n",
            " 7   InternetService   7043 non-null   category\n",
            " 8   OnlineSecurity    7043 non-null   category\n",
            " 9   OnlineBackup      7043 non-null   category\n",
            " 10  DeviceProtection  7043 non-null   category\n",
            " 11  TechSupport       7043 non-null   category\n",
            " 12  StreamingTV       7043 non-null   category\n",
            " 13  StreamingMovies   7043 non-null   category\n",
            " 14  Contract          7043 non-null   category\n",
            " 15  PaperlessBilling  7043 non-null   category\n",
            " 16  PaymentMethod     7043 non-null   category\n",
            " 17  MonthlyCharges    7043 non-null   float64 \n",
            " 18  TotalCharges      7043 non-null   float64 \n",
            " 19  Churn             7043 non-null   category\n",
            "dtypes: category(17), float64(3)\n",
            "memory usage: 338.8+ KB\n"
          ],
          "name": "stdout"
        }
      ]
    },
    {
      "cell_type": "markdown",
      "metadata": {
        "id": "NdEpOYg_Q4gF"
      },
      "source": [
        "####[Describe() Method](https://appdividend.com/2020/05/25/pandas-dataframe-describe-method-in-python/)"
      ]
    },
    {
      "cell_type": "code",
      "metadata": {
        "colab": {
          "base_uri": "https://localhost:8080/"
        },
        "id": "bhxlvppPiQJh",
        "outputId": "2f5e29de-de71-4b63-d440-460d06ca5a48"
      },
      "source": [
        "url = 'https://ml-repository-krakers.s3-eu-west-1.amazonaws.com/kaggle+/churn_modelling/Telco-Customer-Churn.csv'\n",
        "df = pd.read_csv(url, index_col=0)\n",
        "TotalChargesMedian = df['TotalCharges'][df['TotalCharges'] != ' '].median()\n",
        "df.loc[df['TotalCharges'] == ' ', 'TotalCharges'] = TotalChargesMedian\n",
        "df['TotalCharges'] = df['TotalCharges'].astype('float')\n",
        " \n",
        "categorical = ['gender', 'SeniorCitizen', 'Partner', 'Dependents', 'PhoneService', 'MultipleLines', \n",
        "               'InternetService', 'OnlineSecurity', 'OnlineBackup', 'DeviceProtection', 'TechSupport',\n",
        "               'StreamingTV', 'Contract', 'StreamingMovies', 'PaperlessBilling', 'PaymentMethod', 'Churn'] \n",
        " \n",
        "numerical = ['tenure', 'MonthlyCharges']\n",
        " \n",
        "for col in categorical:\n",
        "    df[col] = pd.Categorical(df[col]) \n",
        " \n",
        "for col in numerical:\n",
        "    df[col] = df[col].astype(float)\n",
        " \n",
        "print(df.describe(include=['category']))"
      ],
      "execution_count": null,
      "outputs": [
        {
          "output_type": "stream",
          "text": [
            "       gender  SeniorCitizen Partner  ... PaperlessBilling     PaymentMethod Churn\n",
            "count    7043           7043    7043  ...             7043              7043  7043\n",
            "unique      2              2       2  ...                2                 4     2\n",
            "top      Male              0      No  ...              Yes  Electronic check    No\n",
            "freq     3555           5901    3641  ...             4171              2365  5174\n",
            "\n",
            "[4 rows x 17 columns]\n"
          ],
          "name": "stdout"
        }
      ]
    },
    {
      "cell_type": "code",
      "metadata": {
        "colab": {
          "base_uri": "https://localhost:8080/"
        },
        "id": "45M8ZyHhiQMK",
        "outputId": "f3c98da2-e7b7-4d85-e759-fda3e5108d80"
      },
      "source": [
        "url = 'https://ml-repository-krakers.s3-eu-west-1.amazonaws.com/kaggle+/churn_modelling/Telco-Customer-Churn.csv'\n",
        "df = pd.read_csv(url, index_col=0)\n",
        "print(df['Churn'].value_counts())"
      ],
      "execution_count": null,
      "outputs": [
        {
          "output_type": "stream",
          "text": [
            "No     5174\n",
            "Yes    1869\n",
            "Name: Churn, dtype: int64\n"
          ],
          "name": "stdout"
        }
      ]
    },
    {
      "cell_type": "code",
      "metadata": {
        "colab": {
          "base_uri": "https://localhost:8080/"
        },
        "id": "2MuF7PVfiQOm",
        "outputId": "1c69fd5d-6b3b-46cc-8144-1cb42d875763"
      },
      "source": [
        "url = 'https://ml-repository-krakers.s3-eu-west-1.amazonaws.com/kaggle+/churn_modelling/Telco-Customer-Churn.csv'\n",
        "df = pd.read_csv(url, index_col=0)\n",
        "print(df.groupby(['Churn', 'PaymentMethod'])['MonthlyCharges'].mean())"
      ],
      "execution_count": null,
      "outputs": [
        {
          "output_type": "stream",
          "text": [
            "Churn  PaymentMethod            \n",
            "No     Bank transfer (automatic)    65.049417\n",
            "       Credit card (automatic)      64.562209\n",
            "       Electronic check             74.232032\n",
            "       Mailed check                 41.403911\n",
            "Yes    Bank transfer (automatic)    77.875581\n",
            "       Credit card (automatic)      77.356034\n",
            "       Electronic check             78.700980\n",
            "       Mailed check                 54.557143\n",
            "Name: MonthlyCharges, dtype: float64\n"
          ],
          "name": "stdout"
        }
      ]
    },
    {
      "cell_type": "code",
      "metadata": {
        "colab": {
          "base_uri": "https://localhost:8080/"
        },
        "id": "jOfhFU0niQRU",
        "outputId": "e88a9d9a-522f-4758-c544-db3a86db51af"
      },
      "source": [
        "url = 'https://ml-repository-krakers.s3-eu-west-1.amazonaws.com/kaggle+/churn_modelling/Telco-Customer-Churn.csv'\n",
        "df = pd.read_csv(url, index_col=0)\n",
        "df['Churn'] = df['Churn'].map({'Yes': 1, 'No': 0})\n",
        "print(df.head())"
      ],
      "execution_count": null,
      "outputs": [
        {
          "output_type": "stream",
          "text": [
            "            gender  SeniorCitizen Partner  ... MonthlyCharges  TotalCharges Churn\n",
            "customerID                                 ...                                   \n",
            "7590-VHVEG  Female              0     Yes  ...          29.85         29.85     0\n",
            "5575-GNVDE    Male              0      No  ...          56.95        1889.5     0\n",
            "3668-QPYBK    Male              0      No  ...          53.85        108.15     1\n",
            "7795-CFOCW    Male              0      No  ...          42.30       1840.75     0\n",
            "9237-HQITU  Female              0      No  ...          70.70        151.65     1\n",
            "\n",
            "[5 rows x 20 columns]\n"
          ],
          "name": "stdout"
        }
      ]
    },
    {
      "cell_type": "code",
      "metadata": {
        "colab": {
          "base_uri": "https://localhost:8080/"
        },
        "id": "uVkkKwxgiQUg",
        "outputId": "99340024-d68e-4940-f9c1-c229257ae33a"
      },
      "source": [
        "url = 'https://ml-repository-krakers.s3-eu-west-1.amazonaws.com/kaggle+/churn_modelling/Telco-Customer-Churn.csv'\n",
        "df = pd.read_csv(url, index_col=0)\n",
        "print(df.corr())"
      ],
      "execution_count": null,
      "outputs": [
        {
          "output_type": "stream",
          "text": [
            "                SeniorCitizen    tenure  MonthlyCharges\n",
            "SeniorCitizen        1.000000  0.016567        0.220173\n",
            "tenure               0.016567  1.000000        0.247900\n",
            "MonthlyCharges       0.220173  0.247900        1.000000\n"
          ],
          "name": "stdout"
        }
      ]
    },
    {
      "cell_type": "code",
      "metadata": {
        "colab": {
          "base_uri": "https://localhost:8080/"
        },
        "id": "RwNyd5zGiQW1",
        "outputId": "e026d497-1959-41cf-f943-7f64a6142f1b"
      },
      "source": [
        "np.random.seed(42)\n",
        " \n",
        "url = 'https://ml-repository-krakers.s3-eu-west-1.amazonaws.com/kaggle+/churn_modelling/Telco-Customer-Churn.csv'\n",
        "df = pd.read_csv(url, index_col=0)\n",
        "print(df.head())\n",
        "df.sample(10).to_csv('sample_10.csv')"
      ],
      "execution_count": null,
      "outputs": [
        {
          "output_type": "stream",
          "text": [
            "            gender  SeniorCitizen Partner  ... MonthlyCharges  TotalCharges Churn\n",
            "customerID                                 ...                                   \n",
            "7590-VHVEG  Female              0     Yes  ...          29.85         29.85    No\n",
            "5575-GNVDE    Male              0      No  ...          56.95        1889.5    No\n",
            "3668-QPYBK    Male              0      No  ...          53.85        108.15   Yes\n",
            "7795-CFOCW    Male              0      No  ...          42.30       1840.75    No\n",
            "9237-HQITU  Female              0      No  ...          70.70        151.65   Yes\n",
            "\n",
            "[5 rows x 20 columns]\n"
          ],
          "name": "stdout"
        }
      ]
    },
    {
      "cell_type": "markdown",
      "metadata": {
        "id": "23Ta-q4coOrv"
      },
      "source": [
        "###41-50 select"
      ]
    },
    {
      "cell_type": "markdown",
      "metadata": {
        "id": "YbEikDSSNixC"
      },
      "source": [
        "####.concat"
      ]
    },
    {
      "cell_type": "code",
      "metadata": {
        "colab": {
          "base_uri": "https://localhost:8080/"
        },
        "id": "i18cAiCakClw",
        "outputId": "c871fd6b-84c8-4699-ba30-6fafea34f3a8"
      },
      "source": [
        "np.random.seed(42)\n",
        "s1 = pd.Series(np.random.rand(20))\n",
        "s2 = pd.Series(np.random.randn(20))\n",
        " \n",
        "df = pd.concat([s1, s2], axis=1)\n",
        "df.columns = ['col1', 'col2']\n",
        "print(df)"
      ],
      "execution_count": null,
      "outputs": [
        {
          "output_type": "stream",
          "text": [
            "        col1      col2\n",
            "0   0.374540 -1.012831\n",
            "1   0.950714  0.314247\n",
            "2   0.731994 -0.908024\n",
            "3   0.598658 -1.412304\n",
            "4   0.156019  1.465649\n",
            "5   0.155995 -0.225776\n",
            "6   0.058084  0.067528\n",
            "7   0.866176 -1.424748\n",
            "8   0.601115 -0.544383\n",
            "9   0.708073  0.110923\n",
            "10  0.020584 -1.150994\n",
            "11  0.969910  0.375698\n",
            "12  0.832443 -0.600639\n",
            "13  0.212339 -0.291694\n",
            "14  0.181825 -0.601707\n",
            "15  0.183405  1.852278\n",
            "16  0.304242 -0.013497\n",
            "17  0.524756 -1.057711\n",
            "18  0.431945  0.822545\n",
            "19  0.291229 -1.220844\n"
          ],
          "name": "stdout"
        }
      ]
    },
    {
      "cell_type": "markdown",
      "metadata": {
        "id": "XcYD1RanNzli"
      },
      "source": [
        "####.between"
      ]
    },
    {
      "cell_type": "code",
      "metadata": {
        "colab": {
          "base_uri": "https://localhost:8080/"
        },
        "id": "PijBs7vekCpo",
        "outputId": "b38c4c8a-0420-46ce-c035-3a13af3b74f4"
      },
      "source": [
        "np.random.seed(42)\n",
        "s1 = pd.Series(np.random.rand(20))\n",
        "s2 = pd.Series(np.random.randn(20))\n",
        " \n",
        "df = pd.concat([s1, s2], axis=1)\n",
        "df.columns = ['col1', 'col2']\n",
        "print(df[df['col2'].between(0.0, 1.0)])"
      ],
      "execution_count": null,
      "outputs": [
        {
          "output_type": "stream",
          "text": [
            "        col1      col2\n",
            "1   0.950714  0.314247\n",
            "6   0.058084  0.067528\n",
            "9   0.708073  0.110923\n",
            "11  0.969910  0.375698\n",
            "18  0.431945  0.822545\n"
          ],
          "name": "stdout"
        }
      ]
    },
    {
      "cell_type": "code",
      "metadata": {
        "colab": {
          "base_uri": "https://localhost:8080/"
        },
        "id": "APkEI27JkCsY",
        "outputId": "6c5a64bd-4741-4f6c-ba85-dcec95478f6e"
      },
      "source": [
        "np.random.seed(42)\n",
        "s1 = pd.Series(np.random.rand(20))\n",
        "s2 = pd.Series(np.random.randn(20))\n",
        " \n",
        "df = pd.concat([s1, s2], axis=1)\n",
        "df.columns = ['col1', 'col2']\n",
        "print(df[(df['col2'] >= 0.0) & (df['col2'] <= 1.0)])"
      ],
      "execution_count": null,
      "outputs": [
        {
          "output_type": "stream",
          "text": [
            "        col1      col2\n",
            "1   0.950714  0.314247\n",
            "6   0.058084  0.067528\n",
            "9   0.708073  0.110923\n",
            "11  0.969910  0.375698\n",
            "18  0.431945  0.822545\n"
          ],
          "name": "stdout"
        }
      ]
    },
    {
      "cell_type": "markdown",
      "metadata": {
        "id": "ropZ_k2jPRpa"
      },
      "source": [
        "####.map(lambda x: 1 if x >= 0 else -1)"
      ]
    },
    {
      "cell_type": "code",
      "metadata": {
        "colab": {
          "base_uri": "https://localhost:8080/"
        },
        "id": "1-FbkyqMkCvP",
        "outputId": "2f0bb9d4-31e3-414a-da6b-74294d6e6843"
      },
      "source": [
        "np.random.seed(42)\n",
        "s1 = pd.Series(np.random.rand(20))\n",
        "s2 = pd.Series(np.random.randn(20))\n",
        " \n",
        "df = pd.concat([s1, s2], axis=1)\n",
        "df.columns = ['col1', 'col2']\n",
        "df['col3'] = df['col2'].map(lambda x: 1 if x >= 0 else -1)\n",
        "print(df)"
      ],
      "execution_count": null,
      "outputs": [
        {
          "output_type": "stream",
          "text": [
            "        col1      col2  col3\n",
            "0   0.374540 -1.012831    -1\n",
            "1   0.950714  0.314247     1\n",
            "2   0.731994 -0.908024    -1\n",
            "3   0.598658 -1.412304    -1\n",
            "4   0.156019  1.465649     1\n",
            "5   0.155995 -0.225776    -1\n",
            "6   0.058084  0.067528     1\n",
            "7   0.866176 -1.424748    -1\n",
            "8   0.601115 -0.544383    -1\n",
            "9   0.708073  0.110923     1\n",
            "10  0.020584 -1.150994    -1\n",
            "11  0.969910  0.375698     1\n",
            "12  0.832443 -0.600639    -1\n",
            "13  0.212339 -0.291694    -1\n",
            "14  0.181825 -0.601707    -1\n",
            "15  0.183405  1.852278     1\n",
            "16  0.304242 -0.013497    -1\n",
            "17  0.524756 -1.057711    -1\n",
            "18  0.431945  0.822545     1\n",
            "19  0.291229 -1.220844    -1\n"
          ],
          "name": "stdout"
        }
      ]
    },
    {
      "cell_type": "markdown",
      "metadata": {
        "id": "8-rzYuurSIfp"
      },
      "source": [
        "####.clip \n",
        "Trim values at input threshold(s)."
      ]
    },
    {
      "cell_type": "code",
      "metadata": {
        "colab": {
          "base_uri": "https://localhost:8080/"
        },
        "id": "_KvrjWBAkCx-",
        "outputId": "c163482c-2051-4a36-8ce7-44e1fda4cb18"
      },
      "source": [
        "np.random.seed(42)\n",
        "s1 = pd.Series(np.random.rand(20))\n",
        "s2 = pd.Series(np.random.randn(20))\n",
        " \n",
        "df = pd.concat([s1, s2], axis=1)\n",
        "df.columns = ['col1', 'col2']\n",
        "df['col3'] = df['col2'].map(lambda x: 1 if x >= 0 else -1)\n",
        "df['col4'] = df['col2'].clip(-1.0, 1.0)  #修剪範圍\n",
        "print(df)"
      ],
      "execution_count": null,
      "outputs": [
        {
          "output_type": "stream",
          "text": [
            "        col1      col2  col3      col4\n",
            "0   0.374540 -1.012831    -1 -1.000000\n",
            "1   0.950714  0.314247     1  0.314247\n",
            "2   0.731994 -0.908024    -1 -0.908024\n",
            "3   0.598658 -1.412304    -1 -1.000000\n",
            "4   0.156019  1.465649     1  1.000000\n",
            "5   0.155995 -0.225776    -1 -0.225776\n",
            "6   0.058084  0.067528     1  0.067528\n",
            "7   0.866176 -1.424748    -1 -1.000000\n",
            "8   0.601115 -0.544383    -1 -0.544383\n",
            "9   0.708073  0.110923     1  0.110923\n",
            "10  0.020584 -1.150994    -1 -1.000000\n",
            "11  0.969910  0.375698     1  0.375698\n",
            "12  0.832443 -0.600639    -1 -0.600639\n",
            "13  0.212339 -0.291694    -1 -0.291694\n",
            "14  0.181825 -0.601707    -1 -0.601707\n",
            "15  0.183405  1.852278     1  1.000000\n",
            "16  0.304242 -0.013497    -1 -0.013497\n",
            "17  0.524756 -1.057711    -1 -1.000000\n",
            "18  0.431945  0.822545     1  0.822545\n",
            "19  0.291229 -1.220844    -1 -1.000000\n"
          ],
          "name": "stdout"
        }
      ]
    },
    {
      "cell_type": "code",
      "metadata": {
        "colab": {
          "base_uri": "https://localhost:8080/"
        },
        "id": "mE44SOlAkC0i",
        "outputId": "531bc945-ba69-45a3-c1ed-a8300de648bd"
      },
      "source": [
        "np.random.seed(42)\n",
        "s1 = pd.Series(np.random.rand(20))\n",
        "s2 = pd.Series(np.random.randn(20))\n",
        " \n",
        "df = pd.concat([s1, s2], axis=1)\n",
        "df.columns = ['col1', 'col2']\n",
        "print(df['col2'].nlargest(5))\n",
        "print()\n",
        "print(df['col2'].nsmallest(5))"
      ],
      "execution_count": null,
      "outputs": [
        {
          "output_type": "stream",
          "text": [
            "15    1.852278\n",
            "4     1.465649\n",
            "18    0.822545\n",
            "11    0.375698\n",
            "1     0.314247\n",
            "Name: col2, dtype: float64\n",
            "\n",
            "7    -1.424748\n",
            "3    -1.412304\n",
            "19   -1.220844\n",
            "10   -1.150994\n",
            "17   -1.057711\n",
            "Name: col2, dtype: float64\n"
          ],
          "name": "stdout"
        }
      ]
    },
    {
      "cell_type": "markdown",
      "metadata": {
        "id": "U_XXQMu_TL7Q"
      },
      "source": [
        "####df.cumsum()"
      ]
    },
    {
      "cell_type": "code",
      "metadata": {
        "colab": {
          "base_uri": "https://localhost:8080/"
        },
        "id": "70tsSLTokC24",
        "outputId": "19b066fa-2474-4363-9d18-d7dff49daa21"
      },
      "source": [
        "np.random.seed(42)\n",
        "s1 = pd.Series(np.random.rand(20))\n",
        "s2 = pd.Series(np.random.randn(20))\n",
        " \n",
        "df = pd.concat([s1, s2], axis=1)\n",
        "df.columns = ['col1', 'col2']\n",
        "print(df.cumsum())"
      ],
      "execution_count": null,
      "outputs": [
        {
          "output_type": "stream",
          "text": [
            "        col1      col2\n",
            "0   0.374540 -1.012831\n",
            "1   1.325254 -0.698584\n",
            "2   2.057248 -1.606608\n",
            "3   2.655907 -3.018912\n",
            "4   2.811925 -1.553263\n",
            "5   2.967920 -1.779039\n",
            "6   3.026004 -1.711511\n",
            "7   3.892180 -3.136259\n",
            "8   4.493295 -3.680642\n",
            "9   5.201367 -3.569719\n",
            "10  5.221952 -4.720713\n",
            "11  6.191862 -4.345015\n",
            "12  7.024304 -4.945653\n",
            "13  7.236643 -5.237347\n",
            "14  7.418468 -5.839054\n",
            "15  7.601873 -3.986776\n",
            "16  7.906115 -4.000273\n",
            "17  8.430872 -5.057984\n",
            "18  8.862817 -4.235439\n",
            "19  9.154046 -5.456283\n"
          ],
          "name": "stdout"
        }
      ]
    },
    {
      "cell_type": "markdown",
      "metadata": {
        "id": "ZFjTbgwkTRqO"
      },
      "source": [
        "####.median()"
      ]
    },
    {
      "cell_type": "code",
      "metadata": {
        "colab": {
          "base_uri": "https://localhost:8080/"
        },
        "id": "E_j9sEK6rYni",
        "outputId": "a90da8ab-fa1f-4b01-ed78-775c653ea559"
      },
      "source": [
        "np.random.seed(42)\n",
        "s1 = pd.Series(np.random.rand(20))\n",
        "s2 = pd.Series(np.random.randn(20))\n",
        " \n",
        "df = pd.concat([s1, s2], axis=1)\n",
        "df.columns = ['col1', 'col2']\n",
        "print(df['col2'].median())"
      ],
      "execution_count": null,
      "outputs": [
        {
          "output_type": "stream",
          "text": [
            "-0.4180382371592297\n"
          ],
          "name": "stdout"
        }
      ]
    },
    {
      "cell_type": "markdown",
      "metadata": {
        "id": "yu2HWl_rX2KC"
      },
      "source": [
        "linear: i + (j - i) * fraction, where fraction is the fractional part of the index surrounded"
      ]
    },
    {
      "cell_type": "code",
      "metadata": {
        "colab": {
          "base_uri": "https://localhost:8080/"
        },
        "id": "RHcliWXQX_Ya",
        "outputId": "8ca886b6-2101-401b-d03d-94c027eb9623"
      },
      "source": [
        "df = pd.DataFrame(np.array([[1, 1], [2, 11], [4, 100], [4, 100]]),\n",
        "                  columns=['a', 'b'])\n",
        "print(df)\n",
        "print('...')\n",
        "df.quantile(0.1)\n",
        "# pos = 1 + (4 - 1)*0.1 = 1.3\n",
        "### 1 + (2-1)*0.3  = 1.3\n",
        "### 1 + (11-1)*0.3  = 4"
      ],
      "execution_count": null,
      "outputs": [
        {
          "output_type": "stream",
          "text": [
            "   a    b\n",
            "0  1    1\n",
            "1  2   11\n",
            "2  4  100\n",
            "3  4  100\n",
            "...\n"
          ],
          "name": "stdout"
        },
        {
          "output_type": "execute_result",
          "data": {
            "text/plain": [
              "a    1.3\n",
              "b    4.0\n",
              "Name: 0.1, dtype: float64"
            ]
          },
          "metadata": {
            "tags": []
          },
          "execution_count": 26
        }
      ]
    },
    {
      "cell_type": "code",
      "metadata": {
        "colab": {
          "base_uri": "https://localhost:8080/"
        },
        "id": "HNwCp9X5a9SK",
        "outputId": "aabea46e-7efe-4d58-f301-4dc899ef0139"
      },
      "source": [
        "df.quantile(0.5)\n",
        "# pos = 1 + (4 - 1)*0.5 = 1.5\n",
        "### 2 + (4-2)*0.5    =3\n",
        "### 11 + (100-11)*0.5 =55.5"
      ],
      "execution_count": null,
      "outputs": [
        {
          "output_type": "execute_result",
          "data": {
            "text/plain": [
              "a     3.0\n",
              "b    55.5\n",
              "Name: 0.5, dtype: float64"
            ]
          },
          "metadata": {
            "tags": []
          },
          "execution_count": 28
        }
      ]
    },
    {
      "cell_type": "code",
      "metadata": {
        "colab": {
          "base_uri": "https://localhost:8080/"
        },
        "id": "FaXkYRHprYqA",
        "outputId": "3f42ffa1-eb3d-4c1b-8790-49b9391a5e66"
      },
      "source": [
        "np.random.seed(42)\n",
        "s1 = pd.Series(np.random.rand(20))\n",
        "s2 = pd.Series(np.random.randn(20))\n",
        " \n",
        "df = pd.concat([s1, s2], axis=1)\n",
        "df.columns = ['col1', 'col2']\n",
        "print(df['col2'].quantile())"
      ],
      "execution_count": null,
      "outputs": [
        {
          "output_type": "stream",
          "text": [
            "-0.4180382371592297\n"
          ],
          "name": "stdout"
        }
      ]
    },
    {
      "cell_type": "code",
      "metadata": {
        "colab": {
          "base_uri": "https://localhost:8080/"
        },
        "id": "xxqhttSmrYs8",
        "outputId": "af0ff85c-bb73-4e55-d72c-02f038200feb"
      },
      "source": [
        "np.random.seed(42)\n",
        "s1 = pd.Series(np.random.rand(20))\n",
        "s2 = pd.Series(np.random.randn(20))\n",
        " \n",
        "df = pd.concat([s1, s2], axis=1)\n",
        "df.columns = ['col1', 'col2']\n",
        "print(df.query(\"col2 > 0\"))\n"
      ],
      "execution_count": null,
      "outputs": [
        {
          "output_type": "stream",
          "text": [
            "        col1      col2\n",
            "1   0.950714  0.314247\n",
            "4   0.156019  1.465649\n",
            "6   0.058084  0.067528\n",
            "9   0.708073  0.110923\n",
            "11  0.969910  0.375698\n",
            "15  0.183405  1.852278\n",
            "18  0.431945  0.822545\n"
          ],
          "name": "stdout"
        }
      ]
    },
    {
      "cell_type": "code",
      "metadata": {
        "colab": {
          "base_uri": "https://localhost:8080/"
        },
        "id": "T_mS7s7YrYvq",
        "outputId": "ea8e50ac-e7a0-4761-b455-6ebaddd6ba02"
      },
      "source": [
        "np.random.seed(42)\n",
        "s1 = pd.Series(np.random.rand(20))\n",
        "s2 = pd.Series(np.random.randn(20))\n",
        " \n",
        "df = pd.concat([s1, s2], axis=1)\n",
        "print(df.head())\n",
        "df.columns = ['col1', 'col2']\n",
        "print(df[df['col2'] > 0])"
      ],
      "execution_count": null,
      "outputs": [
        {
          "output_type": "stream",
          "text": [
            "          0         1\n",
            "0  0.374540 -1.012831\n",
            "1  0.950714  0.314247\n",
            "2  0.731994 -0.908024\n",
            "3  0.598658 -1.412304\n",
            "4  0.156019  1.465649\n",
            "        col1      col2\n",
            "1   0.950714  0.314247\n",
            "4   0.156019  1.465649\n",
            "6   0.058084  0.067528\n",
            "9   0.708073  0.110923\n",
            "11  0.969910  0.375698\n",
            "15  0.183405  1.852278\n",
            "18  0.431945  0.822545\n"
          ],
          "name": "stdout"
        }
      ]
    },
    {
      "cell_type": "markdown",
      "metadata": {
        "id": "MMseItz9smjA"
      },
      "source": [
        "####.to_dict()"
      ]
    },
    {
      "cell_type": "code",
      "metadata": {
        "colab": {
          "base_uri": "https://localhost:8080/"
        },
        "id": "SGDrxk6srYyj",
        "outputId": "d84648f2-7710-42b0-a587-3a33bf45fcdb"
      },
      "source": [
        "np.random.seed(42)\n",
        "s1 = pd.Series(np.random.rand(20))\n",
        "s2 = pd.Series(np.random.randn(20))\n",
        " \n",
        "df = pd.concat([s1, s2], axis=1)\n",
        "df.columns = ['col1', 'col2']\n",
        "print(df.head().to_dict())"
      ],
      "execution_count": null,
      "outputs": [
        {
          "output_type": "stream",
          "text": [
            "{'col1': {0: 0.3745401188473625, 1: 0.9507143064099162, 2: 0.7319939418114051, 3: 0.5986584841970366, 4: 0.15601864044243652}, 'col2': {0: -1.0128311203344238, 1: 0.3142473325952739, 2: -0.9080240755212109, 3: -1.4123037013352915, 4: 1.465648768921554}}\n"
          ],
          "name": "stdout"
        }
      ]
    },
    {
      "cell_type": "code",
      "metadata": {
        "colab": {
          "base_uri": "https://localhost:8080/"
        },
        "id": "cOQvd77NrY1_",
        "outputId": "aee57345-ed7f-489d-e462-18dd1c995384"
      },
      "source": [
        "np.random.seed(42)\n",
        "s1 = pd.Series(np.random.rand(20))\n",
        "s2 = pd.Series(np.random.randn(20))\n",
        " \n",
        "df = pd.concat([s1, s2], axis=1)\n",
        "df.columns = ['col1', 'col2']\n",
        "print(df[:5].to_dict())"
      ],
      "execution_count": null,
      "outputs": [
        {
          "output_type": "stream",
          "text": [
            "{'col1': {0: 0.3745401188473625, 1: 0.9507143064099162, 2: 0.7319939418114051, 3: 0.5986584841970366, 4: 0.15601864044243652}, 'col2': {0: -1.0128311203344238, 1: 0.3142473325952739, 2: -0.9080240755212109, 3: -1.4123037013352915, 4: 1.465648768921554}}\n"
          ],
          "name": "stdout"
        }
      ]
    },
    {
      "cell_type": "markdown",
      "metadata": {
        "id": "dFlyOIqPseBD"
      },
      "source": [
        "####.to_html()"
      ]
    },
    {
      "cell_type": "code",
      "metadata": {
        "colab": {
          "base_uri": "https://localhost:8080/"
        },
        "id": "6mLO42EyrY7n",
        "outputId": "d1e21b74-9530-4428-f9f4-93806fc128e0"
      },
      "source": [
        "np.random.seed(42)\n",
        "s1 = pd.Series(np.random.rand(20))\n",
        "s2 = pd.Series(np.random.randn(20))\n",
        " \n",
        "df = pd.concat([s1, s2], axis=1)\n",
        "df.columns = ['col1', 'col2']\n",
        "print(df.head().to_html())"
      ],
      "execution_count": null,
      "outputs": [
        {
          "output_type": "stream",
          "text": [
            "<table border=\"1\" class=\"dataframe\">\n",
            "  <thead>\n",
            "    <tr style=\"text-align: right;\">\n",
            "      <th></th>\n",
            "      <th>col1</th>\n",
            "      <th>col2</th>\n",
            "    </tr>\n",
            "  </thead>\n",
            "  <tbody>\n",
            "    <tr>\n",
            "      <th>0</th>\n",
            "      <td>0.374540</td>\n",
            "      <td>-1.012831</td>\n",
            "    </tr>\n",
            "    <tr>\n",
            "      <th>1</th>\n",
            "      <td>0.950714</td>\n",
            "      <td>0.314247</td>\n",
            "    </tr>\n",
            "    <tr>\n",
            "      <th>2</th>\n",
            "      <td>0.731994</td>\n",
            "      <td>-0.908024</td>\n",
            "    </tr>\n",
            "    <tr>\n",
            "      <th>3</th>\n",
            "      <td>0.598658</td>\n",
            "      <td>-1.412304</td>\n",
            "    </tr>\n",
            "    <tr>\n",
            "      <th>4</th>\n",
            "      <td>0.156019</td>\n",
            "      <td>1.465649</td>\n",
            "    </tr>\n",
            "  </tbody>\n",
            "</table>\n"
          ],
          "name": "stdout"
        }
      ]
    },
    {
      "cell_type": "code",
      "metadata": {
        "colab": {
          "base_uri": "https://localhost:8080/"
        },
        "id": "BJfdkzxprY-g",
        "outputId": "c5f51baf-2669-4599-d1c4-1cf96fa8d377"
      },
      "source": [
        "np.random.seed(42)\n",
        "s1 = pd.Series(np.random.rand(20))\n",
        "s2 = pd.Series(np.random.randn(20))\n",
        " \n",
        "df = pd.concat([s1, s2], axis=1)\n",
        "df.columns = ['col1', 'col2']\n",
        "print(df[:5].to_html())"
      ],
      "execution_count": null,
      "outputs": [
        {
          "output_type": "stream",
          "text": [
            "<table border=\"1\" class=\"dataframe\">\n",
            "  <thead>\n",
            "    <tr style=\"text-align: right;\">\n",
            "      <th></th>\n",
            "      <th>col1</th>\n",
            "      <th>col2</th>\n",
            "    </tr>\n",
            "  </thead>\n",
            "  <tbody>\n",
            "    <tr>\n",
            "      <th>0</th>\n",
            "      <td>0.374540</td>\n",
            "      <td>-1.012831</td>\n",
            "    </tr>\n",
            "    <tr>\n",
            "      <th>1</th>\n",
            "      <td>0.950714</td>\n",
            "      <td>0.314247</td>\n",
            "    </tr>\n",
            "    <tr>\n",
            "      <th>2</th>\n",
            "      <td>0.731994</td>\n",
            "      <td>-0.908024</td>\n",
            "    </tr>\n",
            "    <tr>\n",
            "      <th>3</th>\n",
            "      <td>0.598658</td>\n",
            "      <td>-1.412304</td>\n",
            "    </tr>\n",
            "    <tr>\n",
            "      <th>4</th>\n",
            "      <td>0.156019</td>\n",
            "      <td>1.465649</td>\n",
            "    </tr>\n",
            "  </tbody>\n",
            "</table>\n"
          ],
          "name": "stdout"
        }
      ]
    },
    {
      "cell_type": "markdown",
      "metadata": {
        "id": "LLZoF9X0swO7"
      },
      "source": [
        "###51-60"
      ]
    },
    {
      "cell_type": "markdown",
      "metadata": {
        "id": "yJHqY6gns5im"
      },
      "source": [
        "####.loc"
      ]
    },
    {
      "cell_type": "code",
      "metadata": {
        "colab": {
          "base_uri": "https://localhost:8080/"
        },
        "id": "cMuD9JVTssum",
        "outputId": "bc127e08-51ca-47bb-881b-537a19de1a36"
      },
      "source": [
        "np.random.seed(42)\n",
        "df = pd.DataFrame(np.random.rand(10, 4), columns=list('ABCD'))\n",
        "print(df.loc[df['C'] > 0.8])"
      ],
      "execution_count": null,
      "outputs": [
        {
          "output_type": "stream",
          "text": [
            "          A         B         C         D\n",
            "8  0.065052  0.948886  0.965632  0.808397\n"
          ],
          "name": "stdout"
        }
      ]
    },
    {
      "cell_type": "code",
      "metadata": {
        "colab": {
          "base_uri": "https://localhost:8080/"
        },
        "id": "-HLH6qCcssxo",
        "outputId": "e29a1dc7-45fd-4d5f-819b-04bc6ecd931a"
      },
      "source": [
        "np.random.seed(42)\n",
        "df = pd.DataFrame(np.random.rand(10, 4), columns=list('ABCD'))\n",
        "print(df.loc[(df['C'] > 0.3) & (df['D'] < 0.7)])"
      ],
      "execution_count": null,
      "outputs": [
        {
          "output_type": "stream",
          "text": [
            "          A         B         C         D\n",
            "0  0.374540  0.950714  0.731994  0.598658\n",
            "4  0.304242  0.524756  0.431945  0.291229\n",
            "7  0.592415  0.046450  0.607545  0.170524\n",
            "9  0.304614  0.097672  0.684233  0.440152\n"
          ],
          "name": "stdout"
        }
      ]
    },
    {
      "cell_type": "code",
      "metadata": {
        "colab": {
          "base_uri": "https://localhost:8080/"
        },
        "id": "L-q-dkV8ss0u",
        "outputId": "023315f5-6d8a-4782-9d1c-150089e77fee"
      },
      "source": [
        "np.random.seed(42)\n",
        "df = pd.DataFrame(np.random.rand(10, 4), columns=list('ABCD'))\n",
        "print(df)\n",
        "for index, row in df.head().iterrows():\n",
        "    print(row)"
      ],
      "execution_count": null,
      "outputs": [
        {
          "output_type": "stream",
          "text": [
            "          A         B         C         D\n",
            "0  0.374540  0.950714  0.731994  0.598658\n",
            "1  0.156019  0.155995  0.058084  0.866176\n",
            "2  0.601115  0.708073  0.020584  0.969910\n",
            "3  0.832443  0.212339  0.181825  0.183405\n",
            "4  0.304242  0.524756  0.431945  0.291229\n",
            "5  0.611853  0.139494  0.292145  0.366362\n",
            "6  0.456070  0.785176  0.199674  0.514234\n",
            "7  0.592415  0.046450  0.607545  0.170524\n",
            "8  0.065052  0.948886  0.965632  0.808397\n",
            "9  0.304614  0.097672  0.684233  0.440152\n",
            "A    0.374540\n",
            "B    0.950714\n",
            "C    0.731994\n",
            "D    0.598658\n",
            "Name: 0, dtype: float64\n",
            "A    0.156019\n",
            "B    0.155995\n",
            "C    0.058084\n",
            "D    0.866176\n",
            "Name: 1, dtype: float64\n",
            "A    0.601115\n",
            "B    0.708073\n",
            "C    0.020584\n",
            "D    0.969910\n",
            "Name: 2, dtype: float64\n",
            "A    0.832443\n",
            "B    0.212339\n",
            "C    0.181825\n",
            "D    0.183405\n",
            "Name: 3, dtype: float64\n",
            "A    0.304242\n",
            "B    0.524756\n",
            "C    0.431945\n",
            "D    0.291229\n",
            "Name: 4, dtype: float64\n"
          ],
          "name": "stdout"
        }
      ]
    },
    {
      "cell_type": "code",
      "metadata": {
        "colab": {
          "base_uri": "https://localhost:8080/"
        },
        "id": "fle75g3Iss3o",
        "outputId": "3e837d70-0126-4f12-fdfc-5955fd78dbfb"
      },
      "source": [
        "np.random.seed(42)\n",
        "df = pd.DataFrame(np.random.rand(10, 4), columns=list('ABCD'))\n",
        "df.iloc[3, 1] = np.nan\n",
        "df.loc[8, 'D'] = np.nan\n",
        "print(df)"
      ],
      "execution_count": null,
      "outputs": [
        {
          "output_type": "stream",
          "text": [
            "          A         B         C         D\n",
            "0  0.374540  0.950714  0.731994  0.598658\n",
            "1  0.156019  0.155995  0.058084  0.866176\n",
            "2  0.601115  0.708073  0.020584  0.969910\n",
            "3  0.832443       NaN  0.181825  0.183405\n",
            "4  0.304242  0.524756  0.431945  0.291229\n",
            "5  0.611853  0.139494  0.292145  0.366362\n",
            "6  0.456070  0.785176  0.199674  0.514234\n",
            "7  0.592415  0.046450  0.607545  0.170524\n",
            "8  0.065052  0.948886  0.965632       NaN\n",
            "9  0.304614  0.097672  0.684233  0.440152\n"
          ],
          "name": "stdout"
        }
      ]
    },
    {
      "cell_type": "code",
      "metadata": {
        "colab": {
          "base_uri": "https://localhost:8080/"
        },
        "id": "QB3uaCL-ss6W",
        "outputId": "6a1f3576-e7e7-4ee3-c1aa-04ffe6d46b10"
      },
      "source": [
        "np.random.seed(42)\n",
        "df = pd.DataFrame(np.random.rand(10, 4), columns=list('ABCD'))\n",
        "df.iloc[3, 1] = np.nan\n",
        "df.loc[8, 'D'] = np.nan\n",
        "df1 = df.dropna()\n",
        "print(df1)"
      ],
      "execution_count": null,
      "outputs": [
        {
          "output_type": "stream",
          "text": [
            "          A         B         C         D\n",
            "0  0.374540  0.950714  0.731994  0.598658\n",
            "1  0.156019  0.155995  0.058084  0.866176\n",
            "2  0.601115  0.708073  0.020584  0.969910\n",
            "4  0.304242  0.524756  0.431945  0.291229\n",
            "5  0.611853  0.139494  0.292145  0.366362\n",
            "6  0.456070  0.785176  0.199674  0.514234\n",
            "7  0.592415  0.046450  0.607545  0.170524\n",
            "9  0.304614  0.097672  0.684233  0.440152\n"
          ],
          "name": "stdout"
        }
      ]
    },
    {
      "cell_type": "code",
      "metadata": {
        "colab": {
          "base_uri": "https://localhost:8080/"
        },
        "id": "82JJCEkUss9L",
        "outputId": "22ecc66a-6505-44e3-d00d-fe70525fb486"
      },
      "source": [
        "np.random.seed(42)\n",
        "df = pd.DataFrame(np.random.rand(10, 4), columns=list('ABCD'))\n",
        "df.iloc[3, 1] = np.nan\n",
        "df.loc[8, 'D'] = np.nan\n",
        "df1 = df.dropna()\n",
        "df1 = df1.reset_index(drop=True)\n",
        "print(df1)"
      ],
      "execution_count": null,
      "outputs": [
        {
          "output_type": "stream",
          "text": [
            "          A         B         C         D\n",
            "0  0.374540  0.950714  0.731994  0.598658\n",
            "1  0.156019  0.155995  0.058084  0.866176\n",
            "2  0.601115  0.708073  0.020584  0.969910\n",
            "3  0.304242  0.524756  0.431945  0.291229\n",
            "4  0.611853  0.139494  0.292145  0.366362\n",
            "5  0.456070  0.785176  0.199674  0.514234\n",
            "6  0.592415  0.046450  0.607545  0.170524\n",
            "7  0.304614  0.097672  0.684233  0.440152\n"
          ],
          "name": "stdout"
        }
      ]
    },
    {
      "cell_type": "code",
      "metadata": {
        "colab": {
          "base_uri": "https://localhost:8080/"
        },
        "id": "S0Dgfrxwss_q",
        "outputId": "5f8de4d2-ae3d-43fa-b1cc-7b7b703f36a5"
      },
      "source": [
        "np.random.seed(42)\n",
        "df = pd.DataFrame(np.random.rand(10, 4), columns=list('ABCD'))\n",
        "df.iloc[3, 1] = np.nan\n",
        "df.loc[8, 'D'] = np.nan\n",
        "print(df.isnull().sum())"
      ],
      "execution_count": null,
      "outputs": [
        {
          "output_type": "stream",
          "text": [
            "A    0\n",
            "B    1\n",
            "C    0\n",
            "D    1\n",
            "dtype: int64\n"
          ],
          "name": "stdout"
        }
      ]
    },
    {
      "cell_type": "code",
      "metadata": {
        "colab": {
          "base_uri": "https://localhost:8080/"
        },
        "id": "cN76uWkvstCN",
        "outputId": "9301ddac-88c8-4fce-9a2e-667b534465a6"
      },
      "source": [
        "np.random.seed(42)\n",
        "df = pd.DataFrame(np.random.rand(10, 4), columns=list('ABCD'))\n",
        "df.iloc[3, 1] = np.nan\n",
        "df.loc[8, 'D'] = np.nan\n",
        "df = df.fillna(0)\n",
        "print(df)"
      ],
      "execution_count": null,
      "outputs": [
        {
          "output_type": "stream",
          "text": [
            "          A         B         C         D\n",
            "0  0.374540  0.950714  0.731994  0.598658\n",
            "1  0.156019  0.155995  0.058084  0.866176\n",
            "2  0.601115  0.708073  0.020584  0.969910\n",
            "3  0.832443  0.000000  0.181825  0.183405\n",
            "4  0.304242  0.524756  0.431945  0.291229\n",
            "5  0.611853  0.139494  0.292145  0.366362\n",
            "6  0.456070  0.785176  0.199674  0.514234\n",
            "7  0.592415  0.046450  0.607545  0.170524\n",
            "8  0.065052  0.948886  0.965632  0.000000\n",
            "9  0.304614  0.097672  0.684233  0.440152\n"
          ],
          "name": "stdout"
        }
      ]
    },
    {
      "cell_type": "code",
      "metadata": {
        "colab": {
          "base_uri": "https://localhost:8080/"
        },
        "id": "LmbVJd38tYdD",
        "outputId": "2fd408dd-3264-4b7a-fca2-67ea03632af9"
      },
      "source": [
        "np.random.seed(42)\n",
        "df = pd.DataFrame(np.random.rand(10, 4), columns=list('ABCD'))\n",
        "df = df[['D', 'A', 'B', 'C']]\n",
        "print(df)"
      ],
      "execution_count": null,
      "outputs": [
        {
          "output_type": "stream",
          "text": [
            "          D         A         B         C\n",
            "0  0.598658  0.374540  0.950714  0.731994\n",
            "1  0.866176  0.156019  0.155995  0.058084\n",
            "2  0.969910  0.601115  0.708073  0.020584\n",
            "3  0.183405  0.832443  0.212339  0.181825\n",
            "4  0.291229  0.304242  0.524756  0.431945\n",
            "5  0.366362  0.611853  0.139494  0.292145\n",
            "6  0.514234  0.456070  0.785176  0.199674\n",
            "7  0.170524  0.592415  0.046450  0.607545\n",
            "8  0.808397  0.065052  0.948886  0.965632\n",
            "9  0.440152  0.304614  0.097672  0.684233\n"
          ],
          "name": "stdout"
        }
      ]
    },
    {
      "cell_type": "code",
      "metadata": {
        "colab": {
          "base_uri": "https://localhost:8080/"
        },
        "id": "q1jpGecQtYgY",
        "outputId": "d5a1c354-bda9-4257-9605-59dd5560be52"
      },
      "source": [
        "np.random.seed(42)\n",
        "df = pd.DataFrame(np.random.rand(10, 4), columns=list('ABCD'))\n",
        "df = df.drop('D', axis=1)\n",
        "print(df)"
      ],
      "execution_count": null,
      "outputs": [
        {
          "output_type": "stream",
          "text": [
            "          A         B         C\n",
            "0  0.374540  0.950714  0.731994\n",
            "1  0.156019  0.155995  0.058084\n",
            "2  0.601115  0.708073  0.020584\n",
            "3  0.832443  0.212339  0.181825\n",
            "4  0.304242  0.524756  0.431945\n",
            "5  0.611853  0.139494  0.292145\n",
            "6  0.456070  0.785176  0.199674\n",
            "7  0.592415  0.046450  0.607545\n",
            "8  0.065052  0.948886  0.965632\n",
            "9  0.304614  0.097672  0.684233\n"
          ],
          "name": "stdout"
        }
      ]
    },
    {
      "cell_type": "markdown",
      "metadata": {
        "id": "Nu19PM2atea3"
      },
      "source": [
        "###61-70 read_csv(url, index_col=0)"
      ]
    },
    {
      "cell_type": "code",
      "metadata": {
        "colab": {
          "base_uri": "https://localhost:8080/"
        },
        "id": "EAbjg8Q7tYjh",
        "outputId": "95f49608-d17a-4f56-acc8-35d0505ac7f4"
      },
      "source": [
        "url = 'https://storage.googleapis.com/esmartdata-courses-files/dash-course/data.csv'\n",
        "df = pd.read_csv(url, index_col=0)\n",
        "print(df)"
      ],
      "execution_count": null,
      "outputs": [
        {
          "output_type": "stream",
          "text": [
            "                                  Name    Location  ...  New_Price  Price\n",
            "0               Maruti Wagon R LXI CNG      Mumbai  ...        NaN   1.75\n",
            "1     Hyundai Creta 1.6 CRDi SX Option        Pune  ...        NaN  12.50\n",
            "2                         Honda Jazz V     Chennai  ...  8.61 Lakh   4.50\n",
            "3                    Maruti Ertiga VDI     Chennai  ...        NaN   6.00\n",
            "4      Audi A4 New 2.0 TDI Multitronic  Coimbatore  ...        NaN  17.74\n",
            "...                                ...         ...  ...        ...    ...\n",
            "6014                  Maruti Swift VDI       Delhi  ...  7.88 Lakh   4.75\n",
            "6015          Hyundai Xcent 1.1 CRDi S      Jaipur  ...        NaN   4.00\n",
            "6016             Mahindra Xylo D4 BSIV      Jaipur  ...        NaN   2.90\n",
            "6017                Maruti Wagon R VXI     Kolkata  ...        NaN   2.65\n",
            "6018             Chevrolet Beat Diesel   Hyderabad  ...        NaN   2.50\n",
            "\n",
            "[6019 rows x 13 columns]\n"
          ],
          "name": "stdout"
        }
      ]
    },
    {
      "cell_type": "markdown",
      "metadata": {
        "id": "iIT0i4Z6iOMt"
      },
      "source": [
        "####list(df.columns)"
      ]
    },
    {
      "cell_type": "code",
      "metadata": {
        "colab": {
          "base_uri": "https://localhost:8080/"
        },
        "id": "4bgjoWDttlSr",
        "outputId": "d19714ea-0f6c-4c3a-9e98-86703e48672f"
      },
      "source": [
        "url = 'https://storage.googleapis.com/esmartdata-courses-files/dash-course/data.csv'\n",
        "df = pd.read_csv(url, index_col=0)\n",
        "print(list(df.columns))"
      ],
      "execution_count": null,
      "outputs": [
        {
          "output_type": "stream",
          "text": [
            "['Name', 'Location', 'Year', 'Kilometers_Driven', 'Fuel_Type', 'Transmission', 'Owner_Type', 'Mileage', 'Engine', 'Power', 'Seats', 'New_Price', 'Price']\n"
          ],
          "name": "stdout"
        }
      ]
    },
    {
      "cell_type": "code",
      "metadata": {
        "colab": {
          "base_uri": "https://localhost:8080/"
        },
        "id": "aafDxpVHtlVz",
        "outputId": "06f4ca6b-2b31-47eb-a81b-35c1b79e955a"
      },
      "source": [
        "url = 'https://storage.googleapis.com/esmartdata-courses-files/dash-course/data.csv'\n",
        "df = pd.read_csv(url, index_col=0)\n",
        "df.drop('New_Price', axis=1, inplace=True)\n",
        "print(df.head())"
      ],
      "execution_count": null,
      "outputs": [
        {
          "output_type": "stream",
          "text": [
            "                               Name    Location  Year  ...      Power Seats  Price\n",
            "0            Maruti Wagon R LXI CNG      Mumbai  2010  ...  58.16 bhp   5.0   1.75\n",
            "1  Hyundai Creta 1.6 CRDi SX Option        Pune  2015  ...  126.2 bhp   5.0  12.50\n",
            "2                      Honda Jazz V     Chennai  2011  ...   88.7 bhp   5.0   4.50\n",
            "3                 Maruti Ertiga VDI     Chennai  2012  ...  88.76 bhp   7.0   6.00\n",
            "4   Audi A4 New 2.0 TDI Multitronic  Coimbatore  2013  ...  140.8 bhp   5.0  17.74\n",
            "\n",
            "[5 rows x 12 columns]\n"
          ],
          "name": "stdout"
        }
      ]
    },
    {
      "cell_type": "code",
      "metadata": {
        "colab": {
          "base_uri": "https://localhost:8080/"
        },
        "id": "N3brTk9ntlYk",
        "outputId": "0b411eae-4be0-4734-83fc-dabf6dd43734"
      },
      "source": [
        "url = 'https://storage.googleapis.com/esmartdata-courses-files/dash-course/data.csv'\n",
        "df = pd.read_csv(url, index_col=0)\n",
        "df.drop('New_Price', axis=1, inplace=True)\n",
        "print(df.isnull().sum())"
      ],
      "execution_count": null,
      "outputs": [
        {
          "output_type": "stream",
          "text": [
            "Name                  0\n",
            "Location              0\n",
            "Year                  0\n",
            "Kilometers_Driven     0\n",
            "Fuel_Type             0\n",
            "Transmission          0\n",
            "Owner_Type            0\n",
            "Mileage               2\n",
            "Engine               36\n",
            "Power                36\n",
            "Seats                42\n",
            "Price                 0\n",
            "dtype: int64\n"
          ],
          "name": "stdout"
        }
      ]
    },
    {
      "cell_type": "code",
      "metadata": {
        "colab": {
          "base_uri": "https://localhost:8080/"
        },
        "id": "53Pf-BJLtlbe",
        "outputId": "7eb364b3-3c17-4efd-fb55-0c692b516e5e"
      },
      "source": [
        "url = 'https://storage.googleapis.com/esmartdata-courses-files/dash-course/data.csv'\n",
        "df = pd.read_csv(url, index_col=0)\n",
        "df.dropna(inplace=True)\n",
        "df.info()"
      ],
      "execution_count": null,
      "outputs": [
        {
          "output_type": "stream",
          "text": [
            "<class 'pandas.core.frame.DataFrame'>\n",
            "Int64Index: 823 entries, 2 to 6014\n",
            "Data columns (total 13 columns):\n",
            " #   Column             Non-Null Count  Dtype  \n",
            "---  ------             --------------  -----  \n",
            " 0   Name               823 non-null    object \n",
            " 1   Location           823 non-null    object \n",
            " 2   Year               823 non-null    int64  \n",
            " 3   Kilometers_Driven  823 non-null    int64  \n",
            " 4   Fuel_Type          823 non-null    object \n",
            " 5   Transmission       823 non-null    object \n",
            " 6   Owner_Type         823 non-null    object \n",
            " 7   Mileage            823 non-null    object \n",
            " 8   Engine             823 non-null    object \n",
            " 9   Power              823 non-null    object \n",
            " 10  Seats              823 non-null    float64\n",
            " 11  New_Price          823 non-null    object \n",
            " 12  Price              823 non-null    float64\n",
            "dtypes: float64(2), int64(2), object(9)\n",
            "memory usage: 90.0+ KB\n"
          ],
          "name": "stdout"
        }
      ]
    },
    {
      "cell_type": "code",
      "metadata": {
        "colab": {
          "base_uri": "https://localhost:8080/"
        },
        "id": "O5vADmsZtleY",
        "outputId": "2d720f20-814f-4b1c-e99a-98aa5649dc57"
      },
      "source": [
        "url = 'https://storage.googleapis.com/esmartdata-courses-files/dash-course/data.csv'\n",
        "df = pd.read_csv(url, index_col=0)\n",
        "df.columns = [col.lower() for col in df.columns]\n",
        "print(df.head())"
      ],
      "execution_count": null,
      "outputs": [
        {
          "output_type": "stream",
          "text": [
            "                               name    location  year  ...  seats  new_price  price\n",
            "0            Maruti Wagon R LXI CNG      Mumbai  2010  ...    5.0        NaN   1.75\n",
            "1  Hyundai Creta 1.6 CRDi SX Option        Pune  2015  ...    5.0        NaN  12.50\n",
            "2                      Honda Jazz V     Chennai  2011  ...    5.0  8.61 Lakh   4.50\n",
            "3                 Maruti Ertiga VDI     Chennai  2012  ...    7.0        NaN   6.00\n",
            "4   Audi A4 New 2.0 TDI Multitronic  Coimbatore  2013  ...    5.0        NaN  17.74\n",
            "\n",
            "[5 rows x 13 columns]\n"
          ],
          "name": "stdout"
        }
      ]
    },
    {
      "cell_type": "code",
      "metadata": {
        "colab": {
          "base_uri": "https://localhost:8080/"
        },
        "id": "76q1SYrPtlhH",
        "outputId": "d5189706-f9c5-49c9-d9ff-5834e11dcdc1"
      },
      "source": [
        "url = 'https://storage.googleapis.com/esmartdata-courses-files/dash-course/data.csv'\n",
        "df = pd.read_csv(url, index_col=0)\n",
        "df.columns = [col.lower() for col in df.columns]\n",
        "print(df['owner_type'].value_counts())"
      ],
      "execution_count": null,
      "outputs": [
        {
          "output_type": "stream",
          "text": [
            "First             4929\n",
            "Second             968\n",
            "Third              113\n",
            "Fourth & Above       9\n",
            "Name: owner_type, dtype: int64\n"
          ],
          "name": "stdout"
        }
      ]
    },
    {
      "cell_type": "code",
      "metadata": {
        "colab": {
          "base_uri": "https://localhost:8080/"
        },
        "id": "Jue_VhQPtlj7",
        "outputId": "d774bee0-ef78-4267-fb9b-1e517079f25f"
      },
      "source": [
        "url = 'https://storage.googleapis.com/esmartdata-courses-files/dash-course/data.csv'\n",
        "df = pd.read_csv(url, index_col=0)\n",
        "df.columns = [col.lower() for col in df.columns]\n",
        "df.dropna(inplace=True)\n",
        "df['engine'] = df['engine'].map(lambda x: int(x[:-3]))\n",
        "print(df[['name', 'engine']].head())"
      ],
      "execution_count": null,
      "outputs": [
        {
          "output_type": "stream",
          "text": [
            "                                 name  engine\n",
            "2                        Honda Jazz V    1199\n",
            "7   Toyota Innova Crysta 2.8 GX AT 8S    2755\n",
            "10                   Maruti Ciaz Zeta    1462\n",
            "15        Mitsubishi Pajero Sport 4X4    2477\n",
            "20                  BMW 3 Series 320d    1995\n"
          ],
          "name": "stdout"
        }
      ]
    },
    {
      "cell_type": "code",
      "metadata": {
        "colab": {
          "base_uri": "https://localhost:8080/"
        },
        "id": "wAl1bhWOtlnF",
        "outputId": "87600161-c73d-4fb7-fdee-81476536c856"
      },
      "source": [
        "url = 'https://storage.googleapis.com/esmartdata-courses-files/dash-course/data.csv'\n",
        "df = pd.read_csv(url, index_col=0)\n",
        "df.columns = [col.lower() for col in df.columns]\n",
        "df['power'] = np.where(df['power'] == 'null bhp', np.nan, df['power'])\n",
        "print(df['power'].value_counts()[:5])"
      ],
      "execution_count": null,
      "outputs": [
        {
          "output_type": "stream",
          "text": [
            "74 bhp      235\n",
            "98.6 bhp    131\n",
            "73.9 bhp    125\n",
            "140 bhp     123\n",
            "78.9 bhp    111\n",
            "Name: power, dtype: int64\n"
          ],
          "name": "stdout"
        }
      ]
    },
    {
      "cell_type": "code",
      "metadata": {
        "colab": {
          "base_uri": "https://localhost:8080/"
        },
        "id": "8UHXV_67tltG",
        "outputId": "b8c9f23c-e05a-407c-ed5e-1369b3e4924a"
      },
      "source": [
        "url = 'https://storage.googleapis.com/esmartdata-courses-files/dash-course/data.csv'\n",
        "df = pd.read_csv(url, index_col=0)\n",
        "print(df.head())\n",
        "df.columns = [col.lower() for col in df.columns]\n",
        "print(df.groupby('year').size())"
      ],
      "execution_count": null,
      "outputs": [
        {
          "output_type": "stream",
          "text": [
            "                               Name    Location  Year  ...  Seats  New_Price  Price\n",
            "0            Maruti Wagon R LXI CNG      Mumbai  2010  ...    5.0        NaN   1.75\n",
            "1  Hyundai Creta 1.6 CRDi SX Option        Pune  2015  ...    5.0        NaN  12.50\n",
            "2                      Honda Jazz V     Chennai  2011  ...    5.0  8.61 Lakh   4.50\n",
            "3                 Maruti Ertiga VDI     Chennai  2012  ...    7.0        NaN   6.00\n",
            "4   Audi A4 New 2.0 TDI Multitronic  Coimbatore  2013  ...    5.0        NaN  17.74\n",
            "\n",
            "[5 rows x 13 columns]\n",
            "year\n",
            "1998      4\n",
            "1999      2\n",
            "2000      4\n",
            "2001      8\n",
            "2002     15\n",
            "2003     17\n",
            "2004     31\n",
            "2005     57\n",
            "2006     78\n",
            "2007    125\n",
            "2008    174\n",
            "2009    198\n",
            "2010    342\n",
            "2011    466\n",
            "2012    580\n",
            "2013    649\n",
            "2014    797\n",
            "2015    744\n",
            "2016    741\n",
            "2017    587\n",
            "2018    298\n",
            "2019    102\n",
            "dtype: int64\n"
          ],
          "name": "stdout"
        }
      ]
    },
    {
      "cell_type": "markdown",
      "metadata": {
        "id": "6BOQn0aqvAfP"
      },
      "source": [
        "###71-80"
      ]
    },
    {
      "cell_type": "code",
      "metadata": {
        "colab": {
          "base_uri": "https://localhost:8080/"
        },
        "id": "QstNOap-umpp",
        "outputId": "3551fd1b-fd56-4588-aefd-3dc54edf0b08"
      },
      "source": [
        "url = 'https://storage.googleapis.com/esmartdata-courses-files/dash-course/data.csv'\n",
        "df = pd.read_csv(url, index_col=0)\n",
        "df.columns = [col.lower() for col in df.columns]\n",
        "print(df)\n",
        "df['transmission'] = df['transmission'].map({'Manual': 0, 'Automatic': 1})\n",
        "print(df['transmission'].head())"
      ],
      "execution_count": null,
      "outputs": [
        {
          "output_type": "stream",
          "text": [
            "                                  name    location  year  kilometers_driven fuel_type transmission owner_type     mileage   engine      power  seats  new_price  price\n",
            "0               Maruti Wagon R LXI CNG      Mumbai  2010              72000       CNG       Manual      First  26.6 km/kg   998 CC  58.16 bhp    5.0        NaN   1.75\n",
            "1     Hyundai Creta 1.6 CRDi SX Option        Pune  2015              41000    Diesel       Manual      First  19.67 kmpl  1582 CC  126.2 bhp    5.0        NaN  12.50\n",
            "2                         Honda Jazz V     Chennai  2011              46000    Petrol       Manual      First   18.2 kmpl  1199 CC   88.7 bhp    5.0  8.61 Lakh   4.50\n",
            "3                    Maruti Ertiga VDI     Chennai  2012              87000    Diesel       Manual      First  20.77 kmpl  1248 CC  88.76 bhp    7.0        NaN   6.00\n",
            "4      Audi A4 New 2.0 TDI Multitronic  Coimbatore  2013              40670    Diesel    Automatic     Second   15.2 kmpl  1968 CC  140.8 bhp    5.0        NaN  17.74\n",
            "...                                ...         ...   ...                ...       ...          ...        ...         ...      ...        ...    ...        ...    ...\n",
            "6014                  Maruti Swift VDI       Delhi  2014              27365    Diesel       Manual      First   28.4 kmpl  1248 CC     74 bhp    5.0  7.88 Lakh   4.75\n",
            "6015          Hyundai Xcent 1.1 CRDi S      Jaipur  2015             100000    Diesel       Manual      First   24.4 kmpl  1120 CC     71 bhp    5.0        NaN   4.00\n",
            "6016             Mahindra Xylo D4 BSIV      Jaipur  2012              55000    Diesel       Manual     Second   14.0 kmpl  2498 CC    112 bhp    8.0        NaN   2.90\n",
            "6017                Maruti Wagon R VXI     Kolkata  2013              46000    Petrol       Manual      First   18.9 kmpl   998 CC   67.1 bhp    5.0        NaN   2.65\n",
            "6018             Chevrolet Beat Diesel   Hyderabad  2011              47000    Diesel       Manual      First  25.44 kmpl   936 CC   57.6 bhp    5.0        NaN   2.50\n",
            "\n",
            "[6019 rows x 13 columns]\n",
            "0    0\n",
            "1    0\n",
            "2    0\n",
            "3    0\n",
            "4    1\n",
            "Name: transmission, dtype: int64\n"
          ],
          "name": "stdout"
        }
      ]
    },
    {
      "cell_type": "code",
      "metadata": {
        "id": "5UdMo2BPumuI",
        "colab": {
          "base_uri": "https://localhost:8080/"
        },
        "outputId": "9529ffce-ae8e-4b16-8865-f66c54c08d1b"
      },
      "source": [
        "url = 'https://storage.googleapis.com/esmartdata-courses-files/dash-course/data.csv'\n",
        "df = pd.read_csv(url, index_col=0)\n",
        "df.columns = [col.lower() for col in df.columns]\n",
        "print(df)\n",
        "df.to_csv('cars.csv', index=False)"
      ],
      "execution_count": null,
      "outputs": [
        {
          "output_type": "stream",
          "text": [
            "                                  name    location  year  kilometers_driven fuel_type transmission owner_type     mileage   engine      power  seats  new_price  price\n",
            "0               Maruti Wagon R LXI CNG      Mumbai  2010              72000       CNG       Manual      First  26.6 km/kg   998 CC  58.16 bhp    5.0        NaN   1.75\n",
            "1     Hyundai Creta 1.6 CRDi SX Option        Pune  2015              41000    Diesel       Manual      First  19.67 kmpl  1582 CC  126.2 bhp    5.0        NaN  12.50\n",
            "2                         Honda Jazz V     Chennai  2011              46000    Petrol       Manual      First   18.2 kmpl  1199 CC   88.7 bhp    5.0  8.61 Lakh   4.50\n",
            "3                    Maruti Ertiga VDI     Chennai  2012              87000    Diesel       Manual      First  20.77 kmpl  1248 CC  88.76 bhp    7.0        NaN   6.00\n",
            "4      Audi A4 New 2.0 TDI Multitronic  Coimbatore  2013              40670    Diesel    Automatic     Second   15.2 kmpl  1968 CC  140.8 bhp    5.0        NaN  17.74\n",
            "...                                ...         ...   ...                ...       ...          ...        ...         ...      ...        ...    ...        ...    ...\n",
            "6014                  Maruti Swift VDI       Delhi  2014              27365    Diesel       Manual      First   28.4 kmpl  1248 CC     74 bhp    5.0  7.88 Lakh   4.75\n",
            "6015          Hyundai Xcent 1.1 CRDi S      Jaipur  2015             100000    Diesel       Manual      First   24.4 kmpl  1120 CC     71 bhp    5.0        NaN   4.00\n",
            "6016             Mahindra Xylo D4 BSIV      Jaipur  2012              55000    Diesel       Manual     Second   14.0 kmpl  2498 CC    112 bhp    8.0        NaN   2.90\n",
            "6017                Maruti Wagon R VXI     Kolkata  2013              46000    Petrol       Manual      First   18.9 kmpl   998 CC   67.1 bhp    5.0        NaN   2.65\n",
            "6018             Chevrolet Beat Diesel   Hyderabad  2011              47000    Diesel       Manual      First  25.44 kmpl   936 CC   57.6 bhp    5.0        NaN   2.50\n",
            "\n",
            "[6019 rows x 13 columns]\n"
          ],
          "name": "stdout"
        }
      ]
    },
    {
      "cell_type": "code",
      "metadata": {
        "colab": {
          "base_uri": "https://localhost:8080/"
        },
        "id": "JepFwW1rumxn",
        "outputId": "cee908fb-95ab-43cd-e43b-2571dd710fb0"
      },
      "source": [
        "url = 'https://storage.googleapis.com/esmartdata-courses-files/ds-bootcamp/london_bike.csv'\n",
        "df = pd.read_csv(url, index_col=0)\n",
        "df.info()"
      ],
      "execution_count": null,
      "outputs": [
        {
          "output_type": "stream",
          "text": [
            "<class 'pandas.core.frame.DataFrame'>\n",
            "Index: 17414 entries, 2015-01-04 00:00:00 to 2017-01-03 23:00:00\n",
            "Data columns (total 9 columns):\n",
            " #   Column        Non-Null Count  Dtype  \n",
            "---  ------        --------------  -----  \n",
            " 0   cnt           17414 non-null  int64  \n",
            " 1   t1            17414 non-null  float64\n",
            " 2   t2            17414 non-null  float64\n",
            " 3   hum           17414 non-null  float64\n",
            " 4   wind_speed    17414 non-null  float64\n",
            " 5   weather_code  17414 non-null  float64\n",
            " 6   is_holiday    17414 non-null  float64\n",
            " 7   is_weekend    17414 non-null  float64\n",
            " 8   season        17414 non-null  float64\n",
            "dtypes: float64(8), int64(1)\n",
            "memory usage: 1.3+ MB\n"
          ],
          "name": "stdout"
        }
      ]
    },
    {
      "cell_type": "code",
      "metadata": {
        "colab": {
          "base_uri": "https://localhost:8080/"
        },
        "id": "dbrrJv_Jum1s",
        "outputId": "945079d7-7e95-45a5-bec2-e4952cf9840a"
      },
      "source": [
        "pd.set_option('max_columns', 9)\n",
        "pd.set_option('display.width', 150)\n",
        "url = 'https://storage.googleapis.com/esmartdata-courses-files/ds-bootcamp/london_bike.csv'\n",
        "df = pd.read_csv(url, index_col=0)\n",
        "print(df.head())\n",
        "print(df.tail())"
      ],
      "execution_count": null,
      "outputs": [
        {
          "output_type": "stream",
          "text": [
            "                     cnt   t1   t2    hum  wind_speed  weather_code  is_holiday  is_weekend  season\n",
            "timestamp                                                                                          \n",
            "2015-01-04 00:00:00  182  3.0  2.0   93.0         6.0           3.0         0.0         1.0     3.0\n",
            "2015-01-04 01:00:00  138  3.0  2.5   93.0         5.0           1.0         0.0         1.0     3.0\n",
            "2015-01-04 02:00:00  134  2.5  2.5   96.5         0.0           1.0         0.0         1.0     3.0\n",
            "2015-01-04 03:00:00   72  2.0  2.0  100.0         0.0           1.0         0.0         1.0     3.0\n",
            "2015-01-04 04:00:00   47  2.0  0.0   93.0         6.5           1.0         0.0         1.0     3.0\n",
            "                      cnt   t1   t2   hum  wind_speed  weather_code  is_holiday  is_weekend  season\n",
            "timestamp                                                                                          \n",
            "2017-01-03 19:00:00  1042  5.0  1.0  81.0        19.0           3.0         0.0         0.0     3.0\n",
            "2017-01-03 20:00:00   541  5.0  1.0  81.0        21.0           4.0         0.0         0.0     3.0\n",
            "2017-01-03 21:00:00   337  5.5  1.5  78.5        24.0           4.0         0.0         0.0     3.0\n",
            "2017-01-03 22:00:00   224  5.5  1.5  76.0        23.0           4.0         0.0         0.0     3.0\n",
            "2017-01-03 23:00:00   139  5.0  1.0  76.0        22.0           2.0         0.0         0.0     3.0\n"
          ],
          "name": "stdout"
        }
      ]
    },
    {
      "cell_type": "code",
      "metadata": {
        "colab": {
          "base_uri": "https://localhost:8080/"
        },
        "id": "s1OetZyWum5A",
        "outputId": "de761965-03a2-4442-b3b5-decd1e634c43"
      },
      "source": [
        "pd.set_option('max_columns', 9)\n",
        "pd.set_option('display.width', 150)\n",
        "url = 'https://storage.googleapis.com/esmartdata-courses-files/ds-bootcamp/london_bike.csv'\n",
        "df = pd.read_csv(url)\n",
        "df['timestamp'] = pd.to_datetime(df['timestamp'])\n",
        "df.info()"
      ],
      "execution_count": null,
      "outputs": [
        {
          "output_type": "stream",
          "text": [
            "<class 'pandas.core.frame.DataFrame'>\n",
            "RangeIndex: 17414 entries, 0 to 17413\n",
            "Data columns (total 10 columns):\n",
            " #   Column        Non-Null Count  Dtype         \n",
            "---  ------        --------------  -----         \n",
            " 0   timestamp     17414 non-null  datetime64[ns]\n",
            " 1   cnt           17414 non-null  int64         \n",
            " 2   t1            17414 non-null  float64       \n",
            " 3   t2            17414 non-null  float64       \n",
            " 4   hum           17414 non-null  float64       \n",
            " 5   wind_speed    17414 non-null  float64       \n",
            " 6   weather_code  17414 non-null  float64       \n",
            " 7   is_holiday    17414 non-null  float64       \n",
            " 8   is_weekend    17414 non-null  float64       \n",
            " 9   season        17414 non-null  float64       \n",
            "dtypes: datetime64[ns](1), float64(8), int64(1)\n",
            "memory usage: 1.3 MB\n"
          ],
          "name": "stdout"
        }
      ]
    },
    {
      "cell_type": "code",
      "metadata": {
        "colab": {
          "base_uri": "https://localhost:8080/"
        },
        "id": "gtN1k3c9um7f",
        "outputId": "c4711962-f48f-4411-fe7a-668835242624"
      },
      "source": [
        "pd.set_option('max_columns', 15)\n",
        "pd.set_option('display.width', 150)\n",
        "url = 'https://storage.googleapis.com/esmartdata-courses-files/ds-bootcamp/london_bike.csv'\n",
        "df = pd.read_csv(url)\n",
        "df['timestamp'] = pd.to_datetime(df['timestamp'])\n",
        "df['hour'] = df['timestamp'].dt.hour\n",
        "print(df.head())"
      ],
      "execution_count": null,
      "outputs": [
        {
          "output_type": "stream",
          "text": [
            "            timestamp  cnt   t1   t2    hum  wind_speed  weather_code  is_holiday  is_weekend  season  hour\n",
            "0 2015-01-04 00:00:00  182  3.0  2.0   93.0         6.0           3.0         0.0         1.0     3.0     0\n",
            "1 2015-01-04 01:00:00  138  3.0  2.5   93.0         5.0           1.0         0.0         1.0     3.0     1\n",
            "2 2015-01-04 02:00:00  134  2.5  2.5   96.5         0.0           1.0         0.0         1.0     3.0     2\n",
            "3 2015-01-04 03:00:00   72  2.0  2.0  100.0         0.0           1.0         0.0         1.0     3.0     3\n",
            "4 2015-01-04 04:00:00   47  2.0  0.0   93.0         6.5           1.0         0.0         1.0     3.0     4\n"
          ],
          "name": "stdout"
        }
      ]
    },
    {
      "cell_type": "code",
      "metadata": {
        "colab": {
          "base_uri": "https://localhost:8080/"
        },
        "id": "BtVJ48sBvQf7",
        "outputId": "3ad97ec3-13ae-4c4c-eaaf-8bfd7f6132f0"
      },
      "source": [
        "pd.set_option('max_columns', 15)\n",
        "pd.set_option('display.width', 150)\n",
        "url = 'https://storage.googleapis.com/esmartdata-courses-files/ds-bootcamp/london_bike.csv'\n",
        "df = pd.read_csv(url)\n",
        "df['timestamp'] = pd.to_datetime(df['timestamp'])\n",
        "df['hour'] = df['timestamp'].dt.hour\n",
        "df['month'] = df['timestamp'].dt.month\n",
        "print(df.head())\n"
      ],
      "execution_count": null,
      "outputs": [
        {
          "output_type": "stream",
          "text": [
            "            timestamp  cnt   t1   t2    hum  wind_speed  weather_code  is_holiday  is_weekend  season  hour  month\n",
            "0 2015-01-04 00:00:00  182  3.0  2.0   93.0         6.0           3.0         0.0         1.0     3.0     0      1\n",
            "1 2015-01-04 01:00:00  138  3.0  2.5   93.0         5.0           1.0         0.0         1.0     3.0     1      1\n",
            "2 2015-01-04 02:00:00  134  2.5  2.5   96.5         0.0           1.0         0.0         1.0     3.0     2      1\n",
            "3 2015-01-04 03:00:00   72  2.0  2.0  100.0         0.0           1.0         0.0         1.0     3.0     3      1\n",
            "4 2015-01-04 04:00:00   47  2.0  0.0   93.0         6.5           1.0         0.0         1.0     3.0     4      1\n"
          ],
          "name": "stdout"
        }
      ]
    },
    {
      "cell_type": "code",
      "metadata": {
        "colab": {
          "base_uri": "https://localhost:8080/"
        },
        "id": "Mz6RmEjLvQi3",
        "outputId": "02525f42-74fc-48e8-f305-903059dc26ee"
      },
      "source": [
        "pd.set_option('max_columns', 15)\n",
        "pd.set_option('display.width', 150)\n",
        "url = 'https://storage.googleapis.com/esmartdata-courses-files/ds-bootcamp/london_bike.csv'\n",
        "df = pd.read_csv(url)\n",
        "df['timestamp'] = pd.to_datetime(df['timestamp'])\n",
        "df['month'] = df['timestamp'].dt.month\n",
        "humidity_by_month = df.groupby('month')['hum'].mean().reset_index()\n",
        "print(humidity_by_month)"
      ],
      "execution_count": null,
      "outputs": [
        {
          "output_type": "stream",
          "text": [
            "    month        hum\n",
            "0       1  77.543376\n",
            "1       2  74.905813\n",
            "2       3  71.903781\n",
            "3       4  67.532337\n",
            "4       5  66.367272\n",
            "5       6  68.945148\n",
            "6       7  64.383525\n",
            "7       8  67.289420\n",
            "8       9  71.753228\n",
            "9      10  77.639621\n",
            "10     11  78.732517\n",
            "11     12  81.032345\n"
          ],
          "name": "stdout"
        }
      ]
    },
    {
      "cell_type": "code",
      "metadata": {
        "colab": {
          "base_uri": "https://localhost:8080/"
        },
        "id": "yk2PCxu0vQlu",
        "outputId": "efc0f71f-442a-4feb-df97-6db2bfbc8b58"
      },
      "source": [
        "pd.set_option('max_columns', 15)\n",
        "pd.set_option('display.width', 150)\n",
        "url = 'https://storage.googleapis.com/esmartdata-courses-files/ds-bootcamp/london_bike.csv'\n",
        "df = pd.read_csv(url)\n",
        "df['timestamp'] = pd.to_datetime(df['timestamp'])\n",
        "df['hour'] = df['timestamp'].dt.hour\n",
        "cnt_by_hour = df.groupby('hour')['cnt'].mean().reset_index()\n",
        "print(cnt_by_hour)"
      ],
      "execution_count": null,
      "outputs": [
        {
          "output_type": "stream",
          "text": [
            "    hour          cnt\n",
            "0      0   290.609116\n",
            "1      1   200.631215\n",
            "2      2   136.303745\n",
            "3      3    94.245492\n",
            "4      4    73.313454\n",
            "5      5   110.707351\n",
            "6      6   466.626722\n",
            "7      7  1468.745179\n",
            "8      8  2882.823204\n",
            "9      9  1653.019257\n",
            "10    10  1064.660690\n",
            "11    11  1151.218707\n",
            "12    12  1433.717421\n",
            "13    13  1505.739011\n",
            "14    14  1472.004121\n",
            "15    15  1564.621399\n",
            "16    16  1869.801370\n",
            "17    17  2829.585165\n",
            "18    18  2629.043956\n",
            "19    19  1651.510316\n",
            "20    20  1059.781293\n",
            "21    21   741.249311\n",
            "22    22   592.409655\n",
            "23    23   439.652355\n"
          ],
          "name": "stdout"
        }
      ]
    },
    {
      "cell_type": "code",
      "metadata": {
        "colab": {
          "base_uri": "https://localhost:8080/"
        },
        "id": "DT-lYMwgvQop",
        "outputId": "9b3998d3-1713-4792-beda-f88eb22ff198"
      },
      "source": [
        "pd.set_option('max_columns', 15)\n",
        "pd.set_option('display.width', 150)\n",
        "url = 'https://storage.googleapis.com/esmartdata-courses-files/ds-bootcamp/london_bike.csv'\n",
        "df = pd.read_csv(url)\n",
        "df['timestamp'] = pd.to_datetime(df['timestamp'])\n",
        "df['hour'] = df['timestamp'].dt.hour\n",
        "cnt_by_weekend_hour = df.groupby(['is_weekend', 'hour'])['cnt'].mean().reset_index()\n",
        "print(cnt_by_weekend_hour)"
      ],
      "execution_count": null,
      "outputs": [
        {
          "output_type": "stream",
          "text": [
            "    is_weekend  hour          cnt\n",
            "0          0.0     0   215.366795\n",
            "1          0.0     1   128.001931\n",
            "2          0.0     2    81.007737\n",
            "3          0.0     3    53.250000\n",
            "4          0.0     4    52.248062\n",
            "5          0.0     5   116.052326\n",
            "6          0.0     6   604.655106\n",
            "7          0.0     7  1969.518304\n",
            "8          0.0     8  3863.922780\n",
            "9          0.0     9  1997.605769\n",
            "10         0.0    10  1003.832692\n",
            "11         0.0    11   968.384615\n",
            "12         0.0    12  1233.938462\n",
            "13         0.0    13  1276.556840\n",
            "14         0.0    14  1211.795761\n",
            "15         0.0    15  1330.265385\n",
            "16         0.0    16  1801.692898\n",
            "17         0.0    17  3232.104046\n",
            "18         0.0    18  3051.809249\n",
            "19         0.0    19  1825.682081\n",
            "20         0.0    20  1133.965318\n",
            "21         0.0    21   789.131274\n",
            "22         0.0    22   614.686654\n",
            "23         0.0    23   434.893617\n",
            "24         1.0     0   479.810680\n",
            "25         1.0     1   383.262136\n",
            "26         1.0     2   276.441176\n",
            "27         1.0     3   197.434146\n",
            "28         1.0     4   126.336585\n",
            "29         1.0     5    97.253659\n",
            "30         1.0     6   120.555556\n",
            "31         1.0     7   213.183575\n",
            "32         1.0     8   415.786408\n",
            "33         1.0     9   787.391304\n",
            "34         1.0    10  1218.956098\n",
            "35         1.0    11  1610.512077\n",
            "36         1.0    12  1930.775120\n",
            "37         1.0    13  2074.856459\n",
            "38         1.0    14  2118.167464\n",
            "39         1.0    15  2147.708134\n",
            "40         1.0    16  2039.583732\n",
            "41         1.0    17  1830.028708\n",
            "42         1.0    18  1579.210526\n",
            "43         1.0    19  1216.918269\n",
            "44         1.0    20   874.677885\n",
            "45         1.0    21   622.004808\n",
            "46         1.0    22   537.038462\n",
            "47         1.0    23   451.653659\n"
          ],
          "name": "stdout"
        }
      ]
    },
    {
      "cell_type": "markdown",
      "metadata": {
        "id": "2b6ILFgGvZyb"
      },
      "source": [
        "###81-90"
      ]
    },
    {
      "cell_type": "code",
      "metadata": {
        "colab": {
          "base_uri": "https://localhost:8080/"
        },
        "id": "-wjpgftgvQvN",
        "outputId": "3cef3d6e-249b-4a6c-eeb4-001cf7149c1c"
      },
      "source": [
        "pd.set_option('max_columns', 15)\n",
        "pd.set_option('display.width', 150)\n",
        "url = 'https://storage.googleapis.com/esmartdata-courses-files/ds-bootcamp/london_bike.csv'\n",
        "df = pd.read_csv(url)\n",
        "df['timestamp'] = pd.to_datetime(df['timestamp'])\n",
        "df['hour'] = df['timestamp'].dt.hour\n",
        "print(df.query(\"wind_speed < 10.0 and hum > 90.0\"))"
      ],
      "execution_count": null,
      "outputs": [
        {
          "output_type": "stream",
          "text": [
            "                timestamp  cnt   t1   t2    hum  wind_speed  weather_code  is_holiday  is_weekend  season  hour\n",
            "0     2015-01-04 00:00:00  182  3.0  2.0   93.0         6.0           3.0         0.0         1.0     3.0     0\n",
            "1     2015-01-04 01:00:00  138  3.0  2.5   93.0         5.0           1.0         0.0         1.0     3.0     1\n",
            "2     2015-01-04 02:00:00  134  2.5  2.5   96.5         0.0           1.0         0.0         1.0     3.0     2\n",
            "3     2015-01-04 03:00:00   72  2.0  2.0  100.0         0.0           1.0         0.0         1.0     3.0     3\n",
            "4     2015-01-04 04:00:00   47  2.0  0.0   93.0         6.5           1.0         0.0         1.0     3.0     4\n",
            "...                   ...  ...  ...  ...    ...         ...           ...         ...         ...     ...   ...\n",
            "17312 2016-12-30 18:00:00  674  4.0  2.0  100.0         9.0           4.0         0.0         0.0     3.0    18\n",
            "17319 2016-12-31 01:00:00  123  5.0  3.5  100.0         7.5           4.0         0.0         1.0     3.0     1\n",
            "17320 2016-12-31 02:00:00   85  6.0  4.0   93.0         8.0           4.0         0.0         1.0     3.0     2\n",
            "17370 2017-01-02 04:00:00   18  3.0  0.5   93.0         8.0           2.0         1.0         0.0     3.0     4\n",
            "17371 2017-01-02 05:00:00   35  3.0  2.5   93.0         5.0           2.0         1.0         0.0     3.0     5\n",
            "\n",
            "[692 rows x 11 columns]\n"
          ],
          "name": "stdout"
        }
      ]
    },
    {
      "cell_type": "code",
      "metadata": {
        "colab": {
          "base_uri": "https://localhost:8080/"
        },
        "id": "WZZbJ8UBvQx9",
        "outputId": "488423e2-ab8e-4cea-90d9-1b1899e15566"
      },
      "source": [
        "pd.set_option('max_columns', 15)\n",
        "pd.set_option('display.width', 150)\n",
        "url = 'https://storage.googleapis.com/esmartdata-courses-files/ds-bootcamp/london_bike.csv'\n",
        "df = pd.read_csv(url)\n",
        "df['timestamp'] = pd.to_datetime(df['timestamp'])\n",
        "df['hour'] = df['timestamp'].dt.hour\n",
        "df_weekend = df.query(\"is_weekend == 1.0\").copy()\n",
        "print(df_weekend)"
      ],
      "execution_count": null,
      "outputs": [
        {
          "output_type": "stream",
          "text": [
            "                timestamp  cnt   t1   t2    hum  wind_speed  weather_code  is_holiday  is_weekend  season  hour\n",
            "0     2015-01-04 00:00:00  182  3.0  2.0   93.0         6.0           3.0         0.0         1.0     3.0     0\n",
            "1     2015-01-04 01:00:00  138  3.0  2.5   93.0         5.0           1.0         0.0         1.0     3.0     1\n",
            "2     2015-01-04 02:00:00  134  2.5  2.5   96.5         0.0           1.0         0.0         1.0     3.0     2\n",
            "3     2015-01-04 03:00:00   72  2.0  2.0  100.0         0.0           1.0         0.0         1.0     3.0     3\n",
            "4     2015-01-04 04:00:00   47  2.0  0.0   93.0         6.5           1.0         0.0         1.0     3.0     4\n",
            "...                   ...  ...  ...  ...    ...         ...           ...         ...         ...     ...   ...\n",
            "17361 2017-01-01 19:00:00  136  5.0  2.0   93.0        15.0           7.0         0.0         1.0     3.0    19\n",
            "17362 2017-01-01 20:00:00  116  5.0  2.0   93.0        14.0           7.0         0.0         1.0     3.0    20\n",
            "17363 2017-01-01 21:00:00  110  5.0  2.0   93.0        14.0          26.0         0.0         1.0     3.0    21\n",
            "17364 2017-01-01 22:00:00  119  5.0  2.0   93.0        12.0           3.0         0.0         1.0     3.0    22\n",
            "17365 2017-01-01 23:00:00   89  5.0  2.5   90.0        10.0           1.0         0.0         1.0     3.0    23\n",
            "\n",
            "[4970 rows x 11 columns]\n"
          ],
          "name": "stdout"
        }
      ]
    },
    {
      "cell_type": "code",
      "metadata": {
        "id": "qR6E4TVWvQ00"
      },
      "source": [
        "pd.set_option('max_columns', 15)\n",
        "pd.set_option('display.width', 150)\n",
        "url = 'https://storage.googleapis.com/esmartdata-courses-files/ds-bootcamp/london_bike.csv'\n",
        "df = pd.read_csv(url)\n",
        "df['timestamp'] = pd.to_datetime(df['timestamp'])\n",
        "df['hour'] = df['timestamp'].dt.hour\n",
        "df_weekend = df.query(\"is_weekend == 1.0\").copy()\n",
        "df_weekend.to_csv('weekend.txt', index=False)"
      ],
      "execution_count": null,
      "outputs": []
    },
    {
      "cell_type": "code",
      "metadata": {
        "colab": {
          "base_uri": "https://localhost:8080/"
        },
        "id": "RhKBdwWpvxUo",
        "outputId": "5a8dce8a-9208-422e-e211-9ef5b8a4a48e"
      },
      "source": [
        "url = 'https://storage.googleapis.com/esmartdata-courses-files/ml-course/insurance.csv'\n",
        "df = pd.read_csv(url)\n",
        "print(df.head())"
      ],
      "execution_count": null,
      "outputs": [
        {
          "output_type": "stream",
          "text": [
            "   age     sex     bmi  children smoker     region      charges\n",
            "0   19  female  27.900         0    yes  southwest  16884.92400\n",
            "1   18    male  33.770         1     no  southeast   1725.55230\n",
            "2   28    male  33.000         3     no  southeast   4449.46200\n",
            "3   33    male  22.705         0     no  northwest  21984.47061\n",
            "4   32    male  28.880         0     no  northwest   3866.85520\n"
          ],
          "name": "stdout"
        }
      ]
    },
    {
      "cell_type": "markdown",
      "metadata": {
        "id": "RPlgVknsrN6m"
      },
      "source": [
        "####duplicated()\n",
        "Return boolean Series denoting duplicate rows.\n",
        "\n",
        "duplicate 重複"
      ]
    },
    {
      "cell_type": "code",
      "metadata": {
        "colab": {
          "base_uri": "https://localhost:8080/"
        },
        "id": "KZcIpadUvxYF",
        "outputId": "5cacb76b-5ba4-47e8-f306-918d020cf215"
      },
      "source": [
        "url = 'https://storage.googleapis.com/esmartdata-courses-files/ml-course/insurance.csv'\n",
        "df = pd.read_csv(url)\n",
        "print(df[df.duplicated()])"
      ],
      "execution_count": null,
      "outputs": [
        {
          "output_type": "stream",
          "text": [
            "     age   sex    bmi  children smoker     region    charges\n",
            "581   19  male  30.59         0     no  northwest  1639.5631\n"
          ],
          "name": "stdout"
        }
      ]
    },
    {
      "cell_type": "code",
      "metadata": {
        "colab": {
          "base_uri": "https://localhost:8080/"
        },
        "id": "7DX56_APvxa_",
        "outputId": "242526ad-f32b-432c-ddf7-b06079e27b30"
      },
      "source": [
        "url = 'https://storage.googleapis.com/esmartdata-courses-files/ml-course/insurance.csv'\n",
        "df = pd.read_csv(url)\n",
        "df = df.drop_duplicates()\n",
        "df.info()"
      ],
      "execution_count": null,
      "outputs": [
        {
          "output_type": "stream",
          "text": [
            "<class 'pandas.core.frame.DataFrame'>\n",
            "Int64Index: 1337 entries, 0 to 1337\n",
            "Data columns (total 7 columns):\n",
            " #   Column    Non-Null Count  Dtype  \n",
            "---  ------    --------------  -----  \n",
            " 0   age       1337 non-null   int64  \n",
            " 1   sex       1337 non-null   object \n",
            " 2   bmi       1337 non-null   float64\n",
            " 3   children  1337 non-null   int64  \n",
            " 4   smoker    1337 non-null   object \n",
            " 5   region    1337 non-null   object \n",
            " 6   charges   1337 non-null   float64\n",
            "dtypes: float64(2), int64(2), object(3)\n",
            "memory usage: 83.6+ KB\n"
          ],
          "name": "stdout"
        }
      ]
    },
    {
      "cell_type": "markdown",
      "metadata": {
        "id": "2l9tZaOIsKre"
      },
      "source": [
        "####df.select_dtypes(include=['object'])"
      ]
    },
    {
      "cell_type": "code",
      "metadata": {
        "colab": {
          "base_uri": "https://localhost:8080/"
        },
        "id": "erzcrmNCvxdw",
        "outputId": "ca14c126-dfaa-44a5-953e-14987bf09544"
      },
      "source": [
        "url = 'https://storage.googleapis.com/esmartdata-courses-files/ml-course/insurance.csv'\n",
        "df = pd.read_csv(url)\n",
        "print(df.info())\n",
        "print(df.select_dtypes(include=['object']))"
      ],
      "execution_count": null,
      "outputs": [
        {
          "output_type": "stream",
          "text": [
            "<class 'pandas.core.frame.DataFrame'>\n",
            "RangeIndex: 1338 entries, 0 to 1337\n",
            "Data columns (total 7 columns):\n",
            " #   Column    Non-Null Count  Dtype  \n",
            "---  ------    --------------  -----  \n",
            " 0   age       1338 non-null   int64  \n",
            " 1   sex       1338 non-null   object \n",
            " 2   bmi       1338 non-null   float64\n",
            " 3   children  1338 non-null   int64  \n",
            " 4   smoker    1338 non-null   object \n",
            " 5   region    1338 non-null   object \n",
            " 6   charges   1338 non-null   float64\n",
            "dtypes: float64(2), int64(2), object(3)\n",
            "memory usage: 73.3+ KB\n",
            "None\n",
            "         sex smoker     region\n",
            "0     female    yes  southwest\n",
            "1       male     no  southeast\n",
            "2       male     no  southeast\n",
            "3       male     no  northwest\n",
            "4       male     no  northwest\n",
            "...      ...    ...        ...\n",
            "1333    male     no  northwest\n",
            "1334  female     no  northeast\n",
            "1335  female     no  southeast\n",
            "1336  female     no  southwest\n",
            "1337  female    yes  northwest\n",
            "\n",
            "[1338 rows x 3 columns]\n"
          ],
          "name": "stdout"
        }
      ]
    },
    {
      "cell_type": "code",
      "metadata": {
        "colab": {
          "base_uri": "https://localhost:8080/"
        },
        "id": "2ENnEZsOvxgm",
        "outputId": "0821ed0f-b1ad-4a24-d266-c867555276c0"
      },
      "source": [
        "url = 'https://storage.googleapis.com/esmartdata-courses-files/ml-course/insurance.csv'\n",
        "df = pd.read_csv(url)\n",
        "print(df.head())\n",
        "cat_vars = ['sex', 'smoker', 'region']\n",
        " \n",
        "for col in cat_vars:\n",
        "    df[col] = df[col].astype('category')\n",
        "    "
      ],
      "execution_count": null,
      "outputs": [
        {
          "output_type": "stream",
          "text": [
            "   age     sex     bmi  children smoker     region      charges\n",
            "0   19  female  27.900         0    yes  southwest  16884.92400\n",
            "1   18    male  33.770         1     no  southeast   1725.55230\n",
            "2   28    male  33.000         3     no  southeast   4449.46200\n",
            "3   33    male  22.705         0     no  northwest  21984.47061\n",
            "4   32    male  28.880         0     no  northwest   3866.85520\n"
          ],
          "name": "stdout"
        }
      ]
    },
    {
      "cell_type": "code",
      "metadata": {
        "colab": {
          "base_uri": "https://localhost:8080/"
        },
        "id": "kpXX9Jr3um-f",
        "outputId": "0d624639-da1b-4b13-dbac-32a1eb13063c"
      },
      "source": [
        "url = 'https://storage.googleapis.com/esmartdata-courses-files/ml-course/insurance.csv'\n",
        "df = pd.read_csv(url)\n",
        "num_vars = list(df.select_dtypes(include=['float', 'int']).columns)\n",
        "print(num_vars)"
      ],
      "execution_count": null,
      "outputs": [
        {
          "output_type": "stream",
          "text": [
            "['age', 'bmi', 'children', 'charges']\n"
          ],
          "name": "stdout"
        }
      ]
    },
    {
      "cell_type": "code",
      "metadata": {
        "colab": {
          "base_uri": "https://localhost:8080/"
        },
        "id": "DZBiYPQVwXXY",
        "outputId": "8b45584e-a47c-4019-f22c-ebeeda824b27"
      },
      "source": [
        "url = 'https://storage.googleapis.com/esmartdata-courses-files/ml-course/insurance.csv'\n",
        "df = pd.read_csv(url)\n",
        "for col in list(df.select_dtypes(include=['object']).columns):\n",
        "    df[col] = df[col].astype('category')\n",
        "df_cat = df.select_dtypes(include=['category']).copy()\n",
        "df_num = df.select_dtypes(include=['float', 'int']).copy()\n",
        "print(df_cat.head())\n",
        "print(df_num.head())"
      ],
      "execution_count": null,
      "outputs": [
        {
          "output_type": "stream",
          "text": [
            "      sex smoker     region\n",
            "0  female    yes  southwest\n",
            "1    male     no  southeast\n",
            "2    male     no  southeast\n",
            "3    male     no  northwest\n",
            "4    male     no  northwest\n",
            "   age     bmi  children      charges\n",
            "0   19  27.900         0  16884.92400\n",
            "1   18  33.770         1   1725.55230\n",
            "2   28  33.000         3   4449.46200\n",
            "3   33  22.705         0  21984.47061\n",
            "4   32  28.880         0   3866.85520\n"
          ],
          "name": "stdout"
        }
      ]
    },
    {
      "cell_type": "markdown",
      "metadata": {
        "id": "U8egEvn6whOC"
      },
      "source": [
        "###91-100"
      ]
    },
    {
      "cell_type": "code",
      "metadata": {
        "colab": {
          "base_uri": "https://localhost:8080/"
        },
        "id": "TFRjJRNCwXad",
        "outputId": "3dae6b8b-d504-4490-f954-0a0a1add9711"
      },
      "source": [
        "url = 'https://storage.googleapis.com/esmartdata-courses-files/ml-course/insurance.csv'\n",
        "df = pd.read_csv(url)\n",
        "df.info()\n",
        "for col in list(df.select_dtypes(include=['object']).columns):\n",
        "    df[col] = df[col].astype('category')\n",
        "df.info()    \n",
        "df_cat = df.select_dtypes(include=['category']).copy()\n",
        "print(df_cat.describe())"
      ],
      "execution_count": null,
      "outputs": [
        {
          "output_type": "stream",
          "text": [
            "<class 'pandas.core.frame.DataFrame'>\n",
            "RangeIndex: 1338 entries, 0 to 1337\n",
            "Data columns (total 7 columns):\n",
            " #   Column    Non-Null Count  Dtype  \n",
            "---  ------    --------------  -----  \n",
            " 0   age       1338 non-null   int64  \n",
            " 1   sex       1338 non-null   object \n",
            " 2   bmi       1338 non-null   float64\n",
            " 3   children  1338 non-null   int64  \n",
            " 4   smoker    1338 non-null   object \n",
            " 5   region    1338 non-null   object \n",
            " 6   charges   1338 non-null   float64\n",
            "dtypes: float64(2), int64(2), object(3)\n",
            "memory usage: 73.3+ KB\n",
            "<class 'pandas.core.frame.DataFrame'>\n",
            "RangeIndex: 1338 entries, 0 to 1337\n",
            "Data columns (total 7 columns):\n",
            " #   Column    Non-Null Count  Dtype   \n",
            "---  ------    --------------  -----   \n",
            " 0   age       1338 non-null   int64   \n",
            " 1   sex       1338 non-null   category\n",
            " 2   bmi       1338 non-null   float64 \n",
            " 3   children  1338 non-null   int64   \n",
            " 4   smoker    1338 non-null   category\n",
            " 5   region    1338 non-null   category\n",
            " 6   charges   1338 non-null   float64 \n",
            "dtypes: category(3), float64(2), int64(2)\n",
            "memory usage: 46.2 KB\n",
            "         sex smoker     region\n",
            "count   1338   1338       1338\n",
            "unique     2      2          4\n",
            "top     male     no  southeast\n",
            "freq     676   1064        364\n"
          ],
          "name": "stdout"
        }
      ]
    },
    {
      "cell_type": "code",
      "metadata": {
        "colab": {
          "base_uri": "https://localhost:8080/"
        },
        "id": "0QBSowLhwXdU",
        "outputId": "2d1f0135-d485-46e0-be78-315c9cd95ae8"
      },
      "source": [
        "url = 'https://storage.googleapis.com/esmartdata-courses-files/ml-course/insurance.csv'\n",
        "df = pd.read_csv(url)\n",
        "for col in list(df.select_dtypes(include=['object']).columns):\n",
        "    df[col] = df[col].astype('category')\n",
        "df_num = df.select_dtypes(include=['float', 'int']).copy()\n",
        "print(df_num.describe())"
      ],
      "execution_count": null,
      "outputs": [
        {
          "output_type": "stream",
          "text": [
            "               age          bmi     children       charges\n",
            "count  1338.000000  1338.000000  1338.000000   1338.000000\n",
            "mean     39.207025    30.663397     1.094918  13270.422265\n",
            "std      14.049960     6.098187     1.205493  12110.011237\n",
            "min      18.000000    15.960000     0.000000   1121.873900\n",
            "25%      27.000000    26.296250     0.000000   4740.287150\n",
            "50%      39.000000    30.400000     1.000000   9382.033000\n",
            "75%      51.000000    34.693750     2.000000  16639.912515\n",
            "max      64.000000    53.130000     5.000000  63770.428010\n"
          ],
          "name": "stdout"
        }
      ]
    },
    {
      "cell_type": "code",
      "metadata": {
        "colab": {
          "base_uri": "https://localhost:8080/"
        },
        "id": "W2C3vhm4wXi3",
        "outputId": "37e2be9a-a88f-4505-9ea1-baec591c0854"
      },
      "source": [
        "url = 'https://storage.googleapis.com/esmartdata-courses-files/ml-course/insurance.csv'\n",
        "df = pd.read_csv(url)\n",
        "print(df.describe().T[['mean', 'std']])"
      ],
      "execution_count": null,
      "outputs": [
        {
          "output_type": "stream",
          "text": [
            "                  mean           std\n",
            "age          39.207025     14.049960\n",
            "bmi          30.663397      6.098187\n",
            "children      1.094918      1.205493\n",
            "charges   13270.422265  12110.011237\n"
          ],
          "name": "stdout"
        }
      ]
    },
    {
      "cell_type": "code",
      "metadata": {
        "colab": {
          "base_uri": "https://localhost:8080/"
        },
        "id": "ahQ1ny1YwrYg",
        "outputId": "b38b0569-d35a-41ab-aa82-2b96c06ab5de"
      },
      "source": [
        "url = 'https://storage.googleapis.com/esmartdata-courses-files/ml-course/insurance.csv'\n",
        "df = pd.read_csv(url)\n",
        "print(df.isnull().sum())"
      ],
      "execution_count": null,
      "outputs": [
        {
          "output_type": "stream",
          "text": [
            "age         0\n",
            "sex         0\n",
            "bmi         0\n",
            "children    0\n",
            "smoker      0\n",
            "region      0\n",
            "charges     0\n",
            "dtype: int64\n"
          ],
          "name": "stdout"
        }
      ]
    },
    {
      "cell_type": "code",
      "metadata": {
        "colab": {
          "base_uri": "https://localhost:8080/"
        },
        "id": "VSEIn5-6wrcC",
        "outputId": "125583fd-ea0b-4e5e-92d7-9a9cdad482f1"
      },
      "source": [
        "pd.set_option('max_columns', 15)\n",
        "pd.set_option('display.width', 150)\n",
        "url = 'https://storage.googleapis.com/esmartdata-courses-files/ml-course/insurance.csv'\n",
        "df = pd.read_csv(url)\n",
        "for col in list(df.select_dtypes(include=['object']).columns):\n",
        "    df[col] = df[col].astype('category')\n",
        "df_dummies = pd.get_dummies(df, drop_first=True)\n",
        "print(df_dummies.head())"
      ],
      "execution_count": null,
      "outputs": [
        {
          "output_type": "stream",
          "text": [
            "   age     bmi  children      charges  sex_male  smoker_yes  region_northwest  region_southeast  region_southwest\n",
            "0   19  27.900         0  16884.92400         0           1                 0                 0                 1\n",
            "1   18  33.770         1   1725.55230         1           0                 0                 1                 0\n",
            "2   28  33.000         3   4449.46200         1           0                 0                 1                 0\n",
            "3   33  22.705         0  21984.47061         1           0                 1                 0                 0\n",
            "4   32  28.880         0   3866.85520         1           0                 1                 0                 0\n"
          ],
          "name": "stdout"
        }
      ]
    },
    {
      "cell_type": "code",
      "metadata": {
        "colab": {
          "base_uri": "https://localhost:8080/"
        },
        "id": "Yg1AwTg2wre9",
        "outputId": "05317cd9-f338-4e61-8bda-cb4ec1b9451f"
      },
      "source": [
        "pd.set_option('max_columns', 15)\n",
        "pd.set_option('display.width', 150)\n",
        "url = 'https://storage.googleapis.com/esmartdata-courses-files/ml-course/insurance.csv'\n",
        "df = pd.read_csv(url)\n",
        "for col in list(df.select_dtypes(include=['object']).columns):\n",
        "    df[col] = df[col].astype('category')\n",
        "df_dummies = pd.get_dummies(df, drop_first=True)\n",
        "corr = df_dummies.corr()\n",
        "print(corr)"
      ],
      "execution_count": null,
      "outputs": [
        {
          "output_type": "stream",
          "text": [
            "                       age       bmi  children   charges  sex_male  smoker_yes  region_northwest  region_southeast  region_southwest\n",
            "age               1.000000  0.109272  0.042469  0.299008 -0.020856   -0.025019         -0.000407         -0.011642          0.010016\n",
            "bmi               0.109272  1.000000  0.012759  0.198341  0.046371    0.003750         -0.135996          0.270025         -0.006205\n",
            "children          0.042469  0.012759  1.000000  0.067998  0.017163    0.007673          0.024806         -0.023066          0.021914\n",
            "charges           0.299008  0.198341  0.067998  1.000000  0.057292    0.787251         -0.039905          0.073982         -0.043210\n",
            "sex_male         -0.020856  0.046371  0.017163  0.057292  1.000000    0.076185         -0.011156          0.017117         -0.004184\n",
            "smoker_yes       -0.025019  0.003750  0.007673  0.787251  0.076185    1.000000         -0.036945          0.068498         -0.036945\n",
            "region_northwest -0.000407 -0.135996  0.024806 -0.039905 -0.011156   -0.036945          1.000000         -0.346265         -0.320829\n",
            "region_southeast -0.011642  0.270025 -0.023066  0.073982  0.017117    0.068498         -0.346265          1.000000         -0.346265\n",
            "region_southwest  0.010016 -0.006205  0.021914 -0.043210 -0.004184   -0.036945         -0.320829         -0.346265          1.000000\n"
          ],
          "name": "stdout"
        }
      ]
    },
    {
      "cell_type": "code",
      "metadata": {
        "colab": {
          "base_uri": "https://localhost:8080/"
        },
        "id": "NbrHcFbdwria",
        "outputId": "0921dc5a-a1e6-47f9-f5c4-b417a2908ccd"
      },
      "source": [
        "pd.set_option('max_columns', 15)\n",
        "pd.set_option('display.width', 150)\n",
        "url = 'https://storage.googleapis.com/esmartdata-courses-files/ml-course/insurance.csv'\n",
        "df = pd.read_csv(url)\n",
        "for col in list(df.select_dtypes(include=['object']).columns):\n",
        "    df[col] = df[col].astype('category')\n",
        "df_dummies = pd.get_dummies(df, drop_first=True)\n",
        "corr = df_dummies.corr()\n",
        "print(corr[['charges']].sort_values(by='charges', ascending=False))"
      ],
      "execution_count": null,
      "outputs": [
        {
          "output_type": "stream",
          "text": [
            "                   charges\n",
            "charges           1.000000\n",
            "smoker_yes        0.787251\n",
            "age               0.299008\n",
            "bmi               0.198341\n",
            "region_southeast  0.073982\n",
            "children          0.067998\n",
            "sex_male          0.057292\n",
            "region_northwest -0.039905\n",
            "region_southwest -0.043210\n"
          ],
          "name": "stdout"
        }
      ]
    },
    {
      "cell_type": "code",
      "metadata": {
        "colab": {
          "base_uri": "https://localhost:8080/"
        },
        "id": "TQT8DSkmwrlX",
        "outputId": "24b2748f-9daa-4342-95d7-0b5b848a4365"
      },
      "source": [
        "pd.set_option('max_columns', 15)\n",
        "pd.set_option('display.width', 150)\n",
        "url = 'https://storage.googleapis.com/esmartdata-courses-files/ml-course/insurance.csv'\n",
        "df = pd.read_csv(url)\n",
        "for col in list(df.select_dtypes(include=['object']).columns):\n",
        "    df[col] = df[col].astype('category')\n",
        "df_dummies = pd.get_dummies(df, drop_first=True)\n",
        "data = df_dummies.copy()\n",
        "target = data.pop('charges')\n",
        "print(data.head())\n",
        "print()\n",
        "print(target.head())"
      ],
      "execution_count": null,
      "outputs": [
        {
          "output_type": "stream",
          "text": [
            "   age     bmi  children  sex_male  smoker_yes  region_northwest  region_southeast  region_southwest\n",
            "0   19  27.900         0         0           1                 0                 0                 1\n",
            "1   18  33.770         1         1           0                 0                 1                 0\n",
            "2   28  33.000         3         1           0                 0                 1                 0\n",
            "3   33  22.705         0         1           0                 1                 0                 0\n",
            "4   32  28.880         0         1           0                 1                 0                 0\n",
            "\n",
            "0    16884.92400\n",
            "1     1725.55230\n",
            "2     4449.46200\n",
            "3    21984.47061\n",
            "4     3866.85520\n",
            "Name: charges, dtype: float64\n"
          ],
          "name": "stdout"
        }
      ]
    },
    {
      "cell_type": "code",
      "metadata": {
        "colab": {
          "base_uri": "https://localhost:8080/"
        },
        "id": "QIFS1PnOwrqO",
        "outputId": "bf42cf57-f79c-43b5-887c-48bf87317e57"
      },
      "source": [
        "data = {\n",
        "    'size': ['XL', 'L', 'M', 'L', 'M'],\n",
        "    'color': ['red', 'green', 'blue', 'green', 'red'],\n",
        "    'gender': ['female', 'male', 'male', 'female', 'female'],\n",
        "    'price': [199.0, 89.0, 99.0, 129.0, 79.0],\n",
        "    'weight': [500, 450, 300, 380, 410],\n",
        "    'bought': ['yes', 'no', 'yes', 'no', 'yes']\n",
        "}\n",
        " \n",
        "df = pd.DataFrame(data)\n",
        "print(df)"
      ],
      "execution_count": null,
      "outputs": [
        {
          "output_type": "stream",
          "text": [
            "  size  color  gender  price  weight bought\n",
            "0   XL    red  female  199.0     500    yes\n",
            "1    L  green    male   89.0     450     no\n",
            "2    M   blue    male   99.0     300    yes\n",
            "3    L  green  female  129.0     380     no\n",
            "4    M    red  female   79.0     410    yes\n"
          ],
          "name": "stdout"
        }
      ]
    },
    {
      "cell_type": "code",
      "metadata": {
        "colab": {
          "base_uri": "https://localhost:8080/"
        },
        "id": "g9FlSKhhwrto",
        "outputId": "458119e2-1266-4a2e-a7c8-a97050e259e9"
      },
      "source": [
        "data = {\n",
        "    'size': ['XL', 'L', 'M', 'L', 'M'],\n",
        "    'color': ['red', 'green', 'blue', 'green', 'red'],\n",
        "    'gender': ['female', 'male', 'male', 'female', 'female'],\n",
        "    'price': [199.0, 89.0, 99.0, 129.0, 79.0],\n",
        "    'weight': [500, 450, 300, 380, 410],\n",
        "    'bought': ['yes', 'no', 'yes', 'no', 'yes']\n",
        "}\n",
        " \n",
        "df = pd.DataFrame(data)\n",
        "df.info()\n",
        "for col in ['size', 'color', 'gender', 'bought']:\n",
        "    df[col] = df[col].astype('category')\n",
        " \n",
        "df['weight'] = df['weight'].astype('float')\n",
        "print()\n",
        "df.info()"
      ],
      "execution_count": null,
      "outputs": [
        {
          "output_type": "stream",
          "text": [
            "<class 'pandas.core.frame.DataFrame'>\n",
            "RangeIndex: 5 entries, 0 to 4\n",
            "Data columns (total 6 columns):\n",
            " #   Column  Non-Null Count  Dtype  \n",
            "---  ------  --------------  -----  \n",
            " 0   size    5 non-null      object \n",
            " 1   color   5 non-null      object \n",
            " 2   gender  5 non-null      object \n",
            " 3   price   5 non-null      float64\n",
            " 4   weight  5 non-null      int64  \n",
            " 5   bought  5 non-null      object \n",
            "dtypes: float64(1), int64(1), object(4)\n",
            "memory usage: 368.0+ bytes\n",
            "\n",
            "<class 'pandas.core.frame.DataFrame'>\n",
            "RangeIndex: 5 entries, 0 to 4\n",
            "Data columns (total 6 columns):\n",
            " #   Column  Non-Null Count  Dtype   \n",
            "---  ------  --------------  -----   \n",
            " 0   size    5 non-null      category\n",
            " 1   color   5 non-null      category\n",
            " 2   gender  5 non-null      category\n",
            " 3   price   5 non-null      float64 \n",
            " 4   weight  5 non-null      float64 \n",
            " 5   bought  5 non-null      category\n",
            "dtypes: category(4), float64(2)\n",
            "memory usage: 628.0 bytes\n"
          ],
          "name": "stdout"
        }
      ]
    },
    {
      "cell_type": "markdown",
      "metadata": {
        "id": "tv8eGQa6xTwf"
      },
      "source": [
        "###101-110"
      ]
    },
    {
      "cell_type": "code",
      "metadata": {
        "colab": {
          "base_uri": "https://localhost:8080/"
        },
        "id": "xdvq3n-9w8yx",
        "outputId": "593f4b2a-aaaf-4f5e-e96b-f68e9b4827ae"
      },
      "source": [
        "pd.set_option('max_columns', 15)\n",
        "pd.set_option('display.width', 150)\n",
        "data = {\n",
        "    'size': ['XL', 'L', 'M', 'L', 'M'],\n",
        "    'color': ['red', 'green', 'blue', 'green', 'red'],\n",
        "    'gender': ['female', 'male', 'male', 'female', 'female'],\n",
        "    'price': [199.0, 89.0, 99.0, 129.0, 79.0],\n",
        "    'weight': [500, 450, 300, 380, 410],\n",
        "    'bought': ['yes', 'no', 'yes', 'no', 'yes']\n",
        "}\n",
        " \n",
        "df = pd.DataFrame(data)\n",
        "for col in ['size', 'color', 'gender', 'bought']:\n",
        "    df[col] = df[col].astype('category')\n",
        " \n",
        "df['weight'] = df['weight'].astype('float')\n",
        "print(pd.get_dummies(df))"
      ],
      "execution_count": null,
      "outputs": [
        {
          "output_type": "stream",
          "text": [
            "   price  weight  size_L  size_M  size_XL  color_blue  color_green  color_red  gender_female  gender_male  bought_no  bought_yes\n",
            "0  199.0   500.0       0       0        1           0            0          1              1            0          0           1\n",
            "1   89.0   450.0       1       0        0           0            1          0              0            1          1           0\n",
            "2   99.0   300.0       0       1        0           1            0          0              0            1          0           1\n",
            "3  129.0   380.0       1       0        0           0            1          0              1            0          1           0\n",
            "4   79.0   410.0       0       1        0           0            0          1              1            0          0           1\n"
          ],
          "name": "stdout"
        }
      ]
    },
    {
      "cell_type": "code",
      "metadata": {
        "colab": {
          "base_uri": "https://localhost:8080/"
        },
        "id": "tv1Ir4u7w81w",
        "outputId": "a79ecf59-dd9e-442f-8ade-d8bae290c0dc"
      },
      "source": [
        "pd.set_option('max_columns', 15)\n",
        "pd.set_option('display.width', 150)\n",
        "data = {\n",
        "    'size': ['XL', 'L', 'M', 'L', 'M'],\n",
        "    'color': ['red', 'green', 'blue', 'green', 'red'],\n",
        "    'gender': ['female', 'male', 'male', 'female', 'female'],\n",
        "    'price': [199.0, 89.0, 99.0, 129.0, 79.0],\n",
        "    'weight': [500, 450, 300, 380, 410],\n",
        "    'bought': ['yes', 'no', 'yes', 'no', 'yes']\n",
        "}\n",
        " \n",
        "df = pd.DataFrame(data)\n",
        "for col in ['size', 'color', 'gender', 'bought']:\n",
        "    df[col] = df[col].astype('category')\n",
        " \n",
        "df['weight'] = df['weight'].astype('float')\n",
        "print(pd.get_dummies(df, drop_first=True))"
      ],
      "execution_count": null,
      "outputs": [
        {
          "output_type": "stream",
          "text": [
            "   price  weight  size_M  size_XL  color_green  color_red  gender_male  bought_yes\n",
            "0  199.0   500.0       0        1            0          1            0           1\n",
            "1   89.0   450.0       0        0            1          0            1           0\n",
            "2   99.0   300.0       1        0            0          0            1           1\n",
            "3  129.0   380.0       0        0            1          0            0           0\n",
            "4   79.0   410.0       1        0            0          1            0           1\n"
          ],
          "name": "stdout"
        }
      ]
    },
    {
      "cell_type": "code",
      "metadata": {
        "colab": {
          "resources": {
            "http://localhost:8080/nbextensions/google.colab/files.js": {
              "data": "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",
              "ok": true,
              "headers": [
                [
                  "content-type",
                  "application/javascript"
                ]
              ],
              "status": 200,
              "status_text": ""
            }
          },
          "base_uri": "https://localhost:8080/",
          "height": 76
        },
        "id": "ljurfiEtwzPf",
        "outputId": "a2835498-3717-4126-cb34-7b758242845b"
      },
      "source": [
        "from google.colab import files\n",
        "uploaded = files.upload()"
      ],
      "execution_count": null,
      "outputs": [
        {
          "output_type": "display_data",
          "data": {
            "text/html": [
              "\n",
              "     <input type=\"file\" id=\"files-5624c768-0c19-4cab-9286-40fd45b8af37\" name=\"files[]\" multiple disabled\n",
              "        style=\"border:none\" />\n",
              "     <output id=\"result-5624c768-0c19-4cab-9286-40fd45b8af37\">\n",
              "      Upload widget is only available when the cell has been executed in the\n",
              "      current browser session. Please rerun this cell to enable.\n",
              "      </output>\n",
              "      <script src=\"/nbextensions/google.colab/files.js\"></script> "
            ],
            "text/plain": [
              "<IPython.core.display.HTML object>"
            ]
          },
          "metadata": {
            "tags": []
          }
        },
        {
          "output_type": "stream",
          "text": [
            "Saving market.json to market.json\n"
          ],
          "name": "stdout"
        }
      ]
    },
    {
      "cell_type": "code",
      "metadata": {
        "colab": {
          "base_uri": "https://localhost:8080/"
        },
        "id": "GEFAocUJw85z",
        "outputId": "0957cc38-6156-4728-d1fb-f7e7818f05b0"
      },
      "source": [
        "pd.set_option('display.max_columns', 15)\n",
        "pd.set_option('display.width', 1000)\n",
        "df = pd.read_json('market.json')\n",
        "print(df)"
      ],
      "execution_count": null,
      "outputs": [
        {
          "output_type": "stream",
          "text": [
            "                       profile   time     price  change pct_change  reference_price      open       low      high\n",
            "0              ^AEX (Holandia)  14:12    548.73    7.95   (+1.47%)           540.78    546.55    544.72    550.72\n",
            "1               ^ATX (Austria)  14:11   2147.90   17.68   (+0.83%)          2130.22   2131.47   2118.71   2163.92\n",
            "2               ^ATXC (Grecja)  14:13    621.82   -2.80   (-0.45%)           624.62    627.48    621.82    631.70\n",
            "3              ^BEL20 (Belgia)  14:11   3251.39   30.51   (+0.95%)          3220.88   3252.21   3228.77   3266.11\n",
            "4                 ^BUX (Węgry)  14:12  32831.01  534.27   (+1.65%)         32296.74  32421.05  32421.05  32865.43\n",
            "5             ^CAC40 (Francja)  14:12   4839.46   66.62   (+1.40%)          4772.84   4824.17   4803.91   4871.45\n",
            "6                ^DAX (Niemcy)  14:14  12758.52  164.13   (+1.30%)         12594.39  12737.32  12688.33  12830.70\n",
            "7   ^FTSE100 (Wielka Brytania)  14:12   5945.44  115.98   (+1.99%)          5829.46   5829.46   5829.46   5974.88\n",
            "8   ^FTSE250 (Wielka Brytania)  14:12  17038.88  217.22   (+1.29%)         16821.66  16821.66  16821.66  17123.31\n",
            "9            ^FTSEMIB (Włochy)  14:12  19080.16  184.57   (+0.98%)         18895.59  19080.18  18944.29  19231.99\n",
            "10         ^IBEX35 (Hiszpania)  14:12   6755.80  107.20   (+1.61%)          6648.60   6717.80   6681.60   6781.10\n",
            "11             ^OMXC20 (Dania)  14:27   1336.57    0.58   (+0.04%)          1335.99   1338.82   1322.42   1338.82\n",
            "12         ^OMXH25 (Finlandia)  14:26  10037.06   21.87   (+0.22%)         10015.19  10052.81  10024.27  10107.86\n",
            "13           ^OMXS30 (Szwecja)  14:27   1802.43   20.51   (+1.15%)          1781.92   1791.67   1789.70   1814.53\n",
            "14           ^OSEAX (Norwegia)  14:12    739.99    1.36   (+0.18%)           738.63    738.46    738.03    744.44\n",
            "15         ^PSI20 (Portugalia)  14:13   4119.97   -1.97   (-0.05%)          4121.94   4141.19   4119.97   4156.11\n",
            "16              ^PX50 (Czechy)  14:12    870.57    2.52   (+0.29%)           868.05    868.53    862.45    873.37\n",
            "17             ^RDXEUR (Rosja)  14:11   1264.48    2.21   (+0.18%)          1262.27   1263.78   1259.57   1274.42\n",
            "18                ^RTS (Rosja)  14:11   1524.18   -2.09   (-0.14%)          1526.27   1526.27   1521.70   1541.51\n",
            "19           ^SMI (Szwajcaria)  14:11  10371.42   15.85   (+0.15%)         10355.57  10368.65  10334.54  10439.74\n",
            "20             ^XU100 (Turcja)  14:12   1104.41    8.25   (+0.75%)          1096.16   1101.04   1098.82   1106.06\n",
            "21              WIG20 (Polska)  14:29   1695.96    2.87   (+0.17%)          1693.09   1701.26   1695.36   1712.27\n"
          ],
          "name": "stdout"
        }
      ]
    },
    {
      "cell_type": "code",
      "metadata": {
        "colab": {
          "base_uri": "https://localhost:8080/"
        },
        "id": "AiI_q1-Qw9A3",
        "outputId": "7da33ef1-77ed-4176-e3e3-10871369da70"
      },
      "source": [
        "pd.set_option('display.max_columns', 15)\n",
        "pd.set_option('display.width', 1000)\n",
        "df = pd.read_json('market.json')\n",
        "df['country'] = df['profile'].str.split(n=1, expand=True)[1].apply(lambda item: item[1:-1])\n",
        "print(df)"
      ],
      "execution_count": null,
      "outputs": [
        {
          "output_type": "stream",
          "text": [
            "                       profile   time     price  change pct_change  reference_price      open       low      high          country\n",
            "0              ^AEX (Holandia)  14:12    548.73    7.95   (+1.47%)           540.78    546.55    544.72    550.72         Holandia\n",
            "1               ^ATX (Austria)  14:11   2147.90   17.68   (+0.83%)          2130.22   2131.47   2118.71   2163.92          Austria\n",
            "2               ^ATXC (Grecja)  14:13    621.82   -2.80   (-0.45%)           624.62    627.48    621.82    631.70           Grecja\n",
            "3              ^BEL20 (Belgia)  14:11   3251.39   30.51   (+0.95%)          3220.88   3252.21   3228.77   3266.11           Belgia\n",
            "4                 ^BUX (Węgry)  14:12  32831.01  534.27   (+1.65%)         32296.74  32421.05  32421.05  32865.43            Węgry\n",
            "5             ^CAC40 (Francja)  14:12   4839.46   66.62   (+1.40%)          4772.84   4824.17   4803.91   4871.45          Francja\n",
            "6                ^DAX (Niemcy)  14:14  12758.52  164.13   (+1.30%)         12594.39  12737.32  12688.33  12830.70           Niemcy\n",
            "7   ^FTSE100 (Wielka Brytania)  14:12   5945.44  115.98   (+1.99%)          5829.46   5829.46   5829.46   5974.88  Wielka Brytania\n",
            "8   ^FTSE250 (Wielka Brytania)  14:12  17038.88  217.22   (+1.29%)         16821.66  16821.66  16821.66  17123.31  Wielka Brytania\n",
            "9            ^FTSEMIB (Włochy)  14:12  19080.16  184.57   (+0.98%)         18895.59  19080.18  18944.29  19231.99           Włochy\n",
            "10         ^IBEX35 (Hiszpania)  14:12   6755.80  107.20   (+1.61%)          6648.60   6717.80   6681.60   6781.10        Hiszpania\n",
            "11             ^OMXC20 (Dania)  14:27   1336.57    0.58   (+0.04%)          1335.99   1338.82   1322.42   1338.82            Dania\n",
            "12         ^OMXH25 (Finlandia)  14:26  10037.06   21.87   (+0.22%)         10015.19  10052.81  10024.27  10107.86        Finlandia\n",
            "13           ^OMXS30 (Szwecja)  14:27   1802.43   20.51   (+1.15%)          1781.92   1791.67   1789.70   1814.53          Szwecja\n",
            "14           ^OSEAX (Norwegia)  14:12    739.99    1.36   (+0.18%)           738.63    738.46    738.03    744.44         Norwegia\n",
            "15         ^PSI20 (Portugalia)  14:13   4119.97   -1.97   (-0.05%)          4121.94   4141.19   4119.97   4156.11       Portugalia\n",
            "16              ^PX50 (Czechy)  14:12    870.57    2.52   (+0.29%)           868.05    868.53    862.45    873.37           Czechy\n",
            "17             ^RDXEUR (Rosja)  14:11   1264.48    2.21   (+0.18%)          1262.27   1263.78   1259.57   1274.42            Rosja\n",
            "18                ^RTS (Rosja)  14:11   1524.18   -2.09   (-0.14%)          1526.27   1526.27   1521.70   1541.51            Rosja\n",
            "19           ^SMI (Szwajcaria)  14:11  10371.42   15.85   (+0.15%)         10355.57  10368.65  10334.54  10439.74       Szwajcaria\n",
            "20             ^XU100 (Turcja)  14:12   1104.41    8.25   (+0.75%)          1096.16   1101.04   1098.82   1106.06           Turcja\n",
            "21              WIG20 (Polska)  14:29   1695.96    2.87   (+0.17%)          1693.09   1701.26   1695.36   1712.27           Polska\n"
          ],
          "name": "stdout"
        }
      ]
    },
    {
      "cell_type": "code",
      "metadata": {
        "colab": {
          "base_uri": "https://localhost:8080/"
        },
        "id": "7yCm8dxDw9Hj",
        "outputId": "244a6066-39cd-4654-be34-16002558e112"
      },
      "source": [
        "pd.set_option('display.max_columns', 15)\n",
        "pd.set_option('display.width', 1000)\n",
        "df = pd.read_json('market.json')\n",
        "df['country'] = df['profile'].str.split(n=1, expand=True)[1].apply(lambda item: item[1:-1])\n",
        "print(sorted(df['country'].value_counts()[df['country'].value_counts() > 1].index))"
      ],
      "execution_count": null,
      "outputs": [
        {
          "output_type": "stream",
          "text": [
            "['Rosja', 'Wielka Brytania']\n"
          ],
          "name": "stdout"
        }
      ]
    },
    {
      "cell_type": "code",
      "metadata": {
        "colab": {
          "base_uri": "https://localhost:8080/"
        },
        "id": "jYhQTv4jzBa4",
        "outputId": "c4b7dec5-9dd6-4126-a80f-c5f1a1e4f4fa"
      },
      "source": [
        "pd.set_option('display.max_columns', 15)\n",
        "pd.set_option('display.width', 1000)\n",
        "df = pd.read_json('market.json')\n",
        "df['pct_change'] = df['pct_change'].apply(lambda item: float(item[1:-2]))\n",
        "print(df)"
      ],
      "execution_count": null,
      "outputs": [
        {
          "output_type": "stream",
          "text": [
            "                       profile   time     price  change  pct_change  reference_price      open       low      high\n",
            "0              ^AEX (Holandia)  14:12    548.73    7.95        1.47           540.78    546.55    544.72    550.72\n",
            "1               ^ATX (Austria)  14:11   2147.90   17.68        0.83          2130.22   2131.47   2118.71   2163.92\n",
            "2               ^ATXC (Grecja)  14:13    621.82   -2.80       -0.45           624.62    627.48    621.82    631.70\n",
            "3              ^BEL20 (Belgia)  14:11   3251.39   30.51        0.95          3220.88   3252.21   3228.77   3266.11\n",
            "4                 ^BUX (Węgry)  14:12  32831.01  534.27        1.65         32296.74  32421.05  32421.05  32865.43\n",
            "5             ^CAC40 (Francja)  14:12   4839.46   66.62        1.40          4772.84   4824.17   4803.91   4871.45\n",
            "6                ^DAX (Niemcy)  14:14  12758.52  164.13        1.30         12594.39  12737.32  12688.33  12830.70\n",
            "7   ^FTSE100 (Wielka Brytania)  14:12   5945.44  115.98        1.99          5829.46   5829.46   5829.46   5974.88\n",
            "8   ^FTSE250 (Wielka Brytania)  14:12  17038.88  217.22        1.29         16821.66  16821.66  16821.66  17123.31\n",
            "9            ^FTSEMIB (Włochy)  14:12  19080.16  184.57        0.98         18895.59  19080.18  18944.29  19231.99\n",
            "10         ^IBEX35 (Hiszpania)  14:12   6755.80  107.20        1.61          6648.60   6717.80   6681.60   6781.10\n",
            "11             ^OMXC20 (Dania)  14:27   1336.57    0.58        0.04          1335.99   1338.82   1322.42   1338.82\n",
            "12         ^OMXH25 (Finlandia)  14:26  10037.06   21.87        0.22         10015.19  10052.81  10024.27  10107.86\n",
            "13           ^OMXS30 (Szwecja)  14:27   1802.43   20.51        1.15          1781.92   1791.67   1789.70   1814.53\n",
            "14           ^OSEAX (Norwegia)  14:12    739.99    1.36        0.18           738.63    738.46    738.03    744.44\n",
            "15         ^PSI20 (Portugalia)  14:13   4119.97   -1.97       -0.05          4121.94   4141.19   4119.97   4156.11\n",
            "16              ^PX50 (Czechy)  14:12    870.57    2.52        0.29           868.05    868.53    862.45    873.37\n",
            "17             ^RDXEUR (Rosja)  14:11   1264.48    2.21        0.18          1262.27   1263.78   1259.57   1274.42\n",
            "18                ^RTS (Rosja)  14:11   1524.18   -2.09       -0.14          1526.27   1526.27   1521.70   1541.51\n",
            "19           ^SMI (Szwajcaria)  14:11  10371.42   15.85        0.15         10355.57  10368.65  10334.54  10439.74\n",
            "20             ^XU100 (Turcja)  14:12   1104.41    8.25        0.75          1096.16   1101.04   1098.82   1106.06\n",
            "21              WIG20 (Polska)  14:29   1695.96    2.87        0.17          1693.09   1701.26   1695.36   1712.27\n"
          ],
          "name": "stdout"
        }
      ]
    },
    {
      "cell_type": "markdown",
      "metadata": {
        "id": "MEaj6sgRx30x"
      },
      "source": [
        "####.argmax()"
      ]
    },
    {
      "cell_type": "code",
      "metadata": {
        "colab": {
          "base_uri": "https://localhost:8080/"
        },
        "id": "AvSFRt1BzBd1",
        "outputId": "e66a7ca4-eba2-4716-f2a4-320b51e1fa52"
      },
      "source": [
        "pd.set_option('display.max_columns', 15)\n",
        "pd.set_option('display.width', 1000)\n",
        "df = pd.read_json('market.json')\n",
        "df['pct_change'] = df['pct_change'].apply(lambda item: float(item[1:-2]))\n",
        "print(df.iloc[df['pct_change'].argmax()])\n",
        "print()\n",
        "print(df.iloc[df['pct_change'].argmin()])"
      ],
      "execution_count": null,
      "outputs": [
        {
          "output_type": "stream",
          "text": [
            "profile            ^FTSE100 (Wielka Brytania)\n",
            "time                                    14:12\n",
            "price                                 5945.44\n",
            "change                                 115.98\n",
            "pct_change                               1.99\n",
            "reference_price                       5829.46\n",
            "open                                  5829.46\n",
            "low                                   5829.46\n",
            "high                                  5974.88\n",
            "Name: 7, dtype: object\n",
            "\n",
            "profile            ^ATXC (Grecja)\n",
            "time                        14:13\n",
            "price                      621.82\n",
            "change                       -2.8\n",
            "pct_change                  -0.45\n",
            "reference_price            624.62\n",
            "open                       627.48\n",
            "low                        621.82\n",
            "high                        631.7\n",
            "Name: 2, dtype: object\n"
          ],
          "name": "stdout"
        }
      ]
    },
    {
      "cell_type": "code",
      "metadata": {
        "id": "NktkvTPgzBgv"
      },
      "source": [
        "pd.set_option('display.max_columns', 15)\n",
        "pd.set_option('display.width', 1000)\n",
        "df = pd.read_json('market.json')\n",
        "df['pct_change'] = df['pct_change'].apply(lambda item: float(item[1:-2]))\n",
        "df[df['pct_change'] >= 0].to_json('positive.json', indent=4)\n",
        "df[df['pct_change'] < 0].to_json('negative.json', indent=4)"
      ],
      "execution_count": null,
      "outputs": []
    },
    {
      "cell_type": "code",
      "metadata": {
        "colab": {
          "base_uri": "https://localhost:8080/"
        },
        "id": "qVM1dV_wx_oC",
        "outputId": "bc47ce31-491b-4f4c-8d6b-aa1481d55b3f"
      },
      "source": [
        "ls"
      ],
      "execution_count": null,
      "outputs": [
        {
          "output_type": "stream",
          "text": [
            "cars.csv  market.json  negative.json  positive.json  \u001b[0m\u001b[01;34msample_data\u001b[0m/  weekend.txt\n"
          ],
          "name": "stdout"
        }
      ]
    },
    {
      "cell_type": "code",
      "metadata": {
        "colab": {
          "resources": {
            "http://localhost:8080/nbextensions/google.colab/files.js": {
              "data": "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",
              "ok": true,
              "headers": [
                [
                  "content-type",
                  "application/javascript"
                ]
              ],
              "status": 200,
              "status_text": ""
            }
          },
          "base_uri": "https://localhost:8080/",
          "height": 76
        },
        "id": "rroWbK6p4LV2",
        "outputId": "16333e55-2f18-447c-9c6a-8b2b45b76557"
      },
      "source": [
        "from google.colab import files\n",
        "uploaded = files.upload()"
      ],
      "execution_count": null,
      "outputs": [
        {
          "output_type": "display_data",
          "data": {
            "text/html": [
              "\n",
              "     <input type=\"file\" id=\"files-de48488b-caee-403c-8121-f2455b577511\" name=\"files[]\" multiple disabled\n",
              "        style=\"border:none\" />\n",
              "     <output id=\"result-de48488b-caee-403c-8121-f2455b577511\">\n",
              "      Upload widget is only available when the cell has been executed in the\n",
              "      current browser session. Please rerun this cell to enable.\n",
              "      </output>\n",
              "      <script src=\"/nbextensions/google.colab/files.js\"></script> "
            ],
            "text/plain": [
              "<IPython.core.display.HTML object>"
            ]
          },
          "metadata": {
            "tags": []
          }
        },
        {
          "output_type": "stream",
          "text": [
            "Saving amazon.csv to amazon.csv\n"
          ],
          "name": "stdout"
        }
      ]
    },
    {
      "cell_type": "markdown",
      "metadata": {
        "id": "Bn2AIs7b0N0m"
      },
      "source": [
        "####讀取雲端檔案"
      ]
    },
    {
      "cell_type": "code",
      "metadata": {
        "colab": {
          "base_uri": "https://localhost:8080/"
        },
        "id": "5CxgL-a66cED",
        "outputId": "07ab30db-89a7-4e42-8e31-eba24ae7263b"
      },
      "source": [
        "!apt-get install -y -qq software-properties-common python-software-properties module-init-tools\n",
        "!add-apt-repository -y ppa:alessandro-strada/ppa 2>&1 > /dev/null\n",
        "!apt-get update -qq 2>&1 > /dev/null\n",
        "!apt-get -y install -qq google-drive-ocamlfuse fuse\n",
        "from google.colab import auth\n",
        "auth.authenticate_user()\n",
        "from oauth2client.client import GoogleCredentials\n",
        "creds = GoogleCredentials.get_application_default()\n",
        "import getpass\n",
        "!google-drive-ocamlfuse -headless -id={creds.client_id} -secret={creds.client_secret} < /dev/null 2>&1 | grep URL\n",
        "vcode = getpass.getpass()\n",
        "!echo {vcode} | google-drive-ocamlfuse -headless -id={creds.client_id} -secret={creds.client_secret}"
      ],
      "execution_count": null,
      "outputs": [
        {
          "output_type": "stream",
          "text": [
            "E: Package 'python-software-properties' has no installation candidate\n",
            "Selecting previously unselected package google-drive-ocamlfuse.\n",
            "(Reading database ... 160690 files and directories currently installed.)\n",
            "Preparing to unpack .../google-drive-ocamlfuse_0.7.26-0ubuntu1~ubuntu18.04.1_amd64.deb ...\n",
            "Unpacking google-drive-ocamlfuse (0.7.26-0ubuntu1~ubuntu18.04.1) ...\n",
            "Setting up google-drive-ocamlfuse (0.7.26-0ubuntu1~ubuntu18.04.1) ...\n",
            "Processing triggers for man-db (2.8.3-2ubuntu0.1) ...\n",
            "Please, open the following URL in a web browser: https://accounts.google.com/o/oauth2/auth?client_id=32555940559.apps.googleusercontent.com&redirect_uri=urn%3Aietf%3Awg%3Aoauth%3A2.0%3Aoob&scope=https%3A%2F%2Fwww.googleapis.com%2Fauth%2Fdrive&response_type=code&access_type=offline&approval_prompt=force\n",
            "··········\n",
            "Please, open the following URL in a web browser: https://accounts.google.com/o/oauth2/auth?client_id=32555940559.apps.googleusercontent.com&redirect_uri=urn%3Aietf%3Awg%3Aoauth%3A2.0%3Aoob&scope=https%3A%2F%2Fwww.googleapis.com%2Fauth%2Fdrive&response_type=code&access_type=offline&approval_prompt=force\n",
            "Please enter the verification code: Access token retrieved correctly.\n"
          ],
          "name": "stdout"
        }
      ]
    },
    {
      "cell_type": "code",
      "metadata": {
        "id": "lIMraUNG64cy"
      },
      "source": [
        "!mkdir -p drive\n",
        "!google-drive-ocamlfuse drive # 此时colab中出现drive的文件夹，里面就是你的google drive的根目录文件"
      ],
      "execution_count": null,
      "outputs": []
    },
    {
      "cell_type": "code",
      "metadata": {
        "colab": {
          "base_uri": "https://localhost:8080/"
        },
        "id": "Xr_8yl8b0csc",
        "outputId": "d85d49d4-07af-4068-87ed-56545aafd164"
      },
      "source": [
        "cd drive/py/Pandas/'130+ Exercises - Python Programming - Data Science - Pandas'/"
      ],
      "execution_count": null,
      "outputs": [
        {
          "output_type": "stream",
          "text": [
            "/content/drive/py/Pandas/130+ Exercises - Python Programming - Data Science - Pandas\n"
          ],
          "name": "stdout"
        }
      ]
    },
    {
      "cell_type": "code",
      "metadata": {
        "colab": {
          "base_uri": "https://localhost:8080/"
        },
        "id": "Oi63ALki7Vd2",
        "outputId": "ff29eeab-09ff-4c00-cc41-393b66979426"
      },
      "source": [
        "ls"
      ],
      "execution_count": null,
      "outputs": [
        {
          "output_type": "stream",
          "text": [
            "amazon.csv  google.csv  market.json  pandas.ipynb  tesla.csv\n"
          ],
          "name": "stdout"
        }
      ]
    },
    {
      "cell_type": "code",
      "metadata": {
        "colab": {
          "base_uri": "https://localhost:8080/"
        },
        "id": "b0G589kt7sHj",
        "outputId": "2df3cb69-316b-4144-ece1-b651b50cf869"
      },
      "source": [
        "ls"
      ],
      "execution_count": null,
      "outputs": [
        {
          "output_type": "stream",
          "text": [
            "amazon.csv  google.csv  market.json  pandas.ipynb  tesla.csv\n"
          ],
          "name": "stdout"
        }
      ]
    },
    {
      "cell_type": "code",
      "metadata": {
        "id": "qthVOF7_7Brb"
      },
      "source": [
        "#import os\n",
        "#os.chdir(\"drive/Colab Notebooks\") "
      ],
      "execution_count": null,
      "outputs": []
    },
    {
      "cell_type": "code",
      "metadata": {
        "colab": {
          "base_uri": "https://localhost:8080/"
        },
        "id": "zp6-xIYbzBjz",
        "outputId": "56f15d57-1636-488f-dc2e-42e9667f90ac"
      },
      "source": [
        "amazon = pd.read_csv('amazon.csv', index_col=0)\n",
        "tesla = pd.read_csv('tesla.csv', index_col=0)\n",
        "print(amazon)\n",
        "print()\n",
        "print(tesla)"
      ],
      "execution_count": null,
      "outputs": [
        {
          "output_type": "stream",
          "text": [
            "                 Open       High        Low    Close   Volume\n",
            "Date                                                         \n",
            "2020-09-22  3033.8350  3133.9900  3000.2000  3128.99  6948816\n",
            "2020-09-21  2906.5000  2962.0000  2871.0000  2960.47  6117925\n",
            "2020-09-18  3031.7400  3037.8000  2905.5400  2954.91  8892580\n",
            "2020-09-17  3009.2500  3029.4320  2972.5500  3008.73  6449050\n",
            "2020-09-16  3179.9900  3187.2380  3074.1500  3078.10  4531189\n",
            "2020-09-15  3136.1600  3175.0200  3108.9200  3156.13  4021535\n",
            "2020-09-14  3172.9372  3187.3900  3096.0000  3102.97  4529596\n",
            "2020-09-11  3208.6900  3217.3409  3083.9800  3116.22  5093982\n",
            "2020-09-10  3307.2188  3349.8900  3170.5500  3175.11  5330741\n",
            "2020-09-09  3202.9900  3303.1750  3185.0000  3268.61  5188675\n",
            "2020-09-08  3144.0000  3250.8450  3130.0000  3149.84  6094205\n",
            "2020-09-04  3318.0000  3381.5000  3111.1300  3294.62  8781754\n",
            "2020-09-03  3485.0000  3488.4100  3303.0000  3368.00  8161113\n",
            "2020-09-02  3547.0000  3552.2500  3486.6850  3531.45  3931476\n",
            "2020-09-01  3489.5800  3513.8700  3467.0000  3499.12  3476407\n",
            "2020-08-31  3408.9900  3495.0000  3405.0000  3450.96  4185885\n",
            "2020-08-28  3423.0000  3433.3699  3386.5000  3401.80  2896978\n",
            "2020-08-27  3450.0500  3453.0000  3378.0000  3400.00  4264795\n",
            "2020-08-26  3351.1100  3451.7387  3344.5675  3441.85  6508743\n",
            "2020-08-25  3294.9900  3357.4000  3267.0000  3346.49  3992842\n",
            "\n",
            "              Open    High       Low   Close     Volume\n",
            "Date                                                   \n",
            "2020-09-22  429.60  437.76  417.6001  424.23   79580795\n",
            "2020-09-21  453.13  455.68  407.0700  449.39  109476800\n",
            "2020-09-18  447.94  451.00  428.8000  442.15   86406819\n",
            "2020-09-17  415.60  437.79  408.0001  423.43   76779163\n",
            "2020-09-16  439.87  457.79  435.3100  441.76   72546760\n",
            "2020-09-15  436.56  461.94  430.7000  449.76   97298228\n",
            "2020-09-14  380.95  420.00  373.3000  419.62   83020608\n",
            "2020-09-11  381.94  382.50  360.5000  372.72   60717459\n",
            "2020-09-10  386.21  398.99  360.5600  371.34   84930608\n",
            "2020-09-09  356.60  369.00  341.5100  366.28   79465769\n",
            "2020-09-08  356.00  368.74  329.8800  330.21  115465691\n",
            "2020-09-04  402.81  428.00  372.0201  418.32  110321885\n",
            "2020-09-03  407.23  431.80  402.0000  407.00   87596086\n",
            "2020-09-02  478.99  479.04  405.1206  447.37   96176128\n",
            "2020-09-01  502.14  502.49  470.5100  475.05   90119419\n",
            "2020-08-31  444.61  500.14  440.1100  498.32  118374406\n",
            "2020-08-28  459.02  463.70  437.3000  442.68  100405880\n",
            "2020-08-27  436.09  459.12  428.5000  447.75  118465215\n",
            "2020-08-26  412.00  433.20  410.7300  430.63   71196910\n",
            "2020-08-25  394.98  405.59  393.6000  404.67   53294465\n"
          ],
          "name": "stdout"
        }
      ]
    },
    {
      "cell_type": "code",
      "metadata": {
        "colab": {
          "base_uri": "https://localhost:8080/"
        },
        "id": "ODbWZdLnzBnF",
        "outputId": "d116e6cc-f24c-40a3-9658-42716b2b7444"
      },
      "source": [
        "amazon = pd.read_csv('amazon.csv', index_col=0)\n",
        "tesla = pd.read_csv('tesla.csv', index_col=0)\n",
        "amazon.columns = ['amzn_' + col.lower() for col in amazon.columns]\n",
        "tesla.columns = ['tsla_' + col.lower() for col in tesla.columns]\n",
        "print(amazon)\n",
        "print()\n",
        "print(tesla)"
      ],
      "execution_count": null,
      "outputs": [
        {
          "output_type": "stream",
          "text": [
            "            amzn_open  amzn_high   amzn_low  amzn_close  amzn_volume\n",
            "Date                                                                \n",
            "2020-09-22  3033.8350  3133.9900  3000.2000     3128.99      6948816\n",
            "2020-09-21  2906.5000  2962.0000  2871.0000     2960.47      6117925\n",
            "2020-09-18  3031.7400  3037.8000  2905.5400     2954.91      8892580\n",
            "2020-09-17  3009.2500  3029.4320  2972.5500     3008.73      6449050\n",
            "2020-09-16  3179.9900  3187.2380  3074.1500     3078.10      4531189\n",
            "2020-09-15  3136.1600  3175.0200  3108.9200     3156.13      4021535\n",
            "2020-09-14  3172.9372  3187.3900  3096.0000     3102.97      4529596\n",
            "2020-09-11  3208.6900  3217.3409  3083.9800     3116.22      5093982\n",
            "2020-09-10  3307.2188  3349.8900  3170.5500     3175.11      5330741\n",
            "2020-09-09  3202.9900  3303.1750  3185.0000     3268.61      5188675\n",
            "2020-09-08  3144.0000  3250.8450  3130.0000     3149.84      6094205\n",
            "2020-09-04  3318.0000  3381.5000  3111.1300     3294.62      8781754\n",
            "2020-09-03  3485.0000  3488.4100  3303.0000     3368.00      8161113\n",
            "2020-09-02  3547.0000  3552.2500  3486.6850     3531.45      3931476\n",
            "2020-09-01  3489.5800  3513.8700  3467.0000     3499.12      3476407\n",
            "2020-08-31  3408.9900  3495.0000  3405.0000     3450.96      4185885\n",
            "2020-08-28  3423.0000  3433.3699  3386.5000     3401.80      2896978\n",
            "2020-08-27  3450.0500  3453.0000  3378.0000     3400.00      4264795\n",
            "2020-08-26  3351.1100  3451.7387  3344.5675     3441.85      6508743\n",
            "2020-08-25  3294.9900  3357.4000  3267.0000     3346.49      3992842\n",
            "\n",
            "            tsla_open  tsla_high  tsla_low  tsla_close  tsla_volume\n",
            "Date                                                               \n",
            "2020-09-22     429.60     437.76  417.6001      424.23     79580795\n",
            "2020-09-21     453.13     455.68  407.0700      449.39    109476800\n",
            "2020-09-18     447.94     451.00  428.8000      442.15     86406819\n",
            "2020-09-17     415.60     437.79  408.0001      423.43     76779163\n",
            "2020-09-16     439.87     457.79  435.3100      441.76     72546760\n",
            "2020-09-15     436.56     461.94  430.7000      449.76     97298228\n",
            "2020-09-14     380.95     420.00  373.3000      419.62     83020608\n",
            "2020-09-11     381.94     382.50  360.5000      372.72     60717459\n",
            "2020-09-10     386.21     398.99  360.5600      371.34     84930608\n",
            "2020-09-09     356.60     369.00  341.5100      366.28     79465769\n",
            "2020-09-08     356.00     368.74  329.8800      330.21    115465691\n",
            "2020-09-04     402.81     428.00  372.0201      418.32    110321885\n",
            "2020-09-03     407.23     431.80  402.0000      407.00     87596086\n",
            "2020-09-02     478.99     479.04  405.1206      447.37     96176128\n",
            "2020-09-01     502.14     502.49  470.5100      475.05     90119419\n",
            "2020-08-31     444.61     500.14  440.1100      498.32    118374406\n",
            "2020-08-28     459.02     463.70  437.3000      442.68    100405880\n",
            "2020-08-27     436.09     459.12  428.5000      447.75    118465215\n",
            "2020-08-26     412.00     433.20  410.7300      430.63     71196910\n",
            "2020-08-25     394.98     405.59  393.6000      404.67     53294465\n"
          ],
          "name": "stdout"
        }
      ]
    },
    {
      "cell_type": "markdown",
      "metadata": {
        "id": "El2AfOd2ztfg"
      },
      "source": [
        "###111-120"
      ]
    },
    {
      "cell_type": "code",
      "metadata": {
        "colab": {
          "base_uri": "https://localhost:8080/"
        },
        "id": "01XEo7zFzBu0",
        "outputId": "04ed4857-b981-4d0d-9738-3657e9d4b8a5"
      },
      "source": [
        "pd.set_option('display.max_columns', 30)\n",
        "pd.set_option('display.width', 1000)\n",
        " \n",
        "amazon = pd.read_csv('amazon.csv', index_col=0)\n",
        "tesla = pd.read_csv('tesla.csv', index_col=0)\n",
        "amazon.columns = ['amzn_' + col.lower() for col in amazon.columns]\n",
        "tesla.columns = ['tsla_' + col.lower() for col in tesla.columns]\n",
        "result = pd.concat([amazon, tesla], axis=1)\n",
        "print(result)"
      ],
      "execution_count": null,
      "outputs": [
        {
          "output_type": "stream",
          "text": [
            "            amzn_open  amzn_high   amzn_low  amzn_close  amzn_volume  tsla_open  tsla_high  tsla_low  tsla_close  tsla_volume\n",
            "Date                                                                                                                         \n",
            "2020-09-22  3033.8350  3133.9900  3000.2000     3128.99      6948816     429.60     437.76  417.6001      424.23     79580795\n",
            "2020-09-21  2906.5000  2962.0000  2871.0000     2960.47      6117925     453.13     455.68  407.0700      449.39    109476800\n",
            "2020-09-18  3031.7400  3037.8000  2905.5400     2954.91      8892580     447.94     451.00  428.8000      442.15     86406819\n",
            "2020-09-17  3009.2500  3029.4320  2972.5500     3008.73      6449050     415.60     437.79  408.0001      423.43     76779163\n",
            "2020-09-16  3179.9900  3187.2380  3074.1500     3078.10      4531189     439.87     457.79  435.3100      441.76     72546760\n",
            "2020-09-15  3136.1600  3175.0200  3108.9200     3156.13      4021535     436.56     461.94  430.7000      449.76     97298228\n",
            "2020-09-14  3172.9372  3187.3900  3096.0000     3102.97      4529596     380.95     420.00  373.3000      419.62     83020608\n",
            "2020-09-11  3208.6900  3217.3409  3083.9800     3116.22      5093982     381.94     382.50  360.5000      372.72     60717459\n",
            "2020-09-10  3307.2188  3349.8900  3170.5500     3175.11      5330741     386.21     398.99  360.5600      371.34     84930608\n",
            "2020-09-09  3202.9900  3303.1750  3185.0000     3268.61      5188675     356.60     369.00  341.5100      366.28     79465769\n",
            "2020-09-08  3144.0000  3250.8450  3130.0000     3149.84      6094205     356.00     368.74  329.8800      330.21    115465691\n",
            "2020-09-04  3318.0000  3381.5000  3111.1300     3294.62      8781754     402.81     428.00  372.0201      418.32    110321885\n",
            "2020-09-03  3485.0000  3488.4100  3303.0000     3368.00      8161113     407.23     431.80  402.0000      407.00     87596086\n",
            "2020-09-02  3547.0000  3552.2500  3486.6850     3531.45      3931476     478.99     479.04  405.1206      447.37     96176128\n",
            "2020-09-01  3489.5800  3513.8700  3467.0000     3499.12      3476407     502.14     502.49  470.5100      475.05     90119419\n",
            "2020-08-31  3408.9900  3495.0000  3405.0000     3450.96      4185885     444.61     500.14  440.1100      498.32    118374406\n",
            "2020-08-28  3423.0000  3433.3699  3386.5000     3401.80      2896978     459.02     463.70  437.3000      442.68    100405880\n",
            "2020-08-27  3450.0500  3453.0000  3378.0000     3400.00      4264795     436.09     459.12  428.5000      447.75    118465215\n",
            "2020-08-26  3351.1100  3451.7387  3344.5675     3441.85      6508743     412.00     433.20  410.7300      430.63     71196910\n",
            "2020-08-25  3294.9900  3357.4000  3267.0000     3346.49      3992842     394.98     405.59  393.6000      404.67     53294465\n"
          ],
          "name": "stdout"
        }
      ]
    },
    {
      "cell_type": "code",
      "metadata": {
        "colab": {
          "base_uri": "https://localhost:8080/"
        },
        "id": "Sar5kzVDzB0p",
        "outputId": "c41930a5-dfd1-409c-ed3f-3f211754bd0a"
      },
      "source": [
        "pd.set_option('display.max_columns', 30)\n",
        "pd.set_option('display.width', 1000)\n",
        " \n",
        "amazon = pd.read_csv('amazon.csv', index_col=0)\n",
        "tesla = pd.read_csv('tesla.csv', index_col=0)\n",
        "amazon.columns = ['amzn_' + col.lower() for col in amazon.columns]\n",
        "tesla.columns = ['tsla_' + col.lower() for col in tesla.columns]\n",
        "result = pd.concat([amazon, tesla], axis=1)\n",
        "quotations = result[['amzn_open', 'amzn_close', 'tsla_open', 'tsla_close']].copy()\n",
        "print(quotations)"
      ],
      "execution_count": null,
      "outputs": [
        {
          "output_type": "stream",
          "text": [
            "            amzn_open  amzn_close  tsla_open  tsla_close\n",
            "Date                                                    \n",
            "2020-09-22  3033.8350     3128.99     429.60      424.23\n",
            "2020-09-21  2906.5000     2960.47     453.13      449.39\n",
            "2020-09-18  3031.7400     2954.91     447.94      442.15\n",
            "2020-09-17  3009.2500     3008.73     415.60      423.43\n",
            "2020-09-16  3179.9900     3078.10     439.87      441.76\n",
            "2020-09-15  3136.1600     3156.13     436.56      449.76\n",
            "2020-09-14  3172.9372     3102.97     380.95      419.62\n",
            "2020-09-11  3208.6900     3116.22     381.94      372.72\n",
            "2020-09-10  3307.2188     3175.11     386.21      371.34\n",
            "2020-09-09  3202.9900     3268.61     356.60      366.28\n",
            "2020-09-08  3144.0000     3149.84     356.00      330.21\n",
            "2020-09-04  3318.0000     3294.62     402.81      418.32\n",
            "2020-09-03  3485.0000     3368.00     407.23      407.00\n",
            "2020-09-02  3547.0000     3531.45     478.99      447.37\n",
            "2020-09-01  3489.5800     3499.12     502.14      475.05\n",
            "2020-08-31  3408.9900     3450.96     444.61      498.32\n",
            "2020-08-28  3423.0000     3401.80     459.02      442.68\n",
            "2020-08-27  3450.0500     3400.00     436.09      447.75\n",
            "2020-08-26  3351.1100     3441.85     412.00      430.63\n",
            "2020-08-25  3294.9900     3346.49     394.98      404.67\n"
          ],
          "name": "stdout"
        }
      ]
    },
    {
      "cell_type": "code",
      "metadata": {
        "colab": {
          "base_uri": "https://localhost:8080/"
        },
        "id": "W0Itw8arzy2b",
        "outputId": "c18728e3-7d05-4591-e76f-d3bb4c04b9db"
      },
      "source": [
        "pd.set_option('display.max_columns', 30)\n",
        "pd.set_option('display.width', 1000)\n",
        " \n",
        "amazon = pd.read_csv('amazon.csv', index_col=0)\n",
        "tesla = pd.read_csv('tesla.csv', index_col=0)\n",
        "amazon.columns = ['amzn_' + col.lower() for col in amazon.columns]\n",
        "tesla.columns = ['tsla_' + col.lower() for col in tesla.columns]\n",
        "result = pd.concat([amazon, tesla], axis=1)\n",
        "quotations = result[['amzn_open', 'amzn_close', 'tsla_open', 'tsla_close']].copy()\n",
        "quotations['amzn_change'] = (quotations['amzn_close'] / quotations['amzn_open'] - 1) * 100\n",
        "quotations['tsla_change'] = (quotations['tsla_close'] / quotations['tsla_open'] - 1) * 100\n",
        "print(quotations)"
      ],
      "execution_count": null,
      "outputs": [
        {
          "output_type": "stream",
          "text": [
            "            amzn_open  amzn_close  tsla_open  tsla_close  amzn_change  tsla_change\n",
            "Date                                                                              \n",
            "2020-09-22  3033.8350     3128.99     429.60      424.23     3.136459    -1.250000\n",
            "2020-09-21  2906.5000     2960.47     453.13      449.39     1.856873    -0.825370\n",
            "2020-09-18  3031.7400     2954.91     447.94      442.15    -2.534188    -1.292584\n",
            "2020-09-17  3009.2500     3008.73     415.60      423.43    -0.017280     1.884023\n",
            "2020-09-16  3179.9900     3078.10     439.87      441.76    -3.204098     0.429672\n",
            "2020-09-15  3136.1600     3156.13     436.56      449.76     0.636766     3.023639\n",
            "2020-09-14  3172.9372     3102.97     380.95      419.62    -2.205124    10.150938\n",
            "2020-09-11  3208.6900     3116.22     381.94      372.72    -2.881861    -2.413992\n",
            "2020-09-10  3307.2188     3175.11     386.21      371.34    -3.994559    -3.850237\n",
            "2020-09-09  3202.9900     3268.61     356.60      366.28     2.048711     2.714526\n",
            "2020-09-08  3144.0000     3149.84     356.00      330.21     0.185751    -7.244382\n",
            "2020-09-04  3318.0000     3294.62     402.81      418.32    -0.704641     3.850451\n",
            "2020-09-03  3485.0000     3368.00     407.23      407.00    -3.357245    -0.056479\n",
            "2020-09-02  3547.0000     3531.45     478.99      447.37    -0.438399    -6.601390\n",
            "2020-09-01  3489.5800     3499.12     502.14      475.05     0.273385    -5.394910\n",
            "2020-08-31  3408.9900     3450.96     444.61      498.32     1.231156    12.080250\n",
            "2020-08-28  3423.0000     3401.80     459.02      442.68    -0.619340    -3.559758\n",
            "2020-08-27  3450.0500     3400.00     436.09      447.75    -1.450704     2.673760\n",
            "2020-08-26  3351.1100     3441.85     412.00      430.63     2.707760     4.521845\n",
            "2020-08-25  3294.9900     3346.49     394.98      404.67     1.562979     2.453289\n"
          ],
          "name": "stdout"
        }
      ]
    },
    {
      "cell_type": "code",
      "metadata": {
        "colab": {
          "base_uri": "https://localhost:8080/"
        },
        "id": "twLuvAeczy59",
        "outputId": "7729bf3b-a87f-48f8-b039-239e4c0af5ed"
      },
      "source": [
        "pd.set_option('display.max_columns', 30)\n",
        "pd.set_option('display.width', 1000)\n",
        " \n",
        "amazon = pd.read_csv('amazon.csv', index_col=0)\n",
        "tesla = pd.read_csv('tesla.csv', index_col=0)\n",
        "amazon.columns = ['amzn_' + col.lower() for col in amazon.columns]\n",
        "tesla.columns = ['tsla_' + col.lower() for col in tesla.columns]\n",
        "result = pd.concat([amazon, tesla], axis=1)\n",
        "quotations = result[['amzn_open', 'amzn_close', 'tsla_open', 'tsla_close']].copy()\n",
        "quotations['amzn_change'] = (quotations['amzn_close'] / quotations['amzn_open'] - 1) * 100\n",
        "quotations['tsla_change'] = (quotations['tsla_close'] / quotations['tsla_open'] - 1) * 100\n",
        "quotations['similarity_flag'] = (quotations['amzn_change'] * quotations['tsla_change'] > 0) * 1\n",
        "print(quotations)"
      ],
      "execution_count": null,
      "outputs": [
        {
          "output_type": "stream",
          "text": [
            "            amzn_open  amzn_close  tsla_open  tsla_close  amzn_change  tsla_change  similarity_flag\n",
            "Date                                                                                               \n",
            "2020-09-22  3033.8350     3128.99     429.60      424.23     3.136459    -1.250000                0\n",
            "2020-09-21  2906.5000     2960.47     453.13      449.39     1.856873    -0.825370                0\n",
            "2020-09-18  3031.7400     2954.91     447.94      442.15    -2.534188    -1.292584                1\n",
            "2020-09-17  3009.2500     3008.73     415.60      423.43    -0.017280     1.884023                0\n",
            "2020-09-16  3179.9900     3078.10     439.87      441.76    -3.204098     0.429672                0\n",
            "2020-09-15  3136.1600     3156.13     436.56      449.76     0.636766     3.023639                1\n",
            "2020-09-14  3172.9372     3102.97     380.95      419.62    -2.205124    10.150938                0\n",
            "2020-09-11  3208.6900     3116.22     381.94      372.72    -2.881861    -2.413992                1\n",
            "2020-09-10  3307.2188     3175.11     386.21      371.34    -3.994559    -3.850237                1\n",
            "2020-09-09  3202.9900     3268.61     356.60      366.28     2.048711     2.714526                1\n",
            "2020-09-08  3144.0000     3149.84     356.00      330.21     0.185751    -7.244382                0\n",
            "2020-09-04  3318.0000     3294.62     402.81      418.32    -0.704641     3.850451                0\n",
            "2020-09-03  3485.0000     3368.00     407.23      407.00    -3.357245    -0.056479                1\n",
            "2020-09-02  3547.0000     3531.45     478.99      447.37    -0.438399    -6.601390                1\n",
            "2020-09-01  3489.5800     3499.12     502.14      475.05     0.273385    -5.394910                0\n",
            "2020-08-31  3408.9900     3450.96     444.61      498.32     1.231156    12.080250                1\n",
            "2020-08-28  3423.0000     3401.80     459.02      442.68    -0.619340    -3.559758                1\n",
            "2020-08-27  3450.0500     3400.00     436.09      447.75    -1.450704     2.673760                0\n",
            "2020-08-26  3351.1100     3441.85     412.00      430.63     2.707760     4.521845                1\n",
            "2020-08-25  3294.9900     3346.49     394.98      404.67     1.562979     2.453289                1\n"
          ],
          "name": "stdout"
        }
      ]
    },
    {
      "cell_type": "markdown",
      "metadata": {
        "id": "jIdWiYHg3U9M"
      },
      "source": [
        "####(f'{result * 100:.2f}%')"
      ]
    },
    {
      "cell_type": "code",
      "metadata": {
        "colab": {
          "base_uri": "https://localhost:8080/"
        },
        "id": "aoJC-dKszy9t",
        "outputId": "f69f0b71-a0c9-4229-b192-7b553745c865"
      },
      "source": [
        "pd.set_option('display.max_columns', 30)\n",
        "pd.set_option('display.width', 1000)\n",
        " \n",
        "amazon = pd.read_csv('amazon.csv', index_col=0)\n",
        "tesla = pd.read_csv('tesla.csv', index_col=0)\n",
        "amazon.columns = ['amzn_' + col.lower() for col in amazon.columns]\n",
        "tesla.columns = ['tsla_' + col.lower() for col in tesla.columns]\n",
        "result = pd.concat([amazon, tesla], axis=1)\n",
        "quotations = result[['amzn_open', 'amzn_close', 'tsla_open', 'tsla_close']].copy()\n",
        "quotations['amzn_change'] = (quotations['amzn_close'] / quotations['amzn_open'] - 1) * 100\n",
        "quotations['tsla_change'] = (quotations['tsla_close'] / quotations['tsla_open'] - 1) * 100\n",
        "quotations['similarity_flag'] = (quotations['amzn_change'] * quotations['tsla_change'] > 0) * 1\n",
        "result = quotations['similarity_flag'].sum() / len(quotations)\n",
        "print(f'{result * 100:.2f}%')"
      ],
      "execution_count": null,
      "outputs": [
        {
          "output_type": "stream",
          "text": [
            "55.00%\n"
          ],
          "name": "stdout"
        }
      ]
    },
    {
      "cell_type": "code",
      "metadata": {
        "colab": {
          "base_uri": "https://localhost:8080/"
        },
        "id": "VNJl059DzzAx",
        "outputId": "0a6d0e66-df8f-4860-fe9a-d907794c926a"
      },
      "source": [
        "products_dict = {\n",
        "    'product_id': ['001', '004', '007', '010'],\n",
        "    'name': ['mobile phone', 'laptop', 'mouse', 'tablet'],\n",
        "    'price': [1490.0, 3400.0, 59.99, 999.00]\n",
        "}\n",
        " \n",
        "orders_day_1_dict = {\n",
        "    'order_id': ['1001', '1002', '1003', '1004'],\n",
        "    'product_id': ['004', '001', '001', '007'],\n",
        "    'quantity': [2, 1, 1, 3]\n",
        "}       \n",
        " \n",
        "orders_day_2_dict = {\n",
        "    'order_id': ['1005', '1006', '1007'],\n",
        "    'product_id': ['010', '001', '007'],\n",
        "    'quantity': [2, 1, 1]\n",
        "}                \n",
        " \n",
        "products = pd.DataFrame(products_dict)\n",
        "orders_day_1 = pd.DataFrame(orders_day_1_dict)\n",
        "orders_day_2 = pd.DataFrame(orders_day_2_dict)\n",
        " \n",
        "print(products)\n",
        "print(orders_day_1)\n",
        "print(orders_day_2)"
      ],
      "execution_count": null,
      "outputs": [
        {
          "output_type": "stream",
          "text": [
            "  product_id          name    price\n",
            "0        001  mobile phone  1490.00\n",
            "1        004        laptop  3400.00\n",
            "2        007         mouse    59.99\n",
            "3        010        tablet   999.00\n",
            "  order_id product_id  quantity\n",
            "0     1001        004         2\n",
            "1     1002        001         1\n",
            "2     1003        001         1\n",
            "3     1004        007         3\n",
            "  order_id product_id  quantity\n",
            "0     1005        010         2\n",
            "1     1006        001         1\n",
            "2     1007        007         1\n"
          ],
          "name": "stdout"
        }
      ]
    },
    {
      "cell_type": "code",
      "metadata": {
        "colab": {
          "base_uri": "https://localhost:8080/"
        },
        "id": "gb6maKZczzD8",
        "outputId": "0a209a70-6e45-45fe-fb12-9b35b15f851d"
      },
      "source": [
        "products_dict = {\n",
        "    'product_id': ['001', '004', '007', '010'],\n",
        "    'name': ['mobile phone', 'laptop', 'mouse', 'tablet'],\n",
        "    'price': [1490.0, 3400.0, 59.99, 999.00]\n",
        "}\n",
        " \n",
        "orders_day_1_dict = {\n",
        "    'order_id': ['1001', '1002', '1003', '1004'],\n",
        "    'product_id': ['004', '001', '001', '007'],\n",
        "    'quantity': [2, 1, 1, 3]\n",
        "}       \n",
        " \n",
        "orders_day_2_dict = {\n",
        "    'order_id': ['1005', '1006', '1007'],\n",
        "    'product_id': ['010', '001', '007'],\n",
        "    'quantity': [2, 1, 1]\n",
        "}                \n",
        " \n",
        "products = pd.DataFrame(products_dict)\n",
        "orders_day_1 = pd.DataFrame(orders_day_1_dict)\n",
        "orders_day_2 = pd.DataFrame(orders_day_2_dict)\n",
        " \n",
        "orders = orders_day_1.append(orders_day_2, ignore_index=True)\n",
        "print(orders)"
      ],
      "execution_count": null,
      "outputs": [
        {
          "output_type": "stream",
          "text": [
            "  order_id product_id  quantity\n",
            "0     1001        004         2\n",
            "1     1002        001         1\n",
            "2     1003        001         1\n",
            "3     1004        007         3\n",
            "4     1005        010         2\n",
            "5     1006        001         1\n",
            "6     1007        007         1\n"
          ],
          "name": "stdout"
        }
      ]
    },
    {
      "cell_type": "markdown",
      "metadata": {
        "id": "rR5ImxHc5LiN"
      },
      "source": [
        "####.append"
      ]
    },
    {
      "cell_type": "markdown",
      "metadata": {
        "id": "11kfvMHp5HqC"
      },
      "source": [
        "####pd.merge"
      ]
    },
    {
      "cell_type": "code",
      "metadata": {
        "colab": {
          "base_uri": "https://localhost:8080/"
        },
        "id": "tNkow8jrzzGm",
        "outputId": "7e155404-1d02-4cef-c805-8961bb057c07"
      },
      "source": [
        "products_dict = {\n",
        "    'product_id': ['001', '004', '007', '010'],\n",
        "    'name': ['mobile phone', 'laptop', 'mouse', 'tablet'],\n",
        "    'price': [1490.0, 3400.0, 59.99, 999.00]\n",
        "}\n",
        " \n",
        "orders_day_1_dict = {\n",
        "    'order_id': ['1001', '1002', '1003', '1004'],\n",
        "    'product_id': ['004', '001', '001', '007'],\n",
        "    'quantity': [2, 1, 1, 3]\n",
        "}       \n",
        " \n",
        "orders_day_2_dict = {\n",
        "    'order_id': ['1005', '1006', '1007'],\n",
        "    'product_id': ['010', '001', '007'],\n",
        "    'quantity': [2, 1, 1]\n",
        "}                \n",
        " \n",
        "products = pd.DataFrame(products_dict)\n",
        "orders_day_1 = pd.DataFrame(orders_day_1_dict)\n",
        "orders_day_2 = pd.DataFrame(orders_day_2_dict)\n",
        "orders = orders_day_1.append(orders_day_2, ignore_index=True)\n",
        "print(orders) \n",
        "result = pd.merge(orders, products, on='product_id')\n",
        "print(result)"
      ],
      "execution_count": null,
      "outputs": [
        {
          "output_type": "stream",
          "text": [
            "  order_id product_id  quantity\n",
            "0     1001        004         2\n",
            "1     1002        001         1\n",
            "2     1003        001         1\n",
            "3     1004        007         3\n",
            "4     1005        010         2\n",
            "5     1006        001         1\n",
            "6     1007        007         1\n",
            "  order_id product_id  quantity          name    price\n",
            "0     1001        004         2        laptop  3400.00\n",
            "1     1002        001         1  mobile phone  1490.00\n",
            "2     1003        001         1  mobile phone  1490.00\n",
            "3     1006        001         1  mobile phone  1490.00\n",
            "4     1004        007         3         mouse    59.99\n",
            "5     1007        007         1         mouse    59.99\n",
            "6     1005        010         2        tablet   999.00\n"
          ],
          "name": "stdout"
        }
      ]
    },
    {
      "cell_type": "code",
      "metadata": {
        "colab": {
          "base_uri": "https://localhost:8080/"
        },
        "id": "L4t6Tly_zzI1",
        "outputId": "f9d9f55f-751e-429a-e076-426f54959f5b"
      },
      "source": [
        "products_dict = {\n",
        "    'product_id': ['001', '004', '007', '010'],\n",
        "    'name': ['mobile phone', 'laptop', 'mouse', 'tablet'],\n",
        "    'price': [1490.0, 3400.0, 59.99, 999.00]\n",
        "}\n",
        " \n",
        "orders_day_1_dict = {\n",
        "    'order_id': ['1001', '1002', '1003', '1004'],\n",
        "    'product_id': ['004', '001', '001', '007'],\n",
        "    'quantity': [2, 1, 1, 3]\n",
        "}       \n",
        " \n",
        "orders_day_2_dict = {\n",
        "    'order_id': ['1005', '1006', '1007'],\n",
        "    'product_id': ['010', '001', '007'],\n",
        "    'quantity': [2, 1, 1]\n",
        "}                \n",
        " \n",
        "products = pd.DataFrame(products_dict)\n",
        "orders_day_1 = pd.DataFrame(orders_day_1_dict)\n",
        "orders_day_2 = pd.DataFrame(orders_day_2_dict)\n",
        "orders = orders_day_1.append(orders_day_2, ignore_index=True)\n",
        "result = pd.merge(orders, products, on='product_id')\n",
        " \n",
        "result['total'] = result['quantity'] * result['price']\n",
        "print(result)"
      ],
      "execution_count": null,
      "outputs": [
        {
          "output_type": "stream",
          "text": [
            "  order_id product_id  quantity          name    price    total\n",
            "0     1001        004         2        laptop  3400.00  6800.00\n",
            "1     1002        001         1  mobile phone  1490.00  1490.00\n",
            "2     1003        001         1  mobile phone  1490.00  1490.00\n",
            "3     1006        001         1  mobile phone  1490.00  1490.00\n",
            "4     1004        007         3         mouse    59.99   179.97\n",
            "5     1007        007         1         mouse    59.99    59.99\n",
            "6     1005        010         2        tablet   999.00  1998.00\n"
          ],
          "name": "stdout"
        }
      ]
    },
    {
      "cell_type": "code",
      "metadata": {
        "id": "YwHRB0bK0Ha6"
      },
      "source": [
        "products_dict = {\n",
        "    'product_id': ['001', '004', '007', '010'],\n",
        "    'name': ['mobile phone', 'laptop', 'mouse', 'tablet'],\n",
        "    'price': [1490.0, 3400.0, 59.99, 999.00]\n",
        "}\n",
        " \n",
        "orders_day_1_dict = {\n",
        "    'order_id': ['1001', '1002', '1003', '1004'],\n",
        "    'product_id': ['004', '001', '001', '007'],\n",
        "    'quantity': [2, 1, 1, 3]\n",
        "}       \n",
        " \n",
        "orders_day_2_dict = {\n",
        "    'order_id': ['1005', '1006', '1007'],\n",
        "    'product_id': ['010', '001', '007'],\n",
        "    'quantity': [2, 1, 1]\n",
        "}                \n",
        " \n",
        "products = pd.DataFrame(products_dict)\n",
        "orders_day_1 = pd.DataFrame(orders_day_1_dict)\n",
        "orders_day_2 = pd.DataFrame(orders_day_2_dict)\n",
        "orders = orders_day_1.append(orders_day_2, ignore_index=True)\n",
        "result = pd.merge(orders, products, on='product_id')\n",
        "result['total'] = result['quantity'] * result['price']\n",
        " \n",
        "result.to_csv('result.csv', index=False)\n",
        "result.to_html('result.html')\n",
        "result.to_json('result.json', indent=4)"
      ],
      "execution_count": null,
      "outputs": []
    },
    {
      "cell_type": "code",
      "metadata": {
        "id": "jtG-iveD5tzb"
      },
      "source": [
        "#from google.colab import files\n",
        "#files.download('result.csv')"
      ],
      "execution_count": null,
      "outputs": []
    },
    {
      "cell_type": "markdown",
      "metadata": {
        "id": "dQrR_tf80RJe"
      },
      "source": [
        "###121-130"
      ]
    },
    {
      "cell_type": "code",
      "metadata": {
        "colab": {
          "base_uri": "https://localhost:8080/"
        },
        "id": "9m_U2Tno0Hky",
        "outputId": "ea5ad8e7-6ef1-4721-f02a-bf2624a026ce"
      },
      "source": [
        "employees = pd.DataFrame({\n",
        "    'emp_id': ['1001', '1002', '1003', '1004'],\n",
        "    'first_name': ['John', 'Mark', 'Bob', 'Alice'],\n",
        "    'last_name': ['Smith', 'Cook', 'Cat', 'Lee'],\n",
        "    'dept_id': ['002', '001', '001', '005']\n",
        "})\n",
        " \n",
        "departments = pd.DataFrame({\n",
        "    'dept_id': ['001', '002', '003', '004'],\n",
        "    'dept_name': ['IT', 'Sales', 'Marketing', 'Support']\n",
        "})\n",
        " \n",
        "result = pd.merge(employees, departments, how='inner', on='dept_id')\n",
        "print(result)"
      ],
      "execution_count": null,
      "outputs": [
        {
          "output_type": "stream",
          "text": [
            "  emp_id first_name last_name dept_id dept_name\n",
            "0   1001       John     Smith     002     Sales\n",
            "1   1002       Mark      Cook     001        IT\n",
            "2   1003        Bob       Cat     001        IT\n"
          ],
          "name": "stdout"
        }
      ]
    },
    {
      "cell_type": "code",
      "metadata": {
        "id": "KhiSJogB0HqN"
      },
      "source": [
        "employees = pd.DataFrame({\n",
        "    'emp_id': ['1001', '1002', '1003', '1004'],\n",
        "    'first_name': ['John', 'Mark', 'Bob', 'Alice'],\n",
        "    'last_name': ['Smith', 'Cook', 'Cat', 'Lee'],\n",
        "    'dept_id': ['002', '001', '001', '005']\n",
        "})"
      ],
      "execution_count": null,
      "outputs": []
    },
    {
      "cell_type": "code",
      "metadata": {
        "colab": {
          "base_uri": "https://localhost:8080/"
        },
        "id": "Wxadt1x10Htj",
        "outputId": "291f8e5c-b29c-4f6c-d515-3b42224b6c6d"
      },
      "source": [
        "employees = pd.DataFrame({\n",
        "    'emp_id': ['1001', '1002', '1003', '1004'],\n",
        "    'first_name': ['John', 'Mark', 'Bob', 'Alice'],\n",
        "    'last_name': ['Smith', 'Cook', 'Cat', 'Lee'],\n",
        "    'dept_id': ['002', '001', '001', '005']\n",
        "})\n",
        " \n",
        "departments = pd.DataFrame({\n",
        "    'dept_id': ['001', '002', '003', '004'],\n",
        "    'dept_name': ['IT', 'Sales', 'Marketing', 'Support']\n",
        "})\n",
        " \n",
        "result = pd.merge(employees, departments, how='right', on='dept_id')\n",
        "print(result)"
      ],
      "execution_count": null,
      "outputs": [
        {
          "output_type": "stream",
          "text": [
            "  emp_id first_name last_name dept_id  dept_name\n",
            "0   1002       Mark      Cook     001         IT\n",
            "1   1003        Bob       Cat     001         IT\n",
            "2   1001       John     Smith     002      Sales\n",
            "3    NaN        NaN       NaN     003  Marketing\n",
            "4    NaN        NaN       NaN     004    Support\n"
          ],
          "name": "stdout"
        }
      ]
    },
    {
      "cell_type": "code",
      "metadata": {
        "colab": {
          "base_uri": "https://localhost:8080/"
        },
        "id": "cz1gbU3V0Hv2",
        "outputId": "2c837877-e2f3-4cb2-b717-98c4f949e7c7"
      },
      "source": [
        "employees = pd.DataFrame({\n",
        "    'emp_id': ['1001', '1002', '1003', '1004'],\n",
        "    'first_name': ['John', 'Mark', 'Bob', 'Alice'],\n",
        "    'last_name': ['Smith', 'Cook', 'Cat', 'Lee'],\n",
        "    'dept_id': ['002', '001', '001', '005']\n",
        "})\n",
        " \n",
        "departments = pd.DataFrame({\n",
        "    'dept_id': ['001', '002', '003', '004'],\n",
        "    'dept_name': ['IT', 'Sales', 'Marketing', 'Support']\n",
        "})\n",
        " \n",
        "result = pd.merge(employees, departments, how='outer', on='dept_id')\n",
        "print(result)"
      ],
      "execution_count": null,
      "outputs": [
        {
          "output_type": "stream",
          "text": [
            "  emp_id first_name last_name dept_id  dept_name\n",
            "0   1001       John     Smith     002      Sales\n",
            "1   1002       Mark      Cook     001         IT\n",
            "2   1003        Bob       Cat     001         IT\n",
            "3   1004      Alice       Lee     005        NaN\n",
            "4    NaN        NaN       NaN     003  Marketing\n",
            "5    NaN        NaN       NaN     004    Support\n"
          ],
          "name": "stdout"
        }
      ]
    },
    {
      "cell_type": "code",
      "metadata": {
        "colab": {
          "base_uri": "https://localhost:8080/"
        },
        "id": "hknoyGUG0dxg",
        "outputId": "ef51b64f-8a7b-4ddc-b512-5878152f6f21"
      },
      "source": [
        "employees = pd.DataFrame({\n",
        "    'emp_id': ['1001', '1002', '1003', '1003', '1004'],\n",
        "    'first_name': ['John', 'Mark', 'Bob', 'Bob', 'Alice'],\n",
        "    'last_name': ['Smith', 'Cook', 'Cat', 'Cat', 'Lee'],\n",
        "    'dept_id': ['002', '001', '001', '001', '005']\n",
        "})\n",
        " \n",
        "departments = pd.DataFrame({\n",
        "    'dept_id': ['001', '002', '003', '004'],\n",
        "    'dept_name': ['IT', 'Sales', 'Marketing', 'Support']\n",
        "})\n",
        " \n",
        "result = pd.merge(employees, departments, how='inner', on='dept_id')\n",
        "print(result)"
      ],
      "execution_count": null,
      "outputs": [
        {
          "output_type": "stream",
          "text": [
            "  emp_id first_name last_name dept_id dept_name\n",
            "0   1001       John     Smith     002     Sales\n",
            "1   1002       Mark      Cook     001        IT\n",
            "2   1003        Bob       Cat     001        IT\n",
            "3   1003        Bob       Cat     001        IT\n"
          ],
          "name": "stdout"
        }
      ]
    },
    {
      "cell_type": "code",
      "metadata": {
        "colab": {
          "base_uri": "https://localhost:8080/"
        },
        "id": "XHYGyGkZ0d0n",
        "outputId": "89ff9a70-4881-42f4-d6ba-afdaab7ff3c2"
      },
      "source": [
        "employees = pd.DataFrame({\n",
        "    'emp_id': ['1001', '1002', '1003', '1003', '1004'],\n",
        "    'first_name': ['John', 'Mark', 'Bob', 'Bob', 'Alice'],\n",
        "    'last_name': ['Smith', 'Cook', 'Cat', 'Cat', 'Lee'],\n",
        "    'dept_id': ['002', '001', '001', '001', '005']\n",
        "})\n",
        " \n",
        "departments = pd.DataFrame({\n",
        "    'dept_id': ['001', '002', '003', '004'],\n",
        "    'dept_name': ['IT', 'Sales', 'Marketing', 'Support']\n",
        "})\n",
        " \n",
        "employees_unique = employees.drop_duplicates()\n",
        "result = pd.merge(employees_unique, departments, how='inner', on='dept_id')\n",
        "print(result)"
      ],
      "execution_count": null,
      "outputs": [
        {
          "output_type": "stream",
          "text": [
            "  emp_id first_name last_name dept_id dept_name\n",
            "0   1001       John     Smith     002     Sales\n",
            "1   1002       Mark      Cook     001        IT\n",
            "2   1003        Bob       Cat     001        IT\n"
          ],
          "name": "stdout"
        }
      ]
    },
    {
      "cell_type": "code",
      "metadata": {
        "colab": {
          "base_uri": "https://localhost:8080/"
        },
        "id": "zQ0KY1mU0d33",
        "outputId": "d137e615-5edf-4f27-ce55-abd7d0a25f35"
      },
      "source": [
        "pd.set_option('display.max_columns', 30)\n",
        "pd.set_option('display.width', 1000)\n",
        "tips = pd.read_csv('https://raw.githubusercontent.com/mwaskom/seaborn-data/master/tips.csv')\n",
        " \n",
        "result = pd.pivot_table(tips, index='day', values=['tip', 'total_bill'], aggfunc=np.mean)\n",
        "print(result)"
      ],
      "execution_count": null,
      "outputs": [
        {
          "output_type": "stream",
          "text": [
            "           tip  total_bill\n",
            "day                       \n",
            "Fri   2.734737   17.151579\n",
            "Sat   2.993103   20.441379\n",
            "Sun   3.255132   21.410000\n",
            "Thur  2.771452   17.682742\n"
          ],
          "name": "stdout"
        }
      ]
    },
    {
      "cell_type": "code",
      "metadata": {
        "colab": {
          "base_uri": "https://localhost:8080/"
        },
        "id": "XllqXLJH0d60",
        "outputId": "d1c9d70f-3af1-412f-fbda-e0027e8bf20f"
      },
      "source": [
        "pd.set_option('display.max_columns', 30)\n",
        "pd.set_option('display.width', 1000)\n",
        "tips = pd.read_csv('https://raw.githubusercontent.com/mwaskom/seaborn-data/master/tips.csv')\n",
        " \n",
        "result = pd.pivot_table(tips, index=['day', 'sex'], values=['tip', 'total_bill'], aggfunc=np.mean)\n",
        "print(result)"
      ],
      "execution_count": null,
      "outputs": [
        {
          "output_type": "stream",
          "text": [
            "                  tip  total_bill\n",
            "day  sex                         \n",
            "Fri  Female  2.781111   14.145556\n",
            "     Male    2.693000   19.857000\n",
            "Sat  Female  2.801786   19.680357\n",
            "     Male    3.083898   20.802542\n",
            "Sun  Female  3.367222   19.872222\n",
            "     Male    3.220345   21.887241\n",
            "Thur Female  2.575625   16.715312\n",
            "     Male    2.980333   18.714667\n"
          ],
          "name": "stdout"
        }
      ]
    },
    {
      "cell_type": "code",
      "metadata": {
        "colab": {
          "base_uri": "https://localhost:8080/"
        },
        "id": "ABeovRyx0d9_",
        "outputId": "75caace9-276c-4ab5-ccf0-b15454da90fe"
      },
      "source": [
        "pd.set_option('display.max_columns', 30)\n",
        "pd.set_option('display.width', 1000)\n",
        "tips = pd.read_csv('https://raw.githubusercontent.com/mwaskom/seaborn-data/master/tips.csv')\n",
        " \n",
        "result = pd.pivot_table(tips, index='day', values=['tip', 'total_bill'], aggfunc=np.max)\n",
        "print(result)"
      ],
      "execution_count": null,
      "outputs": [
        {
          "output_type": "stream",
          "text": [
            "        tip  total_bill\n",
            "day                    \n",
            "Fri    4.73       40.17\n",
            "Sat   10.00       50.81\n",
            "Sun    6.50       48.17\n",
            "Thur   6.70       43.11\n"
          ],
          "name": "stdout"
        }
      ]
    },
    {
      "cell_type": "code",
      "metadata": {
        "colab": {
          "base_uri": "https://localhost:8080/"
        },
        "id": "ZMCfMfiS0pZr",
        "outputId": "4658c5f1-738a-4d66-a197-2fc17cc902c4"
      },
      "source": [
        "pd.set_option('display.max_columns', 30)\n",
        "pd.set_option('display.width', 1000)\n",
        "tips = pd.read_csv('https://raw.githubusercontent.com/mwaskom/seaborn-data/master/tips.csv')\n",
        " \n",
        "result = pd.pivot_table(tips, index=['day', 'sex', 'smoker'], values=['tip', 'total_bill'], aggfunc=np.mean)\n",
        "print(result)"
      ],
      "execution_count": null,
      "outputs": [
        {
          "output_type": "stream",
          "text": [
            "                         tip  total_bill\n",
            "day  sex    smoker                      \n",
            "Fri  Female No      3.125000   19.365000\n",
            "            Yes     2.682857   12.654286\n",
            "     Male   No      2.500000   17.475000\n",
            "            Yes     2.741250   20.452500\n",
            "Sat  Female No      2.724615   19.003846\n",
            "            Yes     2.868667   20.266667\n",
            "     Male   No      3.256563   19.929063\n",
            "            Yes     2.879259   21.837778\n",
            "Sun  Female No      3.329286   20.824286\n",
            "            Yes     3.500000   16.540000\n",
            "     Male   No      3.115349   20.403256\n",
            "            Yes     3.521333   26.141333\n",
            "Thur Female No      2.459600   16.014400\n",
            "            Yes     2.990000   19.218571\n",
            "     Male   No      2.941500   18.486500\n",
            "            Yes     3.058000   19.171000\n"
          ],
          "name": "stdout"
        }
      ]
    },
    {
      "cell_type": "markdown",
      "metadata": {
        "id": "W63LRe4l0wxy"
      },
      "source": [
        "###131"
      ]
    },
    {
      "cell_type": "code",
      "metadata": {
        "colab": {
          "base_uri": "https://localhost:8080/"
        },
        "id": "jSsh71QO0pXJ",
        "outputId": "dd92766e-fac8-414c-fd8b-237352e5eed1"
      },
      "source": [
        "pd.set_option('display.max_columns', 30)\n",
        "pd.set_option('display.width', 1000)\n",
        "tips = pd.read_csv('https://raw.githubusercontent.com/mwaskom/seaborn-data/master/tips.csv')\n",
        " \n",
        "result = pd.pivot_table(tips, index=['day', 'sex', 'smoker'], values=['tip', 'total_bill'], aggfunc=np.mean)\n",
        "print(result.loc['Sun'])"
      ],
      "execution_count": null,
      "outputs": [
        {
          "output_type": "stream",
          "text": [
            "                    tip  total_bill\n",
            "sex    smoker                      \n",
            "Female No      3.329286   20.824286\n",
            "       Yes     3.500000   16.540000\n",
            "Male   No      3.115349   20.403256\n",
            "       Yes     3.521333   26.141333\n"
          ],
          "name": "stdout"
        }
      ]
    },
    {
      "cell_type": "code",
      "metadata": {
        "colab": {
          "base_uri": "https://localhost:8080/"
        },
        "id": "XGEC9iE_0pUE",
        "outputId": "48b8048b-df4b-4b56-8ac6-ba4287861a53"
      },
      "source": [
        "pd.set_option('display.max_columns', 30)\n",
        "pd.set_option('display.width', 1000)\n",
        "tips = pd.read_csv('https://raw.githubusercontent.com/mwaskom/seaborn-data/master/tips.csv')\n",
        " \n",
        "result = pd.pivot_table(tips, index=['day', 'sex', 'smoker'], values=['tip', 'total_bill'], aggfunc=np.mean)\n",
        "print(result.loc['Sun'].loc['Male'])"
      ],
      "execution_count": null,
      "outputs": [
        {
          "output_type": "stream",
          "text": [
            "             tip  total_bill\n",
            "smoker                      \n",
            "No      3.115349   20.403256\n",
            "Yes     3.521333   26.141333\n"
          ],
          "name": "stdout"
        }
      ]
    },
    {
      "cell_type": "code",
      "metadata": {
        "id": "cKUkjdZM0pQt"
      },
      "source": [
        ""
      ],
      "execution_count": null,
      "outputs": []
    },
    {
      "cell_type": "code",
      "metadata": {
        "id": "scpD8toV0pMq"
      },
      "source": [
        ""
      ],
      "execution_count": null,
      "outputs": []
    },
    {
      "cell_type": "code",
      "metadata": {
        "id": "NlSx3rLt0pJ_"
      },
      "source": [
        ""
      ],
      "execution_count": null,
      "outputs": []
    },
    {
      "cell_type": "code",
      "metadata": {
        "id": "SxqY7BNj0eA2"
      },
      "source": [
        ""
      ],
      "execution_count": null,
      "outputs": []
    }
  ]
}